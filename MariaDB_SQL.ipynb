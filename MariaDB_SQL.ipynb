{
 "cells": [
  {
   "cell_type": "markdown",
   "metadata": {},
   "source": [
    "<br><br>\n",
    "# **SQLalchemy**\n",
    "<br>\n",
    "**DB**를 **Pandas**로 중계하며 Create, Read, Update, Delete 작업하기 <br>\n",
    "**[SQLITE3](https://www.haruair.com/blog/1682) &nbsp;\n",
    "[sqlalchemy_tutorial](http://docs.sqlalchemy.org/en/latest/core/tutorial.html) &nbsp;\n",
    "[sqlalchemy_Example](http://docs.sqlalchemy.org/en/latest/orm/examples.html) &nbsp;\n",
    "[MARIADB](https://swalloow.github.io/db-to-dataframe) &nbsp;\n",
    "[MARIADB](http://agfree.cafe24.com/?p=1477)**\n",
    "1. 지금까지 Sqlite3를 사용했지만 용량이 넘치기 시작했다\n",
    "1. 간단한 SQL 문법은 Sqlite3 로 익히더라고\n",
    "1. 이제부터는 대부분의 내용들을 **MariaDB** 까지도 포함해서 저장 및 활용하기"
   ]
  },
  {
   "cell_type": "code",
   "execution_count": 1,
   "metadata": {},
   "outputs": [],
   "source": [
    "# Psql 에 대해서 익히려고 했지만, odroid Xu4 등에서 설치가 안됨\n",
    "# 범용적인 활용을 위해선 우선은 MariaDB를 익혀서 작업을 하고\n",
    "# 추후에 AWS등을 활용하여 PostgreSQL를 설치가능하면 확장해 나아가기\n",
    "\n",
    "# 아래의 3개 모듈을 활용한다\n",
    "import pymysql       # MySQL cursor 연결\n",
    "import pandas as pd  # 결과물 출력 및 생성"
   ]
  },
  {
   "cell_type": "markdown",
   "metadata": {},
   "source": [
    "<br>\n",
    "## **1 engine : DB 접속**\n",
    "**Driver** &nbsp; :// &nbsp;  **filename** &nbsp;&nbsp; ex) sqlite:///:memory:\n",
    "1. DB별 다른 문법들을 일원화 해서 작업 가능하도록 돕는다\n",
    "1. 한가지 DB를 익히고 아면 Connector만 변경시, 다른 DB에도 적용이 가능\n",
    "1. Django 내부에서도 이를 활용하는 듯 하다\n"
   ]
  },
  {
   "cell_type": "code",
   "execution_count": 2,
   "metadata": {},
   "outputs": [
    {
     "data": {
      "text/plain": [
       "'1.2.6'"
      ]
     },
     "execution_count": 2,
     "metadata": {},
     "output_type": "execute_result"
    }
   ],
   "source": [
    "# Python 에서 DB를 쉽게 연결하도록 중계\n",
    "import sqlalchemy    \n",
    "sqlalchemy.__version__"
   ]
  },
  {
   "cell_type": "code",
   "execution_count": 3,
   "metadata": {},
   "outputs": [
    {
     "name": "stdout",
     "output_type": "stream",
     "text": [
      "2018-06-21 17:53:04,171 INFO sqlalchemy.engine.base.Engine SELECT CAST('test plain returns' AS VARCHAR(60)) AS anon_1\n",
      "2018-06-21 17:53:04,172 INFO sqlalchemy.engine.base.Engine ()\n",
      "2018-06-21 17:53:04,174 INFO sqlalchemy.engine.base.Engine SELECT CAST('test unicode returns' AS VARCHAR(60)) AS anon_1\n",
      "2018-06-21 17:53:04,175 INFO sqlalchemy.engine.base.Engine ()\n",
      "2018-06-21 17:53:04,177 INFO sqlalchemy.engine.base.Engine select 1\n",
      "2018-06-21 17:53:04,178 INFO sqlalchemy.engine.base.Engine ()\n",
      "2018-06-21 17:53:04,181 INFO sqlalchemy.engine.base.Engine SELECT name FROM sqlite_master WHERE type='table' ORDER BY name\n",
      "2018-06-21 17:53:04,181 INFO sqlalchemy.engine.base.Engine ()\n"
     ]
    },
    {
     "data": {
      "text/plain": [
       "[]"
      ]
     },
     "execution_count": 3,
     "metadata": {},
     "output_type": "execute_result"
    }
   ],
   "source": [
    "# SQLITE3 에 접속하기\n",
    "# echo는 로그를 위한 플래그로 순수 SQL 코드를 보여준다.\n",
    "from sqlalchemy import create_engine\n",
    "engine = create_engine('sqlite:///:memory:', echo=True)\n",
    "\n",
    "# SQLITE3 엔진을 실행 (실행시 최초 접속)\n",
    "engine.execute(\"select 1\").scalar()\n",
    "# 현재는 생성된 테이블이 없다\n",
    "engine.table_names() "
   ]
  },
  {
   "cell_type": "markdown",
   "metadata": {},
   "source": [
    "<br>\n",
    "## **2 Mapping Class : Connection 객체**\n",
    "https://www.haruair.com/blog/1682"
   ]
  },
  {
   "cell_type": "markdown",
   "metadata": {},
   "source": [
    "<br>\n",
    "### **01 Mapping Class  정의하기**\n",
    "https://www.haruair.com/blog/1682"
   ]
  },
  {
   "cell_type": "code",
   "execution_count": 4,
   "metadata": {},
   "outputs": [],
   "source": [
    "from sqlalchemy.ext.declarative import declarative_base\n",
    "Base = declarative_base()\n",
    "\n",
    "from sqlalchemy import Column, Integer, String\n",
    "# 사용자 접속 Cursor 를 Class로 정의한다\n",
    "class User(Base):\n",
    "    # 테이블 이름\n",
    "    __tablename__ = 'users'  \n",
    "\n",
    "    # 테이블의 컬럼들 정의\n",
    "    id       = Column(Integer, primary_key=True)\n",
    "    name     = Column(String)\n",
    "    fullname = Column(String)\n",
    "    password = Column(String)\n",
    "\n",
    "    def __init__(self, name, fullname, password):\n",
    "        self.name     = name\n",
    "        self.fullname = fullname\n",
    "        self.password = password\n",
    "\n",
    "    def __repr__(self):\n",
    "        return \"<User('%s', '%s', '%s')>\" % (self.name, self.fullname, self.password)"
   ]
  },
  {
   "cell_type": "code",
   "execution_count": 5,
   "metadata": {},
   "outputs": [
    {
     "name": "stdout",
     "output_type": "stream",
     "text": [
      "2018-06-21 17:53:04,255 INFO sqlalchemy.engine.base.Engine PRAGMA table_info(\"users\")\n",
      "2018-06-21 17:53:04,256 INFO sqlalchemy.engine.base.Engine ()\n",
      "2018-06-21 17:53:04,259 INFO sqlalchemy.engine.base.Engine \n",
      "CREATE TABLE users (\n",
      "\tid INTEGER NOT NULL, \n",
      "\tname VARCHAR, \n",
      "\tfullname VARCHAR, \n",
      "\tpassword VARCHAR, \n",
      "\tPRIMARY KEY (id)\n",
      ")\n",
      "\n",
      "\n",
      "2018-06-21 17:53:04,260 INFO sqlalchemy.engine.base.Engine ()\n",
      "2018-06-21 17:53:04,262 INFO sqlalchemy.engine.base.Engine COMMIT\n"
     ]
    }
   ],
   "source": [
    "# 위에서 정의된 DATABASE 의 메타정보를 출력한다\n",
    "Base.metadata.create_all(engine)"
   ]
  },
  {
   "cell_type": "markdown",
   "metadata": {},
   "source": [
    "<br>\n",
    "### **02 Mapping Class : 상세한 묘사**\n",
    "매핑 클래스 중복시 충돌을 피한다 [StockFlow](https://stackoverflow.com/questions/43614981/sqlalchemy-problems-with-inherited-classes-in-the-same-table)"
   ]
  },
  {
   "cell_type": "code",
   "execution_count": 6,
   "metadata": {},
   "outputs": [
    {
     "data": {
      "text/plain": [
       "Column(None, String(length=50), table=None)"
      ]
     },
     "execution_count": 6,
     "metadata": {},
     "output_type": "execute_result"
    }
   ],
   "source": [
    "Column(String(50))"
   ]
  },
  {
   "cell_type": "code",
   "execution_count": 7,
   "metadata": {},
   "outputs": [
    {
     "data": {
      "text/plain": [
       "Column(None, Integer(), table=None, primary_key=True, nullable=False, default=Sequence('user_id_seq'))"
      ]
     },
     "execution_count": 7,
     "metadata": {},
     "output_type": "execute_result"
    }
   ],
   "source": [
    "# PK를 생성시 Sequence를 필요로 하는경우 정의에 추가한다\n",
    "from sqlalchemy import Sequence\n",
    "Column(Integer, Sequence('user_id_seq'), primary_key=True)"
   ]
  },
  {
   "cell_type": "code",
   "execution_count": 8,
   "metadata": {},
   "outputs": [
    {
     "name": "stderr",
     "output_type": "stream",
     "text": [
      "/home/markbaum/Python/django/lib/python3.6/site-packages/sqlalchemy/ext/declarative/clsregistry.py:120: SAWarning: This declarative base already contains a class with the same class name and module name as __main__.User, and will be replaced in the string-lookup table.\n",
      "  item.__name__\n"
     ]
    }
   ],
   "source": [
    "# Sequence 추가 (몇몇 DB에 대해서 적용된다)\n",
    "# User 매핑 클래스\n",
    "class User(Base):\n",
    "\n",
    "    __tablename__  = 'users'\n",
    "    __table_args__ = {'extend_existing': True}  # 같은 이름의 User가 존재시 이를 덮어쓴다\n",
    "    \n",
    "    id       = Column(Integer, Sequence('user_id_seq'), primary_key=True)\n",
    "    name     = Column(String(50))\n",
    "    fullname = Column(String(50))\n",
    "    password = Column(String(12))\n",
    "\n",
    "    def __init__(self, name, fullname, password):\n",
    "        self.name     = name\n",
    "        self.fullname = fullname\n",
    "        self.password = password\n",
    "\n",
    "    def __repr__(self):\n",
    "        return \"<User('%s', '%s', '%s')>\" % (self.name, self.fullname, self.password)"
   ]
  },
  {
   "cell_type": "markdown",
   "metadata": {},
   "source": [
    "<br>\n",
    "### **03 Instance : 매핑클래스의 활용**\n",
    "__init__() 에 별도 정의를 하지 않아도 자동으로 매핑된다"
   ]
  },
  {
   "cell_type": "code",
   "execution_count": 9,
   "metadata": {},
   "outputs": [
    {
     "name": "stdout",
     "output_type": "stream",
     "text": [
      ".name : haruair \n",
      ".password : 1234 \n",
      ".id : None\n"
     ]
    }
   ],
   "source": [
    "ed_user = User('haruair', 'Edward Kim', '1234')\n",
    "print(\".name : {} \\n.password : {} \\n.id : {}\".\\\n",
    "      format(ed_user.name, ed_user.password, ed_user.id))"
   ]
  },
  {
   "cell_type": "markdown",
   "metadata": {},
   "source": [
    "<br>\n",
    "## **3 Session**\n",
    "ORM은 데이터베이스를 session을 이용해 다룬다 "
   ]
  },
  {
   "cell_type": "markdown",
   "metadata": {},
   "source": [
    "<br>\n",
    "### **01 Session 만들기**\n",
    "Instance : 매핑클래스의 활용"
   ]
  },
  {
   "cell_type": "code",
   "execution_count": 10,
   "metadata": {},
   "outputs": [],
   "source": [
    "from sqlalchemy.orm import sessionmaker\n",
    "\n",
    "# Session을 생성한 뒤 위에서 정의한 engine을 추가\n",
    "Session = sessionmaker(bind = engine)\n",
    "session = Session()"
   ]
  },
  {
   "cell_type": "markdown",
   "metadata": {},
   "source": [
    "<br>\n",
    "### **02 Session 을 활용한 객체수정**\n",
    "session.add() , session.add_all()\n",
    "1. ORM은 데이터베이스를 session을 활용\n",
    "1. ed_user : 객체\n",
    "1. our_user : 객체 Instance "
   ]
  },
  {
   "cell_type": "code",
   "execution_count": 11,
   "metadata": {},
   "outputs": [
    {
     "name": "stdout",
     "output_type": "stream",
     "text": [
      "2018-06-21 17:53:04,329 INFO sqlalchemy.engine.base.Engine BEGIN (implicit)\n",
      "2018-06-21 17:53:04,331 INFO sqlalchemy.engine.base.Engine INSERT INTO users (name, fullname, password) VALUES (?, ?, ?)\n",
      "2018-06-21 17:53:04,332 INFO sqlalchemy.engine.base.Engine ('haruair', 'Edward Kim', '1234')\n",
      "2018-06-21 17:53:04,334 INFO sqlalchemy.engine.base.Engine SELECT users.id AS users_id, users.name AS users_name, users.fullname AS users_fullname, users.password AS users_password \n",
      "FROM users \n",
      "WHERE users.name = ?\n",
      " LIMIT ? OFFSET ?\n",
      "2018-06-21 17:53:04,335 INFO sqlalchemy.engine.base.Engine ('haruair', 1, 0)\n"
     ]
    },
    {
     "data": {
      "text/plain": [
       "<User('haruair', 'Edward Kim', '1234')>"
      ]
     },
     "execution_count": 11,
     "metadata": {},
     "output_type": "execute_result"
    }
   ],
   "source": [
    "ed_user= User('haruair', 'Edward Kim', '1234')\n",
    "session.add(ed_user)\n",
    "\n",
    "# <User('haruair', 'Edward Kim', 'secret')>\n",
    "our_user = session.query(User).filter_by(name='haruair').first()\n",
    "our_user     "
   ]
  },
  {
   "cell_type": "code",
   "execution_count": 12,
   "metadata": {},
   "outputs": [
    {
     "data": {
      "text/plain": [
       "True"
      ]
     },
     "execution_count": 12,
     "metadata": {},
     "output_type": "execute_result"
    }
   ],
   "source": [
    "# our_user 객체 인스턴스가 Map 구조임을 확인한다\n",
    "# ORM의 컨셉이 identity map이라서 \n",
    "# session에서 하는 모든 처리들이 실제 데이터셋과 함께 동작한다\n",
    "ed_user is our_user     # True"
   ]
  },
  {
   "cell_type": "code",
   "execution_count": 13,
   "metadata": {},
   "outputs": [
    {
     "data": {
      "text/plain": [
       "IdentitySet([<User('haruair', 'Edward Kim', 'test1234')>])"
      ]
     },
     "execution_count": 13,
     "metadata": {},
     "output_type": "execute_result"
    }
   ],
   "source": [
    "# Session 에 Padding 된 내용들 확인\n",
    "session.add_all([\n",
    "    User('wendy', 'Wendy Williams', 'foobar'),\n",
    "    User('mary', 'Mary Contrary', 'xxg527'),\n",
    "    User('fred', 'Fred Flinstone', 'blar')])\n",
    "\n",
    "ed_user.password = 'test1234'\n",
    "session.dirty        "
   ]
  },
  {
   "cell_type": "code",
   "execution_count": 14,
   "metadata": {},
   "outputs": [
    {
     "data": {
      "text/plain": [
       "[<User('wendy', 'Wendy Williams', 'foobar')>,\n",
       " <User('mary', 'Mary Contrary', 'xxg527')>,\n",
       " <User('fred', 'Fred Flinstone', 'blar')>]"
      ]
     },
     "execution_count": 14,
     "metadata": {},
     "output_type": "execute_result"
    }
   ],
   "source": [
    "# 새롭게 추가한 내용 확인\n",
    "list(session.new)"
   ]
  },
  {
   "cell_type": "code",
   "execution_count": 15,
   "metadata": {},
   "outputs": [
    {
     "name": "stdout",
     "output_type": "stream",
     "text": [
      "2018-06-21 17:53:04,361 INFO sqlalchemy.engine.base.Engine UPDATE users SET password=? WHERE users.id = ?\n",
      "2018-06-21 17:53:04,362 INFO sqlalchemy.engine.base.Engine ('test1234', 1)\n",
      "2018-06-21 17:53:04,363 INFO sqlalchemy.engine.base.Engine INSERT INTO users (name, fullname, password) VALUES (?, ?, ?)\n",
      "2018-06-21 17:53:04,364 INFO sqlalchemy.engine.base.Engine ('wendy', 'Wendy Williams', 'foobar')\n",
      "2018-06-21 17:53:04,366 INFO sqlalchemy.engine.base.Engine INSERT INTO users (name, fullname, password) VALUES (?, ?, ?)\n",
      "2018-06-21 17:53:04,366 INFO sqlalchemy.engine.base.Engine ('mary', 'Mary Contrary', 'xxg527')\n",
      "2018-06-21 17:53:04,367 INFO sqlalchemy.engine.base.Engine INSERT INTO users (name, fullname, password) VALUES (?, ?, ?)\n",
      "2018-06-21 17:53:04,368 INFO sqlalchemy.engine.base.Engine ('fred', 'Fred Flinstone', 'blar')\n",
      "2018-06-21 17:53:04,369 INFO sqlalchemy.engine.base.Engine COMMIT\n"
     ]
    }
   ],
   "source": [
    "# .commit()을 실행시 추가 이력을 반영\n",
    "session.commit()"
   ]
  },
  {
   "cell_type": "markdown",
   "metadata": {},
   "source": [
    "<br>\n",
    "### **03 Roll-back**\n",
    "후진 복귀의 의미로, 업데이트 이전 저널 파일을 사용하여 이전 상태로 되돌린다"
   ]
  },
  {
   "cell_type": "code",
   "execution_count": 16,
   "metadata": {},
   "outputs": [
    {
     "name": "stdout",
     "output_type": "stream",
     "text": [
      "2018-06-21 17:53:04,376 INFO sqlalchemy.engine.base.Engine BEGIN (implicit)\n",
      "2018-06-21 17:53:04,377 INFO sqlalchemy.engine.base.Engine SELECT users.id AS users_id, users.name AS users_name, users.fullname AS users_fullname, users.password AS users_password \n",
      "FROM users \n",
      "WHERE users.id = ?\n",
      "2018-06-21 17:53:04,378 INFO sqlalchemy.engine.base.Engine (1,)\n"
     ]
    },
    {
     "data": {
      "text/plain": [
       "1"
      ]
     },
     "execution_count": 16,
     "metadata": {},
     "output_type": "execute_result"
    }
   ],
   "source": [
    "# ed_user 정보를 확인한다 \n",
    "ed_user.id"
   ]
  },
  {
   "cell_type": "code",
   "execution_count": 17,
   "metadata": {},
   "outputs": [
    {
     "name": "stdout",
     "output_type": "stream",
     "text": [
      "2018-06-21 17:53:04,388 INFO sqlalchemy.engine.base.Engine UPDATE users SET name=? WHERE users.id = ?\n",
      "2018-06-21 17:53:04,389 INFO sqlalchemy.engine.base.Engine ('edkim', 1)\n",
      "2018-06-21 17:53:04,390 INFO sqlalchemy.engine.base.Engine INSERT INTO users (name, fullname, password) VALUES (?, ?, ?)\n",
      "2018-06-21 17:53:04,391 INFO sqlalchemy.engine.base.Engine ('fakeuser', 'Invalid', '12345')\n",
      "2018-06-21 17:53:04,392 INFO sqlalchemy.engine.base.Engine SELECT users.id AS users_id, users.name AS users_name, users.fullname AS users_fullname, users.password AS users_password \n",
      "FROM users \n",
      "WHERE users.name IN (?, ?)\n",
      "2018-06-21 17:53:04,393 INFO sqlalchemy.engine.base.Engine ('edkim', 'fakeuser')\n"
     ]
    },
    {
     "data": {
      "text/plain": [
       "[<User('edkim', 'Edward Kim', 'test1234')>,\n",
       " <User('fakeuser', 'Invalid', '12345')>]"
      ]
     },
     "execution_count": 17,
     "metadata": {},
     "output_type": "execute_result"
    }
   ],
   "source": [
    "# 가짜 계정을 생성한다\n",
    "ed_user.name = 'edkim'\n",
    "\n",
    "fake_user = User('fakeuser', 'Invalid', '12345')\n",
    "session.add(fake_user)\n",
    "session.query(User).filter(User.name.in_(['edkim', 'fakeuser'])).all()"
   ]
  },
  {
   "cell_type": "code",
   "execution_count": 18,
   "metadata": {},
   "outputs": [
    {
     "name": "stdout",
     "output_type": "stream",
     "text": [
      "2018-06-21 17:53:04,400 INFO sqlalchemy.engine.base.Engine ROLLBACK\n",
      "2018-06-21 17:53:04,402 INFO sqlalchemy.engine.base.Engine BEGIN (implicit)\n",
      "2018-06-21 17:53:04,403 INFO sqlalchemy.engine.base.Engine SELECT users.id AS users_id, users.name AS users_name, users.fullname AS users_fullname, users.password AS users_password \n",
      "FROM users \n",
      "WHERE users.id = ?\n",
      "2018-06-21 17:53:04,404 INFO sqlalchemy.engine.base.Engine (1,)\n"
     ]
    },
    {
     "data": {
      "text/plain": [
       "'haruair'"
      ]
     },
     "execution_count": 18,
     "metadata": {},
     "output_type": "execute_result"
    }
   ],
   "source": [
    "session.rollback()\n",
    "ed_user.name            # 'haruair'"
   ]
  },
  {
   "cell_type": "code",
   "execution_count": 19,
   "metadata": {},
   "outputs": [
    {
     "data": {
      "text/plain": [
       "False"
      ]
     },
     "execution_count": 19,
     "metadata": {},
     "output_type": "execute_result"
    }
   ],
   "source": [
    "fake_user in session    # False"
   ]
  },
  {
   "cell_type": "markdown",
   "metadata": {},
   "source": [
    "<br>\n",
    "## **4 Query & Filter**\n",
    "session에서 query() 메소드로 생성"
   ]
  },
  {
   "cell_type": "markdown",
   "metadata": {},
   "source": [
    "<br>\n",
    "### **01 Query**\n",
    "session에서 query() 메소드로 생성"
   ]
  },
  {
   "cell_type": "code",
   "execution_count": 20,
   "metadata": {},
   "outputs": [
    {
     "name": "stdout",
     "output_type": "stream",
     "text": [
      "2018-06-21 17:53:04,419 INFO sqlalchemy.engine.base.Engine SELECT users.id AS users_id, users.name AS users_name, users.fullname AS users_fullname, users.password AS users_password \n",
      "FROM users ORDER BY users.id\n",
      "2018-06-21 17:53:04,421 INFO sqlalchemy.engine.base.Engine ()\n",
      "haruair Edward Kim\n",
      "wendy Wendy Williams\n",
      "mary Mary Contrary\n",
      "fred Fred Flinstone\n"
     ]
    }
   ],
   "source": [
    "# 위에서 User 인스턴스를 부를 때 Query를 이미 써봤다\n",
    "# iterative context를 evaluated할 때, User 객체 리스트를 반환한다\n",
    "\n",
    "for instance in session.query(User).order_by(User.id):\n",
    "    print (instance.name, instance.fullname)"
   ]
  },
  {
   "cell_type": "code",
   "execution_count": 21,
   "metadata": {},
   "outputs": [
    {
     "name": "stdout",
     "output_type": "stream",
     "text": [
      "2018-06-21 17:53:04,428 INFO sqlalchemy.engine.base.Engine SELECT users.id AS users_id, users.name AS users_name, users.fullname AS users_fullname, users.password AS users_password \n",
      "FROM users\n",
      "2018-06-21 17:53:04,429 INFO sqlalchemy.engine.base.Engine ()\n",
      "<User('haruair', 'Edward Kim', 'test1234')> haruair\n",
      "<User('wendy', 'Wendy Williams', 'foobar')> wendy\n",
      "<User('mary', 'Mary Contrary', 'xxg527')> mary\n",
      "<User('fred', 'Fred Flinstone', 'blar')> fred\n"
     ]
    }
   ],
   "source": [
    "# Query는 KeyedTuple 클래스 통해 튜플로 반환\n",
    "# 각 저장된 값들은 클래스 이름이나 속성 이름과 동일하다.\n",
    "\n",
    "for row in session.query(User, User.name).all():\n",
    "    print (row.User, row.name)"
   ]
  },
  {
   "cell_type": "code",
   "execution_count": 22,
   "metadata": {},
   "outputs": [
    {
     "name": "stdout",
     "output_type": "stream",
     "text": [
      "2018-06-21 17:53:04,437 INFO sqlalchemy.engine.base.Engine SELECT users.name AS name_label \n",
      "FROM users\n",
      "2018-06-21 17:53:04,438 INFO sqlalchemy.engine.base.Engine ()\n",
      "haruair\n",
      "wendy\n",
      "mary\n",
      "fred\n"
     ]
    }
   ],
   "source": [
    "# label()로 컬럼 이름을 다르게 출력\n",
    "\n",
    "for row in session.query(User.name.label('name_label')).all():\n",
    "    print (row.name_label)"
   ]
  },
  {
   "cell_type": "code",
   "execution_count": 23,
   "metadata": {},
   "outputs": [
    {
     "name": "stdout",
     "output_type": "stream",
     "text": [
      "2018-06-21 17:53:04,451 INFO sqlalchemy.engine.base.Engine SELECT user_alias.id AS user_alias_id, user_alias.name AS user_alias_name, user_alias.fullname AS user_alias_fullname, user_alias.password AS user_alias_password \n",
      "FROM users AS user_alias\n",
      "2018-06-21 17:53:04,452 INFO sqlalchemy.engine.base.Engine ()\n",
      "<User('haruair', 'Edward Kim', 'test1234')>\n",
      "<User('wendy', 'Wendy Williams', 'foobar')>\n",
      "<User('mary', 'Mary Contrary', 'xxg527')>\n",
      "<User('fred', 'Fred Flinstone', 'blar')>\n"
     ]
    }
   ],
   "source": [
    "# User 클래스 엔티티는 aliased를 이용해 제어한다\n",
    "\n",
    "from sqlalchemy.orm import aliased\n",
    "user_alias = aliased(User, name='user_alias')\n",
    "\n",
    "for row in session.query(user_alias, user_alias.name).all():\n",
    "    print (row.user_alias)"
   ]
  },
  {
   "cell_type": "code",
   "execution_count": 24,
   "metadata": {},
   "outputs": [
    {
     "name": "stdout",
     "output_type": "stream",
     "text": [
      "2018-06-21 17:53:04,461 INFO sqlalchemy.engine.base.Engine SELECT users.id AS users_id, users.name AS users_name, users.fullname AS users_fullname, users.password AS users_password \n",
      "FROM users ORDER BY users.id\n",
      " LIMIT ? OFFSET ?\n",
      "2018-06-21 17:53:04,461 INFO sqlalchemy.engine.base.Engine (2, 1)\n",
      "<User('wendy', 'Wendy Williams', 'foobar')>\n",
      "<User('mary', 'Mary Contrary', 'xxg527')>\n"
     ]
    }
   ],
   "source": [
    "# LIMIT이나 OFFSET을 포함한 기본적인 Query 동작\n",
    "# order by와 함께 [:slice] 를 활용한다\n",
    "for user in session.query(User).order_by(User.id)[1:3]:\n",
    "    print (user)"
   ]
  },
  {
   "cell_type": "code",
   "execution_count": 25,
   "metadata": {},
   "outputs": [
    {
     "name": "stdout",
     "output_type": "stream",
     "text": [
      "2018-06-21 17:53:04,469 INFO sqlalchemy.engine.base.Engine SELECT users.name AS users_name \n",
      "FROM users \n",
      "WHERE users.fullname = ?\n",
      "2018-06-21 17:53:04,471 INFO sqlalchemy.engine.base.Engine ('Edward Kim',)\n",
      "('haruair',)\n"
     ]
    }
   ],
   "source": [
    "# filter_by() :  filter\n",
    "for name in session.query(User.name).filter_by(fullname='Edward Kim'):\n",
    "    print (name)"
   ]
  },
  {
   "cell_type": "code",
   "execution_count": 26,
   "metadata": {},
   "outputs": [
    {
     "name": "stdout",
     "output_type": "stream",
     "text": [
      "2018-06-21 17:53:04,478 INFO sqlalchemy.engine.base.Engine SELECT users.name AS users_name \n",
      "FROM users \n",
      "WHERE users.fullname = ?\n",
      "2018-06-21 17:53:04,479 INFO sqlalchemy.engine.base.Engine ('Edward Kim',)\n",
      "('haruair',)\n"
     ]
    }
   ],
   "source": [
    "# filter() : 좀더 유연한 SQL 표현이 가능\n",
    "# 매핑클래스에서 사용한 클래스 단위의 속성과 파이썬 표준 연산자를 쓸 수 있다.\n",
    "for name in session.query(User.name).filter(User.fullname=='Edward Kim'):\n",
    "    print (name)"
   ]
  },
  {
   "cell_type": "code",
   "execution_count": 27,
   "metadata": {},
   "outputs": [
    {
     "name": "stdout",
     "output_type": "stream",
     "text": [
      "2018-06-21 17:53:04,486 INFO sqlalchemy.engine.base.Engine SELECT users.id AS users_id, users.name AS users_name, users.fullname AS users_fullname, users.password AS users_password \n",
      "FROM users \n",
      "WHERE users.name = ? AND users.fullname = ?\n",
      "2018-06-21 17:53:04,488 INFO sqlalchemy.engine.base.Engine ('haruair', 'Edward Kim')\n",
      "<User('mary', 'Mary Contrary', 'xxg527')>\n"
     ]
    }
   ],
   "source": [
    "# query() 체인 방식으로도 활용 가능하다\n",
    "for name in session.query(User).\\\n",
    "            filter(User.name=='haruair').\\\n",
    "            filter(User.fullname=='Edward Kim'):\n",
    "    print (user)"
   ]
  },
  {
   "cell_type": "markdown",
   "metadata": {},
   "source": [
    "<br>\n",
    "### **02 Filter**\n",
    "일반 필터(filter) 연산자들"
   ]
  },
  {
   "cell_type": "code",
   "execution_count": 28,
   "metadata": {},
   "outputs": [
    {
     "name": "stdout",
     "output_type": "stream",
     "text": [
      "2018-06-21 17:53:04,497 INFO sqlalchemy.engine.base.Engine SELECT users.id AS users_id, users.name AS users_name, users.fullname AS users_fullname, users.password AS users_password \n",
      "FROM users \n",
      "WHERE users.name = ?\n",
      "2018-06-21 17:53:04,498 INFO sqlalchemy.engine.base.Engine ('ed',)\n"
     ]
    },
    {
     "data": {
      "text/plain": [
       "[]"
      ]
     },
     "execution_count": 28,
     "metadata": {},
     "output_type": "execute_result"
    }
   ],
   "source": [
    "# Equal 조건 : .filter(User.name == 'ed') : \n",
    "session.query(User).filter(User.name == 'ed').all()"
   ]
  },
  {
   "cell_type": "code",
   "execution_count": 29,
   "metadata": {},
   "outputs": [
    {
     "name": "stdout",
     "output_type": "stream",
     "text": [
      "2018-06-21 17:53:04,507 INFO sqlalchemy.engine.base.Engine SELECT users.id AS users_id, users.name AS users_name, users.fullname AS users_fullname, users.password AS users_password \n",
      "FROM users \n",
      "WHERE users.name != ?\n",
      "2018-06-21 17:53:04,508 INFO sqlalchemy.engine.base.Engine ('ed',)\n"
     ]
    },
    {
     "data": {
      "text/plain": [
       "[<User('haruair', 'Edward Kim', 'test1234')>,\n",
       " <User('wendy', 'Wendy Williams', 'foobar')>,\n",
       " <User('mary', 'Mary Contrary', 'xxg527')>,\n",
       " <User('fred', 'Fred Flinstone', 'blar')>]"
      ]
     },
     "execution_count": 29,
     "metadata": {},
     "output_type": "execute_result"
    }
   ],
   "source": [
    "# Not Equal 조건 : .filter(User.name != 'ed')\n",
    "session.query(User).filter(User.name != 'ed').all()"
   ]
  },
  {
   "cell_type": "code",
   "execution_count": 30,
   "metadata": {},
   "outputs": [
    {
     "name": "stdout",
     "output_type": "stream",
     "text": [
      "2018-06-21 17:53:04,516 INFO sqlalchemy.engine.base.Engine SELECT users.id AS users_id, users.name AS users_name, users.fullname AS users_fullname, users.password AS users_password \n",
      "FROM users \n",
      "WHERE users.name LIKE ?\n",
      "2018-06-21 17:53:04,517 INFO sqlalchemy.engine.base.Engine ('%ed%',)\n"
     ]
    },
    {
     "data": {
      "text/plain": [
       "[<User('fred', 'Fred Flinstone', 'blar')>]"
      ]
     },
     "execution_count": 30,
     "metadata": {},
     "output_type": "execute_result"
    }
   ],
   "source": [
    "# LIKE 조건 : .filter(User.name.like('%ed%'))\n",
    "session.query(User).filter(User.name.like('%ed%')).all()"
   ]
  },
  {
   "cell_type": "code",
   "execution_count": 31,
   "metadata": {},
   "outputs": [
    {
     "name": "stdout",
     "output_type": "stream",
     "text": [
      "2018-06-21 17:53:04,525 INFO sqlalchemy.engine.base.Engine SELECT users.id AS users_id, users.name AS users_name, users.fullname AS users_fullname, users.password AS users_password \n",
      "FROM users \n",
      "WHERE users.name IN (?, ?, ?)\n",
      "2018-06-21 17:53:04,527 INFO sqlalchemy.engine.base.Engine ('ed', 'wendy', 'jack')\n"
     ]
    },
    {
     "data": {
      "text/plain": [
       "[<User('wendy', 'Wendy Williams', 'foobar')>]"
      ]
     },
     "execution_count": 31,
     "metadata": {},
     "output_type": "execute_result"
    }
   ],
   "source": [
    "# IN_ 조건 : .filter(User.name.in_(['ed', 'wendy', 'jack']))\n",
    "session.query(User).filter(User.name.in_(['ed', 'wendy', 'jack'])).all()"
   ]
  },
  {
   "cell_type": "code",
   "execution_count": 32,
   "metadata": {},
   "outputs": [
    {
     "name": "stdout",
     "output_type": "stream",
     "text": [
      "2018-06-21 17:53:04,538 INFO sqlalchemy.engine.base.Engine SELECT users.id AS users_id, users.name AS users_name, users.fullname AS users_fullname, users.password AS users_password \n",
      "FROM users \n",
      "WHERE users.name IN (SELECT users.name AS users_name \n",
      "FROM users \n",
      "WHERE users.name LIKE ?)\n",
      "2018-06-21 17:53:04,540 INFO sqlalchemy.engine.base.Engine ('%ed%',)\n"
     ]
    },
    {
     "data": {
      "text/plain": [
       "[<User('fred', 'Fred Flinstone', 'blar')>]"
      ]
     },
     "execution_count": 32,
     "metadata": {},
     "output_type": "execute_result"
    }
   ],
   "source": [
    "# 서브쿼리\n",
    "# query.filter(User.name.in_(session.query().filter(User.name.like())))\n",
    "session.query(User).filter(\n",
    "    User.name.in_(\n",
    "        session.query(User.name).filter(\n",
    "            User.name.like('%ed%')))).all()"
   ]
  },
  {
   "cell_type": "code",
   "execution_count": 33,
   "metadata": {},
   "outputs": [
    {
     "name": "stdout",
     "output_type": "stream",
     "text": [
      "2018-06-21 17:53:04,550 INFO sqlalchemy.engine.base.Engine SELECT users.id AS users_id, users.name AS users_name, users.fullname AS users_fullname, users.password AS users_password \n",
      "FROM users \n",
      "WHERE users.name NOT IN (?, ?, ?)\n",
      "2018-06-21 17:53:04,552 INFO sqlalchemy.engine.base.Engine ('ed', 'wendy', 'jack')\n"
     ]
    },
    {
     "data": {
      "text/plain": [
       "[<User('haruair', 'Edward Kim', 'test1234')>,\n",
       " <User('mary', 'Mary Contrary', 'xxg527')>,\n",
       " <User('fred', 'Fred Flinstone', 'blar')>]"
      ]
     },
     "execution_count": 33,
     "metadata": {},
     "output_type": "execute_result"
    }
   ],
   "source": [
    "# ~ NOT IN\n",
    "# query.filter(~User.name.in_(['ed', 'wendy', 'jack'])) \n",
    "session.query(User).filter(~User.name.in_(['ed', 'wendy', 'jack'])).all()"
   ]
  },
  {
   "cell_type": "code",
   "execution_count": 34,
   "metadata": {},
   "outputs": [
    {
     "name": "stdout",
     "output_type": "stream",
     "text": [
      "2018-06-21 17:53:04,560 INFO sqlalchemy.engine.base.Engine SELECT users.id AS users_id, users.name AS users_name, users.fullname AS users_fullname, users.password AS users_password \n",
      "FROM users \n",
      "WHERE users.name IS NULL\n",
      "2018-06-21 17:53:04,561 INFO sqlalchemy.engine.base.Engine ()\n"
     ]
    },
    {
     "data": {
      "text/plain": [
       "[]"
      ]
     },
     "execution_count": 34,
     "metadata": {},
     "output_type": "execute_result"
    }
   ],
   "source": [
    "# IS NULL : .filter(User.name == None)\n",
    "session.query(User).filter(User.name == None).all()"
   ]
  },
  {
   "cell_type": "code",
   "execution_count": 35,
   "metadata": {},
   "outputs": [
    {
     "name": "stdout",
     "output_type": "stream",
     "text": [
      "2018-06-21 17:53:04,568 INFO sqlalchemy.engine.base.Engine SELECT users.id AS users_id, users.name AS users_name, users.fullname AS users_fullname, users.password AS users_password \n",
      "FROM users \n",
      "WHERE users.name IS NOT NULL\n",
      "2018-06-21 17:53:04,569 INFO sqlalchemy.engine.base.Engine ()\n"
     ]
    },
    {
     "data": {
      "text/plain": [
       "[<User('haruair', 'Edward Kim', 'test1234')>,\n",
       " <User('wendy', 'Wendy Williams', 'foobar')>,\n",
       " <User('mary', 'Mary Contrary', 'xxg527')>,\n",
       " <User('fred', 'Fred Flinstone', 'blar')>]"
      ]
     },
     "execution_count": 35,
     "metadata": {},
     "output_type": "execute_result"
    }
   ],
   "source": [
    "# IS NOT NULL : .filter(User.name == None)\n",
    "session.query(User).filter(User.name != None).all()"
   ]
  },
  {
   "cell_type": "code",
   "execution_count": 36,
   "metadata": {},
   "outputs": [
    {
     "name": "stdout",
     "output_type": "stream",
     "text": [
      "2018-06-21 17:53:04,577 INFO sqlalchemy.engine.base.Engine SELECT users.id AS users_id, users.name AS users_name, users.fullname AS users_fullname, users.password AS users_password \n",
      "FROM users \n",
      "WHERE users.name = ? AND users.fullname = ?\n",
      "2018-06-21 17:53:04,578 INFO sqlalchemy.engine.base.Engine ('ed', 'Edward Kim')\n"
     ]
    },
    {
     "data": {
      "text/plain": [
       "[]"
      ]
     },
     "execution_count": 36,
     "metadata": {},
     "output_type": "execute_result"
    }
   ],
   "source": [
    "# AND\n",
    "# filter(and_(User.name == 'ed', User.fillname == 'Edward Kim'))\n",
    "from sqlalchemy import and_\n",
    "session.query(User).filter(and_(User.name == 'ed', User.fullname == 'Edward Kim')).all()"
   ]
  },
  {
   "cell_type": "code",
   "execution_count": 37,
   "metadata": {},
   "outputs": [
    {
     "name": "stdout",
     "output_type": "stream",
     "text": [
      "2018-06-21 17:53:04,586 INFO sqlalchemy.engine.base.Engine SELECT users.id AS users_id, users.name AS users_name, users.fullname AS users_fullname, users.password AS users_password \n",
      "FROM users \n",
      "WHERE users.name = ? AND users.fullname = ?\n",
      "2018-06-21 17:53:04,588 INFO sqlalchemy.engine.base.Engine ('ed', 'Edward Kim')\n"
     ]
    },
    {
     "data": {
      "text/plain": [
       "[]"
      ]
     },
     "execution_count": 37,
     "metadata": {},
     "output_type": "execute_result"
    }
   ],
   "source": [
    "# AND\n",
    "# 메소드 체인을 활용\n",
    "session.query(User).filter(User.name == 'ed').filter(User.fullname == 'Edward Kim').all()"
   ]
  },
  {
   "cell_type": "code",
   "execution_count": 38,
   "metadata": {},
   "outputs": [
    {
     "name": "stdout",
     "output_type": "stream",
     "text": [
      "2018-06-21 17:53:04,596 INFO sqlalchemy.engine.base.Engine SELECT users.id AS users_id, users.name AS users_name, users.fullname AS users_fullname, users.password AS users_password \n",
      "FROM users \n",
      "WHERE users.name = ? OR users.name = ?\n",
      "2018-06-21 17:53:04,596 INFO sqlalchemy.engine.base.Engine ('ed', 'wendy')\n"
     ]
    },
    {
     "data": {
      "text/plain": [
       "[<User('wendy', 'Wendy Williams', 'foobar')>]"
      ]
     },
     "execution_count": 38,
     "metadata": {},
     "output_type": "execute_result"
    }
   ],
   "source": [
    "# OR\n",
    "from sqlalchemy import or_\n",
    "session.query(User).filter(or_(User.name == 'ed', User.name == 'wendy')).all()"
   ]
  },
  {
   "cell_type": "markdown",
   "metadata": {},
   "source": [
    "<br>\n",
    "### **03 Query Filter 결과의 반환**\n",
    "리스트와 Scalar 객체로 반환\n",
    "1. all() : [리스트] 를 반환\n",
    "1. Query()의 all(), one(), first() : 즉시 SQL 스칼라 객체를 반환"
   ]
  },
  {
   "cell_type": "code",
   "execution_count": 39,
   "metadata": {},
   "outputs": [
    {
     "name": "stdout",
     "output_type": "stream",
     "text": [
      "2018-06-21 17:53:04,604 INFO sqlalchemy.engine.base.Engine SELECT users.id AS users_id, users.name AS users_name, users.fullname AS users_fullname, users.password AS users_password \n",
      "FROM users\n",
      "2018-06-21 17:53:04,605 INFO sqlalchemy.engine.base.Engine ()\n"
     ]
    },
    {
     "data": {
      "text/plain": [
       "[<User('haruair', 'Edward Kim', 'test1234')>,\n",
       " <User('wendy', 'Wendy Williams', 'foobar')>,\n",
       " <User('mary', 'Mary Contrary', 'xxg527')>,\n",
       " <User('fred', 'Fred Flinstone', 'blar')>]"
      ]
     },
     "execution_count": 39,
     "metadata": {},
     "output_type": "execute_result"
    }
   ],
   "source": [
    "# .all() \n",
    "# 조건해당 객체들을 리스트로 출력\n",
    "query = session.query(User) #.filter(User.name.like('%air')).order_by(User.id)\n",
    "query.all()"
   ]
  },
  {
   "cell_type": "code",
   "execution_count": 40,
   "metadata": {},
   "outputs": [
    {
     "name": "stdout",
     "output_type": "stream",
     "text": [
      "2018-06-21 17:53:04,612 INFO sqlalchemy.engine.base.Engine SELECT users.id AS users_id, users.name AS users_name, users.fullname AS users_fullname, users.password AS users_password \n",
      "FROM users\n",
      " LIMIT ? OFFSET ?\n",
      "2018-06-21 17:53:04,613 INFO sqlalchemy.engine.base.Engine (1, 0)\n"
     ]
    },
    {
     "data": {
      "text/plain": [
       "<User('haruair', 'Edward Kim', 'test1234')>"
      ]
     },
     "execution_count": 40,
     "metadata": {},
     "output_type": "execute_result"
    }
   ],
   "source": [
    "# 첫 튜플객체를 Scalar 로 출력\n",
    "query.first()"
   ]
  },
  {
   "cell_type": "markdown",
   "metadata": {},
   "source": [
    "<br>\n",
    "## **5 SQL 에서 String 활용**\n",
    "1. Query() 에서 문자열을 유연하게 쓸 수 있다. \n",
    "1. filter()와 order_by()에서 String을 쓸 수 있다.(SAWarning이 발생함에 유의)\n",
    "1. params() 문자열로 구체적 내용을 적용시 활용\n",
    "1. from_statement() 일반적 SQL 문법을 사용가능"
   ]
  },
  {
   "cell_type": "markdown",
   "metadata": {},
   "source": [
    "<br>\n",
    "### **01 String의 활용**\n",
    "Query() 에서 문자열을 유연하게 쓸 수 있다."
   ]
  },
  {
   "cell_type": "code",
   "execution_count": 41,
   "metadata": {},
   "outputs": [
    {
     "name": "stdout",
     "output_type": "stream",
     "text": [
      "2018-06-21 17:53:04,623 INFO sqlalchemy.engine.base.Engine SELECT users.id AS users_id, users.name AS users_name, users.fullname AS users_fullname, users.password AS users_password \n",
      "FROM users \n",
      "WHERE id<224 ORDER BY users.id\n",
      "2018-06-21 17:53:04,624 INFO sqlalchemy.engine.base.Engine ()\n",
      "haruair\n",
      "wendy\n",
      "mary\n",
      "fred\n"
     ]
    },
    {
     "name": "stderr",
     "output_type": "stream",
     "text": [
      "/home/markbaum/Python/django/lib/python3.6/site-packages/sqlalchemy/sql/elements.py:4267: SAWarning: Textual SQL expression 'id<224' should be explicitly declared as text('id<224') (this warning may be suppressed after 10 occurrences)\n",
      "  {\"expr\": util.ellipses_string(element)})\n"
     ]
    }
   ],
   "source": [
    "# .filter('string')\n",
    "for user in session.query(User).\\\n",
    "            filter(\"id<224\").\\\n",
    "            order_by(\"id\").all():\n",
    "    print (user.name)"
   ]
  },
  {
   "cell_type": "code",
   "execution_count": 42,
   "metadata": {},
   "outputs": [
    {
     "name": "stdout",
     "output_type": "stream",
     "text": [
      "2018-06-21 17:53:04,631 INFO sqlalchemy.engine.base.Engine SELECT users.id AS users_id, users.name AS users_name, users.fullname AS users_fullname, users.password AS users_password \n",
      "FROM users \n",
      "WHERE id<? and name=? ORDER BY users.id\n",
      "2018-06-21 17:53:04,632 INFO sqlalchemy.engine.base.Engine (1234, 'fred')\n"
     ]
    },
    {
     "name": "stderr",
     "output_type": "stream",
     "text": [
      "/home/markbaum/Python/django/lib/python3.6/site-packages/sqlalchemy/sql/elements.py:4267: SAWarning: Textual SQL expression 'id<:value and name=:name' should be explicitly declared as text('id<:value and name=:name') (this warning may be suppressed after 10 occurrences)\n",
      "  {\"expr\": util.ellipses_string(element)})\n"
     ]
    },
    {
     "data": {
      "text/plain": [
       "<User('fred', 'Fred Flinstone', 'blar')>"
      ]
     },
     "execution_count": 42,
     "metadata": {},
     "output_type": "execute_result"
    }
   ],
   "source": [
    "# .params() 세세한 문자열의 SQL을 활용\n",
    "session.query(User).filter(\"id<:value and name=:name\").\\\n",
    "    params(value=1234, name='fred').order_by(User.id).one()"
   ]
  },
  {
   "cell_type": "code",
   "execution_count": 43,
   "metadata": {},
   "outputs": [
    {
     "name": "stdout",
     "output_type": "stream",
     "text": [
      "2018-06-21 17:53:04,648 INFO sqlalchemy.engine.base.Engine SELECT * FROM users WHERE name=?\n",
      "2018-06-21 17:53:04,648 INFO sqlalchemy.engine.base.Engine ('haruair',)\n"
     ]
    },
    {
     "name": "stderr",
     "output_type": "stream",
     "text": [
      "/home/markbaum/Python/django/lib/python3.6/site-packages/sqlalchemy/sql/elements.py:4267: SAWarning: Textual SQL expression 'SELECT * FROM users WHERE...' should be explicitly declared as text('SELECT * FROM users WHERE...') (this warning may be suppressed after 10 occurrences)\n",
      "  {\"expr\": util.ellipses_string(element)})\n"
     ]
    },
    {
     "data": {
      "text/plain": [
       "[<User('haruair', 'Edward Kim', 'test1234')>]"
      ]
     },
     "execution_count": 43,
     "metadata": {},
     "output_type": "execute_result"
    }
   ],
   "source": [
    "# .from_statement()\n",
    "session.query(User).from_statement(\n",
    "                    \"SELECT * FROM users WHERE name=:name\").\\\n",
    "                    params(name='haruair').all()"
   ]
  },
  {
   "cell_type": "code",
   "execution_count": 44,
   "metadata": {},
   "outputs": [
    {
     "name": "stdout",
     "output_type": "stream",
     "text": [
      "2018-06-21 17:53:04,658 INFO sqlalchemy.engine.base.Engine SELECT id, name, 12 as thenumber12 FROM users WHERE name=?\n",
      "2018-06-21 17:53:04,659 INFO sqlalchemy.engine.base.Engine ('haruair',)\n"
     ]
    },
    {
     "name": "stderr",
     "output_type": "stream",
     "text": [
      "/home/markbaum/Python/django/lib/python3.6/site-packages/sqlalchemy/sql/elements.py:4267: SAWarning: Textual SQL expression 'SELECT id, name, 12 as th...' should be explicitly declared as text('SELECT id, name, 12 as th...') (this warning may be suppressed after 10 occurrences)\n",
      "  {\"expr\": util.ellipses_string(element)})\n"
     ]
    },
    {
     "data": {
      "text/plain": [
       "[(1, 'haruair', 12)]"
      ]
     },
     "execution_count": 44,
     "metadata": {},
     "output_type": "execute_result"
    }
   ],
   "source": [
    "# .from_statement()\n",
    "session.query(\"id\", \"name\", \"thenumber12\").\\\n",
    "        from_statement(\"SELECT id, name, 12 as \"\n",
    "                \"thenumber12 FROM users WHERE name=:name\").\\\n",
    "        params(name='haruair').all()"
   ]
  },
  {
   "cell_type": "markdown",
   "metadata": {},
   "source": [
    "<br>\n",
    "### **02 문자열 SQL의 장단점**\n",
    "Query() 에서 문자열을 유연하게 쓸 수 있다."
   ]
  },
  {
   "cell_type": "code",
   "execution_count": 45,
   "metadata": {},
   "outputs": [
    {
     "name": "stdout",
     "output_type": "stream",
     "text": [
      "2018-06-21 17:53:04,668 INFO sqlalchemy.engine.base.Engine SELECT users.id AS users_id, users.name AS users_name \n",
      "FROM users ORDER BY users.name\n",
      "2018-06-21 17:53:04,669 INFO sqlalchemy.engine.base.Engine ()\n"
     ]
    },
    {
     "data": {
      "text/plain": [
       "[(4, 'fred'), (1, 'haruair'), (3, 'mary'), (2, 'wendy')]"
      ]
     },
     "execution_count": 45,
     "metadata": {},
     "output_type": "execute_result"
    }
   ],
   "source": [
    "q = session.query(User.id, User.name)\n",
    "q.order_by(\"name\").all()"
   ]
  },
  {
   "cell_type": "code",
   "execution_count": 46,
   "metadata": {},
   "outputs": [
    {
     "name": "stdout",
     "output_type": "stream",
     "text": [
      "2018-06-21 17:53:04,684 INFO sqlalchemy.engine.base.Engine SELECT anon_1.users_id AS anon_1_users_id, anon_1.users_name AS anon_1_users_name, users_1.name AS users_1_name \n",
      "FROM (SELECT users.id AS users_id, users.name AS users_name \n",
      "FROM users) AS anon_1, users AS users_1 \n",
      "WHERE anon_1.users_name < users_1.name AND length(users_1.name) != length(anon_1.users_name)\n",
      "2018-06-21 17:53:04,684 INFO sqlalchemy.engine.base.Engine ()\n"
     ]
    },
    {
     "data": {
      "text/plain": [
       "[(1, 'haruair', 'wendy'),\n",
       " (1, 'haruair', 'mary'),\n",
       " (3, 'mary', 'wendy'),\n",
       " (4, 'fred', 'haruair'),\n",
       " (4, 'fred', 'wendy')]"
      ]
     },
     "execution_count": 46,
     "metadata": {},
     "output_type": "execute_result"
    }
   ],
   "source": [
    "from sqlalchemy import func\n",
    "\n",
    "ua = aliased(User)\n",
    "q  = q.from_self(User.id, User.name, ua.name).\\\n",
    "    filter(User.name < ua.name).\\\n",
    "    filter(func.length(ua.name) != func.length(User.name))\n",
    "q.all()"
   ]
  },
  {
   "cell_type": "code",
   "execution_count": 47,
   "metadata": {},
   "outputs": [
    {
     "name": "stdout",
     "output_type": "stream",
     "text": [
      "2018-06-21 17:53:04,693 INFO sqlalchemy.engine.base.Engine SELECT anon_1.users_id AS anon_1_users_id, anon_1.users_name AS anon_1_users_name, users_1.name AS users_1_name \n",
      "FROM (SELECT users.id AS users_id, users.name AS users_name \n",
      "FROM users) AS anon_1, users AS users_1 \n",
      "WHERE anon_1.users_name < users_1.name AND length(users_1.name) != length(anon_1.users_name) ORDER BY users_1.name\n",
      "2018-06-21 17:53:04,695 INFO sqlalchemy.engine.base.Engine ()\n"
     ]
    },
    {
     "data": {
      "text/plain": [
       "[(4, 'fred', 'haruair'),\n",
       " (1, 'haruair', 'mary'),\n",
       " (1, 'haruair', 'wendy'),\n",
       " (3, 'mary', 'wendy'),\n",
       " (4, 'fred', 'wendy')]"
      ]
     },
     "execution_count": 47,
     "metadata": {},
     "output_type": "execute_result"
    }
   ],
   "source": [
    "# aliased 된 User를 기준으로 정렬된다\n",
    "q.order_by(\"name\").all()"
   ]
  },
  {
   "cell_type": "code",
   "execution_count": 48,
   "metadata": {},
   "outputs": [
    {
     "name": "stdout",
     "output_type": "stream",
     "text": [
      "2018-06-21 17:53:04,704 INFO sqlalchemy.engine.base.Engine SELECT anon_1.users_id AS anon_1_users_id, anon_1.users_name AS anon_1_users_name, users_1.name AS users_1_name \n",
      "FROM (SELECT users.id AS users_id, users.name AS users_name \n",
      "FROM users) AS anon_1, users AS users_1 \n",
      "WHERE anon_1.users_name < users_1.name AND length(users_1.name) != length(anon_1.users_name) ORDER BY users_1.name\n",
      "2018-06-21 17:53:04,706 INFO sqlalchemy.engine.base.Engine ()\n"
     ]
    },
    {
     "data": {
      "text/plain": [
       "[(4, 'fred', 'haruair'),\n",
       " (1, 'haruair', 'mary'),\n",
       " (1, 'haruair', 'wendy'),\n",
       " (3, 'mary', 'wendy'),\n",
       " (4, 'fred', 'wendy')]"
      ]
     },
     "execution_count": 48,
     "metadata": {},
     "output_type": "execute_result"
    }
   ],
   "source": [
    "q.order_by(ua.name).all()"
   ]
  },
  {
   "cell_type": "code",
   "execution_count": 49,
   "metadata": {},
   "outputs": [
    {
     "name": "stdout",
     "output_type": "stream",
     "text": [
      "2018-06-21 17:53:04,713 INFO sqlalchemy.engine.base.Engine SELECT anon_1.users_id AS anon_1_users_id, anon_1.users_name AS anon_1_users_name, users_1.name AS users_1_name \n",
      "FROM (SELECT users.id AS users_id, users.name AS users_name \n",
      "FROM users) AS anon_1, users AS users_1 \n",
      "WHERE anon_1.users_name < users_1.name AND length(users_1.name) != length(anon_1.users_name) ORDER BY anon_1.users_name\n",
      "2018-06-21 17:53:04,714 INFO sqlalchemy.engine.base.Engine ()\n"
     ]
    },
    {
     "data": {
      "text/plain": [
       "[(4, 'fred', 'haruair'),\n",
       " (4, 'fred', 'wendy'),\n",
       " (1, 'haruair', 'wendy'),\n",
       " (1, 'haruair', 'mary'),\n",
       " (3, 'mary', 'wendy')]"
      ]
     },
     "execution_count": 49,
     "metadata": {},
     "output_type": "execute_result"
    }
   ],
   "source": [
    "q.order_by(User.name).all()"
   ]
  },
  {
   "cell_type": "code",
   "execution_count": 50,
   "metadata": {},
   "outputs": [
    {
     "name": "stdout",
     "output_type": "stream",
     "text": [
      "2018-06-21 17:53:04,726 INFO sqlalchemy.engine.base.Engine SELECT count(*) AS count_1 \n",
      "FROM (SELECT users.id AS users_id, users.name AS users_name, users.fullname AS users_fullname, users.password AS users_password \n",
      "FROM users \n",
      "WHERE users.name LIKE ?) AS anon_1\n",
      "2018-06-21 17:53:04,728 INFO sqlalchemy.engine.base.Engine ('haru%',)\n"
     ]
    },
    {
     "data": {
      "text/plain": [
       "1"
      ]
     },
     "execution_count": 50,
     "metadata": {},
     "output_type": "execute_result"
    }
   ],
   "source": [
    "# 객체의 숫자 세기\n",
    "session.query(User).filter(User.name.like('haru%')).count()"
   ]
  },
  {
   "cell_type": "code",
   "execution_count": 51,
   "metadata": {},
   "outputs": [
    {
     "name": "stdout",
     "output_type": "stream",
     "text": [
      "2018-06-21 17:53:04,741 INFO sqlalchemy.engine.base.Engine SELECT count(*) AS count_1 \n",
      "FROM (SELECT count(users.name) AS count_2, users.name AS users_name \n",
      "FROM users GROUP BY users.name) AS anon_1\n",
      "2018-06-21 17:53:04,743 INFO sqlalchemy.engine.base.Engine ()\n"
     ]
    },
    {
     "data": {
      "text/plain": [
       "4"
      ]
     },
     "execution_count": 51,
     "metadata": {},
     "output_type": "execute_result"
    }
   ],
   "source": [
    "from sqlalchemy import func\n",
    "session.query(func.count(User.name), User.name).group_by(User.name).count()"
   ]
  },
  {
   "cell_type": "code",
   "execution_count": 52,
   "metadata": {},
   "outputs": [
    {
     "name": "stdout",
     "output_type": "stream",
     "text": [
      "2018-06-21 17:53:04,753 INFO sqlalchemy.engine.base.Engine SELECT count(?) AS count_1 \n",
      "FROM users\n",
      "2018-06-21 17:53:04,755 INFO sqlalchemy.engine.base.Engine ('*',)\n"
     ]
    },
    {
     "data": {
      "text/plain": [
       "4"
      ]
     },
     "execution_count": 52,
     "metadata": {},
     "output_type": "execute_result"
    }
   ],
   "source": [
    "# User의 select_from 을 사용\n",
    "session.query(func.count('*')).select_from(User).scalar()"
   ]
  },
  {
   "cell_type": "code",
   "execution_count": 53,
   "metadata": {},
   "outputs": [
    {
     "name": "stdout",
     "output_type": "stream",
     "text": [
      "2018-06-21 17:53:04,766 INFO sqlalchemy.engine.base.Engine SELECT count(users.id) AS count_1 \n",
      "FROM users\n",
      "2018-06-21 17:53:04,768 INFO sqlalchemy.engine.base.Engine ()\n"
     ]
    },
    {
     "data": {
      "text/plain": [
       "4"
      ]
     },
     "execution_count": 53,
     "metadata": {},
     "output_type": "execute_result"
    }
   ],
   "source": [
    "# User의 primary key를 사용하면 select_from 없이사용\n",
    "session.query(func.count(User.id)).scalar() "
   ]
  },
  {
   "cell_type": "markdown",
   "metadata": {},
   "source": [
    "<br>\n",
    "### **03 관계(relationship) 만들기**\n",
    "Query() 에서 문자열을 유연하게 쓸 수 있다."
   ]
  },
  {
   "cell_type": "code",
   "execution_count": 54,
   "metadata": {},
   "outputs": [],
   "source": [
    "from sqlalchemy import ForeignKey\n",
    "from sqlalchemy.orm import relationship, backref\n",
    "\n",
    "class Address(Base):\n",
    "    __tablename__ = 'addresses'\n",
    "    id            = Column(Integer, primary_key=True)\n",
    "    email_address = Column(String, nullable=False)\n",
    "    user_id       = Column(Integer, ForeignKey('users.id'))\n",
    "    user          = relationship(\"User\", backref=backref('addresses', order_by=id))\n",
    "\n",
    "    def __init__(self, email_address):\n",
    "        self.email_address = email_address\n",
    "\n",
    "    def __repr__(self):\n",
    "        return \"<Address('%s')>\" % self.email_address"
   ]
  },
  {
   "cell_type": "code",
   "execution_count": 55,
   "metadata": {},
   "outputs": [
    {
     "name": "stderr",
     "output_type": "stream",
     "text": [
      "/home/markbaum/Python/django/lib/python3.6/site-packages/sqlalchemy/ext/declarative/clsregistry.py:120: SAWarning: This declarative base already contains a class with the same class name and module name as __main__.User, and will be replaced in the string-lookup table.\n",
      "  item.__name__\n"
     ]
    }
   ],
   "source": [
    "class User(Base):\n",
    "\n",
    "    __tablename__ = 'addresses'\n",
    "    __table_args__ = {'extend_existing': True}  # 같은 이름의 User가 존재시 이를 덮어쓴다\n",
    "\n",
    "    id            = Column(Integer, primary_key=True)\n",
    "    addresses     = relationship(\"Address\", order_by=\"Address.id\", backref=\"user\")\n",
    "    email_address = Column(String, nullable=False)\n",
    "    user_id       = Column(Integer, ForeignKey('users.id'))\n",
    "    user          = relationship(\"User\", backref=backref('addresses', order_by=id))\n",
    "\n",
    "    def __init__(self, email_address):\n",
    "        self.email_address = email_address\n",
    "        \n",
    "    def __repr__(self):\n",
    "        return \"<Address('%s')>\" % self.email_address"
   ]
  },
  {
   "cell_type": "code",
   "execution_count": 56,
   "metadata": {},
   "outputs": [
    {
     "name": "stdout",
     "output_type": "stream",
     "text": [
      "2018-06-21 17:53:04,833 INFO sqlalchemy.engine.base.Engine PRAGMA table_info(\"users\")\n",
      "2018-06-21 17:53:04,834 INFO sqlalchemy.engine.base.Engine ()\n",
      "2018-06-21 17:53:04,836 INFO sqlalchemy.engine.base.Engine PRAGMA table_info(\"addresses\")\n",
      "2018-06-21 17:53:04,838 INFO sqlalchemy.engine.base.Engine ()\n",
      "2018-06-21 17:53:04,841 INFO sqlalchemy.engine.base.Engine \n",
      "CREATE TABLE addresses (\n",
      "\tid INTEGER NOT NULL, \n",
      "\temail_address VARCHAR NOT NULL, \n",
      "\tuser_id INTEGER, \n",
      "\tPRIMARY KEY (id), \n",
      "\tFOREIGN KEY(user_id) REFERENCES users (id)\n",
      ")\n",
      "\n",
      "\n",
      "2018-06-21 17:53:04,842 INFO sqlalchemy.engine.base.Engine ()\n",
      "2018-06-21 17:53:04,844 INFO sqlalchemy.engine.base.Engine COMMIT\n"
     ]
    }
   ],
   "source": [
    "Base.metadata.create_all(engine)"
   ]
  },
  {
   "cell_type": "markdown",
   "metadata": {},
   "source": [
    "<br>\n",
    "## **6 Many To Many Relationship**\n",
    "다대다 관계 "
   ]
  },
  {
   "cell_type": "markdown",
   "metadata": {},
   "source": [
    "<br>\n",
    "### **01 Blog 에서 다대다 관계(relationship)**\n",
    "Query() 에서 문자열을 유연하게 쓸 수 있다."
   ]
  },
  {
   "cell_type": "code",
   "execution_count": 57,
   "metadata": {},
   "outputs": [],
   "source": [
    "# 조합 테이블\n",
    "from sqlalchemy import Table, Text\n",
    "\n",
    "post_keywords = Table('post_keywords', Base.metadata,\n",
    "                   Column('post_id',    Integer, ForeignKey('posts.id')),\n",
    "                   Column('keyword_id', Integer, ForeignKey('keywords.id')))"
   ]
  },
  {
   "cell_type": "code",
   "execution_count": 58,
   "metadata": {},
   "outputs": [],
   "source": [
    "class BlogPost(Base):\n",
    "\n",
    "    __tablename__ = 'posts'\n",
    "\n",
    "    id       = Column(Integer, primary_key=True)\n",
    "    user_id  = Column(Integer, ForeignKey('users.id'))\n",
    "    headline = Column(String(255), nullable=False)\n",
    "    body     = Column(Text)\n",
    "    # 다대다 관계 : BlogPost <-> Keyword\n",
    "    keywords = relationship('Keyword', secondary=post_keywords, backref='posts')\n",
    "\n",
    "    def __init__(self, headline, body, author):\n",
    "        self.author   = author\n",
    "        self.headline = headline\n",
    "        self.body     = body\n",
    "\n",
    "    def __repr__(self):\n",
    "        return \"<BlogPost('%r', '%r', '%r')>\" % (self.headline, self.body, self.author)"
   ]
  },
  {
   "cell_type": "code",
   "execution_count": 59,
   "metadata": {},
   "outputs": [],
   "source": [
    "class Keyword(Base):\n",
    "    __tablename__ = 'keywords'\n",
    "\n",
    "    id      = Column(Integer, primary_key=True)\n",
    "    keyword = Column(String(50), nullable=False, unique=True)\n",
    "\n",
    "    def __init__(self,keyword):\n",
    "        self.keyword = keyword"
   ]
  },
  {
   "cell_type": "code",
   "execution_count": 60,
   "metadata": {},
   "outputs": [],
   "source": [
    "from sqlalchemy.orm import backref\n",
    "# User에서의 관계를 \"다이나믹\" 로딩 처리\n",
    "BlogPost.author = relationship(User, backref=backref('posts', lazy='dynamic'))"
   ]
  },
  {
   "cell_type": "code",
   "execution_count": 61,
   "metadata": {},
   "outputs": [
    {
     "ename": "AttributeError",
     "evalue": "type object 'Base' has no attribute 'meta'",
     "output_type": "error",
     "traceback": [
      "\u001b[0;31m---------------------------------------------------------------------------\u001b[0m",
      "\u001b[0;31mAttributeError\u001b[0m                            Traceback (most recent call last)",
      "\u001b[0;32m<ipython-input-61-393f5d0a695b>\u001b[0m in \u001b[0;36m<module>\u001b[0;34m()\u001b[0m\n\u001b[1;32m      1\u001b[0m \u001b[0;31m# 새로운 테이블을 정의한다\u001b[0m\u001b[0;34m\u001b[0m\u001b[0;34m\u001b[0m\u001b[0m\n\u001b[0;32m----> 2\u001b[0;31m \u001b[0mBase\u001b[0m\u001b[0;34m.\u001b[0m\u001b[0mmeta\u001b[0m\u001b[0;34m.\u001b[0m\u001b[0mcreate_all\u001b[0m\u001b[0;34m(\u001b[0m\u001b[0mengine\u001b[0m\u001b[0;34m)\u001b[0m\u001b[0;34m\u001b[0m\u001b[0m\n\u001b[0m",
      "\u001b[0;31mAttributeError\u001b[0m: type object 'Base' has no attribute 'meta'"
     ]
    }
   ],
   "source": [
    "# 새로운 테이블을 정의한다\n",
    "Base.meta.create_all(engine)"
   ]
  },
  {
   "cell_type": "code",
   "execution_count": 62,
   "metadata": {},
   "outputs": [
    {
     "ename": "NoForeignKeysError",
     "evalue": "Could not determine join condition between parent/child tables on relationship User.addresses - there are no foreign keys linking these tables.  Ensure that referencing columns are associated with a ForeignKey or ForeignKeyConstraint, or specify a 'primaryjoin' expression.",
     "output_type": "error",
     "traceback": [
      "\u001b[0;31m---------------------------------------------------------------------------\u001b[0m",
      "\u001b[0;31mNoForeignKeysError\u001b[0m                        Traceback (most recent call last)",
      "\u001b[0;32m~/Python/django/lib/python3.6/site-packages/sqlalchemy/orm/relationships.py\u001b[0m in \u001b[0;36m_determine_joins\u001b[0;34m(self)\u001b[0m\n\u001b[1;32m   2081\u001b[0m                             \u001b[0ma_subset\u001b[0m\u001b[0;34m=\u001b[0m\u001b[0mself\u001b[0m\u001b[0;34m.\u001b[0m\u001b[0mparent_local_selectable\u001b[0m\u001b[0;34m,\u001b[0m\u001b[0;34m\u001b[0m\u001b[0m\n\u001b[0;32m-> 2082\u001b[0;31m                             \u001b[0mconsider_as_foreign_keys\u001b[0m\u001b[0;34m=\u001b[0m\u001b[0mconsider_as_foreign_keys\u001b[0m\u001b[0;34m\u001b[0m\u001b[0m\n\u001b[0m\u001b[1;32m   2083\u001b[0m                         )\n",
      "\u001b[0;32m<string>\u001b[0m in \u001b[0;36mjoin_condition\u001b[0;34m(a, b, ignore_nonexistent_tables, a_subset, consider_as_foreign_keys)\u001b[0m\n",
      "\u001b[0;32m~/Python/django/lib/python3.6/site-packages/sqlalchemy/sql/selectable.py\u001b[0m in \u001b[0;36m_join_condition\u001b[0;34m(cls, a, b, ignore_nonexistent_tables, a_subset, consider_as_foreign_keys)\u001b[0m\n\u001b[1;32m    978\u001b[0m                 \u001b[0;34m\"between '%s' and '%s'.%s\"\u001b[0m \u001b[0;34m%\u001b[0m\u001b[0;34m\u001b[0m\u001b[0m\n\u001b[0;32m--> 979\u001b[0;31m                 (a.description, b.description, hint))\n\u001b[0m\u001b[1;32m    980\u001b[0m \u001b[0;34m\u001b[0m\u001b[0m\n",
      "\u001b[0;31mNoForeignKeysError\u001b[0m: Can't find any foreign key relationships between 'addresses' and 'addresses'.",
      "\nDuring handling of the above exception, another exception occurred:\n",
      "\u001b[0;31mNoForeignKeysError\u001b[0m                        Traceback (most recent call last)",
      "\u001b[0;32m<ipython-input-62-b0f9e04147e3>\u001b[0m in \u001b[0;36m<module>\u001b[0;34m()\u001b[0m\n\u001b[0;32m----> 1\u001b[0;31m \u001b[0mwendy\u001b[0m \u001b[0;34m=\u001b[0m \u001b[0msession\u001b[0m\u001b[0;34m.\u001b[0m\u001b[0mquery\u001b[0m\u001b[0;34m(\u001b[0m\u001b[0mUser\u001b[0m\u001b[0;34m)\u001b[0m\u001b[0;34m.\u001b[0m                \u001b[0mfilter_by\u001b[0m\u001b[0;34m(\u001b[0m\u001b[0mname\u001b[0m\u001b[0;34m=\u001b[0m\u001b[0;34m'wendy'\u001b[0m\u001b[0;34m)\u001b[0m\u001b[0;34m.\u001b[0m                \u001b[0mone\u001b[0m\u001b[0;34m(\u001b[0m\u001b[0;34m)\u001b[0m\u001b[0;34m\u001b[0m\u001b[0m\n\u001b[0m\u001b[1;32m      2\u001b[0m \u001b[0mpost\u001b[0m \u001b[0;34m=\u001b[0m \u001b[0mBlogPost\u001b[0m\u001b[0;34m(\u001b[0m\u001b[0;34m\"Wendy's Blog Post\"\u001b[0m\u001b[0;34m,\u001b[0m \u001b[0;34m\"This is a test\"\u001b[0m\u001b[0;34m,\u001b[0m \u001b[0mwendy\u001b[0m\u001b[0;34m)\u001b[0m\u001b[0;34m\u001b[0m\u001b[0m\n\u001b[1;32m      3\u001b[0m \u001b[0msession\u001b[0m\u001b[0;34m.\u001b[0m\u001b[0madd\u001b[0m\u001b[0;34m(\u001b[0m\u001b[0mpost\u001b[0m\u001b[0;34m)\u001b[0m\u001b[0;34m\u001b[0m\u001b[0m\n",
      "\u001b[0;32m~/Python/django/lib/python3.6/site-packages/sqlalchemy/orm/session.py\u001b[0m in \u001b[0;36mquery\u001b[0;34m(self, *entities, **kwargs)\u001b[0m\n\u001b[1;32m   1397\u001b[0m         :class:`.Session`.\"\"\"\n\u001b[1;32m   1398\u001b[0m \u001b[0;34m\u001b[0m\u001b[0m\n\u001b[0;32m-> 1399\u001b[0;31m         \u001b[0;32mreturn\u001b[0m \u001b[0mself\u001b[0m\u001b[0;34m.\u001b[0m\u001b[0m_query_cls\u001b[0m\u001b[0;34m(\u001b[0m\u001b[0mentities\u001b[0m\u001b[0;34m,\u001b[0m \u001b[0mself\u001b[0m\u001b[0;34m,\u001b[0m \u001b[0;34m**\u001b[0m\u001b[0mkwargs\u001b[0m\u001b[0;34m)\u001b[0m\u001b[0;34m\u001b[0m\u001b[0m\n\u001b[0m\u001b[1;32m   1400\u001b[0m \u001b[0;34m\u001b[0m\u001b[0m\n\u001b[1;32m   1401\u001b[0m     \u001b[0;34m@\u001b[0m\u001b[0mproperty\u001b[0m\u001b[0;34m\u001b[0m\u001b[0m\n",
      "\u001b[0;32m~/Python/django/lib/python3.6/site-packages/sqlalchemy/orm/query.py\u001b[0m in \u001b[0;36m__init__\u001b[0;34m(self, entities, session)\u001b[0m\n\u001b[1;32m    139\u001b[0m         \u001b[0mself\u001b[0m\u001b[0;34m.\u001b[0m\u001b[0msession\u001b[0m \u001b[0;34m=\u001b[0m \u001b[0msession\u001b[0m\u001b[0;34m\u001b[0m\u001b[0m\n\u001b[1;32m    140\u001b[0m         \u001b[0mself\u001b[0m\u001b[0;34m.\u001b[0m\u001b[0m_polymorphic_adapters\u001b[0m \u001b[0;34m=\u001b[0m \u001b[0;34m{\u001b[0m\u001b[0;34m}\u001b[0m\u001b[0;34m\u001b[0m\u001b[0m\n\u001b[0;32m--> 141\u001b[0;31m         \u001b[0mself\u001b[0m\u001b[0;34m.\u001b[0m\u001b[0m_set_entities\u001b[0m\u001b[0;34m(\u001b[0m\u001b[0mentities\u001b[0m\u001b[0;34m)\u001b[0m\u001b[0;34m\u001b[0m\u001b[0m\n\u001b[0m\u001b[1;32m    142\u001b[0m \u001b[0;34m\u001b[0m\u001b[0m\n\u001b[1;32m    143\u001b[0m     \u001b[0;32mdef\u001b[0m \u001b[0m_set_entities\u001b[0m\u001b[0;34m(\u001b[0m\u001b[0mself\u001b[0m\u001b[0;34m,\u001b[0m \u001b[0mentities\u001b[0m\u001b[0;34m,\u001b[0m \u001b[0mentity_wrapper\u001b[0m\u001b[0;34m=\u001b[0m\u001b[0;32mNone\u001b[0m\u001b[0;34m)\u001b[0m\u001b[0;34m:\u001b[0m\u001b[0;34m\u001b[0m\u001b[0m\n",
      "\u001b[0;32m~/Python/django/lib/python3.6/site-packages/sqlalchemy/orm/query.py\u001b[0m in \u001b[0;36m_set_entities\u001b[0;34m(self, entities, entity_wrapper)\u001b[0m\n\u001b[1;32m    150\u001b[0m             \u001b[0mentity_wrapper\u001b[0m\u001b[0;34m(\u001b[0m\u001b[0mself\u001b[0m\u001b[0;34m,\u001b[0m \u001b[0ment\u001b[0m\u001b[0;34m)\u001b[0m\u001b[0;34m\u001b[0m\u001b[0m\n\u001b[1;32m    151\u001b[0m \u001b[0;34m\u001b[0m\u001b[0m\n\u001b[0;32m--> 152\u001b[0;31m         \u001b[0mself\u001b[0m\u001b[0;34m.\u001b[0m\u001b[0m_set_entity_selectables\u001b[0m\u001b[0;34m(\u001b[0m\u001b[0mself\u001b[0m\u001b[0;34m.\u001b[0m\u001b[0m_entities\u001b[0m\u001b[0;34m)\u001b[0m\u001b[0;34m\u001b[0m\u001b[0m\n\u001b[0m\u001b[1;32m    153\u001b[0m \u001b[0;34m\u001b[0m\u001b[0m\n\u001b[1;32m    154\u001b[0m     \u001b[0;32mdef\u001b[0m \u001b[0m_set_entity_selectables\u001b[0m\u001b[0;34m(\u001b[0m\u001b[0mself\u001b[0m\u001b[0;34m,\u001b[0m \u001b[0mentities\u001b[0m\u001b[0;34m)\u001b[0m\u001b[0;34m:\u001b[0m\u001b[0;34m\u001b[0m\u001b[0m\n",
      "\u001b[0;32m~/Python/django/lib/python3.6/site-packages/sqlalchemy/orm/query.py\u001b[0m in \u001b[0;36m_set_entity_selectables\u001b[0;34m(self, entities)\u001b[0m\n\u001b[1;32m    180\u001b[0m                         \u001b[0maliased_adapter\u001b[0m\u001b[0;34m\u001b[0m\u001b[0m\n\u001b[1;32m    181\u001b[0m                     )\n\u001b[0;32m--> 182\u001b[0;31m                 \u001b[0ment\u001b[0m\u001b[0;34m.\u001b[0m\u001b[0msetup_entity\u001b[0m\u001b[0;34m(\u001b[0m\u001b[0;34m*\u001b[0m\u001b[0md\u001b[0m\u001b[0;34m[\u001b[0m\u001b[0mentity\u001b[0m\u001b[0;34m]\u001b[0m\u001b[0;34m)\u001b[0m\u001b[0;34m\u001b[0m\u001b[0m\n\u001b[0m\u001b[1;32m    183\u001b[0m \u001b[0;34m\u001b[0m\u001b[0m\n\u001b[1;32m    184\u001b[0m     \u001b[0;32mdef\u001b[0m \u001b[0m_mapper_loads_polymorphically_with\u001b[0m\u001b[0;34m(\u001b[0m\u001b[0mself\u001b[0m\u001b[0;34m,\u001b[0m \u001b[0mmapper\u001b[0m\u001b[0;34m,\u001b[0m \u001b[0madapter\u001b[0m\u001b[0;34m)\u001b[0m\u001b[0;34m:\u001b[0m\u001b[0;34m\u001b[0m\u001b[0m\n",
      "\u001b[0;32m~/Python/django/lib/python3.6/site-packages/sqlalchemy/orm/query.py\u001b[0m in \u001b[0;36msetup_entity\u001b[0;34m(self, ext_info, aliased_adapter)\u001b[0m\n\u001b[1;32m   3628\u001b[0m         \u001b[0mself\u001b[0m\u001b[0;34m.\u001b[0m\u001b[0mselectable\u001b[0m \u001b[0;34m=\u001b[0m \u001b[0mext_info\u001b[0m\u001b[0;34m.\u001b[0m\u001b[0mselectable\u001b[0m\u001b[0;34m\u001b[0m\u001b[0m\n\u001b[1;32m   3629\u001b[0m         \u001b[0mself\u001b[0m\u001b[0;34m.\u001b[0m\u001b[0mis_aliased_class\u001b[0m \u001b[0;34m=\u001b[0m \u001b[0mext_info\u001b[0m\u001b[0;34m.\u001b[0m\u001b[0mis_aliased_class\u001b[0m\u001b[0;34m\u001b[0m\u001b[0m\n\u001b[0;32m-> 3630\u001b[0;31m         \u001b[0mself\u001b[0m\u001b[0;34m.\u001b[0m\u001b[0m_with_polymorphic\u001b[0m \u001b[0;34m=\u001b[0m \u001b[0mext_info\u001b[0m\u001b[0;34m.\u001b[0m\u001b[0mwith_polymorphic_mappers\u001b[0m\u001b[0;34m\u001b[0m\u001b[0m\n\u001b[0m\u001b[1;32m   3631\u001b[0m         \u001b[0mself\u001b[0m\u001b[0;34m.\u001b[0m\u001b[0m_polymorphic_discriminator\u001b[0m \u001b[0;34m=\u001b[0m\u001b[0;31m \u001b[0m\u001b[0;31m\\\u001b[0m\u001b[0;34m\u001b[0m\u001b[0m\n\u001b[1;32m   3632\u001b[0m             \u001b[0mext_info\u001b[0m\u001b[0;34m.\u001b[0m\u001b[0mpolymorphic_on\u001b[0m\u001b[0;34m\u001b[0m\u001b[0m\n",
      "\u001b[0;32m~/Python/django/lib/python3.6/site-packages/sqlalchemy/util/langhelpers.py\u001b[0m in \u001b[0;36m__get__\u001b[0;34m(self, obj, cls)\u001b[0m\n\u001b[1;32m    765\u001b[0m         \u001b[0;32mif\u001b[0m \u001b[0mobj\u001b[0m \u001b[0;32mis\u001b[0m \u001b[0;32mNone\u001b[0m\u001b[0;34m:\u001b[0m\u001b[0;34m\u001b[0m\u001b[0m\n\u001b[1;32m    766\u001b[0m             \u001b[0;32mreturn\u001b[0m \u001b[0mself\u001b[0m\u001b[0;34m\u001b[0m\u001b[0m\n\u001b[0;32m--> 767\u001b[0;31m         \u001b[0mobj\u001b[0m\u001b[0;34m.\u001b[0m\u001b[0m__dict__\u001b[0m\u001b[0;34m[\u001b[0m\u001b[0mself\u001b[0m\u001b[0;34m.\u001b[0m\u001b[0m__name__\u001b[0m\u001b[0;34m]\u001b[0m \u001b[0;34m=\u001b[0m \u001b[0mresult\u001b[0m \u001b[0;34m=\u001b[0m \u001b[0mself\u001b[0m\u001b[0;34m.\u001b[0m\u001b[0mfget\u001b[0m\u001b[0;34m(\u001b[0m\u001b[0mobj\u001b[0m\u001b[0;34m)\u001b[0m\u001b[0;34m\u001b[0m\u001b[0m\n\u001b[0m\u001b[1;32m    768\u001b[0m         \u001b[0;32mreturn\u001b[0m \u001b[0mresult\u001b[0m\u001b[0;34m\u001b[0m\u001b[0m\n\u001b[1;32m    769\u001b[0m \u001b[0;34m\u001b[0m\u001b[0m\n",
      "\u001b[0;32m~/Python/django/lib/python3.6/site-packages/sqlalchemy/orm/mapper.py\u001b[0m in \u001b[0;36m_with_polymorphic_mappers\u001b[0;34m(self)\u001b[0m\n\u001b[1;32m   2009\u001b[0m     \u001b[0;32mdef\u001b[0m \u001b[0m_with_polymorphic_mappers\u001b[0m\u001b[0;34m(\u001b[0m\u001b[0mself\u001b[0m\u001b[0;34m)\u001b[0m\u001b[0;34m:\u001b[0m\u001b[0;34m\u001b[0m\u001b[0m\n\u001b[1;32m   2010\u001b[0m         \u001b[0;32mif\u001b[0m \u001b[0mMapper\u001b[0m\u001b[0;34m.\u001b[0m\u001b[0m_new_mappers\u001b[0m\u001b[0;34m:\u001b[0m\u001b[0;34m\u001b[0m\u001b[0m\n\u001b[0;32m-> 2011\u001b[0;31m             \u001b[0mconfigure_mappers\u001b[0m\u001b[0;34m(\u001b[0m\u001b[0;34m)\u001b[0m\u001b[0;34m\u001b[0m\u001b[0m\n\u001b[0m\u001b[1;32m   2012\u001b[0m         \u001b[0;32mif\u001b[0m \u001b[0;32mnot\u001b[0m \u001b[0mself\u001b[0m\u001b[0;34m.\u001b[0m\u001b[0mwith_polymorphic\u001b[0m\u001b[0;34m:\u001b[0m\u001b[0;34m\u001b[0m\u001b[0m\n\u001b[1;32m   2013\u001b[0m             \u001b[0;32mreturn\u001b[0m \u001b[0;34m[\u001b[0m\u001b[0;34m]\u001b[0m\u001b[0;34m\u001b[0m\u001b[0m\n",
      "\u001b[0;32m~/Python/django/lib/python3.6/site-packages/sqlalchemy/orm/mapper.py\u001b[0m in \u001b[0;36mconfigure_mappers\u001b[0;34m()\u001b[0m\n\u001b[1;32m   3027\u001b[0m                 \u001b[0;32mif\u001b[0m \u001b[0;32mnot\u001b[0m \u001b[0mmapper\u001b[0m\u001b[0;34m.\u001b[0m\u001b[0mconfigured\u001b[0m\u001b[0;34m:\u001b[0m\u001b[0;34m\u001b[0m\u001b[0m\n\u001b[1;32m   3028\u001b[0m                     \u001b[0;32mtry\u001b[0m\u001b[0;34m:\u001b[0m\u001b[0;34m\u001b[0m\u001b[0m\n\u001b[0;32m-> 3029\u001b[0;31m                         \u001b[0mmapper\u001b[0m\u001b[0;34m.\u001b[0m\u001b[0m_post_configure_properties\u001b[0m\u001b[0;34m(\u001b[0m\u001b[0;34m)\u001b[0m\u001b[0;34m\u001b[0m\u001b[0m\n\u001b[0m\u001b[1;32m   3030\u001b[0m                         \u001b[0mmapper\u001b[0m\u001b[0;34m.\u001b[0m\u001b[0m_expire_memoizations\u001b[0m\u001b[0;34m(\u001b[0m\u001b[0;34m)\u001b[0m\u001b[0;34m\u001b[0m\u001b[0m\n\u001b[1;32m   3031\u001b[0m                         mapper.dispatch.mapper_configured(\n",
      "\u001b[0;32m~/Python/django/lib/python3.6/site-packages/sqlalchemy/orm/mapper.py\u001b[0m in \u001b[0;36m_post_configure_properties\u001b[0;34m(self)\u001b[0m\n\u001b[1;32m   1826\u001b[0m \u001b[0;34m\u001b[0m\u001b[0m\n\u001b[1;32m   1827\u001b[0m             \u001b[0;32mif\u001b[0m \u001b[0mprop\u001b[0m\u001b[0;34m.\u001b[0m\u001b[0mparent\u001b[0m \u001b[0;32mis\u001b[0m \u001b[0mself\u001b[0m \u001b[0;32mand\u001b[0m \u001b[0;32mnot\u001b[0m \u001b[0mprop\u001b[0m\u001b[0;34m.\u001b[0m\u001b[0m_configure_started\u001b[0m\u001b[0;34m:\u001b[0m\u001b[0;34m\u001b[0m\u001b[0m\n\u001b[0;32m-> 1828\u001b[0;31m                 \u001b[0mprop\u001b[0m\u001b[0;34m.\u001b[0m\u001b[0minit\u001b[0m\u001b[0;34m(\u001b[0m\u001b[0;34m)\u001b[0m\u001b[0;34m\u001b[0m\u001b[0m\n\u001b[0m\u001b[1;32m   1829\u001b[0m \u001b[0;34m\u001b[0m\u001b[0m\n\u001b[1;32m   1830\u001b[0m             \u001b[0;32mif\u001b[0m \u001b[0mprop\u001b[0m\u001b[0;34m.\u001b[0m\u001b[0m_configure_finished\u001b[0m\u001b[0;34m:\u001b[0m\u001b[0;34m\u001b[0m\u001b[0m\n",
      "\u001b[0;32m~/Python/django/lib/python3.6/site-packages/sqlalchemy/orm/interfaces.py\u001b[0m in \u001b[0;36minit\u001b[0;34m(self)\u001b[0m\n\u001b[1;32m    182\u001b[0m         \"\"\"\n\u001b[1;32m    183\u001b[0m         \u001b[0mself\u001b[0m\u001b[0;34m.\u001b[0m\u001b[0m_configure_started\u001b[0m \u001b[0;34m=\u001b[0m \u001b[0;32mTrue\u001b[0m\u001b[0;34m\u001b[0m\u001b[0m\n\u001b[0;32m--> 184\u001b[0;31m         \u001b[0mself\u001b[0m\u001b[0;34m.\u001b[0m\u001b[0mdo_init\u001b[0m\u001b[0;34m(\u001b[0m\u001b[0;34m)\u001b[0m\u001b[0;34m\u001b[0m\u001b[0m\n\u001b[0m\u001b[1;32m    185\u001b[0m         \u001b[0mself\u001b[0m\u001b[0;34m.\u001b[0m\u001b[0m_configure_finished\u001b[0m \u001b[0;34m=\u001b[0m \u001b[0;32mTrue\u001b[0m\u001b[0;34m\u001b[0m\u001b[0m\n\u001b[1;32m    186\u001b[0m \u001b[0;34m\u001b[0m\u001b[0m\n",
      "\u001b[0;32m~/Python/django/lib/python3.6/site-packages/sqlalchemy/orm/relationships.py\u001b[0m in \u001b[0;36mdo_init\u001b[0;34m(self)\u001b[0m\n\u001b[1;32m   1654\u001b[0m         \u001b[0mself\u001b[0m\u001b[0;34m.\u001b[0m\u001b[0m_check_conflicts\u001b[0m\u001b[0;34m(\u001b[0m\u001b[0;34m)\u001b[0m\u001b[0;34m\u001b[0m\u001b[0m\n\u001b[1;32m   1655\u001b[0m         \u001b[0mself\u001b[0m\u001b[0;34m.\u001b[0m\u001b[0m_process_dependent_arguments\u001b[0m\u001b[0;34m(\u001b[0m\u001b[0;34m)\u001b[0m\u001b[0;34m\u001b[0m\u001b[0m\n\u001b[0;32m-> 1656\u001b[0;31m         \u001b[0mself\u001b[0m\u001b[0;34m.\u001b[0m\u001b[0m_setup_join_conditions\u001b[0m\u001b[0;34m(\u001b[0m\u001b[0;34m)\u001b[0m\u001b[0;34m\u001b[0m\u001b[0m\n\u001b[0m\u001b[1;32m   1657\u001b[0m         \u001b[0mself\u001b[0m\u001b[0;34m.\u001b[0m\u001b[0m_check_cascade_settings\u001b[0m\u001b[0;34m(\u001b[0m\u001b[0mself\u001b[0m\u001b[0;34m.\u001b[0m\u001b[0m_cascade\u001b[0m\u001b[0;34m)\u001b[0m\u001b[0;34m\u001b[0m\u001b[0m\n\u001b[1;32m   1658\u001b[0m         \u001b[0mself\u001b[0m\u001b[0;34m.\u001b[0m\u001b[0m_post_init\u001b[0m\u001b[0;34m(\u001b[0m\u001b[0;34m)\u001b[0m\u001b[0;34m\u001b[0m\u001b[0m\n",
      "\u001b[0;32m~/Python/django/lib/python3.6/site-packages/sqlalchemy/orm/relationships.py\u001b[0m in \u001b[0;36m_setup_join_conditions\u001b[0;34m(self)\u001b[0m\n\u001b[1;32m   1729\u001b[0m             \u001b[0mprop\u001b[0m\u001b[0;34m=\u001b[0m\u001b[0mself\u001b[0m\u001b[0;34m,\u001b[0m\u001b[0;34m\u001b[0m\u001b[0m\n\u001b[1;32m   1730\u001b[0m             \u001b[0msupport_sync\u001b[0m\u001b[0;34m=\u001b[0m\u001b[0;32mnot\u001b[0m \u001b[0mself\u001b[0m\u001b[0;34m.\u001b[0m\u001b[0mviewonly\u001b[0m\u001b[0;34m,\u001b[0m\u001b[0;34m\u001b[0m\u001b[0m\n\u001b[0;32m-> 1731\u001b[0;31m             \u001b[0mcan_be_synced_fn\u001b[0m\u001b[0;34m=\u001b[0m\u001b[0mself\u001b[0m\u001b[0;34m.\u001b[0m\u001b[0m_columns_are_mapped\u001b[0m\u001b[0;34m\u001b[0m\u001b[0m\n\u001b[0m\u001b[1;32m   1732\u001b[0m         )\n\u001b[1;32m   1733\u001b[0m         \u001b[0mself\u001b[0m\u001b[0;34m.\u001b[0m\u001b[0mprimaryjoin\u001b[0m \u001b[0;34m=\u001b[0m \u001b[0mjc\u001b[0m\u001b[0;34m.\u001b[0m\u001b[0mprimaryjoin\u001b[0m\u001b[0;34m\u001b[0m\u001b[0m\n",
      "\u001b[0;32m~/Python/django/lib/python3.6/site-packages/sqlalchemy/orm/relationships.py\u001b[0m in \u001b[0;36m__init__\u001b[0;34m(self, parent_selectable, child_selectable, parent_local_selectable, child_local_selectable, primaryjoin, secondary, secondaryjoin, parent_equivalents, child_equivalents, consider_as_foreign_keys, local_remote_pairs, remote_side, self_referential, prop, support_sync, can_be_synced_fn)\u001b[0m\n\u001b[1;32m   1996\u001b[0m         \u001b[0mself\u001b[0m\u001b[0;34m.\u001b[0m\u001b[0msupport_sync\u001b[0m \u001b[0;34m=\u001b[0m \u001b[0msupport_sync\u001b[0m\u001b[0;34m\u001b[0m\u001b[0m\n\u001b[1;32m   1997\u001b[0m         \u001b[0mself\u001b[0m\u001b[0;34m.\u001b[0m\u001b[0mcan_be_synced_fn\u001b[0m \u001b[0;34m=\u001b[0m \u001b[0mcan_be_synced_fn\u001b[0m\u001b[0;34m\u001b[0m\u001b[0m\n\u001b[0;32m-> 1998\u001b[0;31m         \u001b[0mself\u001b[0m\u001b[0;34m.\u001b[0m\u001b[0m_determine_joins\u001b[0m\u001b[0;34m(\u001b[0m\u001b[0;34m)\u001b[0m\u001b[0;34m\u001b[0m\u001b[0m\n\u001b[0m\u001b[1;32m   1999\u001b[0m         \u001b[0mself\u001b[0m\u001b[0;34m.\u001b[0m\u001b[0m_annotate_fks\u001b[0m\u001b[0;34m(\u001b[0m\u001b[0;34m)\u001b[0m\u001b[0;34m\u001b[0m\u001b[0m\n\u001b[1;32m   2000\u001b[0m         \u001b[0mself\u001b[0m\u001b[0;34m.\u001b[0m\u001b[0m_annotate_remote\u001b[0m\u001b[0;34m(\u001b[0m\u001b[0;34m)\u001b[0m\u001b[0;34m\u001b[0m\u001b[0m\n",
      "\u001b[0;32m~/Python/django/lib/python3.6/site-packages/sqlalchemy/orm/relationships.py\u001b[0m in \u001b[0;36m_determine_joins\u001b[0;34m(self)\u001b[0m\n\u001b[1;32m   2101\u001b[0m                     \u001b[0;34m\"Ensure that referencing columns are associated \"\u001b[0m\u001b[0;34m\u001b[0m\u001b[0m\n\u001b[1;32m   2102\u001b[0m                     \u001b[0;34m\"with a ForeignKey or ForeignKeyConstraint, or \"\u001b[0m\u001b[0;34m\u001b[0m\u001b[0m\n\u001b[0;32m-> 2103\u001b[0;31m                     \"specify a 'primaryjoin' expression.\" % self.prop)\n\u001b[0m\u001b[1;32m   2104\u001b[0m         \u001b[0;32mexcept\u001b[0m \u001b[0msa_exc\u001b[0m\u001b[0;34m.\u001b[0m\u001b[0mAmbiguousForeignKeysError\u001b[0m\u001b[0;34m:\u001b[0m\u001b[0;34m\u001b[0m\u001b[0m\n\u001b[1;32m   2105\u001b[0m             \u001b[0;32mif\u001b[0m \u001b[0mself\u001b[0m\u001b[0;34m.\u001b[0m\u001b[0msecondary\u001b[0m \u001b[0;32mis\u001b[0m \u001b[0;32mnot\u001b[0m \u001b[0;32mNone\u001b[0m\u001b[0;34m:\u001b[0m\u001b[0;34m\u001b[0m\u001b[0m\n",
      "\u001b[0;31mNoForeignKeysError\u001b[0m: Could not determine join condition between parent/child tables on relationship User.addresses - there are no foreign keys linking these tables.  Ensure that referencing columns are associated with a ForeignKey or ForeignKeyConstraint, or specify a 'primaryjoin' expression."
     ]
    }
   ],
   "source": [
    "wendy = session.query(User).\\\n",
    "                filter_by(name='wendy').\\\n",
    "                one()\n",
    "post = BlogPost(\"Wendy's Blog Post\", \"This is a test\", wendy)\n",
    "session.add(post)"
   ]
  },
  {
   "cell_type": "code",
   "execution_count": 63,
   "metadata": {},
   "outputs": [
    {
     "ename": "NameError",
     "evalue": "name 'post' is not defined",
     "output_type": "error",
     "traceback": [
      "\u001b[0;31m---------------------------------------------------------------------------\u001b[0m",
      "\u001b[0;31mNameError\u001b[0m                                 Traceback (most recent call last)",
      "\u001b[0;32m<ipython-input-63-a8396f8688dc>\u001b[0m in \u001b[0;36m<module>\u001b[0;34m()\u001b[0m\n\u001b[1;32m      1\u001b[0m \u001b[0;34m\u001b[0m\u001b[0m\n\u001b[1;32m      2\u001b[0m \u001b[0;34m\u001b[0m\u001b[0m\n\u001b[0;32m----> 3\u001b[0;31m \u001b[0mpost\u001b[0m\u001b[0;34m.\u001b[0m\u001b[0mkeywords\u001b[0m\u001b[0;34m.\u001b[0m\u001b[0mappend\u001b[0m\u001b[0;34m(\u001b[0m\u001b[0mKeyword\u001b[0m\u001b[0;34m(\u001b[0m\u001b[0;34m'wendy'\u001b[0m\u001b[0;34m)\u001b[0m\u001b[0;34m)\u001b[0m\u001b[0;34m\u001b[0m\u001b[0m\n\u001b[0m\u001b[1;32m      4\u001b[0m \u001b[0mpost\u001b[0m\u001b[0;34m.\u001b[0m\u001b[0mkeywords\u001b[0m\u001b[0;34m.\u001b[0m\u001b[0mappend\u001b[0m\u001b[0;34m(\u001b[0m\u001b[0mKeyword\u001b[0m\u001b[0;34m(\u001b[0m\u001b[0;34m'firstpost'\u001b[0m\u001b[0;34m)\u001b[0m\u001b[0;34m)\u001b[0m\u001b[0;34m\u001b[0m\u001b[0m\n",
      "\u001b[0;31mNameError\u001b[0m: name 'post' is not defined"
     ]
    }
   ],
   "source": [
    "\n",
    "\n",
    "post.keywords.append(Keyword('wendy'))\n",
    "post.keywords.append(Keyword('firstpost')) \n"
   ]
  },
  {
   "cell_type": "code",
   "execution_count": null,
   "metadata": {},
   "outputs": [],
   "source": []
  }
 ],
 "metadata": {
  "kernelspec": {
   "display_name": "Python 3",
   "language": "python",
   "name": "python3"
  },
  "language_info": {
   "codemirror_mode": {
    "name": "ipython",
    "version": 3
   },
   "file_extension": ".py",
   "mimetype": "text/x-python",
   "name": "python",
   "nbconvert_exporter": "python",
   "pygments_lexer": "ipython3",
   "version": "3.6.3"
  }
 },
 "nbformat": 4,
 "nbformat_minor": 2
}
