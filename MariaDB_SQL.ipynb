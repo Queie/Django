{
 "cells": [
  {
   "cell_type": "markdown",
   "metadata": {},
   "source": [
    "<br><br>\n",
    "# **MariaDB using By Pandas**\n",
    "<br>\n",
    "https://swalloow.github.io/db-to-dataframe<br>\n",
    "**마리아DB**를 **Pandas**를 사용하여 Create, Read, Update, Delete 작업하기\n",
    "1. 지금까지 Sqlite3를 사용했지만 용량이 넘치기 시작했다\n",
    "1. 간단한 SQL 문법은 Sqlite3 로 익히더라고\n",
    "1. 이제부터는 대부분의 내용들을 **MariaDB** 까지도 포함해서 저장 및 활용하기"
   ]
  },
  {
   "cell_type": "code",
   "execution_count": 6,
   "metadata": {},
   "outputs": [
    {
     "data": {
      "text/plain": [
       "'1.2.6'"
      ]
     },
     "execution_count": 6,
     "metadata": {},
     "output_type": "execute_result"
    }
   ],
   "source": [
    "# Psql 에 대해서 익히려고 했지만, odroid Xu4 등에서 설치가 안됨\n",
    "# 범용적인 활용을 위해선 우선은 MariaDB를 익혀서 작업을 하고\n",
    "# 추후에 AWS등을 활용하여 PostgreSQL를 설치가능하면 확장해 나아가기\n",
    "\n",
    "# 아래의 3개 모듈을 활용한다\n",
    "import pymysql       # MySQL cursor 연결\n",
    "import pandas as pd  # 결과물 출력 및 생성"
   ]
  },
  {
   "cell_type": "markdown",
   "metadata": {},
   "source": [
    "<br>\n",
    "## **1 SQLalchemy 사용법**\n",
    "SQLITE3 를 활용 https://www.haruair.com/blog/1682\n",
    "1. DB별 다른 문법들을 일원화 해서 작업 가능하도록 돕는다\n",
    "1. 한가지 DB를 익히고 아면 Connector만 변경시, 다른 DB에도 적용이 가능\n",
    "1. Django 내부에서도 이를 활용하는 듯 하다"
   ]
  },
  {
   "cell_type": "markdown",
   "metadata": {},
   "source": [
    "<br>\n",
    "### **01 engine : DB 접속**\n",
    "**Driver** &nbsp; :// &nbsp;  **filename** &nbsp;&nbsp; ex) sqlite:///:memory:"
   ]
  },
  {
   "cell_type": "code",
   "execution_count": 8,
   "metadata": {},
   "outputs": [
    {
     "data": {
      "text/plain": [
       "'1.2.6'"
      ]
     },
     "execution_count": 8,
     "metadata": {},
     "output_type": "execute_result"
    }
   ],
   "source": [
    "# Python 에서 DB를 쉽게 연결하도록 중계\n",
    "import sqlalchemy    \n",
    "sqlalchemy.__version__"
   ]
  },
  {
   "cell_type": "code",
   "execution_count": 16,
   "metadata": {},
   "outputs": [
    {
     "name": "stdout",
     "output_type": "stream",
     "text": [
      "2018-06-21 11:44:23,214 INFO sqlalchemy.engine.base.Engine SELECT CAST('test plain returns' AS VARCHAR(60)) AS anon_1\n",
      "2018-06-21 11:44:23,215 INFO sqlalchemy.engine.base.Engine ()\n",
      "2018-06-21 11:44:23,216 INFO sqlalchemy.engine.base.Engine SELECT CAST('test unicode returns' AS VARCHAR(60)) AS anon_1\n",
      "2018-06-21 11:44:23,216 INFO sqlalchemy.engine.base.Engine ()\n",
      "2018-06-21 11:44:23,217 INFO sqlalchemy.engine.base.Engine select 1\n",
      "2018-06-21 11:44:23,218 INFO sqlalchemy.engine.base.Engine ()\n",
      "2018-06-21 11:44:23,220 INFO sqlalchemy.engine.base.Engine SELECT name FROM sqlite_master WHERE type='table' ORDER BY name\n",
      "2018-06-21 11:44:23,220 INFO sqlalchemy.engine.base.Engine ()\n"
     ]
    },
    {
     "data": {
      "text/plain": [
       "[]"
      ]
     },
     "execution_count": 16,
     "metadata": {},
     "output_type": "execute_result"
    }
   ],
   "source": [
    "# SQLITE3 에 접속하기\n",
    "# echo는 로그를 위한 플래그로 순수 SQL 코드를 보여준다.\n",
    "from sqlalchemy import create_engine\n",
    "engine = create_engine('sqlite:///:memory:', echo=True)\n",
    "\n",
    "# SQLITE3 엔진을 실행 (실행시 최초 접속)\n",
    "engine.execute(\"select 1\").scalar()\n",
    "# 현재는 생성된 테이블이 없다\n",
    "engine.table_names() "
   ]
  },
  {
   "cell_type": "code",
   "execution_count": 15,
   "metadata": {},
   "outputs": [
    {
     "name": "stdout",
     "output_type": "stream",
     "text": [
      "2018-06-21 11:44:04,255 INFO sqlalchemy.engine.base.Engine SELECT name FROM sqlite_master WHERE type='table' ORDER BY name\n",
      "2018-06-21 11:44:04,257 INFO sqlalchemy.engine.base.Engine ()\n"
     ]
    },
    {
     "data": {
      "text/plain": [
       "[]"
      ]
     },
     "execution_count": 15,
     "metadata": {},
     "output_type": "execute_result"
    }
   ],
   "source": []
  },
  {
   "cell_type": "markdown",
   "metadata": {},
   "source": [
    "<br>\n",
    "### **02 Connection : 매핑선언**\n",
    "SQLITE3 활용 https://www.haruair.com/blog/1682"
   ]
  },
  {
   "cell_type": "code",
   "execution_count": 13,
   "metadata": {},
   "outputs": [],
   "source": [
    "from sqlalchemy.ext.declarative import declarative_base\n",
    "Base = declarative_base()\n",
    "\n",
    "from sqlalchemy import Column, Integer, String\n",
    "\n",
    "class User(Base):\n",
    "    __tablename__ = 'users'\n",
    "\n",
    "    id       = Column(Integer, primary_key=True)\n",
    "    name     = Column(String)\n",
    "    fullname = Column(String)\n",
    "    password = Column(String)\n",
    "\n",
    "    def __init__(self, name, fullname, password):\n",
    "        self.name     = name\n",
    "        self.fullname = fullname\n",
    "        self.password = password\n",
    "\n",
    "    def __repr__(self):\n",
    "        return \"<User('%s', '%s', '%s')>\" % (self.name, self.fullname, self.password)"
   ]
  },
  {
   "cell_type": "code",
   "execution_count": null,
   "metadata": {},
   "outputs": [],
   "source": []
  }
 ],
 "metadata": {
  "kernelspec": {
   "display_name": "Python 3",
   "language": "python",
   "name": "python3"
  },
  "language_info": {
   "codemirror_mode": {
    "name": "ipython",
    "version": 3
   },
   "file_extension": ".py",
   "mimetype": "text/x-python",
   "name": "python",
   "nbconvert_exporter": "python",
   "pygments_lexer": "ipython3",
   "version": "3.6.3"
  }
 },
 "nbformat": 4,
 "nbformat_minor": 2
}
