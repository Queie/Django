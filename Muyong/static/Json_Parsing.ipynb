{
 "cells": [
  {
   "cell_type": "markdown",
   "metadata": {},
   "source": [
    "# <strong>Food Menu Recommend System\n",
    "오늘의 메뉴 추천 시스템\n",
    "\n",
    "## <STRONG>1 농산물 유통정보 가격 가져오기\n",
    "https://www.kamis.or.kr/customer/reference/openapi_list.do?action=detail&boardno=6"
   ]
  },
  {
   "cell_type": "code",
   "execution_count": 1,
   "metadata": {},
   "outputs": [
    {
     "data": {
      "text/html": [
       "<div>\n",
       "<style scoped>\n",
       "    .dataframe tbody tr th:only-of-type {\n",
       "        vertical-align: middle;\n",
       "    }\n",
       "\n",
       "    .dataframe tbody tr th {\n",
       "        vertical-align: top;\n",
       "    }\n",
       "\n",
       "    .dataframe thead th {\n",
       "        text-align: right;\n",
       "    }\n",
       "</style>\n",
       "<table border=\"1\" class=\"dataframe\">\n",
       "  <thead>\n",
       "    <tr style=\"text-align: right;\">\n",
       "      <th></th>\n",
       "      <th>Group</th>\n",
       "      <th>Item</th>\n",
       "      <th>Sort</th>\n",
       "      <th>Cate</th>\n",
       "      <th>Code</th>\n",
       "      <th>Kind</th>\n",
       "      <th>단위</th>\n",
       "      <th>Rank</th>\n",
       "      <th>친환경 등급</th>\n",
       "    </tr>\n",
       "  </thead>\n",
       "  <tbody>\n",
       "    <tr>\n",
       "      <th>0</th>\n",
       "      <td>식량작물</td>\n",
       "      <td>쌀</td>\n",
       "      <td>일반계</td>\n",
       "      <td>100</td>\n",
       "      <td>111</td>\n",
       "      <td>01</td>\n",
       "      <td>kg</td>\n",
       "      <td>[04, 05]</td>\n",
       "      <td>07,08,09</td>\n",
       "    </tr>\n",
       "    <tr>\n",
       "      <th>25</th>\n",
       "      <td>채소류</td>\n",
       "      <td>수박</td>\n",
       "      <td>수박</td>\n",
       "      <td>200</td>\n",
       "      <td>221</td>\n",
       "      <td>00</td>\n",
       "      <td>개</td>\n",
       "      <td>[04, 05]</td>\n",
       "      <td>NaN</td>\n",
       "    </tr>\n",
       "    <tr>\n",
       "      <th>50</th>\n",
       "      <td>채소류</td>\n",
       "      <td>풋고추</td>\n",
       "      <td>풋고추</td>\n",
       "      <td>200</td>\n",
       "      <td>242</td>\n",
       "      <td>00</td>\n",
       "      <td>kg</td>\n",
       "      <td>[04, 05]</td>\n",
       "      <td>07,08,09</td>\n",
       "    </tr>\n",
       "    <tr>\n",
       "      <th>75</th>\n",
       "      <td>채소류</td>\n",
       "      <td>피망</td>\n",
       "      <td>청</td>\n",
       "      <td>200</td>\n",
       "      <td>255</td>\n",
       "      <td>00</td>\n",
       "      <td>kg</td>\n",
       "      <td>[04, 05]</td>\n",
       "      <td>07,08,09</td>\n",
       "    </tr>\n",
       "    <tr>\n",
       "      <th>100</th>\n",
       "      <td>과일류</td>\n",
       "      <td>복숭아</td>\n",
       "      <td>창방조생</td>\n",
       "      <td>400</td>\n",
       "      <td>413</td>\n",
       "      <td>04</td>\n",
       "      <td>kg</td>\n",
       "      <td>[04, 05]</td>\n",
       "      <td>NaN</td>\n",
       "    </tr>\n",
       "    <tr>\n",
       "      <th>125</th>\n",
       "      <td>축산물</td>\n",
       "      <td>쇠고기</td>\n",
       "      <td>한우불고기</td>\n",
       "      <td>500</td>\n",
       "      <td>512</td>\n",
       "      <td>13</td>\n",
       "      <td>kg</td>\n",
       "      <td>[01, 03]</td>\n",
       "      <td>NaN</td>\n",
       "    </tr>\n",
       "    <tr>\n",
       "      <th>150</th>\n",
       "      <td>수산물</td>\n",
       "      <td>김</td>\n",
       "      <td>김</td>\n",
       "      <td>600</td>\n",
       "      <td>641</td>\n",
       "      <td>00</td>\n",
       "      <td>속</td>\n",
       "      <td>05</td>\n",
       "      <td>NaN</td>\n",
       "    </tr>\n",
       "  </tbody>\n",
       "</table>\n",
       "</div>"
      ],
      "text/plain": [
       "    Group Item   Sort Cate Code Kind  단위      Rank    친환경 등급\n",
       "0    식량작물    쌀    일반계  100  111   01  kg  [04, 05]  07,08,09\n",
       "25    채소류   수박     수박  200  221   00   개  [04, 05]       NaN\n",
       "50    채소류  풋고추    풋고추  200  242   00  kg  [04, 05]  07,08,09\n",
       "75    채소류   피망      청  200  255   00  kg  [04, 05]  07,08,09\n",
       "100   과일류  복숭아   창방조생  400  413   04  kg  [04, 05]       NaN\n",
       "125   축산물  쇠고기  한우불고기  500  512   13  kg  [01, 03]       NaN\n",
       "150   수산물    김      김  600  641   00   속        05       NaN"
      ]
     },
     "execution_count": 1,
     "metadata": {},
     "output_type": "execute_result"
    }
   ],
   "source": [
    "# 1. 농산물 Code 자료 추출\n",
    "import pandas as pd\n",
    "codes = pd.read_csv('./code.csv', header='infer')\n",
    "codes = codes.iloc[:,1:]\n",
    "codes = codes.iloc[:,[1,3,5,0,2,4,8,-2,-1]]   # 필요한 컬럼만 추출 및 이름변환\n",
    "codes = codes.rename(columns={codes.columns[0]:'Group',codes.columns[1]:'Item', codes.columns[2]:'Sort', \n",
    "                              codes.columns[3]:'Cate', codes.columns[4]:'Code', codes.columns[5]:'Kind', \n",
    "                              codes.columns[6]:'단위',  codes.columns[7]:'Rank'})\n",
    "codes.Cate = codes.Cate.apply(lambda x : str(x))\n",
    "codes.Code = codes.Code.apply(lambda x : str(x))                                    # URL 결합을 위해 String으로 변환\n",
    "codes.Rank = codes.Rank.apply(lambda x : x.split(',') if len(str(x)) > 3 else x)\n",
    "codes.Kind = codes.Kind.apply(lambda x : str(x)  if len(str(x)) == 2 else x)        # kind 2글자는 문자로 변경 \n",
    "codes.Kind = codes.Kind.apply(lambda x : \"0\"+str(x)  if len(str(x)) == 1 else x)    # kind 종류 글자수 맞추기\n",
    "codes.Rank = codes.Rank.fillna('04')                                                     # Rank 코드에 내용이 없는 경우 04로 보충한다\n",
    "codes[::25]"
   ]
  },
  {
   "cell_type": "code",
   "execution_count": 32,
   "metadata": {},
   "outputs": [],
   "source": [
    "# Json API를 활용하여 데이터 추출하기\n",
    "# display : url 을 출력\n",
    "# pd_code : 도/소매 구분\n",
    "def atmarket_price(s_date, e_date, table, row, display=False, pd_code=\"01\"):\n",
    "    import pandas as pd\n",
    "    import json, requests, time ; t0 = time.time()\n",
    "    url = (\"http://www.kamis.or.kr/service/price/xml.do?action=periodProductList\" +\n",
    "            \"&p_productclscode=\" + pd_code +        # 구분 ( 01:소매, 02:도매, default:01 )\n",
    "            \"&p_startday=\" + s_date +\n",
    "            \"&p_endday=\" + e_date +\n",
    "            \"&p_itemcategorycode=\" + table.iloc[row,:].Cate +  # 부류코드\n",
    "            \"&p_itemcode=\" + table.iloc[row,:].Code +          # 품목코드\n",
    "            \"&p_kindcode=\" + table.iloc[row,:].Kind +          # 품종코드\n",
    "            #\"&p_productrankcode=\" + '05' +        # 등급코드 ()\n",
    "            \"&p_countrycode=\" + \"1101\" +           # 도매 (1101:서울), 소매 (1101:서울, 3111:수원, 3145:용인), default : 전체지역       \n",
    "            \"&p_convert_kg_yn=\" + \"Y\" +            # kg단위 : Y(1kg) , N(쌀 20kg , default)\n",
    "            \"&p_cert_key=111&p_cert_id=222&p_returntype=json\")   # 공개 Key ID 값을 사용\n",
    "            #\"&p_cert_key=ae7cd286-916f-404f-9d9d-6fd73276107a&p_cert_id=saltman&p_returntype=json\")\n",
    "    response = requests.get(url)\n",
    "    print(response.status_code, \"\\nsec :\", int(time.time()-t0))\n",
    "    response = json.loads(response.text)\n",
    "    try:\n",
    "        df = pd.DataFrame(response['data']['item'])\n",
    "        df = df[df.countyname == \"평균\"].drop(columns=['marketname','countyname'])\n",
    "        if display == True:\n",
    "            print(url)\n",
    "        print(table.iloc[row,:].Group, table.iloc[row,:].Item, table.iloc[row,:].Sort)\n",
    "        df['Item'] = table.iloc[row,:].Item\n",
    "        df['Sort'] = table.iloc[row,:].Sort\n",
    "        df.price = df.price.apply(lambda x: pd.np.int(x.replace(\",\", \"\")))  # apply : index 마다 함수를 적용\n",
    "    except: \n",
    "        # print(table.iloc[row,:].Item , '데이터를 발견할 수 없습니다.')\n",
    "        df = None\n",
    "    return df"
   ]
  },
  {
   "cell_type": "code",
   "execution_count": 42,
   "metadata": {
    "scrolled": true
   },
   "outputs": [
    {
     "name": "stdout",
     "output_type": "stream",
     "text": [
      "200 \n",
      "sec : 3\n",
      "http://www.kamis.or.kr/service/price/xml.do?action=periodProductList&p_productclscode=01&p_startday=2017-12-1&p_endday=2018-2-15&p_itemcategorycode=500&p_itemcode=516&p_kindcode=00&p_countrycode=1101&p_convert_kg_yn=Y&p_cert_key=111&p_cert_id=222&p_returntype=json\n",
      "축산물 계란 특란\n"
     ]
    },
    {
     "data": {
      "text/plain": [
       "<matplotlib.axes._subplots.AxesSubplot at 0x7f8723315400>"
      ]
     },
     "execution_count": 42,
     "metadata": {},
     "output_type": "execute_result"
    },
    {
     "data": {
      "image/png": "[encoded data removed]",
      "text/plain": [
       "<matplotlib.figure.Figure at 0x7f8723707898>"
      ]
     },
     "metadata": {},
     "output_type": "display_data"
    }
   ],
   "source": [
    "%matplotlib inline\n",
    "df = atmarket_price('2017-12-1','2018-2-15', codes, 135, True)\n",
    "df.price.plot()"
   ]
  },
  {
   "cell_type": "markdown",
   "metadata": {},
   "source": [
    "### <br>\n",
    "## <STRONG>2 카테고리별 데이터 수집하기\n",
    "가능한 분류 확인하기"
   ]
  },
  {
   "cell_type": "code",
   "execution_count": 4,
   "metadata": {
    "scrolled": true
   },
   "outputs": [
    {
     "data": {
      "text/plain": [
       "{'과일류', '수산물', '식량작물', '채소류', '축산물', '특용작물'}"
      ]
     },
     "execution_count": 4,
     "metadata": {},
     "output_type": "execute_result"
    }
   ],
   "source": [
    "set(codes.Group)"
   ]
  },
  {
   "cell_type": "code",
   "execution_count": 7,
   "metadata": {},
   "outputs": [
    {
     "data": {
      "text/html": [
       "<div>\n",
       "<style scoped>\n",
       "    .dataframe tbody tr th:only-of-type {\n",
       "        vertical-align: middle;\n",
       "    }\n",
       "\n",
       "    .dataframe tbody tr th {\n",
       "        vertical-align: top;\n",
       "    }\n",
       "\n",
       "    .dataframe thead th {\n",
       "        text-align: right;\n",
       "    }\n",
       "</style>\n",
       "<table border=\"1\" class=\"dataframe\">\n",
       "  <thead>\n",
       "    <tr style=\"text-align: right;\">\n",
       "      <th></th>\n",
       "      <th>Group</th>\n",
       "      <th>Item</th>\n",
       "      <th>Sort</th>\n",
       "      <th>Cate</th>\n",
       "      <th>Code</th>\n",
       "      <th>Kind</th>\n",
       "      <th>단위</th>\n",
       "      <th>Rank</th>\n",
       "      <th>친환경 등급</th>\n",
       "    </tr>\n",
       "  </thead>\n",
       "  <tbody>\n",
       "    <tr>\n",
       "      <th>123</th>\n",
       "      <td>축산물</td>\n",
       "      <td>쇠고기</td>\n",
       "      <td>한우갈비</td>\n",
       "      <td>500</td>\n",
       "      <td>512</td>\n",
       "      <td>11</td>\n",
       "      <td>kg</td>\n",
       "      <td>[01, 03]</td>\n",
       "      <td>NaN</td>\n",
       "    </tr>\n",
       "    <tr>\n",
       "      <th>124</th>\n",
       "      <td>축산물</td>\n",
       "      <td>쇠고기</td>\n",
       "      <td>한우등심</td>\n",
       "      <td>500</td>\n",
       "      <td>512</td>\n",
       "      <td>12</td>\n",
       "      <td>kg</td>\n",
       "      <td>[01, 03]</td>\n",
       "      <td>NaN</td>\n",
       "    </tr>\n",
       "    <tr>\n",
       "      <th>125</th>\n",
       "      <td>축산물</td>\n",
       "      <td>쇠고기</td>\n",
       "      <td>한우불고기</td>\n",
       "      <td>500</td>\n",
       "      <td>512</td>\n",
       "      <td>13</td>\n",
       "      <td>kg</td>\n",
       "      <td>[01, 03]</td>\n",
       "      <td>NaN</td>\n",
       "    </tr>\n",
       "    <tr>\n",
       "      <th>126</th>\n",
       "      <td>축산물</td>\n",
       "      <td>쇠고기</td>\n",
       "      <td>미국산갈비</td>\n",
       "      <td>500</td>\n",
       "      <td>512</td>\n",
       "      <td>21</td>\n",
       "      <td>kg</td>\n",
       "      <td>[10, 11]</td>\n",
       "      <td>NaN</td>\n",
       "    </tr>\n",
       "    <tr>\n",
       "      <th>127</th>\n",
       "      <td>축산물</td>\n",
       "      <td>쇠고기</td>\n",
       "      <td>미국산갈비살</td>\n",
       "      <td>500</td>\n",
       "      <td>512</td>\n",
       "      <td>22</td>\n",
       "      <td>kg</td>\n",
       "      <td>[10, 11]</td>\n",
       "      <td>NaN</td>\n",
       "    </tr>\n",
       "    <tr>\n",
       "      <th>128</th>\n",
       "      <td>축산물</td>\n",
       "      <td>쇠고기</td>\n",
       "      <td>미국산불고기</td>\n",
       "      <td>500</td>\n",
       "      <td>512</td>\n",
       "      <td>23</td>\n",
       "      <td>kg</td>\n",
       "      <td>[10, 11]</td>\n",
       "      <td>NaN</td>\n",
       "    </tr>\n",
       "    <tr>\n",
       "      <th>129</th>\n",
       "      <td>축산물</td>\n",
       "      <td>쇠고기</td>\n",
       "      <td>호주산갈비</td>\n",
       "      <td>500</td>\n",
       "      <td>512</td>\n",
       "      <td>31</td>\n",
       "      <td>kg</td>\n",
       "      <td>[10, 11]</td>\n",
       "      <td>NaN</td>\n",
       "    </tr>\n",
       "    <tr>\n",
       "      <th>130</th>\n",
       "      <td>축산물</td>\n",
       "      <td>쇠고기</td>\n",
       "      <td>호주산등심</td>\n",
       "      <td>500</td>\n",
       "      <td>512</td>\n",
       "      <td>32</td>\n",
       "      <td>kg</td>\n",
       "      <td>[10, 11]</td>\n",
       "      <td>NaN</td>\n",
       "    </tr>\n",
       "    <tr>\n",
       "      <th>131</th>\n",
       "      <td>축산물</td>\n",
       "      <td>쇠고기</td>\n",
       "      <td>호주산불고기</td>\n",
       "      <td>500</td>\n",
       "      <td>512</td>\n",
       "      <td>33</td>\n",
       "      <td>kg</td>\n",
       "      <td>[10, 11]</td>\n",
       "      <td>NaN</td>\n",
       "    </tr>\n",
       "    <tr>\n",
       "      <th>132</th>\n",
       "      <td>축산물</td>\n",
       "      <td>돼지고기</td>\n",
       "      <td>삼겹살(냉장)</td>\n",
       "      <td>500</td>\n",
       "      <td>514</td>\n",
       "      <td>00</td>\n",
       "      <td>kg</td>\n",
       "      <td>05</td>\n",
       "      <td>NaN</td>\n",
       "    </tr>\n",
       "    <tr>\n",
       "      <th>133</th>\n",
       "      <td>축산물</td>\n",
       "      <td>돼지고기</td>\n",
       "      <td>삼겹살(수입냉동)</td>\n",
       "      <td>500</td>\n",
       "      <td>514</td>\n",
       "      <td>01</td>\n",
       "      <td>kg</td>\n",
       "      <td>05</td>\n",
       "      <td>NaN</td>\n",
       "    </tr>\n",
       "    <tr>\n",
       "      <th>134</th>\n",
       "      <td>축산물</td>\n",
       "      <td>닭고기</td>\n",
       "      <td>도계</td>\n",
       "      <td>500</td>\n",
       "      <td>515</td>\n",
       "      <td>02</td>\n",
       "      <td>kg</td>\n",
       "      <td>05</td>\n",
       "      <td>07,12</td>\n",
       "    </tr>\n",
       "    <tr>\n",
       "      <th>135</th>\n",
       "      <td>축산물</td>\n",
       "      <td>계란</td>\n",
       "      <td>특란</td>\n",
       "      <td>500</td>\n",
       "      <td>516</td>\n",
       "      <td>00</td>\n",
       "      <td>개</td>\n",
       "      <td>05</td>\n",
       "      <td>07,12</td>\n",
       "    </tr>\n",
       "    <tr>\n",
       "      <th>136</th>\n",
       "      <td>축산물</td>\n",
       "      <td>우유</td>\n",
       "      <td>우유</td>\n",
       "      <td>500</td>\n",
       "      <td>535</td>\n",
       "      <td>00</td>\n",
       "      <td>NaN</td>\n",
       "      <td>04</td>\n",
       "      <td>NaN</td>\n",
       "    </tr>\n",
       "  </tbody>\n",
       "</table>\n",
       "</div>"
      ],
      "text/plain": [
       "    Group  Item       Sort Cate Code Kind   단위      Rank 친환경 등급\n",
       "123   축산물   쇠고기       한우갈비  500  512   11   kg  [01, 03]    NaN\n",
       "124   축산물   쇠고기       한우등심  500  512   12   kg  [01, 03]    NaN\n",
       "125   축산물   쇠고기      한우불고기  500  512   13   kg  [01, 03]    NaN\n",
       "126   축산물   쇠고기      미국산갈비  500  512   21   kg  [10, 11]    NaN\n",
       "127   축산물   쇠고기     미국산갈비살  500  512   22   kg  [10, 11]    NaN\n",
       "128   축산물   쇠고기     미국산불고기  500  512   23   kg  [10, 11]    NaN\n",
       "129   축산물   쇠고기      호주산갈비  500  512   31   kg  [10, 11]    NaN\n",
       "130   축산물   쇠고기      호주산등심  500  512   32   kg  [10, 11]    NaN\n",
       "131   축산물   쇠고기     호주산불고기  500  512   33   kg  [10, 11]    NaN\n",
       "132   축산물  돼지고기    삼겹살(냉장)  500  514   00   kg        05    NaN\n",
       "133   축산물  돼지고기  삼겹살(수입냉동)  500  514   01   kg        05    NaN\n",
       "134   축산물   닭고기         도계  500  515   02   kg        05  07,12\n",
       "135   축산물    계란         특란  500  516   00    개        05  07,12\n",
       "136   축산물    우유         우유  500  535   00  NaN        04    NaN"
      ]
     },
     "execution_count": 7,
     "metadata": {},
     "output_type": "execute_result"
    }
   ],
   "source": [
    "codes[codes.Group==\"축산물\"]"
   ]
  },
  {
   "cell_type": "code",
   "execution_count": null,
   "metadata": {
    "scrolled": true
   },
   "outputs": [
    {
     "name": "stdout",
     "output_type": "stream",
     "text": [
      "http://www.kamis.or.kr/service/price/xml.do?action=periodProductList&p_productclscode=01&p_startday=2017-2-1&p_endday=2018-2-9&p_itemcategorycode=500&p_itemcode=514&p_kindcode=01&p_countrycode=1101&p_convert_kg_yn=Y&p_cert_key=ae7cd286-916f-404f-9d9d-6fd73276107a&p_cert_id=saltman&p_returntype=json\n",
      "축산물 돼지고기 삼겹살(수입냉동)\n",
      "http://www.kamis.or.kr/service/price/xml.do?action=periodProductList&p_productclscode=01&p_startday=2017-2-1&p_endday=2018-2-9&p_itemcategorycode=500&p_itemcode=514&p_kindcode=01&p_countrycode=1101&p_convert_kg_yn=Y&p_cert_key=ae7cd286-916f-404f-9d9d-6fd73276107a&p_cert_id=saltman&p_returntype=json\n",
      "축산물 돼지고기 삼겹살(수입냉동)\n",
      "http://www.kamis.or.kr/service/price/xml.do?action=periodProductList&p_productclscode=01&p_startday=2017-2-1&p_endday=2018-2-9&p_itemcategorycode=500&p_itemcode=514&p_kindcode=01&p_countrycode=1101&p_convert_kg_yn=Y&p_cert_key=ae7cd286-916f-404f-9d9d-6fd73276107a&p_cert_id=saltman&p_returntype=json\n",
      "축산물 돼지고기 삼겹살(수입냉동)\n"
     ]
    }
   ],
   "source": [
    "%%timeit \n",
    "%matplotlib inline\n",
    "df = atmarket_price('2017-2-1','2018-2-9', codes, 133, True)\n",
    "df.price.plot()"
   ]
  },
  {
   "cell_type": "code",
   "execution_count": 78,
   "metadata": {},
   "outputs": [],
   "source": [
    "def cate_food_price(codes, item):\n",
    "    import pandas as pd\n",
    "    result = []     \n",
    "    code_ext = codes[codes.Group == \"축산물\"].index.tolist()\n",
    "    print(code_ext)\n",
    "    for i, idx in enumerate(code_ext):\n",
    "        print([codes.Item[idx] , codes.Sort[idx] ]) #, data.price[0]])\n",
    "#         data = atmarket_price('2017-12-1','2018-2-9', codes, idx , False)\n",
    "#         while (data != \"\") :  #  data에 유효한 값이 출력되어야 넘어간다\n",
    "#             pass\n",
    "#         result.append([codes.Item[idx] , codes.Sort[idx], data.price[0]])\n",
    "#         print([codes.Item[idx] , codes.Sort[idx], data.price[0]])\n",
    "#     df = pd.DataFrame(result)\n",
    "#     df.columns = [\"Item\", \"Sort\",\"Price\"]\n",
    "#     print(df_csv.shape)\n",
    "#     len(list(set(df_csv.Price)))\n",
    "    return df"
   ]
  },
  {
   "cell_type": "code",
   "execution_count": null,
   "metadata": {
    "scrolled": true
   },
   "outputs": [],
   "source": [
    "result = []\n",
    "for i in range(len(codes)):\n",
    "    try:\n",
    "        data = atmarket_price('2017-12-1','2018-2-9', codes, i)\n",
    "        while (data != \"\") :  #  data에 유효한 값이 출력되어야 넘어간다\n",
    "            pass\n",
    "        result.append([codes.Item[i] , codes.Sort[i], data.price[0]])\n",
    "    except: pass\n",
    "df_csv = pd.DataFrame(result)\n",
    "df_csv.shape"
   ]
  },
  {
   "cell_type": "code",
   "execution_count": null,
   "metadata": {},
   "outputs": [],
   "source": [
    "atmarket_price()"
   ]
  },
  {
   "cell_type": "code",
   "execution_count": 76,
   "metadata": {},
   "outputs": [
    {
     "name": "stdout",
     "output_type": "stream",
     "text": [
      "200 \n",
      "sec : 1\n",
      "축산물 쇠고기 한우갈비\n"
     ]
    },
    {
     "data": {
      "text/plain": [
       "52275"
      ]
     },
     "execution_count": 76,
     "metadata": {},
     "output_type": "execute_result"
    }
   ],
   "source": [
    "data = atmarket_price('2017-12-1','2018-2-9', codes, 123)\n",
    "data.price[0]"
   ]
  },
  {
   "cell_type": "code",
   "execution_count": 69,
   "metadata": {},
   "outputs": [
    {
     "data": {
      "text/plain": [
       "[123, 124, 125, 126, 127, 128, 129, 130, 131, 132, 133, 134, 135, 136]"
      ]
     },
     "execution_count": 69,
     "metadata": {},
     "output_type": "execute_result"
    }
   ],
   "source": [
    "codes[codes.Group == \"축산물\"].index.tolist()"
   ]
  },
  {
   "cell_type": "code",
   "execution_count": 70,
   "metadata": {
    "scrolled": true
   },
   "outputs": [
    {
     "name": "stdout",
     "output_type": "stream",
     "text": [
      "[123, 124, 125, 126, 127, 128, 129, 130, 131, 132, 133, 134, 135, 136]\n",
      "200 \n",
      "sec : 1\n",
      "축산물 쇠고기 한우갈비\n"
     ]
    },
    {
     "ename": "ValueError",
     "evalue": "The truth value of a DataFrame is ambiguous. Use a.empty, a.bool(), a.item(), a.any() or a.all().",
     "output_type": "error",
     "traceback": [
      "\u001b[0;31m---------------------------------------------------------------------------\u001b[0m",
      "\u001b[0;31mValueError\u001b[0m                                Traceback (most recent call last)",
      "\u001b[0;32m<ipython-input-70-8a4eab532f91>\u001b[0m in \u001b[0;36m<module>\u001b[0;34m()\u001b[0m\n\u001b[0;32m----> 1\u001b[0;31m \u001b[0mcate_food_price\u001b[0m\u001b[0;34m(\u001b[0m\u001b[0mcodes\u001b[0m\u001b[0;34m,\u001b[0m \u001b[0;34m\"축산물\"\u001b[0m\u001b[0;34m)\u001b[0m\u001b[0;34m\u001b[0m\u001b[0m\n\u001b[0m",
      "\u001b[0;32m<ipython-input-68-20cd31c8eef6>\u001b[0m in \u001b[0;36mcate_food_price\u001b[0;34m(codes, item)\u001b[0m\n\u001b[1;32m      6\u001b[0m     \u001b[0;32mfor\u001b[0m \u001b[0mi\u001b[0m\u001b[0;34m,\u001b[0m \u001b[0midx\u001b[0m \u001b[0;32min\u001b[0m \u001b[0menumerate\u001b[0m\u001b[0;34m(\u001b[0m\u001b[0mcode_ext\u001b[0m\u001b[0;34m)\u001b[0m\u001b[0;34m:\u001b[0m\u001b[0;34m\u001b[0m\u001b[0m\n\u001b[1;32m      7\u001b[0m         \u001b[0mdata\u001b[0m \u001b[0;34m=\u001b[0m \u001b[0matmarket_price\u001b[0m\u001b[0;34m(\u001b[0m\u001b[0;34m'2017-12-1'\u001b[0m\u001b[0;34m,\u001b[0m\u001b[0;34m'2018-2-9'\u001b[0m\u001b[0;34m,\u001b[0m \u001b[0mcodes\u001b[0m\u001b[0;34m,\u001b[0m \u001b[0midx\u001b[0m \u001b[0;34m,\u001b[0m \u001b[0;32mFalse\u001b[0m\u001b[0;34m)\u001b[0m\u001b[0;34m\u001b[0m\u001b[0m\n\u001b[0;32m----> 8\u001b[0;31m         \u001b[0;32mwhile\u001b[0m \u001b[0;34m(\u001b[0m\u001b[0mdata\u001b[0m \u001b[0;34m!=\u001b[0m \u001b[0;34m\"\"\u001b[0m\u001b[0;34m)\u001b[0m \u001b[0;34m:\u001b[0m  \u001b[0;31m#  data에 유효한 값이 출력되어야 넘어간다\u001b[0m\u001b[0;34m\u001b[0m\u001b[0m\n\u001b[0m\u001b[1;32m      9\u001b[0m             \u001b[0;32mpass\u001b[0m\u001b[0;34m\u001b[0m\u001b[0m\n\u001b[1;32m     10\u001b[0m         \u001b[0mresult\u001b[0m\u001b[0;34m.\u001b[0m\u001b[0mappend\u001b[0m\u001b[0;34m(\u001b[0m\u001b[0;34m[\u001b[0m\u001b[0mcodes\u001b[0m\u001b[0;34m.\u001b[0m\u001b[0mItem\u001b[0m\u001b[0;34m[\u001b[0m\u001b[0midx\u001b[0m\u001b[0;34m]\u001b[0m \u001b[0;34m,\u001b[0m \u001b[0mcodes\u001b[0m\u001b[0;34m.\u001b[0m\u001b[0mSort\u001b[0m\u001b[0;34m[\u001b[0m\u001b[0midx\u001b[0m\u001b[0;34m]\u001b[0m\u001b[0;34m,\u001b[0m \u001b[0mdata\u001b[0m\u001b[0;34m.\u001b[0m\u001b[0mprice\u001b[0m\u001b[0;34m[\u001b[0m\u001b[0;36m0\u001b[0m\u001b[0;34m]\u001b[0m\u001b[0;34m]\u001b[0m\u001b[0;34m)\u001b[0m\u001b[0;34m\u001b[0m\u001b[0m\n",
      "\u001b[0;32m~/Python/django/lib/python3.6/site-packages/pandas/core/generic.py\u001b[0m in \u001b[0;36m__nonzero__\u001b[0;34m(self)\u001b[0m\n\u001b[1;32m   1119\u001b[0m         raise ValueError(\"The truth value of a {0} is ambiguous. \"\n\u001b[1;32m   1120\u001b[0m                          \u001b[0;34m\"Use a.empty, a.bool(), a.item(), a.any() or a.all().\"\u001b[0m\u001b[0;34m\u001b[0m\u001b[0m\n\u001b[0;32m-> 1121\u001b[0;31m                          .format(self.__class__.__name__))\n\u001b[0m\u001b[1;32m   1122\u001b[0m \u001b[0;34m\u001b[0m\u001b[0m\n\u001b[1;32m   1123\u001b[0m     \u001b[0m__bool__\u001b[0m \u001b[0;34m=\u001b[0m \u001b[0m__nonzero__\u001b[0m\u001b[0;34m\u001b[0m\u001b[0m\n",
      "\u001b[0;31mValueError\u001b[0m: The truth value of a DataFrame is ambiguous. Use a.empty, a.bool(), a.item(), a.any() or a.all()."
     ]
    }
   ],
   "source": [
    "cate_food_price(codes, \"축산물\")"
   ]
  },
  {
   "cell_type": "code",
   "execution_count": null,
   "metadata": {},
   "outputs": [],
   "source": []
  },
  {
   "cell_type": "code",
   "execution_count": null,
   "metadata": {},
   "outputs": [],
   "source": []
  },
  {
   "cell_type": "code",
   "execution_count": null,
   "metadata": {},
   "outputs": [],
   "source": []
  },
  {
   "cell_type": "code",
   "execution_count": null,
   "metadata": {},
   "outputs": [],
   "source": []
  },
  {
   "cell_type": "code",
   "execution_count": null,
   "metadata": {},
   "outputs": [],
   "source": []
  },
  {
   "cell_type": "code",
   "execution_count": null,
   "metadata": {},
   "outputs": [],
   "source": [
    "len(list(set(codes_veg.Item)))"
   ]
  },
  {
   "cell_type": "code",
   "execution_count": null,
   "metadata": {},
   "outputs": [],
   "source": [
    "codes.head(3)"
   ]
  },
  {
   "cell_type": "code",
   "execution_count": null,
   "metadata": {},
   "outputs": [],
   "source": []
  },
  {
   "cell_type": "code",
   "execution_count": null,
   "metadata": {},
   "outputs": [],
   "source": []
  },
  {
   "cell_type": "code",
   "execution_count": 43,
   "metadata": {},
   "outputs": [],
   "source": []
  },
  {
   "cell_type": "code",
   "execution_count": null,
   "metadata": {},
   "outputs": [],
   "source": []
  },
  {
   "cell_type": "code",
   "execution_count": null,
   "metadata": {},
   "outputs": [],
   "source": [
    "df_csv = pd.DataFrame(result)\n",
    "df_csv.to_csv('./result.csv')"
   ]
  },
  {
   "cell_type": "code",
   "execution_count": null,
   "metadata": {},
   "outputs": [],
   "source": [
    "!cat result.csv"
   ]
  },
  {
   "cell_type": "code",
   "execution_count": null,
   "metadata": {},
   "outputs": [],
   "source": []
  },
  {
   "cell_type": "code",
   "execution_count": null,
   "metadata": {},
   "outputs": [],
   "source": []
  },
  {
   "cell_type": "code",
   "execution_count": null,
   "metadata": {},
   "outputs": [],
   "source": [
    "import requests\n",
    "from lxml.html import tostring, fromstring, HTMLParser\n",
    "url_html= \"https://www.kamis.or.kr/customer/price/retail/item.do?action=priceinfo\"+\\\n",
    "          \"&regday=\"+ \"2018-02-08\" +\\\n",
    "          \"&itemcategorycode=\" +\"600\"+\\\n",
    "          \"&itemcode=\" + \"619 \" + \"&kindcode=&productrankcode=&convert_kg_yn=N\"\n",
    "\n",
    "xpath_table = '/html/body/div[1]/div[2]/div[2]/section[4]/table'\n",
    "response = requests.get(url_html)\n",
    "html_code = fromstring(response.text)\n",
    "txt_p = html_code.xpath(xpath_table)\n",
    "txt_p"
   ]
  },
  {
   "cell_type": "code",
   "execution_count": null,
   "metadata": {},
   "outputs": [],
   "source": [
    "pd.read_html(url_html)"
   ]
  },
  {
   "cell_type": "code",
   "execution_count": null,
   "metadata": {},
   "outputs": [],
   "source": [
    "df = pd.read_html(tostring(txt_p[0],method='html'))[0]\n",
    "df"
   ]
  },
  {
   "cell_type": "code",
   "execution_count": null,
   "metadata": {},
   "outputs": [],
   "source": [
    "import pandas as pd\n",
    "import requests\n",
    "from lxml.html import fromstring, tostring\n",
    "response = requests.get(url_test)"
   ]
  },
  {
   "cell_type": "code",
   "execution_count": null,
   "metadata": {},
   "outputs": [],
   "source": []
  },
  {
   "cell_type": "code",
   "execution_count": null,
   "metadata": {},
   "outputs": [],
   "source": []
  },
  {
   "cell_type": "code",
   "execution_count": null,
   "metadata": {},
   "outputs": [],
   "source": []
  },
  {
   "cell_type": "code",
   "execution_count": null,
   "metadata": {},
   "outputs": [],
   "source": []
  },
  {
   "cell_type": "code",
   "execution_count": null,
   "metadata": {},
   "outputs": [],
   "source": []
  },
  {
   "cell_type": "code",
   "execution_count": null,
   "metadata": {},
   "outputs": [],
   "source": [
    "url_html= \"https://www.kamis.or.kr/customer/price/retail/item.do?action=priceinfo\"+\\\n",
    "          \"&regday=\"+ \"2018-02-08\" +\\\n",
    "          \"&itemcategorycode=\" +\"600\"+\\\n",
    "          \"&itemcode=\" + \"619 \" + \"&kindcode=&productrankcode=&convert_kg_yn=N\"\n",
    "xpath = \"//*[@id='itemTable_2']//table\"\n",
    "response = requests.get(url_html)\n",
    "response.text"
   ]
  },
  {
   "cell_type": "code",
   "execution_count": null,
   "metadata": {},
   "outputs": [],
   "source": [
    "import requests\n",
    "from lxml.html import tostring, fromstring\n",
    "# from lxml import etree\n",
    "response = requests.get(url_html)\n",
    "tree = fromstring(response.content)\n",
    "tables = tree.xpath(xpath)\n",
    "tables"
   ]
  }
 ],
 "metadata": {
  "kernelspec": {
   "display_name": "Python 3",
   "language": "python",
   "name": "python3"
  },
  "language_info": {
   "codemirror_mode": {
    "name": "ipython",
    "version": 3
   },
   "file_extension": ".py",
   "mimetype": "text/x-python",
   "name": "python",
   "nbconvert_exporter": "python",
   "pygments_lexer": "ipython3",
   "version": "3.6.3"
  }
 },
 "nbformat": 4,
 "nbformat_minor": 2
}
