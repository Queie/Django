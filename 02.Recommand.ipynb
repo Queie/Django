{
 "cells": [
  {
   "cell_type": "markdown",
   "metadata": {},
   "source": [
    "# **추천시스템**\n",
    "## **sklearn의 surprise 모듈을 사용**\n",
    "웹을 위한 머신러닝을 surprise로 구현\n",
    "\n",
    "<br>\n",
    "## **1 추천시스템의 이해**\n",
    "Item이 많고, Query를 잘 모를때 유용하다\n",
    "1. Popularity, High Rated Based (가장단순) : 높은 평점의 item을 추천, 결과값이 동일한 단점이 있다\n",
    "1. Collaborative Filtering (중간) : user & item의 rating을 이용하여, 사용자/item 유사도를 찾는다\n",
    "    1. 즉, 해당 user가 해당 item을 얼마나 좋아할 것인지 수치적으로 예측하는 것으로 User-based CF, Item-based CF라고도 함\n",
    "    1. Similarity 계산은 Euclidean distance, cosine, pearson 등 여러 수학적 유사도를 측정하여, 평점을 weighted sum으로 계산하여 평점을 예측\n",
    "    1. Personalization (개인화)는 각 개인의 성향에 맞는 item을 추천"
   ]
  },
  {
   "cell_type": "markdown",
   "metadata": {},
   "source": [
    "<br>\n",
    "## **2 간단한 추천시스템의 구현**\n",
    "### **1) Popularity, High Rated Based**"
   ]
  },
  {
   "cell_type": "code",
   "execution_count": 57,
   "metadata": {},
   "outputs": [],
   "source": [
    "ratings={ 'Dave':{'달콤한인생':5,'범죄도시':3,'샤인':3},\n",
    "          'David':{'달콤한인생':5,'범죄도시':1,'샤인':4},\n",
    "          'Alex':{'달콤한인생':0,'범죄도시':4,'샤인':5},\n",
    "          'Andy':{'달콤한인생':2,'범죄도시':1,'샤인':5} }"
   ]
  },
  {
   "cell_type": "code",
   "execution_count": 58,
   "metadata": {},
   "outputs": [
    {
     "name": "stdout",
     "output_type": "stream",
     "text": [
      "[('샤인', 4.25), ('달콤한인생', 3.0)]\n"
     ]
    }
   ],
   "source": [
    "# 가장 평점이 높은 순서로 추천한다\n",
    "movie_dict = dict()\n",
    "for rating in ratings:\n",
    "    for movie in ratings[rating].keys():\n",
    "        if movie not in movie_dict:\n",
    "            movie_dict[movie] = ratings[rating][movie]\n",
    "        else:\n",
    "            movie_dict[movie] = (movie_dict[movie] + ratings[rating][movie]) \n",
    "\n",
    "for movie in ratings[rating].keys():\n",
    "    movie_dict[movie] = movie_dict[movie] / 4\n",
    "\n",
    "import operator\n",
    "sorted_x = sorted(movie_dict.items(), key=operator.itemgetter(1), reverse=True)\n",
    "\n",
    "print(sorted_x[:2])"
   ]
  },
  {
   "cell_type": "markdown",
   "metadata": {},
   "source": [
    "<br>\n",
    "### **2) Collaborative Filtering**\n",
    "1. 사용자/아이템 - 항목 선호도(평점) 행렬을 사용하여 사용자/아이템들 간의 유사도를 계산한다.\n",
    "1. 사용자/아이템 간의 모든 항목에 대해 예측 값을 계산하고, 상위 N개의 추천 목록을 생성한다."
   ]
  },
  {
   "cell_type": "code",
   "execution_count": 59,
   "metadata": {},
   "outputs": [
    {
     "name": "stdout",
     "output_type": "stream",
     "text": [
      "Dave  :  2.23606797749979\n",
      "David  :  3.1622776601683795\n",
      "Andy  :  3.0\n"
     ]
    }
   ],
   "source": [
    "# 'Alex'와 다른 사용가간의 '범죄도시'와 '샤인'유사도 측정 \n",
    "# 피타고라스 정리로 유사도 측정\n",
    "import math\n",
    "def sim(i, j):\n",
    "    return math.sqrt(pow(i,2)+pow(j,2))\n",
    "\n",
    "for i in ratings:\n",
    "    if i != 'Alex':\n",
    "        num1 = ratings.get('Alex').get('범죄도시') - ratings.get(i).get('범죄도시')\n",
    "        num2 = ratings.get('Alex').get('샤인') - ratings.get(i).get('샤인')\n",
    "        print(i,\" : \", sim(num1,num2))"
   ]
  },
  {
   "cell_type": "code",
   "execution_count": 60,
   "metadata": {},
   "outputs": [
    {
     "name": "stdout",
     "output_type": "stream",
     "text": [
      "Dave  :  0.3090169943749474\n",
      "David  :  0.2402530733520421\n",
      "Andy  :  0.25\n"
     ]
    }
   ],
   "source": [
    "# 'Alex'의 유사도 측정 결과값을 0~1로 정규화\n",
    "for i in ratings:\n",
    "    if i != 'Alex':\n",
    "        num1 = ratings.get('Alex').get('범죄도시') - ratings.get(i).get('범죄도시')\n",
    "        num2 = ratings.get('Alex').get('샤인') - ratings.get(i).get('샤인')\n",
    "        print(i,\" : \", 1 / ( 1 + sim(num1,num2) ) )"
   ]
  },
  {
   "cell_type": "code",
   "execution_count": 61,
   "metadata": {},
   "outputs": [
    {
     "name": "stdout",
     "output_type": "stream",
     "text": [
      "David  :  0.3090169943749474\n",
      "Alex  :  0.3090169943749474\n",
      "Andy  :  0.2612038749637414\n"
     ]
    }
   ],
   "source": [
    "# 'Dave'의 유사도 측정 결과값을 0~1로 정규화\n",
    "for i in ratings:\n",
    "    if i != 'Dave':\n",
    "        num1 = ratings.get('Dave').get('범죄도시') - ratings.get(i).get('범죄도시')\n",
    "        num2 = ratings.get('Dave').get('샤인') - ratings.get(i).get('샤인')\n",
    "        print(i,\" : \", 1 / ( 1 + sim(num1,num2) ) )"
   ]
  },
  {
   "cell_type": "markdown",
   "metadata": {},
   "source": [
    "<br>\n",
    "## **3 유사도(Similarity) 측정**\n",
    "### **1) Mean Squared Difference Similarity (평균제곱을 활용)**\n",
    "User-based Collaborative Filter ,Item-based Collaborative Filter\n",
    "$$ msd (u(사용자1)와  v(사용자2)간의 거리) = \\frac{(u 와 v 평가상품의 평점차의 제곱)}{(u와 v 평가상품의 수)} $$\n",
    "$$ msd\\_sim (유사도) = \\frac{1}{msd(u,v) + 1} $$"
   ]
  },
  {
   "cell_type": "code",
   "execution_count": 62,
   "metadata": {},
   "outputs": [
    {
     "data": {
      "text/plain": [
       "0.0909"
      ]
     },
     "execution_count": 62,
     "metadata": {},
     "output_type": "execute_result"
    }
   ],
   "source": [
    "# 1 Mean Squared Difference Similarity\n",
    "# Mean Squared Difference (msd) 의 역수를 계산하여 차이가 클 수록 Similarity 값은 작아진다!\n",
    "# MSD가 0이 되는 경우를 대응하기 위해 1을 무조건 더해준다\n",
    "\n",
    "def sim_msd(data, name1, name2):\n",
    "    sum = 0\n",
    "    count = 0\n",
    "    for movies in data[name1]:\n",
    "        if movies in data[name2]: #같은 영화를 봤다면\n",
    "            sum += pow(data[name1][movies] - data[name2][movies], 2)\n",
    "            count += 1\n",
    "\n",
    "    sim_msd = 1 / ( 1 + (sum / count) )\n",
    "    return round(sim_msd, 4)\n",
    "\n",
    "sim_msd(ratings, 'Dave','Alex')"
   ]
  },
  {
   "cell_type": "markdown",
   "metadata": {},
   "source": [
    "<br>\n",
    "### **2) Cosine Similarity (코사인 유사도)**\n",
    "1. Cosine Similarity에서 **\"−1은\"** 완전히 반대, **\"0은\"** 서로 독립, **\"1은\"** 완전히 같은 경우를 의미\n",
    "1. 두 벡터간의 유사도를 cosine으로 계산한다\n",
    "1. u(사용자1) 과 v(사용자2)간의 유사도 측정시 **모든 상품 평점의 기하평균값**으로 계산한다\n",
    "$$ u \\bullet v = |u| \\bullet |v| \\cos \\theta  \\ggg  \\cos \\theta = \\frac {u \\bullet v}{|u| \\bullet |v|} $$\n",
    "$$ \\cos 유사도 = \\frac {u \\bullet v}{|u| \\bullet |v|} $$\n"
   ]
  },
  {
   "cell_type": "code",
   "execution_count": 63,
   "metadata": {},
   "outputs": [
    {
     "data": {
      "text/plain": [
       "0.643"
      ]
     },
     "execution_count": 63,
     "metadata": {},
     "output_type": "execute_result"
    }
   ],
   "source": [
    "import math\n",
    "def sim_cosine(data, name1, name2):\n",
    "    sum_name1, sum_name2, sum_name1_name2, count = 0,0,0,0\n",
    "    for movies in data[name1]:\n",
    "        if movies in data[name2]: #같은 영화를 봤다면\n",
    "            sum_name1 += pow(data[name1][movies], 2)\n",
    "            sum_name2 += pow(data[name2][movies], 2)\n",
    "            sum_name1_name2 += data[name1][movies] * data[name2][movies]\n",
    "    sim_cosine = sum_name1_name2 / (math.sqrt(sum_name1) * math.sqrt(sum_name2))\n",
    "    return round(sim_cosine, 4)\n",
    "\n",
    "# Dave','Alex' 간의 cosine 유사도\n",
    "sim_cosine(ratings, 'Dave','Alex')"
   ]
  },
  {
   "cell_type": "markdown",
   "metadata": {},
   "source": [
    "<br>\n",
    "### **3)Pearson Similarity (피어슨 유사도)**\n",
    "두 벡터의 상관계수(Pearson correlation coefficient)로써 **유사도가 가장 높을 경우 값이 1, *가장 낮을 경우 -1의 값**을 갖는다"
   ]
  },
  {
   "cell_type": "code",
   "execution_count": 64,
   "metadata": {},
   "outputs": [
    {
     "data": {
      "text/plain": [
       "0.2166"
      ]
     },
     "execution_count": 64,
     "metadata": {},
     "output_type": "execute_result"
    }
   ],
   "source": [
    "def sim_pearson(data, name1, name2):\n",
    "    avg_name1, avg_name2 ,count = 0, 0, 0\n",
    "    for movies in data[name1]:\n",
    "        if movies in data[name2]: #같은 영화를 봤다면\n",
    "            avg_name1 = data[name1][movies]\n",
    "            avg_name2 = data[name2][movies]\n",
    "            count += 1\n",
    "\n",
    "    avg_name1 = avg_name1 / count\n",
    "    avg_name2 = avg_name2 / count\n",
    "\n",
    "    sum_name1, sum_name2, sum_name1_name2, count = 0,0,0,0\n",
    "    for movies in data[name1]:\n",
    "        if movies in data[name2]: #같은 영화를 봤다면\n",
    "            sum_name1 += pow(data[name1][movies] - avg_name1, 2)\n",
    "            sum_name2 += pow(data[name2][movies] - avg_name2, 2)\n",
    "            sum_name1_name2 += (data[name1][movies] - avg_name1) * (data[name2][movies] - avg_name2)\n",
    "\n",
    "    sim_pearson = sum_name1_name2 / (math.sqrt(sum_name1)*math.sqrt(sum_name2))\n",
    "    return round(sim_pearson, 4)\n",
    "\n",
    "sim_pearson(ratings, 'Dave','Alex')"
   ]
  },
  {
   "cell_type": "markdown",
   "metadata": {},
   "source": [
    "<br>\n",
    "### **4) 전체 유사도 측정**\n",
    "top_match"
   ]
  },
  {
   "cell_type": "code",
   "execution_count": 65,
   "metadata": {},
   "outputs": [
    {
     "data": {
      "text/plain": [
       "[(0.8681, 'David'), (0.3984, 'Andy'), (0.2166, 'Alex')]"
      ]
     },
     "execution_count": 65,
     "metadata": {},
     "output_type": "execute_result"
    }
   ],
   "source": [
    "def top_match(data, name, index=3, sim_function=sim_pearson):\n",
    "    li=[]\n",
    "    for i in data: #딕셔너리를 돌고\n",
    "        if name!=i: #자기 자신이 아닐때만\n",
    "            li.append((sim_function(data,name,i),i)) #sim_function()을 통해 상관계수를 구하고 li[]에 추가\n",
    "    li.sort() #오름차순\n",
    "    li.reverse() #내림차순\n",
    "    return li[:index]\n",
    "\n",
    "top_match(ratings, 'Dave', 3)"
   ]
  },
  {
   "cell_type": "code",
   "execution_count": 66,
   "metadata": {},
   "outputs": [
    {
     "name": "stdout",
     "output_type": "stream",
     "text": [
      "sim_msd \n",
      " [(0.375, 'David'), (0.15, 'Andy'), (0.0909, 'Alex')] \n",
      "sim_cosine \n",
      " [(0.9412, 'David'), (0.7796, 'Andy'), (0.643, 'Alex')]\n",
      "sim_pearson \n",
      "[(0.8681, 'David'), (0.3984, 'Andy'), (0.2166, 'Alex')]\n"
     ]
    }
   ],
   "source": [
    "print('sim_msd \\n {} \\nsim_cosine \\n {}\\nsim_pearson \\n{}'.format(\n",
    "    top_match(ratings, 'Dave', 3, sim_function=sim_msd),\n",
    "    top_match(ratings, 'Dave', 3, sim_function=sim_cosine),\n",
    "    top_match(ratings, 'Dave', 3, sim_function=sim_pearson)))"
   ]
  },
  {
   "cell_type": "markdown",
   "metadata": {},
   "source": [
    "<br>\n",
    "## **4 KNN을 활용한 예측값 및 유사도(Similarity) 측정**\n",
    "### **1) K Nearest Neighbors(KNN) 가중치 예측 기법**\n",
    "User-based Collaborative Filter ,Item-based Collaborative Filter\n",
    "$$ msd (u(사용자1)와  v(사용자2)간의 거리) = \\frac{(u 와 v 평가상품의 평점차의 제곱)}{(u와 v 평가상품의 수)} $$\n",
    "$$ msd\\_sim (유사도) = \\frac{1}{msd(u,v) + 1} $$"
   ]
  },
  {
   "cell_type": "code",
   "execution_count": 67,
   "metadata": {},
   "outputs": [],
   "source": [
    "ratings_expand = {\n",
    "    '마동석': {'택시운전사': 3.5,'남한산성': 1.5,'킹스맨:골든서클': 3.0,'범죄도시': 3.5,'아이 캔 스피크': 2.5,'꾼': 3.0,},\n",
    "    '이정재': {'택시운전사': 5.0,'남한산성': 4.5,'킹스맨:골든서클': 0.5,'범죄도시': 1.5,'아이 캔 스피크': 4.5,'꾼': 5.0,},\n",
    "    '윤계상': {'택시운전사': 3.0,'남한산성': 2.5,'킹스맨:골든서클': 1.5,'범죄도시': 3.0,'아이 캔 스피크': 3.5,'꾼': 3.0,},\n",
    "    '설경구': {'택시운전사': 2.5,'남한산성': 3.0,'범죄도시': 4.5,'꾼': 4.0,},\n",
    "    '최홍만': {'남한산성': 4.5,'킹스맨:골든서클': 3.0,'꾼': 4.5,'범죄도시': 3.0,'아이 캔 스피크': 2.5,},\n",
    "    '홍수환': {'택시운전사': 3.0,'남한산성': 4.0,'킹스맨:골든서클': 1.0,'범죄도시': 3.0,'꾼': 3.5,'아이 캔 스피크': 2.0,},\n",
    "    '나원탁': {'택시운전사': 3.0,'남한산성': 4.0,'꾼': 3.0,'범죄도시': 5.0,'아이 캔 스피크': 3.5,},\n",
    "    '소이현': {'남한산성': 4.5,'아이 캔 스피크': 1.0,'범죄도시': 4.0} }"
   ]
  },
  {
   "cell_type": "code",
   "execution_count": 74,
   "metadata": {},
   "outputs": [],
   "source": [
    "# KNN With Means : 평점들을 평균값 기준으로 가중 평균한다.\n",
    "for name in ratings_expand:\n",
    "    sum = 0\n",
    "    count = 0\n",
    "    for movies in ratings_expand[name]:\n",
    "        sum += ratings_expand[name][movies]\n",
    "        count += 1\n",
    "    ratings_expand[name]['avg'] = sum / count\n",
    "    \n",
    "# ratings_expand"
   ]
  },
  {
   "cell_type": "code",
   "execution_count": 68,
   "metadata": {},
   "outputs": [],
   "source": [
    "# KNN을 활용한 추천시스템\n",
    "def getRecommendation (data, person, k=3, sim_function=sim_pearson):\n",
    "    result = top_match(data, person, k)\n",
    "    # score : 평점합, li : 리턴값, score_dic : 유사도 총합, sim_dic : 평점총합\n",
    "    score, li, score_dic, sim_dic = 0, list(), dict(), dict() \n",
    "    for sim, name in result:                     # 튜플이므로 한번에\n",
    "        print(sim, name)\n",
    "        if sim < 0 : continue                    # 유사도가 양수인 사람만 추출\n",
    "\n",
    "        for movie in data[name]: \n",
    "            if movie not in data[person]:        # name이 평가를 내리지 않은 영화\n",
    "                score += sim * data[name][movie] # 그사람의 영화평점 * 유사도\n",
    "                score_dic.setdefault(movie, 0)   # 기본값 설정\n",
    "                score_dic[movie] += score        # 합계\n",
    "                sim_dic.setdefault(movie, 0)     # 조건에 맞는 유사도의 누적합\n",
    "                sim_dic[movie] += sim\n",
    "            score = 0                            # 다른 영화 측정을 위해서 값을 초기화\n",
    "\n",
    "    for key in score_dic: \n",
    "        score_dic[key] = score_dic[key] / sim_dic[key] # 평점 총합/ 유사도 총합\n",
    "        li.append((score_dic[key],key))                # list((tuple))의 리턴을 위해서.\n",
    "\n",
    "    li.sort()                                          # 오름차순\n",
    "    li.reverse()                                       # 내림차순\n",
    "    return li"
   ]
  },
  {
   "cell_type": "code",
   "execution_count": 69,
   "metadata": {},
   "outputs": [
    {
     "name": "stdout",
     "output_type": "stream",
     "text": [
      "0.9331 홍수환\n",
      "0.891 최홍만\n",
      "0.8452 나원탁\n"
     ]
    },
    {
     "data": {
      "text/plain": [
       "[(3.6754767167422173, '꾼'),\n",
       " (2.9999999999999996, '택시운전사'),\n",
       " (1.9769201249931474, '킹스맨:골든서클')]"
      ]
     },
     "execution_count": 69,
     "metadata": {},
     "output_type": "execute_result"
    }
   ],
   "source": [
    "# '소이현'과 유사한 사용자는?\n",
    "getRecommendation(ratings_expand, '소이현')"
   ]
  },
  {
   "cell_type": "code",
   "execution_count": 72,
   "metadata": {},
   "outputs": [
    {
     "name": "stdout",
     "output_type": "stream",
     "text": [
      "0.9608 홍수환\n",
      "0.9518 소이현\n",
      "0.9064 나원탁\n"
     ]
    },
    {
     "data": {
      "text/plain": [
       "[(2.9999999999999996, '택시운전사')]"
      ]
     },
     "execution_count": 72,
     "metadata": {},
     "output_type": "execute_result"
    }
   ],
   "source": [
    "# '최홍만' 과 가장 유사한 사용자는?\n",
    "# 단 유사도 함수는sim_cosine, k는 2를 사용 \n",
    "getRecommendation(ratings_expand, '최홍만', k=3, sim_function=sim_cosine)"
   ]
  },
  {
   "cell_type": "markdown",
   "metadata": {},
   "source": [
    "<br>\n",
    "## **5 Latent Factor 모형 (PCA와 Latent Factor 모형)**\n",
    "Latent Factor 모형은 복잡한 사용자/영화 특성을 몇 개의 벡터로 간략화해보겠다는 모형\n",
    "\n",
    "# http://www.fun-coding.org/recommend_basic5.html"
   ]
  },
  {
   "cell_type": "code",
   "execution_count": null,
   "metadata": {},
   "outputs": [],
   "source": []
  },
  {
   "cell_type": "code",
   "execution_count": null,
   "metadata": {},
   "outputs": [],
   "source": []
  },
  {
   "cell_type": "code",
   "execution_count": null,
   "metadata": {},
   "outputs": [],
   "source": []
  },
  {
   "cell_type": "code",
   "execution_count": null,
   "metadata": {},
   "outputs": [],
   "source": []
  },
  {
   "cell_type": "code",
   "execution_count": null,
   "metadata": {},
   "outputs": [],
   "source": []
  },
  {
   "cell_type": "code",
   "execution_count": null,
   "metadata": {},
   "outputs": [],
   "source": []
  },
  {
   "cell_type": "code",
   "execution_count": null,
   "metadata": {},
   "outputs": [],
   "source": []
  },
  {
   "cell_type": "code",
   "execution_count": null,
   "metadata": {},
   "outputs": [],
   "source": []
  },
  {
   "cell_type": "code",
   "execution_count": null,
   "metadata": {},
   "outputs": [],
   "source": []
  },
  {
   "cell_type": "code",
   "execution_count": null,
   "metadata": {},
   "outputs": [],
   "source": []
  },
  {
   "cell_type": "markdown",
   "metadata": {},
   "source": [
    "<br>\n",
    "## **1 Utility Marix 구현**\n",
    "유틸리티 매트릭스 구현"
   ]
  },
  {
   "cell_type": "code",
   "execution_count": 1,
   "metadata": {},
   "outputs": [
    {
     "name": "stdout",
     "output_type": "stream",
     "text": [
      "Dataset ml-100k could not be found. Do you want to download it? [Y/n] y\n",
      "Trying to download dataset from http://files.grouplens.org/datasets/movielens/ml-100k.zip...\n",
      "Done! Dataset ml-100k has been saved to /home/markbaum/.surprise_data/ml-100k\n",
      "(100000, 3)\n"
     ]
    },
    {
     "data": {
      "text/html": [
       "<div>\n",
       "<style scoped>\n",
       "    .dataframe tbody tr th:only-of-type {\n",
       "        vertical-align: middle;\n",
       "    }\n",
       "\n",
       "    .dataframe tbody tr th {\n",
       "        vertical-align: top;\n",
       "    }\n",
       "\n",
       "    .dataframe thead th {\n",
       "        text-align: right;\n",
       "    }\n",
       "</style>\n",
       "<table border=\"1\" class=\"dataframe\">\n",
       "  <thead>\n",
       "    <tr style=\"text-align: right;\">\n",
       "      <th></th>\n",
       "      <th>user</th>\n",
       "      <th>item</th>\n",
       "      <th>rate</th>\n",
       "    </tr>\n",
       "  </thead>\n",
       "  <tbody>\n",
       "    <tr>\n",
       "      <th>0</th>\n",
       "      <td>196</td>\n",
       "      <td>242</td>\n",
       "      <td>3.0</td>\n",
       "    </tr>\n",
       "    <tr>\n",
       "      <th>1</th>\n",
       "      <td>186</td>\n",
       "      <td>302</td>\n",
       "      <td>3.0</td>\n",
       "    </tr>\n",
       "    <tr>\n",
       "      <th>2</th>\n",
       "      <td>22</td>\n",
       "      <td>377</td>\n",
       "      <td>1.0</td>\n",
       "    </tr>\n",
       "    <tr>\n",
       "      <th>3</th>\n",
       "      <td>244</td>\n",
       "      <td>51</td>\n",
       "      <td>2.0</td>\n",
       "    </tr>\n",
       "    <tr>\n",
       "      <th>4</th>\n",
       "      <td>166</td>\n",
       "      <td>346</td>\n",
       "      <td>1.0</td>\n",
       "    </tr>\n",
       "  </tbody>\n",
       "</table>\n",
       "</div>"
      ],
      "text/plain": [
       "  user item  rate\n",
       "0  196  242   3.0\n",
       "1  186  302   3.0\n",
       "2   22  377   1.0\n",
       "3  244   51   2.0\n",
       "4  166  346   1.0"
      ]
     },
     "execution_count": 1,
     "metadata": {},
     "output_type": "execute_result"
    }
   ],
   "source": [
    "# ! pip install surprise\n",
    "# 영화 데이터 불러오기 [ 사용자, 영화, 평점 데이터 ]\n",
    "import surprise\n",
    "import numpy as np\n",
    "import pandas as pd\n",
    "\n",
    "data = surprise.Dataset.load_builtin('ml-100k')\n",
    "df   = pd.DataFrame(data.raw_ratings, \n",
    "                    columns = [\"user\", \"item\", \"rate\", \"id\"])\n",
    "del df[\"id\"]; print(df.shape); df.head(5)"
   ]
  },
  {
   "cell_type": "code",
   "execution_count": 4,
   "metadata": {},
   "outputs": [
    {
     "data": {
      "text/html": [
       "<div>\n",
       "<style scoped>\n",
       "    .dataframe tbody tr th:only-of-type {\n",
       "        vertical-align: middle;\n",
       "    }\n",
       "\n",
       "    .dataframe tbody tr th {\n",
       "        vertical-align: top;\n",
       "    }\n",
       "\n",
       "    .dataframe thead tr th {\n",
       "        text-align: left;\n",
       "    }\n",
       "\n",
       "    .dataframe thead tr:last-of-type th {\n",
       "        text-align: right;\n",
       "    }\n",
       "</style>\n",
       "<table border=\"1\" class=\"dataframe\">\n",
       "  <thead>\n",
       "    <tr>\n",
       "      <th></th>\n",
       "      <th colspan=\"9\" halign=\"left\">rate</th>\n",
       "    </tr>\n",
       "    <tr>\n",
       "      <th>item</th>\n",
       "      <th>211</th>\n",
       "      <th>212</th>\n",
       "      <th>213</th>\n",
       "      <th>214</th>\n",
       "      <th>215</th>\n",
       "      <th>216</th>\n",
       "      <th>217</th>\n",
       "      <th>218</th>\n",
       "      <th>219</th>\n",
       "    </tr>\n",
       "    <tr>\n",
       "      <th>user</th>\n",
       "      <th></th>\n",
       "      <th></th>\n",
       "      <th></th>\n",
       "      <th></th>\n",
       "      <th></th>\n",
       "      <th></th>\n",
       "      <th></th>\n",
       "      <th></th>\n",
       "      <th></th>\n",
       "    </tr>\n",
       "  </thead>\n",
       "  <tbody>\n",
       "    <tr>\n",
       "      <th>290</th>\n",
       "      <td>3</td>\n",
       "      <td></td>\n",
       "      <td></td>\n",
       "      <td></td>\n",
       "      <td></td>\n",
       "      <td>4</td>\n",
       "      <td></td>\n",
       "      <td>2</td>\n",
       "      <td></td>\n",
       "    </tr>\n",
       "    <tr>\n",
       "      <th>291</th>\n",
       "      <td></td>\n",
       "      <td>4</td>\n",
       "      <td></td>\n",
       "      <td>4</td>\n",
       "      <td>4</td>\n",
       "      <td></td>\n",
       "      <td></td>\n",
       "      <td>4</td>\n",
       "      <td>4</td>\n",
       "    </tr>\n",
       "    <tr>\n",
       "      <th>292</th>\n",
       "      <td></td>\n",
       "      <td></td>\n",
       "      <td></td>\n",
       "      <td>3</td>\n",
       "      <td></td>\n",
       "      <td></td>\n",
       "      <td></td>\n",
       "      <td></td>\n",
       "      <td></td>\n",
       "    </tr>\n",
       "    <tr>\n",
       "      <th>293</th>\n",
       "      <td>4</td>\n",
       "      <td></td>\n",
       "      <td>3</td>\n",
       "      <td></td>\n",
       "      <td>4</td>\n",
       "      <td>4</td>\n",
       "      <td>3</td>\n",
       "      <td>2</td>\n",
       "      <td></td>\n",
       "    </tr>\n",
       "    <tr>\n",
       "      <th>294</th>\n",
       "      <td></td>\n",
       "      <td></td>\n",
       "      <td></td>\n",
       "      <td></td>\n",
       "      <td></td>\n",
       "      <td></td>\n",
       "      <td></td>\n",
       "      <td></td>\n",
       "      <td></td>\n",
       "    </tr>\n",
       "    <tr>\n",
       "      <th>295</th>\n",
       "      <td></td>\n",
       "      <td></td>\n",
       "      <td>5</td>\n",
       "      <td></td>\n",
       "      <td>5</td>\n",
       "      <td>5</td>\n",
       "      <td>4</td>\n",
       "      <td>5</td>\n",
       "      <td></td>\n",
       "    </tr>\n",
       "  </tbody>\n",
       "</table>\n",
       "</div>"
      ],
      "text/plain": [
       "     rate                                \n",
       "item  211 212 213 214 215 216 217 218 219\n",
       "user                                     \n",
       "290     3                   4       2    \n",
       "291         4       4   4           4   4\n",
       "292                 3                    \n",
       "293     4       3       4   4   3   2    \n",
       "294                                      \n",
       "295             5       5   5   4   5    "
      ]
     },
     "execution_count": 4,
     "metadata": {},
     "output_type": "execute_result"
    }
   ],
   "source": [
    "# Pivot Table 로  평점 행렬(rate matrix) R 을 만든다\n",
    "# y축 : 아이디(\"user\") , x축 : 영화(\"item\") \n",
    "df_table      = df.set_index([\"user\", \"item\"]).unstack()\n",
    "df_table_temp = df_table.iloc[212:218, 808:817]\n",
    "df_table_temp.fillna(\"\")"
   ]
  },
  {
   "cell_type": "code",
   "execution_count": null,
   "metadata": {},
   "outputs": [],
   "source": [
    "# Warm start, cold start 여부를 판단\n",
    "# % matplotlib inline\n",
    "# # df_table 데이터 분포를 시각적 분석\n",
    "# import matplotlib.pyplot as plt\n",
    "# plt.imshow(df_table);     plt.grid(False)\n",
    "# plt.xlabel(\"item\");       plt.ylabel(\"user\")\n",
    "# plt.title(\"Rate Matrix\"); plt.show()"
   ]
  },
  {
   "cell_type": "markdown",
   "metadata": {},
   "source": [
    "<br>\n",
    "## **2 추천시스템 구현하기**\n",
    "k-nn으로 "
   ]
  },
  {
   "cell_type": "code",
   "execution_count": 5,
   "metadata": {},
   "outputs": [
    {
     "name": "stdout",
     "output_type": "stream",
     "text": [
      "Computing the pearson similarity matrix...\n",
      "Computing the pearson similarity matrix...\n",
      "Computing the pearson similarity matrix...\n",
      "Computing the pearson similarity matrix...\n",
      "Done computing similarity matrix.\n",
      "Done computing similarity matrix.\n",
      "Done computing similarity matrix.\n",
      "Done computing similarity matrix.\n",
      "Computing the pearson similarity matrix...\n",
      "Done computing similarity matrix.\n"
     ]
    },
    {
     "data": {
      "text/plain": [
       "{'fit_time': (2.217965841293335,\n",
       "  2.40482497215271,\n",
       "  2.762643814086914,\n",
       "  2.276320219039917,\n",
       "  1.6477456092834473),\n",
       " 'test_mae': array([0.80623872, 0.79886829, 0.8053499 , 0.80413584, 0.79560719]),\n",
       " 'test_rmse': array([1.01312409, 1.00656244, 1.01404426, 1.01511344, 1.00315338]),\n",
       " 'test_time': (4.183986663818359,\n",
       "  4.222134351730347,\n",
       "  4.362393379211426,\n",
       "  4.569180488586426,\n",
       "  2.3392112255096436)}"
      ]
     },
     "execution_count": 5,
     "metadata": {},
     "output_type": "execute_result"
    }
   ],
   "source": [
    "data.split(n_folds=3)\n",
    "sim_options = {'name': 'pearson'}    # 피어슨 유사도 측정\n",
    "algo = surprise.KNNBasic(sim_options = sim_options)\n",
    "surprise.model_selection.cross_validate(algo, data)"
   ]
  },
  {
   "cell_type": "code",
   "execution_count": null,
   "metadata": {},
   "outputs": [],
   "source": []
  }
 ],
 "metadata": {
  "kernelspec": {
   "display_name": "Python 3",
   "language": "python",
   "name": "python3"
  },
  "language_info": {
   "codemirror_mode": {
    "name": "ipython",
    "version": 3
   },
   "file_extension": ".py",
   "mimetype": "text/x-python",
   "name": "python",
   "nbconvert_exporter": "python",
   "pygments_lexer": "ipython3",
   "version": "3.6.3"
  }
 },
 "nbformat": 4,
 "nbformat_minor": 2
}
