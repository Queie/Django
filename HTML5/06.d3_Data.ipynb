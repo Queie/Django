{
 "cells": [
  {
   "cell_type": "markdown",
   "metadata": {},
   "source": [
    "<br>\n",
    "# <strong>정보 시각화 데이터 흐름\n",
    "<strong>chapter 2\n",
    "1. 다양한 외부데이터 로딩\n",
    "1. D3 스케일 이용하기\n",
    "1. 분석/ 출력데이터의 포맸\n",
    "1. 데이터 속성에 기초한 시각적 그래프의 구현\n",
    "1. 그래프의 모습을 움직이고 변화주기"
   ]
  },
  {
   "cell_type": "markdown",
   "metadata": {},
   "source": [
    "<br>\n",
    "## <strong>1 데이터 다루기\n",
    "loading -> format -> 측정 -> 생성 -> 갱신\n",
    "\n",
    "### <strong>01 Data Loading\n",
    "CSV, JSON 포맷 데이터에서 자료 갖고오기\n",
    "1. d3.csv(), d3.json() : <strong>JSON 배열</strong> 객체를 생성\n",
    "1. d3.xml() : <strong>XML 문서</strong>를 생성한다\n",
    "\n",
    "### <strong>02 file formats Data Loading\n",
    "d3.csv(\".csv\", function(error, data) {console.log(error, data)});\n",
    "\n",
    "### <strong>03 데이터 포맷팅\n",
    "loading ==> format ==> 측정 ==> 생성 ==> 갱신\n",
    "1. 정량적 데이터\n",
    "1. 범주 데이터\n",
    "1. 위상 데이터\n",
    "1. 기하학적 데이터\n",
    "1. 날짜/시간 데이터\n",
    "1. 원시 데이터"
   ]
  },
  {
   "cell_type": "markdown",
   "metadata": {},
   "source": [
    "### <strong>04 데이터 변환\n",
    "데이터를 처리시 표현 좋은 형태로 변환\n",
    "1. <strong>캐스팅</strong> : 데이터 형변환 (날짜, 정수, 실수, 배열 등의 포맷을 변환)\n",
    "1. <strong>정규화</strong> : 스케일과 규모 변경\n",
    "1. <strong>비닝</strong> : 데이터 분류\n",
    "1. <strong>내포</strong> : 다양한 계층구조를 표현  d3.nest()\n",
    "\n",
    "<img src=\"https://image.slidesharecdn.com/utahjsd3-130708153751-phpapp01/95/utahjs-d3-24-638.jpg?cb=1373297965\" align='left' width='400'>"
   ]
  },
  {
   "cell_type": "code",
   "execution_count": 1,
   "metadata": {
    "collapsed": true
   },
   "outputs": [],
   "source": [
    "%load_ext py_d3"
   ]
  },
  {
   "cell_type": "code",
   "execution_count": 2,
   "metadata": {
    "scrolled": true
   },
   "outputs": [
    {
     "data": {
      "text/html": [
       "\n",
       "<script>\n",
       "requirejs.config({\n",
       "    paths: {\n",
       "        d3: \"//cdnjs.cloudflare.com/ajax/libs/d3/3.5.17/d3\"\n",
       "    }\n",
       "});\n",
       "\n",
       "require(['d3'], function(d3) {\n",
       "    window.d3 = d3;\n",
       "});\n",
       "</script>\n",
       "<script>\n",
       "_select = d3.select;\n",
       "\n",
       "d3.select0 = function(selection) {\n",
       "    return _select(\"#d3-cell-0\").select(selection);\n",
       "}\n",
       "d3.selectAll0 = function(selection) {\n",
       "    return _select(\"#d3-cell-0\").selectAll(selection);\n",
       "}\n",
       "</script>\n",
       "<g id=\"d3-cell-0\">\n",
       "<g_1> <p></p> </g_1>\n",
       "<script>\n",
       "    d3.csv(\"./data/cities.csv\",\n",
       "           function(error,data) { dataViz(data) });\n",
       "           function dataViz(incomingData) {\n",
       "                d3.select0(\"g_1\").selectAll(\"p.cities\")\n",
       "                  .data(incomingData)\n",
       "                  .enter()\n",
       "                  .append(\"div\")\n",
       "                  .attr(\"class\",\"cities\")\n",
       "                  .html(function(d,i) {return d.label})}\n",
       "</script>\n",
       "</g>"
      ],
      "text/plain": [
       "<IPython.core.display.HTML object>"
      ]
     },
     "metadata": {},
     "output_type": "display_data"
    }
   ],
   "source": [
    "%%d3\n",
    "<g_1> <p></p> </g_1>\n",
    "<script>\n",
    "    d3.csv(\"./data/cities.csv\",\n",
    "           function(error,data) { dataViz(data) });\n",
    "           function dataViz(incomingData) {\n",
    "                d3.select(\"g_1\").selectAll(\"p.cities\")\n",
    "                  .data(incomingData)\n",
    "                  .enter()\n",
    "                  .append(\"div\")\n",
    "                  .attr(\"class\",\"cities\")\n",
    "                  .html(function(d,i) {return d.label})}\n",
    "</script>"
   ]
  },
  {
   "cell_type": "code",
   "execution_count": 3,
   "metadata": {},
   "outputs": [
    {
     "data": {
      "text/html": [
       "\n",
       "<script>\n",
       "requirejs.config({\n",
       "    paths: {\n",
       "        d3: \"//cdnjs.cloudflare.com/ajax/libs/d3/      /d3\"\n",
       "    }\n",
       "});\n",
       "\n",
       "require(['d3'], function(d3) {\n",
       "    window.d3 = d3;\n",
       "});\n",
       "</script>\n",
       "<script>\n",
       "_select = d3.select;\n",
       "\n",
       "d3.select1 = function(selection) {\n",
       "    return _select(\"#d3-cell-1\").select(selection);\n",
       "}\n",
       "d3.selectAll1 = function(selection) {\n",
       "    return _select(\"#d3-cell-1\").selectAll(selection);\n",
       "}\n",
       "</script>\n",
       "<g id=\"d3-cell-1\">\n",
       "// 숫자값에 range 선형대응을 적용\n",
       "<p id='scal_1'></p>\n",
       "<p id='scal_2'></p>\n",
       "<p id='scal_3'></p>\n",
       "<script>   // d3.scale.linear() : bin 500으로 나눈, 데이터 스케일을 선형대응 결과값을 출력\n",
       "var newRamp = d3.scale.linear().domain([500000,13000000]).range([0,500]);\n",
       "document.getElementById(\"scal_1\").innerHTML = newRamp(1000000);    // 1000000 에 대응 bin을 출력\n",
       "document.getElementById(\"scal_2\").innerHTML = newRamp(9000000);    // 9000000 에 대응 bin을 출력\n",
       "document.getElementById(\"scal_3\").innerHTML = newRamp.invert(313); // .invert() 역변환 bin을 출력\n",
       "</script>\n",
       "</g>"
      ],
      "text/plain": [
       "<IPython.core.display.HTML object>"
      ]
     },
     "metadata": {},
     "output_type": "display_data"
    }
   ],
   "source": [
    "%%d3       \n",
    "// 숫자값에 range 선형대응을 적용\n",
    "<p id='scal_1'></p>\n",
    "<p id='scal_2'></p>\n",
    "<p id='scal_3'></p>\n",
    "<script>   // d3.scale.linear() : bin 500으로 나눈, 데이터 스케일을 선형대응 결과값을 출력\n",
    "var newRamp = d3.scale.linear().domain([500000,13000000]).range([0,500]);\n",
    "document.getElementById(\"scal_1\").innerHTML = newRamp(1000000);    // 1000000 에 대응 bin을 출력\n",
    "document.getElementById(\"scal_2\").innerHTML = newRamp(9000000);    // 9000000 에 대응 bin을 출력\n",
    "document.getElementById(\"scal_3\").innerHTML = newRamp.invert(313); // .invert() 역변환 bin을 출력\n",
    "</script>"
   ]
  },
  {
   "cell_type": "code",
   "execution_count": 4,
   "metadata": {},
   "outputs": [
    {
     "data": {
      "text/html": [
       "\n",
       "<script>\n",
       "requirejs.config({\n",
       "    paths: {\n",
       "        d3: \"//cdnjs.cloudflare.com/ajax/libs/d3/      /d3\"\n",
       "    }\n",
       "});\n",
       "\n",
       "require(['d3'], function(d3) {\n",
       "    window.d3 = d3;\n",
       "});\n",
       "</script>\n",
       "<script>\n",
       "_select = d3.select;\n",
       "\n",
       "d3.select2 = function(selection) {\n",
       "    return _select(\"#d3-cell-2\").select(selection);\n",
       "}\n",
       "d3.selectAll2 = function(selection) {\n",
       "    return _select(\"#d3-cell-2\").selectAll(selection);\n",
       "}\n",
       "</script>\n",
       "<g id=\"d3-cell-2\">\n",
       "// 색상 그레디언트에 range 선형대응을 적용\n",
       "<p id='s_col_1'></p>\n",
       "<p id='s_col_2'></p>\n",
       "<p id='s_col_3'></p>\n",
       "<script>   // d3.scale.linear() : bin 500으로 나눈, 데이터 스케일을 선형대응 결과값을 출력\n",
       "var newRamp = d3.scale.linear().domain([500000,13000000]).range([\"blue\",\"red\"]);\n",
       "document.getElementById(\"s_col_1\").innerHTML = newRamp(1000000);    // 1000000 에 대응 bin을 출력\n",
       "document.getElementById(\"s_col_2\").innerHTML = newRamp(9000000);    // 9000000 에 대응 bin을 출력\n",
       "document.getElementById(\"s_col_3\").innerHTML = newRamp.invert(\"#ad0052\"); // .invert()는 숫자만 가능\n",
       "</script>\n",
       "</g>"
      ],
      "text/plain": [
       "<IPython.core.display.HTML object>"
      ]
     },
     "metadata": {},
     "output_type": "display_data"
    }
   ],
   "source": [
    "%%d3       \n",
    "// 색상 그레디언트에 range 선형대응을 적용\n",
    "<p id='s_col_1'></p>\n",
    "<p id='s_col_2'></p>\n",
    "<p id='s_col_3'></p>\n",
    "<script>   // d3.scale.linear() : bin 500으로 나눈, 데이터 스케일을 선형대응 결과값을 출력\n",
    "var newRamp = d3.scale.linear().domain([500000,13000000]).range([\"blue\",\"red\"]);\n",
    "document.getElementById(\"s_col_1\").innerHTML = newRamp(1000000);    // 1000000 에 대응 bin을 출력\n",
    "document.getElementById(\"s_col_2\").innerHTML = newRamp(9000000);    // 9000000 에 대응 bin을 출력\n",
    "document.getElementById(\"s_col_3\").innerHTML = newRamp.invert(\"#ad0052\"); // .invert()는 숫자만 가능\n",
    "</script>"
   ]
  },
  {
   "cell_type": "code",
   "execution_count": 5,
   "metadata": {},
   "outputs": [
    {
     "data": {
      "text/html": [
       "\n",
       "<script>\n",
       "requirejs.config({\n",
       "    paths: {\n",
       "        d3: \"//cdnjs.cloudflare.com/ajax/libs/d3/      /d3\"\n",
       "    }\n",
       "});\n",
       "\n",
       "require(['d3'], function(d3) {\n",
       "    window.d3 = d3;\n",
       "});\n",
       "</script>\n",
       "<script>\n",
       "_select = d3.select;\n",
       "\n",
       "d3.select3 = function(selection) {\n",
       "    return _select(\"#d3-cell-3\").select(selection);\n",
       "}\n",
       "d3.selectAll3 = function(selection) {\n",
       "    return _select(\"#d3-cell-3\").selectAll(selection);\n",
       "}\n",
       "</script>\n",
       "<g id=\"d3-cell-3\">\n",
       "// 비닝('binning') : 데이터 분류\n",
       "<p id='bin_1'></p>\n",
       "<p id='bin_2'></p>\n",
       "<p id='bin_3'></p>\n",
       "<script>   \n",
       "var sampleArray = [423, 124, 66, 424, 58, 10, 900, 44, 1]\n",
       "var qScale = d3.scale.quantile().domain(sampleArray).range([0,1,2]);\n",
       "document.getElementById(\"bin_1\").innerHTML = qScale(423);\n",
       "document.getElementById(\"bin_2\").innerHTML = qScale(20);\n",
       "document.getElementById(\"bin_3\").innerHTML = qScale(10000);\n",
       "</script>\n",
       "</g>"
      ],
      "text/plain": [
       "<IPython.core.display.HTML object>"
      ]
     },
     "metadata": {},
     "output_type": "display_data"
    }
   ],
   "source": [
    "%%d3       \n",
    "// 비닝('binning') : 데이터 분류\n",
    "<p id='bin_1'></p>\n",
    "<p id='bin_2'></p>\n",
    "<p id='bin_3'></p>\n",
    "<script>   \n",
    "var sampleArray = [423, 124, 66, 424, 58, 10, 900, 44, 1]\n",
    "var qScale = d3.scale.quantile().domain(sampleArray).range([0,1,2]);\n",
    "document.getElementById(\"bin_1\").innerHTML = qScale(423);\n",
    "document.getElementById(\"bin_2\").innerHTML = qScale(20);\n",
    "document.getElementById(\"bin_3\").innerHTML = qScale(10000);\n",
    "</script>"
   ]
  },
  {
   "cell_type": "code",
   "execution_count": 6,
   "metadata": {},
   "outputs": [
    {
     "data": {
      "text/html": [
       "\n",
       "<script>\n",
       "requirejs.config({\n",
       "    paths: {\n",
       "        d3: \"//cdnjs.cloudflare.com/ajax/libs/d3/      /d3\"\n",
       "    }\n",
       "});\n",
       "\n",
       "require(['d3'], function(d3) {\n",
       "    window.d3 = d3;\n",
       "});\n",
       "</script>\n",
       "<script>\n",
       "_select = d3.select;\n",
       "\n",
       "d3.select4 = function(selection) {\n",
       "    return _select(\"#d3-cell-4\").select(selection);\n",
       "}\n",
       "d3.selectAll4 = function(selection) {\n",
       "    return _select(\"#d3-cell-4\").selectAll(selection);\n",
       "}\n",
       "</script>\n",
       "<g id=\"d3-cell-4\">\n",
       "// 비닝('binning') 2 : 데이터 분류\n",
       "<p id='bin__1'></p>\n",
       "<p id='bin__2'></p>\n",
       "<p id='bin__3'></p>\n",
       "<script>\n",
       "var sampleArray = [423, 124, 66, 424, 58, 10, 900, 44, 1]\n",
       "var qScaleName = d3.scale.quantile().domain(sampleArray).range([\"small\",\"medium\",\"large\"]);\n",
       "document.getElementById(\"bin__1\").innerHTML = qScaleName(68);\n",
       "document.getElementById(\"bin__2\").innerHTML = qScaleName(20);\n",
       "document.getElementById(\"bin__3\").innerHTML = qScaleName(10000);\n",
       "</script>\n",
       "</g>"
      ],
      "text/plain": [
       "<IPython.core.display.HTML object>"
      ]
     },
     "metadata": {},
     "output_type": "display_data"
    }
   ],
   "source": [
    "%%d3       \n",
    "// 비닝('binning') 2 : 데이터 분류\n",
    "<p id='bin__1'></p>\n",
    "<p id='bin__2'></p>\n",
    "<p id='bin__3'></p>\n",
    "<script>\n",
    "var sampleArray = [423, 124, 66, 424, 58, 10, 900, 44, 1]\n",
    "var qScaleName = d3.scale.quantile().domain(sampleArray).range([\"small\",\"medium\",\"large\"]);\n",
    "document.getElementById(\"bin__1\").innerHTML = qScaleName(68);\n",
    "document.getElementById(\"bin__2\").innerHTML = qScaleName(20);\n",
    "document.getElementById(\"bin__3\").innerHTML = qScaleName(10000);\n",
    "</script>"
   ]
  },
  {
   "cell_type": "code",
   "execution_count": 7,
   "metadata": {},
   "outputs": [
    {
     "data": {
      "text/html": [
       "\n",
       "<script>\n",
       "requirejs.config({\n",
       "    paths: {\n",
       "        d3: \"//cdnjs.cloudflare.com/ajax/libs/d3/      /d3\"\n",
       "    }\n",
       "});\n",
       "\n",
       "require(['d3'], function(d3) {\n",
       "    window.d3 = d3;\n",
       "});\n",
       "</script>\n",
       "<script>\n",
       "_select = d3.select;\n",
       "\n",
       "d3.select5 = function(selection) {\n",
       "    return _select(\"#d3-cell-5\").select(selection);\n",
       "}\n",
       "d3.selectAll5 = function(selection) {\n",
       "    return _select(\"#d3-cell-5\").selectAll(selection);\n",
       "}\n",
       "</script>\n",
       "<g id=\"d3-cell-5\">\n",
       "// 내포함수 : d3.nest()\n",
       "<p id='nest_1'></p>\n",
       "<script>\n",
       "d3.json('./data/tweets.json', function(data) {\n",
       "    var tweetData = data.tweets;\n",
       "    var nestedTweets = d3.nest()\n",
       "                        .key(function(el) {return el.user})\n",
       "                        .entires(tweetData);\n",
       "    document.getElementById(\"nest_1\").innerHTML = nestedTweets;\n",
       "});\n",
       "</script>\n",
       "</g>"
      ],
      "text/plain": [
       "<IPython.core.display.HTML object>"
      ]
     },
     "metadata": {},
     "output_type": "display_data"
    }
   ],
   "source": [
    "%%d3       \n",
    "// 내포함수 : d3.nest()\n",
    "<p id='nest_1'></p>\n",
    "<script>\n",
    "d3.json('./data/tweets.json', function(data) {\n",
    "    var tweetData = data.tweets;\n",
    "    var nestedTweets = d3.nest()\n",
    "                        .key(function(el) {return el.user})\n",
    "                        .entires(tweetData);\n",
    "    document.getElementById(\"nest_1\").innerHTML = nestedTweets;\n",
    "});\n",
    "</script>"
   ]
  },
  {
   "cell_type": "markdown",
   "metadata": {},
   "source": [
    "### <strong>05 데이터 측정\n",
    "데이터를 로딩한 뒤 측정 후 정렬해야 한다"
   ]
  },
  {
   "cell_type": "code",
   "execution_count": 8,
   "metadata": {},
   "outputs": [
    {
     "data": {
      "text/html": [
       "\n",
       "<script>\n",
       "requirejs.config({\n",
       "    paths: {\n",
       "        d3: \"//cdnjs.cloudflare.com/ajax/libs/d3/3.5.17/d3\"\n",
       "    }\n",
       "});\n",
       "\n",
       "require(['d3'], function(d3) {\n",
       "    window.d3 = d3;\n",
       "});\n",
       "</script>\n",
       "<script>\n",
       "_select = d3.select;\n",
       "\n",
       "d3.select6 = function(selection) {\n",
       "    return _select(\"#d3-cell-6\").select(selection);\n",
       "}\n",
       "d3.selectAll6 = function(selection) {\n",
       "    return _select(\"#d3-cell-6\").selectAll(selection);\n",
       "}\n",
       "</script>\n",
       "<g id=\"d3-cell-6\">\n",
       "<p id='min_'></p>\n",
       "<p id='max_'></p>\n",
       "<p id='mean_'></p>\n",
       "<script>\n",
       "var testArray = [88, 10000, 1, 75, 12, 35];\n",
       "var min_ = d3.min(testArray, function(el) {return el}); // 배열의 최솟값을 호출\n",
       "var max_ = d3.max(testArray, function(el) {return el});\n",
       "var mean_ = d3.mean(testArray, function(el) {return el});\n",
       "\n",
       "document.getElementById(\"min_\").innerHTML = min_;\n",
       "document.getElementById(\"max_\").innerHTML = max_;\n",
       "document.getElementById(\"mean_\").innerHTML = mean_;\n",
       "</script>\n",
       "</g>"
      ],
      "text/plain": [
       "<IPython.core.display.HTML object>"
      ]
     },
     "metadata": {},
     "output_type": "display_data"
    }
   ],
   "source": [
    "%%d3\n",
    "<p id='min_'></p>\n",
    "<p id='max_'></p>\n",
    "<p id='mean_'></p>\n",
    "<script>\n",
    "var testArray = [88, 10000, 1, 75, 12, 35];\n",
    "var min_ = d3.min(testArray, function(el) {return el}); // 배열의 최솟값을 호출\n",
    "var max_ = d3.max(testArray, function(el) {return el});\n",
    "var mean_ = d3.mean(testArray, function(el) {return el});\n",
    "\n",
    "document.getElementById(\"min_\").innerHTML = min_;\n",
    "document.getElementById(\"max_\").innerHTML = max_;\n",
    "document.getElementById(\"mean_\").innerHTML = mean_;\n",
    "</script>"
   ]
  },
  {
   "cell_type": "code",
   "execution_count": 9,
   "metadata": {},
   "outputs": [
    {
     "data": {
      "text/html": [
       "\n",
       "<script>\n",
       "requirejs.config({\n",
       "    paths: {\n",
       "        d3: \"//cdnjs.cloudflare.com/ajax/libs/d3/      /d3\"\n",
       "    }\n",
       "});\n",
       "\n",
       "require(['d3'], function(d3) {\n",
       "    window.d3 = d3;\n",
       "});\n",
       "</script>\n",
       "<script>\n",
       "_select = d3.select;\n",
       "\n",
       "d3.select7 = function(selection) {\n",
       "    return _select(\"#d3-cell-7\").select(selection);\n",
       "}\n",
       "d3.selectAll7 = function(selection) {\n",
       "    return _select(\"#d3-cell-7\").selectAll(selection);\n",
       "}\n",
       "</script>\n",
       "<g id=\"d3-cell-7\">\n",
       "// 조금 더 복잡한 json 객체 배열을 활용\n",
       "<p id='max_min'></p>\n",
       "<script>\n",
       "d3.csv('./data/cities.csv', function(data) {\n",
       "    var max_min = [d3.min(data, function(el) {return +el.population}),\n",
       "                   d3.max(data, function(el) {return +el.population}),\n",
       "                   d3.mean(data, function(el) {return +el.population})];\n",
       "    document.getElementById(\"max_min\").innerHTML = max_min;    \n",
       "})\n",
       "</script> \n",
       "</g>"
      ],
      "text/plain": [
       "<IPython.core.display.HTML object>"
      ]
     },
     "metadata": {},
     "output_type": "display_data"
    }
   ],
   "source": [
    "%%d3       \n",
    "// 조금 더 복잡한 json 객체 배열을 활용\n",
    "<p id='max_min'></p>\n",
    "<script>\n",
    "d3.csv('./data/cities.csv', function(data) {\n",
    "    var max_min = [d3.min(data, function(el) {return +el.population}),\n",
    "                   d3.max(data, function(el) {return +el.population}),\n",
    "                   d3.mean(data, function(el) {return +el.population})];\n",
    "    document.getElementById(\"max_min\").innerHTML = max_min;    \n",
    "})\n",
    "</script> "
   ]
  },
  {
   "cell_type": "code",
   "execution_count": 10,
   "metadata": {},
   "outputs": [
    {
     "data": {
      "text/html": [
       "\n",
       "<script>\n",
       "requirejs.config({\n",
       "    paths: {\n",
       "        d3: \"//cdnjs.cloudflare.com/ajax/libs/d3/      /d3\"\n",
       "    }\n",
       "});\n",
       "\n",
       "require(['d3'], function(d3) {\n",
       "    window.d3 = d3;\n",
       "});\n",
       "</script>\n",
       "<script>\n",
       "_select = d3.select;\n",
       "\n",
       "d3.select8 = function(selection) {\n",
       "    return _select(\"#d3-cell-8\").select(selection);\n",
       "}\n",
       "d3.selectAll8 = function(selection) {\n",
       "    return _select(\"#d3-cell-8\").selectAll(selection);\n",
       "}\n",
       "</script>\n",
       "<g id=\"d3-cell-8\">\n",
       "//  d3.extent() : 최대, 최솟값 array() 메서드\n",
       "<p id='extent_'></p>\n",
       "<script>\n",
       "d3.csv('./data/cities.csv', function(data) {\n",
       "    var max_min = d3.extent(data, function(el) {return +el.population});\n",
       "    document.getElementById(\"extent_\").innerHTML = max_min;\n",
       "});\n",
       "</script> \n",
       "</g>"
      ],
      "text/plain": [
       "<IPython.core.display.HTML object>"
      ]
     },
     "metadata": {},
     "output_type": "display_data"
    }
   ],
   "source": [
    "%%d3       \n",
    "//  d3.extent() : 최대, 최솟값 array() 메서드\n",
    "<p id='extent_'></p>\n",
    "<script>\n",
    "d3.csv('./data/cities.csv', function(data) {\n",
    "    var max_min = d3.extent(data, function(el) {return +el.population});\n",
    "    document.getElementById(\"extent_\").innerHTML = max_min;\n",
    "});\n",
    "</script> "
   ]
  },
  {
   "cell_type": "markdown",
   "metadata": {},
   "source": [
    "<br>\n",
    "## <strong>2 데이터 바인딩\n",
    "loading -> format -> 측정 -> 생성 -> 갱신\n",
    "### <strong>01 셀렉션과 바인딩\n",
    "1. <strong>.select(), .selectAll()</strong> : DOM 요소선택, 본문에 요소가 없을땐 <strong>.enter()</strong>로 추가\n",
    "1. <strong>.data()</strong> : DOM 요소에 배열을 연결\n",
    "1. <strong>.enter()</strong> : <strong>.enter()</strong>는 DOM 보다 데이터가 더 많을때 공간을 넓히고, \n",
    "1. <strong>.enter()</strong> : <strong>.exit()</strong>는 데이터가 DOM 보다 적을 때 호출을 종료한다\n",
    "1. <strong>.append(), .insert()</strong> : .append() 요소를 추가, .insert()는 요소추가 위치를 지정가능\n",
    "1. <strong>.attr()</strong> : .append()추가 태그에 (class='cities') 속성이 자동적 추가된다\n",
    "1. <strong>.html()</strong> : 전통적 DOM 요소의 콘텐츠 내용을 설정"
   ]
  },
  {
   "cell_type": "code",
   "execution_count": 11,
   "metadata": {},
   "outputs": [
    {
     "data": {
      "text/html": [
       "\n",
       "<script>\n",
       "requirejs.config({\n",
       "    paths: {\n",
       "        d3: \"//cdnjs.cloudflare.com/ajax/libs/d3/3.5.17/d3\"\n",
       "    }\n",
       "});\n",
       "\n",
       "require(['d3'], function(d3) {\n",
       "    window.d3 = d3;\n",
       "});\n",
       "</script>\n",
       "<script>\n",
       "_select = d3.select;\n",
       "\n",
       "d3.select9 = function(selection) {\n",
       "    return _select(\"#d3-cell-9\").select(selection);\n",
       "}\n",
       "d3.selectAll9 = function(selection) {\n",
       "    return _select(\"#d3-cell-9\").selectAll(selection);\n",
       "}\n",
       "</script>\n",
       "<g id=\"d3-cell-9\">\n",
       "<g_2></g_2>\n",
       "<script>\n",
       "d3.csv(\"./data/cities.csv\",\n",
       "       function(error,data) { dataViz(data) });\n",
       "       function dataViz(incomingData) {\n",
       "            d3.select9(\"g_2\").selectAll(\"p.cities\")   // g_2 태그 내부에 p 태그 없어서 '빈 셀렉션'선택\n",
       "              .data(incomingData)                    // 데이터를 셀렉션에 binding\n",
       "              .enter()                               // 셀렉션 DOM 보다 데이터가 더 많을 때\n",
       "              .append(\"p\")                           // 셀렉션 에 p tag 를 추가\n",
       "              .attr(\"class\",\"cities\")                // 생성요소의 클래스 설정\n",
       "              .html(function(d,i) {return d.label})} // p 의 입력 내용을 설정\n",
       "</script>\n",
       "</g>"
      ],
      "text/plain": [
       "<IPython.core.display.HTML object>"
      ]
     },
     "metadata": {},
     "output_type": "display_data"
    }
   ],
   "source": [
    "%%d3\n",
    "<g_2></g_2>\n",
    "<script>\n",
    "d3.csv(\"./data/cities.csv\",\n",
    "       function(error,data) { dataViz(data) });\n",
    "       function dataViz(incomingData) {\n",
    "            d3.select(\"g_2\").selectAll(\"p.cities\")   // g_2 태그 내부에 p 태그 없어서 '빈 셀렉션'선택\n",
    "              .data(incomingData)                    // 데이터를 셀렉션에 binding\n",
    "              .enter()                               // 셀렉션 DOM 보다 데이터가 더 많을 때\n",
    "              .append(\"p\")                           // 셀렉션 에 p tag 를 추가\n",
    "              .attr(\"class\",\"cities\")                // 생성요소의 클래스 설정\n",
    "              .html(function(d,i) {return d.label})} // p 의 입력 내용을 설정\n",
    "</script>"
   ]
  },
  {
   "cell_type": "markdown",
   "metadata": {},
   "source": [
    "### <strong>02 in-line 함수로 데이터 접근하기\n",
    "array 배열의 key/ value를 사용하여 크기를 결정"
   ]
  },
  {
   "cell_type": "code",
   "execution_count": 12,
   "metadata": {},
   "outputs": [
    {
     "data": {
      "text/html": [
       "\n",
       "<script>\n",
       "requirejs.config({\n",
       "    paths: {\n",
       "        d3: \"//cdnjs.cloudflare.com/ajax/libs/d3/ /d3\"\n",
       "    }\n",
       "});\n",
       "\n",
       "require(['d3'], function(d3) {\n",
       "    window.d3 = d3;\n",
       "});\n",
       "</script>\n",
       "<script>\n",
       "_select = d3.select;\n",
       "\n",
       "d3.select10 = function(selection) {\n",
       "    return _select(\"#d3-cell-10\").select(selection);\n",
       "}\n",
       "d3.selectAll10 = function(selection) {\n",
       "    return _select(\"#d3-cell-10\").selectAll(selection);\n",
       "}\n",
       "</script>\n",
       "<g id=\"d3-cell-10\">\n",
       "// 1. 선 그리기\n",
       "<svg id='no1'></svg>\n",
       "<script>\n",
       "d3.select10(\"#no1\")      // #id 로 DOM 요소를 선택\n",
       "    .selectAll(\"rect\") // \"rect\"를 선택, 없으면 생성한다\n",
       "    .data([15, 50, 22, 8, 100, 10])\n",
       "    .enter()\n",
       "    .append('rect') \n",
       "    .attr('width', 10) //사각형의 너비를 고정된 값으로 입력\n",
       "    .attr('height', function(d) {return d;});</script>\n",
       "</g>"
      ],
      "text/plain": [
       "<IPython.core.display.HTML object>"
      ]
     },
     "metadata": {},
     "output_type": "display_data"
    }
   ],
   "source": [
    "%%d3  \n",
    "// 1. 선 그리기\n",
    "<svg id='no1'></svg>\n",
    "<script>\n",
    "d3.select(\"#no1\")      // #id 로 DOM 요소를 선택\n",
    "    .selectAll(\"rect\") // \"rect\"를 선택, 없으면 생성한다\n",
    "    .data([15, 50, 22, 8, 100, 10])\n",
    "    .enter()\n",
    "    .append('rect') \n",
    "    .attr('width', 10) //사각형의 너비를 고정된 값으로 입력\n",
    "    .attr('height', function(d) {return d;});</script>"
   ]
  },
  {
   "cell_type": "code",
   "execution_count": 13,
   "metadata": {},
   "outputs": [
    {
     "data": {
      "text/html": [
       "\n",
       "<script>\n",
       "requirejs.config({\n",
       "    paths: {\n",
       "        d3: \"//cdnjs.cloudflare.com/ajax/libs/d3/ /d3\"\n",
       "    }\n",
       "});\n",
       "\n",
       "require(['d3'], function(d3) {\n",
       "    window.d3 = d3;\n",
       "});\n",
       "</script>\n",
       "<script>\n",
       "_select = d3.select;\n",
       "\n",
       "d3.select11 = function(selection) {\n",
       "    return _select(\"#d3-cell-11\").select(selection);\n",
       "}\n",
       "d3.selectAll11 = function(selection) {\n",
       "    return _select(\"#d3-cell-11\").selectAll(selection);\n",
       "}\n",
       "</script>\n",
       "<g id=\"d3-cell-11\">\n",
       "// 2. 선 그리기 + 색 입히기\n",
       "<svg id='no2'></svg>\n",
       "<script>\n",
       "d3.select11(\"#no2\")   \n",
       "    .selectAll(\"rect\")\n",
       "    .data([15, 50, 22, 8, 100, 10])\n",
       "    .enter()\n",
       "    .append('rect') \n",
       "    .attr('width', 10)\n",
       "    .attr('height', function(d) {return d;})\n",
       "    .style('fill','red')          // 그림을 채울 색을 정의\n",
       "    .style('stroke', 'yellow')    // stroke 색을 정의\n",
       "    .style('stroke-width','1px')\n",
       "    .style('opacity', .25);\n",
       "</script>\n",
       "</g>"
      ],
      "text/plain": [
       "<IPython.core.display.HTML object>"
      ]
     },
     "metadata": {},
     "output_type": "display_data"
    }
   ],
   "source": [
    "%%d3  \n",
    "// 2. 선 그리기 + 색 입히기\n",
    "<svg id='no2'></svg>\n",
    "<script>\n",
    "d3.select(\"#no2\")   \n",
    "    .selectAll(\"rect\")\n",
    "    .data([15, 50, 22, 8, 100, 10])\n",
    "    .enter()\n",
    "    .append('rect') \n",
    "    .attr('width', 10)\n",
    "    .attr('height', function(d) {return d;})\n",
    "    .style('fill','red')          // 그림을 채울 색을 정의\n",
    "    .style('stroke', 'yellow')    // stroke 색을 정의\n",
    "    .style('stroke-width','1px')\n",
    "    .style('opacity', .25);\n",
    "</script>"
   ]
  },
  {
   "cell_type": "code",
   "execution_count": 14,
   "metadata": {},
   "outputs": [
    {
     "data": {
      "text/html": [
       "\n",
       "<script>\n",
       "requirejs.config({\n",
       "    paths: {\n",
       "        d3: \"//cdnjs.cloudflare.com/ajax/libs/d3/ /d3\"\n",
       "    }\n",
       "});\n",
       "\n",
       "require(['d3'], function(d3) {\n",
       "    window.d3 = d3;\n",
       "});\n",
       "</script>\n",
       "<script>\n",
       "_select = d3.select;\n",
       "\n",
       "d3.select12 = function(selection) {\n",
       "    return _select(\"#d3-cell-12\").select(selection);\n",
       "}\n",
       "d3.selectAll12 = function(selection) {\n",
       "    return _select(\"#d3-cell-12\").selectAll(selection);\n",
       "}\n",
       "</script>\n",
       "<g id=\"d3-cell-12\">\n",
       "// 3. inline 함수에 '두번째'인자 추가 수정하기\n",
       "<svg id='no3'></svg>\n",
       "<script>\n",
       "d3.select12(\"#no3\")\n",
       "    .selectAll(\"rect\")            \n",
       "    .data([15, 50, 22, 8, 100, 80])\n",
       "    .enter()\n",
       "    .append('rect') \n",
       "    .attr('width', 10)\n",
       "    .attr('height', function(h) {return h;})  \n",
       "    .style('fill','red')\n",
       "    .style('stroke', 'yellow')\n",
       "    .style('stroke-width','1px')\n",
       "    .style('opacity', .25)\n",
       "    .attr('x', function(d,i) {return i * 10});  // 데이터의 i (index)를 덧붙여 출력\n",
       "// ? Question!!\n",
       "// h 는 어떻게 data[array] value 와 연결이 된건가?\n",
       "// i 는 어떻게 data[array] key 와 연결이 된건가\n",
       "</script>\n",
       "</g>"
      ],
      "text/plain": [
       "<IPython.core.display.HTML object>"
      ]
     },
     "metadata": {},
     "output_type": "display_data"
    }
   ],
   "source": [
    "%%d3  \n",
    "// 3. inline 함수에 '두번째'인자 추가 수정하기\n",
    "<svg id='no3'></svg>\n",
    "<script>\n",
    "d3.select(\"#no3\")\n",
    "    .selectAll(\"rect\")            \n",
    "    .data([15, 50, 22, 8, 100, 80])\n",
    "    .enter()\n",
    "    .append('rect') \n",
    "    .attr('width', 10)\n",
    "    .attr('height', function(h) {return h;})  \n",
    "    .style('fill','red')\n",
    "    .style('stroke', 'yellow')\n",
    "    .style('stroke-width','1px')\n",
    "    .style('opacity', .25)\n",
    "    .attr('x', function(d,i) {return i * 10});  // 데이터의 i (index)를 덧붙여 출력\n",
    "// ? Question!!\n",
    "// h 는 어떻게 data[array] value 와 연결이 된건가?\n",
    "// i 는 어떻게 data[array] key 와 연결이 된건가\n",
    "</script>"
   ]
  },
  {
   "cell_type": "code",
   "execution_count": 15,
   "metadata": {},
   "outputs": [
    {
     "data": {
      "text/html": [
       "\n",
       "<script>\n",
       "requirejs.config({\n",
       "    paths: {\n",
       "        d3: \"//cdnjs.cloudflare.com/ajax/libs/d3/ /d3\"\n",
       "    }\n",
       "});\n",
       "\n",
       "require(['d3'], function(d3) {\n",
       "    window.d3 = d3;\n",
       "});\n",
       "</script>\n",
       "<script>\n",
       "_select = d3.select;\n",
       "\n",
       "d3.select13 = function(selection) {\n",
       "    return _select(\"#d3-cell-13\").select(selection);\n",
       "}\n",
       "d3.selectAll13 = function(selection) {\n",
       "    return _select(\"#d3-cell-13\").selectAll(selection);\n",
       "}\n",
       "</script>\n",
       "<g id=\"d3-cell-13\">\n",
       "// 4. graph를 X축 위로 뒤집어 올리기\n",
       "<svg id='no4'></svg>\n",
       "<script>\n",
       "d3.select13(\"#no4\")                 \n",
       "    .selectAll(\"rect\")    \n",
       "    .data([15, 50, 22, 8, 100, 80])\n",
       "    .enter()\n",
       "    .append('rect') \n",
       "    .attr('width', 10)    \n",
       "    .attr('height', function(h) {return h;})\n",
       "    .style('fill','red')\n",
       "    .style('stroke', 'yellow')\n",
       "    .style('stroke-width','1px')\n",
       "    .style('opacity', .25)\n",
       "    .attr('x', function(d,i) {return i * 10})  // 데이터의 i (index)를 덧붙여서 출력\n",
       "    .attr('y', function(d) {return 100 - d});  // 데이터의 y 를 최대값에서 뺀 값으로 변환\n",
       "// ? Question!!\n",
       "// h 는 어떻게 data[array] value 와 연결이 된건가?\n",
       "// i 는 어떻게 data[array] key 와 연결이 된건가\n",
       "</script>\n",
       "</g>"
      ],
      "text/plain": [
       "<IPython.core.display.HTML object>"
      ]
     },
     "metadata": {},
     "output_type": "display_data"
    }
   ],
   "source": [
    "%%d3  \n",
    "// 4. graph를 X축 위로 뒤집어 올리기\n",
    "<svg id='no4'></svg>\n",
    "<script>\n",
    "d3.select(\"#no4\")                 \n",
    "    .selectAll(\"rect\")    \n",
    "    .data([15, 50, 22, 8, 100, 80])\n",
    "    .enter()\n",
    "    .append('rect') \n",
    "    .attr('width', 10)    \n",
    "    .attr('height', function(h) {return h;})\n",
    "    .style('fill','red')\n",
    "    .style('stroke', 'yellow')\n",
    "    .style('stroke-width','1px')\n",
    "    .style('opacity', .25)\n",
    "    .attr('x', function(d,i) {return i * 10})  // 데이터의 i (index)를 덧붙여서 출력\n",
    "    .attr('y', function(d) {return 100 - d});  // 데이터의 y 를 최대값에서 뺀 값으로 변환\n",
    "// ? Question!!\n",
    "// h 는 어떻게 data[array] value 와 연결이 된건가?\n",
    "// i 는 어떻게 data[array] key 와 연결이 된건가\n",
    "</script>"
   ]
  },
  {
   "cell_type": "markdown",
   "metadata": {},
   "source": [
    "### <strong>03 스케일의 통합\n",
    "실제 데이터값의 분산이 너무 클때"
   ]
  },
  {
   "cell_type": "code",
   "execution_count": 16,
   "metadata": {},
   "outputs": [
    {
     "data": {
      "text/html": [
       "\n",
       "<script>\n",
       "requirejs.config({\n",
       "    paths: {\n",
       "        d3: \"//cdnjs.cloudflare.com/ajax/libs/d3/ /d3\"\n",
       "    }\n",
       "});\n",
       "\n",
       "require(['d3'], function(d3) {\n",
       "    window.d3 = d3;\n",
       "});\n",
       "</script>\n",
       "<script>\n",
       "_select = d3.select;\n",
       "\n",
       "d3.select14 = function(selection) {\n",
       "    return _select(\"#d3-cell-14\").select(selection);\n",
       "}\n",
       "d3.selectAll14 = function(selection) {\n",
       "    return _select(\"#d3-cell-14\").selectAll(selection);\n",
       "}\n",
       "</script>\n",
       "<g id=\"d3-cell-14\">\n",
       "// 1. 데이터 분산이 큰 값을 기초로 그래프 그리기\n",
       "<svg id='var1'></svg>\n",
       "<script>\n",
       "d3.select14(\"#var1\")     \n",
       "    .selectAll(\"rect\") \n",
       "    .data([14, 68, 24500, 430, 19, 1000, 5555])\n",
       "    .enter()\n",
       "    .append('rect') \n",
       "    .attr('width', 10)\n",
       "    .attr('height', function(d) {return d})\n",
       "    .style('fill', 'red')\n",
       "    .style('stroke', 'yellow')\n",
       "    .style('stroke-width', '1px')\n",
       "    .style('opacity', .25)\n",
       "    .attr('x', function(d,i) {return i * 10;})\n",
       "    .attr('y', function(d) {return 100 -d});\n",
       "// 100 이외에는 구분 못하는 그래프를 출력 </script> \n",
       "</g>"
      ],
      "text/plain": [
       "<IPython.core.display.HTML object>"
      ]
     },
     "metadata": {},
     "output_type": "display_data"
    }
   ],
   "source": [
    "%%d3  \n",
    "// 1. 데이터 분산이 큰 값을 기초로 그래프 그리기\n",
    "<svg id='var1'></svg>\n",
    "<script>\n",
    "d3.select(\"#var1\")     \n",
    "    .selectAll(\"rect\") \n",
    "    .data([14, 68, 24500, 430, 19, 1000, 5555])\n",
    "    .enter()\n",
    "    .append('rect') \n",
    "    .attr('width', 10)\n",
    "    .attr('height', function(d) {return d})\n",
    "    .style('fill', 'red')\n",
    "    .style('stroke', 'yellow')\n",
    "    .style('stroke-width', '1px')\n",
    "    .style('opacity', .25)\n",
    "    .attr('x', function(d,i) {return i * 10;})\n",
    "    .attr('y', function(d) {return 100 -d});\n",
    "// 100 이외에는 구분 못하는 그래프를 출력 </script> "
   ]
  },
  {
   "cell_type": "code",
   "execution_count": 17,
   "metadata": {},
   "outputs": [
    {
     "data": {
      "text/html": [
       "\n",
       "<script>\n",
       "requirejs.config({\n",
       "    paths: {\n",
       "        d3: \"//cdnjs.cloudflare.com/ajax/libs/d3/ /d3\"\n",
       "    }\n",
       "});\n",
       "\n",
       "require(['d3'], function(d3) {\n",
       "    window.d3 = d3;\n",
       "});\n",
       "</script>\n",
       "<script>\n",
       "_select = d3.select;\n",
       "\n",
       "d3.select15 = function(selection) {\n",
       "    return _select(\"#d3-cell-15\").select(selection);\n",
       "}\n",
       "d3.selectAll15 = function(selection) {\n",
       "    return _select(\"#d3-cell-15\").selectAll(selection);\n",
       "}\n",
       "</script>\n",
       "<g id=\"d3-cell-15\">\n",
       "// 2. Y 오프셋을 최대값 적용\n",
       "<svg id='var2'></svg>\n",
       "<script>\n",
       "d3.select15(\"#var2\")     \n",
       "    .selectAll(\"rect\") \n",
       "    .data([14, 68, 24500, 430, 19, 1000, 5555])\n",
       "    .enter()\n",
       "    .append('rect') \n",
       "    .attr('width', 10)\n",
       "    .attr('height', function(d) {return d})\n",
       "    .style('fill', 'red')\n",
       "    .style('stroke', 'yellow')\n",
       "    .style('stroke-width', '1px')\n",
       "    .style('opacity', .25)\n",
       "    .attr('x', function(d,i) {return i * 10;})\n",
       "    .attr('y', function(d) {return 24500 -d});\n",
       "// 가장 긴 그래프만 출력될 뿐 나머지는 출력되지 않는다 </script>\n",
       "</g>"
      ],
      "text/plain": [
       "<IPython.core.display.HTML object>"
      ]
     },
     "metadata": {},
     "output_type": "display_data"
    }
   ],
   "source": [
    "%%d3  \n",
    "// 2. Y 오프셋을 최대값 적용\n",
    "<svg id='var2'></svg>\n",
    "<script>\n",
    "d3.select(\"#var2\")     \n",
    "    .selectAll(\"rect\") \n",
    "    .data([14, 68, 24500, 430, 19, 1000, 5555])\n",
    "    .enter()\n",
    "    .append('rect') \n",
    "    .attr('width', 10)\n",
    "    .attr('height', function(d) {return d})\n",
    "    .style('fill', 'red')\n",
    "    .style('stroke', 'yellow')\n",
    "    .style('stroke-width', '1px')\n",
    "    .style('opacity', .25)\n",
    "    .attr('x', function(d,i) {return i * 10;})\n",
    "    .attr('y', function(d) {return 24500 -d});\n",
    "// 가장 긴 그래프만 출력될 뿐 나머지는 출력되지 않는다 </script>"
   ]
  },
  {
   "cell_type": "code",
   "execution_count": 18,
   "metadata": {},
   "outputs": [
    {
     "data": {
      "text/html": [
       "\n",
       "<script>\n",
       "requirejs.config({\n",
       "    paths: {\n",
       "        d3: \"//cdnjs.cloudflare.com/ajax/libs/d3/ /d3\"\n",
       "    }\n",
       "});\n",
       "\n",
       "require(['d3'], function(d3) {\n",
       "    window.d3 = d3;\n",
       "});\n",
       "</script>\n",
       "<script>\n",
       "_select = d3.select;\n",
       "\n",
       "d3.select16 = function(selection) {\n",
       "    return _select(\"#d3-cell-16\").select(selection);\n",
       "}\n",
       "d3.selectAll16 = function(selection) {\n",
       "    return _select(\"#d3-cell-16\").selectAll(selection);\n",
       "}\n",
       "</script>\n",
       "<g id=\"d3-cell-16\">\n",
       "// 3. 스케일러로 보정한 값으로 그림 그리기\n",
       "<svg id='var3'></svg>\n",
       "<script>\n",
       "var yScale = d3.scale.linear().domain([0, 24500]).range([0,100]);\n",
       "d3.select16(\"#var3\")     \n",
       "    .selectAll(\"rect\") \n",
       "    .data([14, 68, 24500, 430, 19, 1000, 5555])\n",
       "    .enter()\n",
       "    .append('rect') \n",
       "    .attr('width', 10)\n",
       "    .attr('height', function(d) {return yScale(d);})\n",
       "    .style('fill', 'red')\n",
       "    .style('stroke', 'yellow')\n",
       "    .style('stroke-width', '1px')\n",
       "    .style('opacity', .25)\n",
       "    .attr('x', function(d,i) {return i * 10;})\n",
       "    .attr('y', function(d) {return 100 -yScale(d);});\n",
       "// 데이터 스케일을 변환한 크기값으로 그래프를 그린다 </script>\n",
       "</g>"
      ],
      "text/plain": [
       "<IPython.core.display.HTML object>"
      ]
     },
     "metadata": {},
     "output_type": "display_data"
    }
   ],
   "source": [
    "%%d3  \n",
    "// 3. 스케일러로 보정한 값으로 그림 그리기\n",
    "<svg id='var3'></svg>\n",
    "<script>\n",
    "var yScale = d3.scale.linear().domain([0, 24500]).range([0,100]);\n",
    "d3.select(\"#var3\")     \n",
    "    .selectAll(\"rect\") \n",
    "    .data([14, 68, 24500, 430, 19, 1000, 5555])\n",
    "    .enter()\n",
    "    .append('rect') \n",
    "    .attr('width', 10)\n",
    "    .attr('height', function(d) {return yScale(d);})\n",
    "    .style('fill', 'red')\n",
    "    .style('stroke', 'yellow')\n",
    "    .style('stroke-width', '1px')\n",
    "    .style('opacity', .25)\n",
    "    .attr('x', function(d,i) {return i * 10;})\n",
    "    .attr('y', function(d) {return 100 -yScale(d);});\n",
    "// 데이터 스케일을 변환한 크기값으로 그래프를 그린다 </script>"
   ]
  },
  {
   "cell_type": "code",
   "execution_count": 19,
   "metadata": {},
   "outputs": [
    {
     "data": {
      "text/html": [
       "\n",
       "<script>\n",
       "requirejs.config({\n",
       "    paths: {\n",
       "        d3: \"//cdnjs.cloudflare.com/ajax/libs/d3/ /d3\"\n",
       "    }\n",
       "});\n",
       "\n",
       "require(['d3'], function(d3) {\n",
       "    window.d3 = d3;\n",
       "});\n",
       "</script>\n",
       "<script>\n",
       "_select = d3.select;\n",
       "\n",
       "d3.select17 = function(selection) {\n",
       "    return _select(\"#d3-cell-17\").select(selection);\n",
       "}\n",
       "d3.selectAll17 = function(selection) {\n",
       "    return _select(\"#d3-cell-17\").selectAll(selection);\n",
       "}\n",
       "</script>\n",
       "<g id=\"d3-cell-17\">\n",
       "// 4. 스케일러를 세분화한 결과값을 사용하여 그림 그리기\n",
       "<svg id='var4'></svg>\n",
       "<script>\n",
       "var yScale = d3.scale.linear().domain([0,100,1000, 24500]).range([0,50,75,100]);\n",
       "d3.select17(\"#var4\")     \n",
       "    .selectAll(\"rect\") \n",
       "    .data([14, 68, 24500, 430, 19, 1000, 5555])\n",
       "    .enter()\n",
       "    .append('rect') \n",
       "    .attr('width', 10)\n",
       "    .attr('height', function(d) {return yScale(d);})\n",
       "    .style('fill', 'red')\n",
       "    .style('stroke', 'yellow')\n",
       "    .style('stroke-width', '1px')\n",
       "    .style('opacity', .25)\n",
       "    .attr('x', function(d,i) {return i * 10;})\n",
       "    .attr('y', function(d) {return 100 -yScale(d);});\n",
       "// 데이터 스케일을 변환한 크기값으로 그래프를 그린다 </script>\n",
       "</g>"
      ],
      "text/plain": [
       "<IPython.core.display.HTML object>"
      ]
     },
     "metadata": {},
     "output_type": "display_data"
    }
   ],
   "source": [
    "%%d3  \n",
    "// 4. 스케일러를 세분화한 결과값을 사용하여 그림 그리기\n",
    "<svg id='var4'></svg>\n",
    "<script>\n",
    "var yScale = d3.scale.linear().domain([0,100,1000, 24500]).range([0,50,75,100]);\n",
    "d3.select(\"#var4\")     \n",
    "    .selectAll(\"rect\") \n",
    "    .data([14, 68, 24500, 430, 19, 1000, 5555])\n",
    "    .enter()\n",
    "    .append('rect') \n",
    "    .attr('width', 10)\n",
    "    .attr('height', function(d) {return yScale(d);})\n",
    "    .style('fill', 'red')\n",
    "    .style('stroke', 'yellow')\n",
    "    .style('stroke-width', '1px')\n",
    "    .style('opacity', .25)\n",
    "    .attr('x', function(d,i) {return i * 10;})\n",
    "    .attr('y', function(d) {return 100 -yScale(d);});\n",
    "// 데이터 스케일을 변환한 크기값으로 그래프를 그린다 </script>"
   ]
  },
  {
   "cell_type": "code",
   "execution_count": 20,
   "metadata": {},
   "outputs": [
    {
     "data": {
      "text/html": [
       "\n",
       "<script>\n",
       "requirejs.config({\n",
       "    paths: {\n",
       "        d3: \"//cdnjs.cloudflare.com/ajax/libs/d3/ /d3\"\n",
       "    }\n",
       "});\n",
       "\n",
       "require(['d3'], function(d3) {\n",
       "    window.d3 = d3;\n",
       "});\n",
       "</script>\n",
       "<script>\n",
       "_select = d3.select;\n",
       "\n",
       "d3.select18 = function(selection) {\n",
       "    return _select(\"#d3-cell-18\").select(selection);\n",
       "}\n",
       "d3.selectAll18 = function(selection) {\n",
       "    return _select(\"#d3-cell-18\").selectAll(selection);\n",
       "}\n",
       "</script>\n",
       "<g id=\"d3-cell-18\">\n",
       "// 5. 0 ~ 500 구간만 확대하여 시각화 하는 경우\n",
       "<svg id='var4'></svg>\n",
       "<script>\n",
       "var yScale = d3.scale.linear().domain([0,100,500]).range([0,50,100]);\n",
       "d3.select18(\"#var4\")     \n",
       "    .selectAll(\"rect\") \n",
       "    .data([14, 68, 24500, 430, 19, 1000, 5555])\n",
       "    .enter()\n",
       "    .append('rect') \n",
       "    .attr('width', 10)\n",
       "    .attr('height', function(d) {return yScale(d);})\n",
       "    .style('fill', 'red')\n",
       "    .style('stroke', 'yellow')\n",
       "    .style('stroke-width', '1px')\n",
       "    .style('opacity', .25)\n",
       "    .attr('x', function(d,i) {return i * 10;})\n",
       "    .attr('y', function(d) {return 100 -yScale(d);});\n",
       "// alert(yScale(1000));  // 500이 넘어가는 값은 100이상의 값을 출력한다\n",
       "// 데이터 스케일을 변환한 크기값으로 그래프를 그린다 </script>\n",
       "</g>"
      ],
      "text/plain": [
       "<IPython.core.display.HTML object>"
      ]
     },
     "metadata": {},
     "output_type": "display_data"
    }
   ],
   "source": [
    "%%d3  \n",
    "// 5. 0 ~ 500 구간만 확대하여 시각화 하는 경우\n",
    "<svg id='var4'></svg>\n",
    "<script>\n",
    "var yScale = d3.scale.linear().domain([0,100,500]).range([0,50,100]);\n",
    "d3.select(\"#var4\")     \n",
    "    .selectAll(\"rect\") \n",
    "    .data([14, 68, 24500, 430, 19, 1000, 5555])\n",
    "    .enter()\n",
    "    .append('rect') \n",
    "    .attr('width', 10)\n",
    "    .attr('height', function(d) {return yScale(d);})\n",
    "    .style('fill', 'red')\n",
    "    .style('stroke', 'yellow')\n",
    "    .style('stroke-width', '1px')\n",
    "    .style('opacity', .25)\n",
    "    .attr('x', function(d,i) {return i * 10;})\n",
    "    .attr('y', function(d) {return 100 -yScale(d);});\n",
    "// alert(yScale(1000));  // 500이 넘어가는 값은 100이상의 값을 출력한다\n",
    "// 데이터 스케일을 변환한 크기값으로 그래프를 그린다 </script>"
   ]
  },
  {
   "cell_type": "markdown",
   "metadata": {},
   "source": [
    "<br>\n",
    "## <strong>3 데이터 표현 스타일, 속성, 콘텐츠\n",
    "그래프들의 속성을 설정하는 방법을 익히고, D3에서의 요소 생성,삭제,변경에 대해 알아본다\n",
    "### <strong>01 로딩된 데이터를 시각화\n",
    "CSV 데이터를 기반으로 막대그래프 구현하기"
   ]
  },
  {
   "cell_type": "code",
   "execution_count": 21,
   "metadata": {},
   "outputs": [
    {
     "data": {
      "text/html": [
       "\n",
       "<script>\n",
       "requirejs.config({\n",
       "    paths: {\n",
       "        d3: \"//cdnjs.cloudflare.com/ajax/libs/d3/ /d3\"\n",
       "    }\n",
       "});\n",
       "\n",
       "require(['d3'], function(d3) {\n",
       "    window.d3 = d3;\n",
       "});\n",
       "</script>\n",
       "<script>\n",
       "_select = d3.select;\n",
       "\n",
       "d3.select19 = function(selection) {\n",
       "    return _select(\"#d3-cell-19\").select(selection);\n",
       "}\n",
       "d3.selectAll19 = function(selection) {\n",
       "    return _select(\"#d3-cell-19\").selectAll(selection);\n",
       "}\n",
       "</script>\n",
       "<g id=\"d3-cell-19\">\n",
       "// 5. 0 ~ 500 구간만 확대하여 시각화 하는 경우\n",
       "<svg id='csv1'>\n",
       "</svg>\n",
       "<script>\n",
       "d3.csv(\"./data/cities.csv\", function(error,data) {dataViz(data);});\n",
       "\n",
       "function dataViz(incomingData) {\n",
       "        var maxPopulation = d3.max(incomingData, function(el) {\n",
       "            return parseInt(el.population);} // 인구값을 정수로 변환하여 출력\n",
       ");\n",
       "    var yScale = d3.scale.linear().domain([0,maxPopulation]).range([0,200]);\n",
       "    d3.select19(\"#csv1\")\n",
       "      .attr(\"style\",\"height: 480px; width: 600px;\");\n",
       "    d3.select19(\"#csv1\")\n",
       "      .selectAll(\"rect\")\n",
       "      .data(incomingData)\n",
       "      .enter()\n",
       "      .append(\"rect\")\n",
       "      .attr(\"width\", 50)\n",
       "      .attr(\"height\", function(d) {return yScale(parseInt(d.population));})\n",
       "      .attr(\"x\", function(d,i) {return i * 60;})\n",
       "      .attr(\"y\", function(d) {return 200 - yScale(parseInt(d.population));})\n",
       "      .style(\"fill\", \"red\")\n",
       "      .style(\"stroke\", \"yellow\")\n",
       "      .style(\"stroke-width\", \"1px\")\n",
       "      .style(\"opacity\", .25); }\n",
       "// alert(yScale(1000));  // 500이 넘어가는 값은 100이상의 값을 출력한다\n",
       "// 데이터 스케일을 변환한 크기값으로 그래프를 그린다 </script>\n",
       "</g>"
      ],
      "text/plain": [
       "<IPython.core.display.HTML object>"
      ]
     },
     "metadata": {},
     "output_type": "display_data"
    }
   ],
   "source": [
    "%%d3  \n",
    "// 5. 0 ~ 500 구간만 확대하여 시각화 하는 경우\n",
    "<svg id='csv1'>\n",
    "</svg>\n",
    "<script>\n",
    "d3.csv(\"./data/cities.csv\", function(error,data) {dataViz(data);});\n",
    "\n",
    "function dataViz(incomingData) {\n",
    "        var maxPopulation = d3.max(incomingData, function(el) {\n",
    "            return parseInt(el.population);} // 인구값을 정수로 변환하여 출력\n",
    ");\n",
    "    var yScale = d3.scale.linear().domain([0,maxPopulation]).range([0,200]);\n",
    "    d3.select(\"#csv1\")\n",
    "      .attr(\"style\",\"height: 480px; width: 600px;\");\n",
    "    d3.select(\"#csv1\")\n",
    "      .selectAll(\"rect\")\n",
    "      .data(incomingData)\n",
    "      .enter()\n",
    "      .append(\"rect\")\n",
    "      .attr(\"width\", 50)\n",
    "      .attr(\"height\", function(d) {return yScale(parseInt(d.population));})\n",
    "      .attr(\"x\", function(d,i) {return i * 60;})\n",
    "      .attr(\"y\", function(d) {return 200 - yScale(parseInt(d.population));})\n",
    "      .style(\"fill\", \"red\")\n",
    "      .style(\"stroke\", \"yellow\")\n",
    "      .style(\"stroke-width\", \"1px\")\n",
    "      .style(\"opacity\", .25); }\n",
    "// alert(yScale(1000));  // 500이 넘어가는 값은 100이상의 값을 출력한다\n",
    "// 데이터 스케일을 변환한 크기값으로 그래프를 그린다 </script>"
   ]
  },
  {
   "cell_type": "code",
   "execution_count": 22,
   "metadata": {
    "collapsed": true
   },
   "outputs": [],
   "source": [
    "# d3.json(\"tweets.json\",function(error,data) {dataViz(data.tweets)});\n",
    "# function dataViz(incomingData) {\n",
    "# var nestedTweets = d3.nest()\n",
    "# .key(function (el) {return el.user;})\n",
    "# .entries(incomingData);\n",
    "# nestedTweets.forEach(function (el) {\n",
    "# el.numTweets = el.values.length;\n",
    "# })\n",
    "# var maxTweets = d3.max(nestedTweets, function(el) {return el.numTweets;});\n",
    "# var yScale = d3.scale.linear().domain([0,maxTweets]).range([0,100]);\n",
    "# d3.select(\"svg\")\n",
    "# .selectAll(\"rect\")\n",
    "# .data(nestedTweets)\n",
    "# .enter()\n",
    "# .append(\"rect\")\n",
    "# .attr(\"width\", 50)\n",
    "#     .attr(\"height\", function(d) {return yScale(d.numTweets);})\n",
    "# .attr(\"x\", function(d,i) {return i * 60;})\n",
    "# .attr(\"y\", function(d) {return 100 - yScale(d.numTweets);})\n",
    "# .style(\"fill\", \"blue\")\n",
    "# .style(\"stroke\", \"red\")\n",
    "# .style(\"stroke-width\", \"1px\").style(\"opacity\", .25);\n",
    "# }"
   ]
  },
  {
   "cell_type": "code",
   "execution_count": null,
   "metadata": {
    "collapsed": true
   },
   "outputs": [],
   "source": []
  }
 ],
 "metadata": {
  "kernelspec": {
   "display_name": "Python 3",
   "language": "python",
   "name": "python3"
  },
  "language_info": {
   "codemirror_mode": {
    "name": "ipython",
    "version": 3
   },
   "file_extension": ".py",
   "mimetype": "text/x-python",
   "name": "python",
   "nbconvert_exporter": "python",
   "pygments_lexer": "ipython3",
   "version": "3.6.1"
  }
 },
 "nbformat": 4,
 "nbformat_minor": 2
}
