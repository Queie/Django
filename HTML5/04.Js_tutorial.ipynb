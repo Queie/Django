{
 "cells": [
  {
   "cell_type": "markdown",
   "metadata": {},
   "source": [
    "# <strong>JS tutorial\n",
    "<strong>Javascript Jquery 입문 실전북"
   ]
  },
  {
   "cell_type": "markdown",
   "metadata": {
    "collapsed": true
   },
   "source": [
    "<br>\n",
    "## <strong> 1 변수\n",
    "변수 이해하기\n",
    "1. 기본타입 : 숫자, 문자, boolean, null, undefined\n",
    "2. 참조타입 : Object(메소드 모음), Array()(배열), function(함수)"
   ]
  },
  {
   "cell_type": "code",
   "execution_count": 1,
   "metadata": {},
   "outputs": [
    {
     "data": {
      "text/html": [
       "<!-- 기본타입 -->\n",
       "\n",
       "<script>\n",
       "var i;\n",
       "var str = \"abc\";\n",
       "var bool = false;\n",
       "var n = null;\n",
       "var u;\n",
       "console.log(str);\n",
       "</script>"
      ],
      "text/plain": [
       "<IPython.core.display.HTML object>"
      ]
     },
     "metadata": {},
     "output_type": "display_data"
    }
   ],
   "source": [
    "%%html\n",
    "<!-- 기본타입 -->\n",
    "\n",
    "<script>\n",
    "var i;\n",
    "var str = \"abc\";\n",
    "var bool = false;\n",
    "var n = null;\n",
    "var u;\n",
    "console.log(str);\n",
    "</script>"
   ]
  },
  {
   "cell_type": "code",
   "execution_count": 2,
   "metadata": {},
   "outputs": [
    {
     "data": {
      "text/html": [
       "<!-- 참조타입 -->\n",
       "\n",
       "<script>\n",
       "var obj = new Object();\n",
       "var arr = new Array();\n",
       "\n",
       "function sum(a,b){\n",
       "    var c = a + b;\n",
       "}\n",
       "</script>"
      ],
      "text/plain": [
       "<IPython.core.display.HTML object>"
      ]
     },
     "metadata": {},
     "output_type": "display_data"
    }
   ],
   "source": [
    "%%html\n",
    "<!-- 참조타입 -->\n",
    "\n",
    "<script>\n",
    "var obj = new Object();\n",
    "var arr = new Array();\n",
    "\n",
    "function sum(a,b){\n",
    "    var c = a + b;\n",
    "}\n",
    "</script>"
   ]
  },
  {
   "cell_type": "markdown",
   "metadata": {
    "collapsed": true
   },
   "source": [
    "<br>\n",
    "## <strong> 2 연산자\n",
    "다양한 연산을 처리"
   ]
  },
  {
   "cell_type": "code",
   "execution_count": 3,
   "metadata": {},
   "outputs": [
    {
     "data": {
      "text/html": [
       "<!-- 사칙연산 \n",
       ": 연산결과가 sum 매개변수에 저장-->\n",
       "\n",
       "<script>\n",
       "var a = 40;\n",
       "var b = 30;\n",
       "var c = 5;\n",
       "var d = 10;\n",
       "\n",
       "var sum = (a+b-c)/d;\n",
       "</script>"
      ],
      "text/plain": [
       "<IPython.core.display.HTML object>"
      ]
     },
     "metadata": {},
     "output_type": "display_data"
    }
   ],
   "source": [
    "%%html\n",
    "<!-- 사칙연산 \n",
    ": 연산결과가 sum 매개변수에 저장-->\n",
    "\n",
    "<script>\n",
    "var a = 40;\n",
    "var b = 30;\n",
    "var c = 5;\n",
    "var d = 10;\n",
    "\n",
    "var sum = (a+b-c)/d;\n",
    "</script>"
   ]
  },
  {
   "cell_type": "code",
   "execution_count": 4,
   "metadata": {},
   "outputs": [
    {
     "data": {
      "text/html": [
       "<!-- 문자열 연산 \n",
       ": 문자열을 이어 붙인다-->\n",
       "\n",
       "<script>\n",
       "var a = '자바스크립트';\n",
       "var b = \"프로그래밍기초\";\n",
       "var sum = a + b;\n",
       "/*document.write(sum);*/\n",
       "</script>"
      ],
      "text/plain": [
       "<IPython.core.display.HTML object>"
      ]
     },
     "metadata": {},
     "output_type": "display_data"
    }
   ],
   "source": [
    "%%html\n",
    "<!-- 문자열 연산 \n",
    ": 문자열을 이어 붙인다-->\n",
    "\n",
    "<script>\n",
    "var a = '자바스크립트';\n",
    "var b = \"프로그래밍기초\";\n",
    "var sum = a + b;\n",
    "/*document.write(sum);*/\n",
    "</script>"
   ]
  },
  {
   "cell_type": "markdown",
   "metadata": {
    "collapsed": true
   },
   "source": [
    "<br>\n",
    "## <strong> 3 조건문\n",
    "특정 조건의 만족 여부를 계산"
   ]
  },
  {
   "cell_type": "code",
   "execution_count": 5,
   "metadata": {},
   "outputs": [
    {
     "data": {
      "text/html": [
       "<!-- if 조건문 -->\n",
       "\n",
       "<script>\n",
       "var a = 10;\n",
       "var b = 20;\n",
       "\n",
       "if(a<b){\n",
       "    c = \"a는 b보다 작습니다.\";\n",
       "}\n",
       "</script>"
      ],
      "text/plain": [
       "<IPython.core.display.HTML object>"
      ]
     },
     "metadata": {},
     "output_type": "display_data"
    }
   ],
   "source": [
    "%%html\n",
    "<!-- if 조건문 -->\n",
    "\n",
    "<script>\n",
    "var a = 10;\n",
    "var b = 20;\n",
    "\n",
    "if(a<b){\n",
    "    c = \"a는 b보다 작습니다.\";\n",
    "}\n",
    "</script>"
   ]
  },
  {
   "cell_type": "code",
   "execution_count": 6,
   "metadata": {},
   "outputs": [
    {
     "data": {
      "text/html": [
       "<!-- if 조건문 -->\n",
       "\n",
       "<html>\n",
       "<script>\n",
       "var a = 10;\n",
       "var b = 20;\n",
       "\n",
       "if(a<b){\n",
       "    document.getElementById(\"if조건\").innerHTML =\"a는 b보다 작습니다.\";\n",
       "}\n",
       "</script>\n",
       "<p id=\"if조건\"></p>"
      ],
      "text/plain": [
       "<IPython.core.display.HTML object>"
      ]
     },
     "metadata": {},
     "output_type": "display_data"
    }
   ],
   "source": [
    "%%html\n",
    "<!-- if 조건문 -->\n",
    "\n",
    "<html>\n",
    "<script>\n",
    "var a = 10;\n",
    "var b = 20;\n",
    "\n",
    "if(a<b){\n",
    "    document.getElementById(\"if조건\").innerHTML =\"a는 b보다 작습니다.\";\n",
    "}\n",
    "</script>\n",
    "<p id=\"if조건\"></p>"
   ]
  },
  {
   "cell_type": "code",
   "execution_count": 7,
   "metadata": {},
   "outputs": [
    {
     "data": {
      "text/html": [
       "<!-- if else 조건문 -->\n",
       "\n",
       "<html>\n",
       "<script>\n",
       "var a = 10;\n",
       "var b = 20;\n",
       "\n",
       "if(a<b){\n",
       "    document.getElementById(\"if조건2\").innerHTML =\"a는 b보다 작습니다.\";\n",
       "}else{\n",
       "    document.getElementById(\"if조건2\").innerHTML =\"b는 a보다 작습니다.\";\n",
       "}\n",
       "</script>\n",
       "<p id=\"if조건2\"></p>"
      ],
      "text/plain": [
       "<IPython.core.display.HTML object>"
      ]
     },
     "metadata": {},
     "output_type": "display_data"
    }
   ],
   "source": [
    "%%html\n",
    "<!-- if else 조건문 -->\n",
    "\n",
    "<html>\n",
    "<script>\n",
    "var a = 10;\n",
    "var b = 20;\n",
    "\n",
    "if(a<b){\n",
    "    document.getElementById(\"if조건2\").innerHTML =\"a는 b보다 작습니다.\";\n",
    "}else{\n",
    "    document.getElementById(\"if조건2\").innerHTML =\"b는 a보다 작습니다.\";\n",
    "}\n",
    "</script>\n",
    "<p id=\"if조건2\"></p>"
   ]
  },
  {
   "cell_type": "code",
   "execution_count": 8,
   "metadata": {},
   "outputs": [
    {
     "data": {
      "text/html": [
       "<!-- if else 조건문 -->\n",
       "\n",
       "<html>\n",
       "<script>\n",
       "var a = 10;\n",
       "var b = 20;\n",
       "var c = 5;\n",
       "if(a>b){\n",
       "    document.getElementById(\"if조건3\").innerHTML =\"a는 b보다 큽니다\";\n",
       "}else if(b>c){\n",
       "    document.getElementById(\"if조건3\").innerHTML =\"b는 c보다 큽니다\";\n",
       "}else if(a>c){\n",
       "    document.getElementById(\"if조건3\").innerHTML =\"a는 c보다 큽니다\";\n",
       "}else {\n",
       "    document.getElementById(\"if조건3\").innerHTML =\"모든 조건을 만족하지 않습니다\";\n",
       "}\n",
       "</script>\n",
       "<p id=\"if조건3\"></p>"
      ],
      "text/plain": [
       "<IPython.core.display.HTML object>"
      ]
     },
     "metadata": {},
     "output_type": "display_data"
    }
   ],
   "source": [
    "%%html\n",
    "<!-- if else 조건문 -->\n",
    "\n",
    "<html>\n",
    "<script>\n",
    "var a = 10;\n",
    "var b = 20;\n",
    "var c = 5;\n",
    "if(a>b){\n",
    "    document.getElementById(\"if조건3\").innerHTML =\"a는 b보다 큽니다\";\n",
    "}else if(b>c){\n",
    "    document.getElementById(\"if조건3\").innerHTML =\"b는 c보다 큽니다\";\n",
    "}else if(a>c){\n",
    "    document.getElementById(\"if조건3\").innerHTML =\"a는 c보다 큽니다\";\n",
    "}else {\n",
    "    document.getElementById(\"if조건3\").innerHTML =\"모든 조건을 만족하지 않습니다\";\n",
    "}\n",
    "</script>\n",
    "<p id=\"if조건3\"></p>"
   ]
  },
  {
   "cell_type": "code",
   "execution_count": 9,
   "metadata": {},
   "outputs": [
    {
     "data": {
      "text/html": [
       "<!-- && : 논리 and (모두 충족시) -->\n",
       "\n",
       "<script>\n",
       "var a = 10;\n",
       "var b = 20;\n",
       "var c = 30;\n",
       "\n",
       "if(a<b && b<c){\n",
       "    document.getElementById(\"if조건&&\").innerHTML =\"a는 b보다 작고, b는 c보다 작습니다\";\n",
       "}\n",
       "</script>\n",
       "<p id=\"if조건&&\"></p>"
      ],
      "text/plain": [
       "<IPython.core.display.HTML object>"
      ]
     },
     "metadata": {},
     "output_type": "display_data"
    }
   ],
   "source": [
    "%%html\n",
    "<!-- && : 논리 and (모두 충족시) -->\n",
    "\n",
    "<script>\n",
    "var a = 10;\n",
    "var b = 20;\n",
    "var c = 30;\n",
    "\n",
    "if(a<b && b<c){\n",
    "    document.getElementById(\"if조건&&\").innerHTML =\"a는 b보다 작고, b는 c보다 작습니다\";\n",
    "}\n",
    "</script>\n",
    "<p id=\"if조건&&\"></p>"
   ]
  },
  {
   "cell_type": "code",
   "execution_count": 10,
   "metadata": {},
   "outputs": [
    {
     "data": {
      "text/html": [
       "<!-- || : 논리 or (택일 충족시) -->\n",
       "\n",
       "<script>\n",
       "var a = 10;\n",
       "var b = 20;\n",
       "var c = 30;\n",
       "\n",
       "if(a<b || b<c){\n",
       "    document.getElementById(\"if조건||\").innerHTML =\"a는 b보다 작고, b는 c보다 작습니다\";\n",
       "}\n",
       "</script>\n",
       "<p id=\"if조건||\"></p>"
      ],
      "text/plain": [
       "<IPython.core.display.HTML object>"
      ]
     },
     "metadata": {},
     "output_type": "display_data"
    }
   ],
   "source": [
    "%%html\n",
    "<!-- || : 논리 or (택일 충족시) -->\n",
    "\n",
    "<script>\n",
    "var a = 10;\n",
    "var b = 20;\n",
    "var c = 30;\n",
    "\n",
    "if(a<b || b<c){\n",
    "    document.getElementById(\"if조건||\").innerHTML =\"a는 b보다 작고, b는 c보다 작습니다\";\n",
    "}\n",
    "</script>\n",
    "<p id=\"if조건||\"></p>"
   ]
  },
  {
   "cell_type": "code",
   "execution_count": 11,
   "metadata": {},
   "outputs": [
    {
     "data": {
      "text/html": [
       "<!-- 조건문의 중첩적 활용 \n",
       ": 1단계 조건(자료의 일치확인), 2단계 조건(크기비교) -->\n",
       "\n",
       "<script>\n",
       "var a = 10;\n",
       "var b = 20;\n",
       "\n",
       "if(a != b){\n",
       "    if(a > b){\n",
       "        document.getElementById(\"if조건조건\").innerHTML =\"a는 b보다 크다\";\n",
       "    } else {\n",
       "        document.getElementById(\"if조건조건\").innerHTML =\"a는 b보다 작다\";\n",
       "    }}\n",
       "</script>\n",
       "<p id=\"if조건조건\"></p>"
      ],
      "text/plain": [
       "<IPython.core.display.HTML object>"
      ]
     },
     "metadata": {},
     "output_type": "display_data"
    }
   ],
   "source": [
    "%%html\n",
    "<!-- 조건문의 중첩적 활용 \n",
    ": 1단계 조건(자료의 일치확인), 2단계 조건(크기비교) -->\n",
    "\n",
    "<script>\n",
    "var a = 10;\n",
    "var b = 20;\n",
    "\n",
    "if(a != b){\n",
    "    if(a > b){\n",
    "        document.getElementById(\"if조건조건\").innerHTML =\"a는 b보다 크다\";\n",
    "    } else {\n",
    "        document.getElementById(\"if조건조건\").innerHTML =\"a는 b보다 작다\";\n",
    "    }}\n",
    "</script>\n",
    "<p id=\"if조건조건\"></p>"
   ]
  },
  {
   "cell_type": "code",
   "execution_count": 12,
   "metadata": {},
   "outputs": [
    {
     "data": {
      "text/html": [
       "<!-- 조건문의 중첩적 활용 - 같은내용 간결하게 연산하기\n",
       ": (조건) ? True 실행문 : False 실행문; -->\n",
       "\n",
       "<script>\n",
       "var a = 10;\n",
       "var b = 20;\n",
       "if(a != b){\n",
       "    (a > b) ? document.getElementById(\"if조건조건2\").innerHTML =\"a는 b보다 크다\"\n",
       "            : document.getElementById(\"if조건조건2\").innerHTML =\"a는 b보다 작다\";}\n",
       "</script>\n",
       "<p id=\"if조건조건2\"></p>"
      ],
      "text/plain": [
       "<IPython.core.display.HTML object>"
      ]
     },
     "metadata": {},
     "output_type": "display_data"
    }
   ],
   "source": [
    "%%html\n",
    "<!-- 조건문의 중첩적 활용 - 같은내용 간결하게 연산하기\n",
    ": (조건) ? True 실행문 : False 실행문; -->\n",
    "\n",
    "<script>\n",
    "var a = 10;\n",
    "var b = 20;\n",
    "if(a != b){\n",
    "    (a > b) ? document.getElementById(\"if조건조건2\").innerHTML =\"a는 b보다 크다\"\n",
    "            : document.getElementById(\"if조건조건2\").innerHTML =\"a는 b보다 작다\";}\n",
    "</script>\n",
    "<p id=\"if조건조건2\"></p>"
   ]
  },
  {
   "cell_type": "markdown",
   "metadata": {
    "collapsed": true
   },
   "source": [
    "<br>\n",
    "## <strong> 4 함수\n",
    "function : 미리 만들어진 구문을 사용, 재사용"
   ]
  },
  {
   "cell_type": "code",
   "execution_count": 13,
   "metadata": {},
   "outputs": [
    {
     "data": {
      "text/html": [
       "<!-- 함수선언, 함수호출 -->\n",
       "\n",
       "<script>\n",
       "function send(){\n",
       "    alert('전송');\n",
       "}\n",
       "send();\n",
       "</script>"
      ],
      "text/plain": [
       "<IPython.core.display.HTML object>"
      ]
     },
     "metadata": {},
     "output_type": "display_data"
    }
   ],
   "source": [
    "%%html\n",
    "<!-- 함수선언, 함수호출 -->\n",
    "\n",
    "<script>\n",
    "function send(){\n",
    "    alert('전송');\n",
    "}\n",
    "send();\n",
    "</script>"
   ]
  },
  {
   "cell_type": "code",
   "execution_count": 14,
   "metadata": {},
   "outputs": [
    {
     "data": {
      "text/html": [
       "<!-- 인자값과 매개변수 -->\n",
       "\n",
       "<script>\n",
       "var a = 10;\n",
       "var b = 20;\n",
       "add(a,b);\n",
       "\n",
       "function add(v1,v2){\n",
       "    var sum = v1 + v2;\n",
       "document.getElementById(\"인자_매개\").innerHTML = sum;\n",
       "}\n",
       "</script>\n",
       "<p id=\"인자_매개\"></p>"
      ],
      "text/plain": [
       "<IPython.core.display.HTML object>"
      ]
     },
     "metadata": {},
     "output_type": "display_data"
    }
   ],
   "source": [
    "%%html\n",
    "<!-- 인자값과 매개변수 -->\n",
    "\n",
    "<script>\n",
    "var a = 10;\n",
    "var b = 20;\n",
    "add(a,b);\n",
    "\n",
    "function add(v1,v2){\n",
    "    var sum = v1 + v2;\n",
    "document.getElementById(\"인자_매개\").innerHTML = sum;\n",
    "}\n",
    "</script>\n",
    "<p id=\"인자_매개\"></p>"
   ]
  },
  {
   "cell_type": "code",
   "execution_count": 15,
   "metadata": {},
   "outputs": [
    {
     "data": {
      "text/html": [
       "<!-- 반환값(return)\n",
       ": 구문 결과를 반환값으로 정리, 유연한 개발에 용이 -->\n",
       "\n",
       "<script>\n",
       "var a = 10;\n",
       "var b = 20;\n",
       "var sum = add(a,b);\n",
       "\n",
       "function add(v1,v2){\n",
       "    var sum = v1 + v2;\n",
       "    return sum;\n",
       "}\n",
       "document.getElementById(\"리턴\").innerHTML = sum\n",
       "</script>\n",
       "<p id=\"리턴\"></p>"
      ],
      "text/plain": [
       "<IPython.core.display.HTML object>"
      ]
     },
     "metadata": {},
     "output_type": "display_data"
    }
   ],
   "source": [
    "%%html\n",
    "<!-- 반환값(return)\n",
    ": 구문 결과를 반환값으로 정리, 유연한 개발에 용이 -->\n",
    "\n",
    "<script>\n",
    "var a = 10;\n",
    "var b = 20;\n",
    "var sum = add(a,b);\n",
    "\n",
    "function add(v1,v2){\n",
    "    var sum = v1 + v2;\n",
    "    return sum;\n",
    "}\n",
    "document.getElementById(\"리턴\").innerHTML = sum\n",
    "</script>\n",
    "<p id=\"리턴\"></p>"
   ]
  },
  {
   "cell_type": "code",
   "execution_count": 16,
   "metadata": {},
   "outputs": [
    {
     "data": {
      "text/html": [
       "<!-- 반환값(return)을 사용하지 않은경우\n",
       ": 반환값을 사용하지 않으면\n",
       ": 내부 객체에 접근이 어려워서 객체 출력이 어렵다 -->\n",
       "\n",
       "<script>\n",
       "var a = 10;\n",
       "var b = 20;\n",
       "sum = add(a,b);\n",
       "\n",
       "function add(v1,v2){\n",
       "    var sum = v1 + v2;\n",
       "}\n",
       "document.getElementById(\"리턴no\").innerHTML = sum\n",
       "</script>\n",
       "<p id=\"리턴no\"></p>"
      ],
      "text/plain": [
       "<IPython.core.display.HTML object>"
      ]
     },
     "metadata": {},
     "output_type": "display_data"
    }
   ],
   "source": [
    "%%html\n",
    "<!-- 반환값(return)을 사용하지 않은경우\n",
    ": 반환값을 사용하지 않으면\n",
    ": 내부 객체에 접근이 어려워서 객체 출력이 어렵다 -->\n",
    "\n",
    "<script>\n",
    "var a = 10;\n",
    "var b = 20;\n",
    "sum = add(a,b);\n",
    "\n",
    "function add(v1,v2){\n",
    "    var sum = v1 + v2;\n",
    "}\n",
    "document.getElementById(\"리턴no\").innerHTML = sum\n",
    "</script>\n",
    "<p id=\"리턴no\"></p>"
   ]
  },
  {
   "cell_type": "markdown",
   "metadata": {
    "collapsed": true
   },
   "source": [
    "<br>\n",
    "## <strong> 5 객체 \n",
    "Object : 변수와 함수가 모여서 만든 꾸러미"
   ]
  },
  {
   "cell_type": "code",
   "execution_count": 17,
   "metadata": {},
   "outputs": [
    {
     "data": {
      "text/html": [
       "<!-- 객체 생성하기 -->\n",
       "\n",
       "<script>\n",
       "var obj= new Object();\n",
       "var obj = {};\n",
       "\n",
       "</script>"
      ],
      "text/plain": [
       "<IPython.core.display.HTML object>"
      ]
     },
     "metadata": {},
     "output_type": "display_data"
    }
   ],
   "source": [
    "%%html\n",
    "<!-- 객체 생성하기 -->\n",
    "\n",
    "<script>\n",
    "var obj= new Object();\n",
    "var obj = {};\n",
    "\n",
    "</script>"
   ]
  },
  {
   "cell_type": "code",
   "execution_count": 18,
   "metadata": {},
   "outputs": [
    {
     "data": {
      "text/html": [
       "<!-- 객체에 프로퍼티 추가하고 읽어오기 -->\n",
       "\n",
       "<script>\n",
       "var baby= {};\n",
       "baby.age = \"2살\";\n",
       "baby.sex = \"남자\";\n",
       "baby.birthday = \"12월14일\";\n",
       "\n",
       "document.getElementById(\"객체프로1\").innerHTML = baby.age;\n",
       "document.getElementById(\"객체프로2\").innerHTML = baby.sex;\n",
       "</script>\n",
       "<p id=\"객체프로1\"></p>\n",
       "<p id=\"객체프로2\"></p>"
      ],
      "text/plain": [
       "<IPython.core.display.HTML object>"
      ]
     },
     "metadata": {},
     "output_type": "display_data"
    }
   ],
   "source": [
    "%%html\n",
    "<!-- 객체에 프로퍼티 추가하고 읽어오기 -->\n",
    "\n",
    "<script>\n",
    "var baby= {};\n",
    "baby.age = \"2살\";\n",
    "baby.sex = \"남자\";\n",
    "baby.birthday = \"12월14일\";\n",
    "\n",
    "document.getElementById(\"객체프로1\").innerHTML = baby.age;\n",
    "document.getElementById(\"객체프로2\").innerHTML = baby.sex;\n",
    "</script>\n",
    "<p id=\"객체프로1\"></p>\n",
    "<p id=\"객체프로2\"></p>"
   ]
  },
  {
   "cell_type": "code",
   "execution_count": 19,
   "metadata": {},
   "outputs": [
    {
     "data": {
      "text/html": [
       "<!-- 객체 생성과 동시에 프로퍼티 추가 \n",
       ": 조금 더 간단하고, 다양한 내용을 작업가능 -->\n",
       "\n",
       "<script>\n",
       "var baby= {\n",
       "    age:\"2살\", sex:'남자', birthday:'12월14일'\n",
       "};\n",
       "\n",
       "document.getElementById(\"객체프로_1\").innerHTML = baby.age;\n",
       "document.getElementById(\"객체프로_2\").innerHTML = baby.sex;\n",
       "</script>\n",
       "<p id=\"객체프로_1\"></p>\n",
       "<p id=\"객체프로_2\"></p>"
      ],
      "text/plain": [
       "<IPython.core.display.HTML object>"
      ]
     },
     "metadata": {},
     "output_type": "display_data"
    }
   ],
   "source": [
    "%%html\n",
    "<!-- 객체 생성과 동시에 프로퍼티 추가 \n",
    ": 조금 더 간단하고, 다양한 내용을 작업가능 -->\n",
    "\n",
    "<script>\n",
    "var baby= {\n",
    "    age:\"2살\", sex:'남자', birthday:'12월14일'\n",
    "};\n",
    "\n",
    "document.getElementById(\"객체프로_1\").innerHTML = baby.age;\n",
    "document.getElementById(\"객체프로_2\").innerHTML = baby.sex;\n",
    "</script>\n",
    "<p id=\"객체프로_1\"></p>\n",
    "<p id=\"객체프로_2\"></p>"
   ]
  },
  {
   "cell_type": "code",
   "execution_count": 20,
   "metadata": {},
   "outputs": [
    {
     "data": {
      "text/html": [
       "<!-- 객체에 메서드 추가 및 호출 \n",
       ": baby 객체에 getAge() 메서드를 추가 및 외부실행 -->\n",
       "\n",
       "<script>\n",
       "var baby= {\n",
       "    age:\"12살\", sex:'남자', birthday:'12월14일',\n",
       "    getAge:getAge\n",
       "};   /* {a:a, b:b;} : 프로퍼티 내부 ';'는 오류발생 */\n",
       "\n",
       "function getAge(){\n",
       "    return this.age;\n",
       "}    \n",
       "\n",
       "var age = baby.getAge();\n",
       "document.getElementById(\"객체__2\").innerHTML = age;\n",
       "</script>\n",
       "<p id=\"객체__2\"></p>"
      ],
      "text/plain": [
       "<IPython.core.display.HTML object>"
      ]
     },
     "metadata": {},
     "output_type": "display_data"
    }
   ],
   "source": [
    "%%html\n",
    "<!-- 객체에 메서드 추가 및 호출 \n",
    ": baby 객체에 getAge() 메서드를 추가 및 외부실행 -->\n",
    "\n",
    "<script>\n",
    "var baby= {\n",
    "    age:\"12살\", sex:'남자', birthday:'12월14일',\n",
    "    getAge:getAge\n",
    "};   /* {a:a, b:b;} : 프로퍼티 내부 ';'는 오류발생 */\n",
    "\n",
    "function getAge(){\n",
    "    return this.age;\n",
    "}    \n",
    "\n",
    "var age = baby.getAge();\n",
    "document.getElementById(\"객체__2\").innerHTML = age;\n",
    "</script>\n",
    "<p id=\"객체__2\"></p>"
   ]
  },
  {
   "cell_type": "markdown",
   "metadata": {
    "collapsed": true
   },
   "source": [
    "<br>\n",
    "## <strong> 6 반복문 \n",
    "Object : 변수와 함수가 모여서 만든 꾸러미"
   ]
  },
  {
   "cell_type": "code",
   "execution_count": 21,
   "metadata": {},
   "outputs": [
    {
     "data": {
      "text/html": [
       "<!-- for (시작; 끝; 증가|감소){ \n",
       "    함수내용 } -->\n",
       "\n",
       "<script>\n",
       "for (var i=2; i<=10; i+=2) {  // document.write(i); 이걸로 해야 전체 반복내용을 출력\n",
       "    document.getElementById(\"for\").innerHTML = i;\n",
       "}    \n",
       "</script>\n",
       "<p id=\"for\"></p>"
      ],
      "text/plain": [
       "<IPython.core.display.HTML object>"
      ]
     },
     "metadata": {},
     "output_type": "display_data"
    }
   ],
   "source": [
    "%%html\n",
    "<!-- for (시작; 끝; 증가|감소){ \n",
    "    함수내용 } -->\n",
    "\n",
    "<script>\n",
    "for (var i=2; i<=10; i+=2) {  // document.write(i); 이걸로 해야 전체 반복내용을 출력\n",
    "    document.getElementById(\"for\").innerHTML = i;\n",
    "}    \n",
    "</script>\n",
    "<p id=\"for\"></p>"
   ]
  },
  {
   "cell_type": "code",
   "execution_count": 22,
   "metadata": {},
   "outputs": [
    {
     "data": {
      "text/html": [
       "<!-- while 반복문 \n",
       "1) {함수내용을 반복} 2) 함수내용이 while 조건에 충족하면 결과를 출력한다 -->\n",
       "\n",
       "<script>\n",
       "var i = 0;\n",
       "while(i < 10){\n",
       "    document.getElementById(\"while\").innerHTML = i;\n",
       "    i++;\n",
       "}    \n",
       "</script>\n",
       "<p id=\"while\"></p>"
      ],
      "text/plain": [
       "<IPython.core.display.HTML object>"
      ]
     },
     "metadata": {},
     "output_type": "display_data"
    }
   ],
   "source": [
    "%%html\n",
    "<!-- while 반복문 \n",
    "1) {함수내용을 반복} 2) 함수내용이 while 조건에 충족하면 결과를 출력한다 -->\n",
    "\n",
    "<script>\n",
    "var i = 0;\n",
    "while(i < 10){\n",
    "    document.getElementById(\"while\").innerHTML = i;\n",
    "    i++;\n",
    "}    \n",
    "</script>\n",
    "<p id=\"while\"></p>"
   ]
  },
  {
   "cell_type": "code",
   "execution_count": 23,
   "metadata": {},
   "outputs": [
    {
     "data": {
      "text/html": [
       "<!-- for in 반복문 \n",
       "객체를 순회하며, 프로퍼티명을 넘겨준다 (여기는 마지막 결과만 출력) -->\n",
       "\n",
       "<script>\n",
       "var baby = {\n",
       "    age:\"23살\",\n",
       "    sex:\"남성\",\n",
       "    birth:\"1213\"\n",
       "}\n",
       "\n",
       "for (var property in baby){\n",
       "    document.getElementById(\"for_in\").innerHTML = baby[property];\n",
       "}\n",
       "</script>\n",
       "<p id=\"for_in\"></p>"
      ],
      "text/plain": [
       "<IPython.core.display.HTML object>"
      ]
     },
     "metadata": {},
     "output_type": "display_data"
    }
   ],
   "source": [
    "%%html\n",
    "<!-- for in 반복문 \n",
    "객체를 순회하며, 프로퍼티명을 넘겨준다 (여기는 마지막 결과만 출력) -->\n",
    "\n",
    "<script>\n",
    "var baby = {\n",
    "    age:\"23살\",\n",
    "    sex:\"남성\",\n",
    "    birth:\"1213\"\n",
    "}\n",
    "\n",
    "for (var property in baby){\n",
    "    document.getElementById(\"for_in\").innerHTML = baby[property];\n",
    "}\n",
    "</script>\n",
    "<p id=\"for_in\"></p>"
   ]
  },
  {
   "cell_type": "code",
   "execution_count": 24,
   "metadata": {},
   "outputs": [
    {
     "data": {
      "text/html": [
       "<!-- break로 반복문 빠져나오기 -->\n",
       "\n",
       "<script>\n",
       "for (var i=0; i<10; i++){\n",
       "    if(i==8) break;\n",
       "}\n",
       "document.getElementById(\"break\").innerHTML = i;\n",
       "</script>\n",
       "<p id=\"break\"></p>"
      ],
      "text/plain": [
       "<IPython.core.display.HTML object>"
      ]
     },
     "metadata": {},
     "output_type": "display_data"
    }
   ],
   "source": [
    "%%html\n",
    "<!-- break로 반복문 빠져나오기 -->\n",
    "\n",
    "<script>\n",
    "for (var i=0; i<10; i++){\n",
    "    if(i==8) break;\n",
    "}\n",
    "document.getElementById(\"break\").innerHTML = i;\n",
    "</script>\n",
    "<p id=\"break\"></p>"
   ]
  },
  {
   "cell_type": "markdown",
   "metadata": {
    "collapsed": true
   },
   "source": [
    "<br>\n",
    "## <strong> 7 배열 (0 ~)\n",
    "Array : 데이터 index 로 접근하여, 할당된 값을 불러온다\n",
    "1. .join(seperator) : 배열의 원소를 차례로 나열, seperator로 구분\n",
    "2. .reverse() : 배열의 원소를 반대로 정렬\n",
    "3. .sort/ sortfunc : 배열의 원소를 정렬 (기본:알파벳순서)\n",
    "4. .concat(arr) : 여러개의 배열의 원소를 이어붙인 새로운 배열을 반환\n",
    "5. .slice(start, end) : 매개변수 start, end 까지를 잘라낸, 원본과 별개의 새로운 배열 반환\n",
    "6. .splice(start, end) : 매개변수 start, end 까지를 원본에서 잘라낸다.\n",
    "7. .push(arg) : arg를 맨 뒤에 이어붙인다\n",
    "8. .pop() : 마지막 객체를 원본에서 잘라낸다\n",
    "9. .unshift(arg) : arg를 맨 앞에 이어붙인다\n",
    "10. .shift() : 맨 앞 index 객체를 원본에서 잘라낸다"
   ]
  },
  {
   "cell_type": "code",
   "execution_count": 25,
   "metadata": {},
   "outputs": [
    {
     "data": {
      "text/html": [
       "<!-- Array 배열 생성 및 객체 호출 -->\n",
       "\n",
       "<script>\n",
       "var fruits=[];\n",
       "fruits[0] = '사과';\n",
       "fruits[1] = '배';\n",
       "fruits[2] = '복숭아';\n",
       "fruits[3] = '귤';\n",
       "\n",
       "var apple = fruits[0];\n",
       "document.getElementById(\"arr\").innerHTML = apple;\n",
       "</script>\n",
       "<p id=\"arr\"></p>"
      ],
      "text/plain": [
       "<IPython.core.display.HTML object>"
      ]
     },
     "metadata": {},
     "output_type": "display_data"
    }
   ],
   "source": [
    "%%html\n",
    "<!-- Array 배열 생성 및 객체 호출 -->\n",
    "\n",
    "<script>\n",
    "var fruits=[];\n",
    "fruits[0] = '사과';\n",
    "fruits[1] = '배';\n",
    "fruits[2] = '복숭아';\n",
    "fruits[3] = '귤';\n",
    "\n",
    "var apple = fruits[0];\n",
    "document.getElementById(\"arr\").innerHTML = apple;\n",
    "</script>\n",
    "<p id=\"arr\"></p>"
   ]
  },
  {
   "cell_type": "code",
   "execution_count": 26,
   "metadata": {},
   "outputs": [
    {
     "data": {
      "text/html": [
       "<!-- .length : sports 배열의 객체갯수  -->\n",
       "\n",
       "<script>\n",
       "var sports = ['ski','dive','run','jump'];\n",
       "var len = sports.length;\n",
       "document.getElementById(\"len\").innerHTML = len;\n",
       "</script>\n",
       "<p id=\"len\"></p>"
      ],
      "text/plain": [
       "<IPython.core.display.HTML object>"
      ]
     },
     "metadata": {},
     "output_type": "display_data"
    }
   ],
   "source": [
    "%%html\n",
    "<!-- .length : sports 배열의 객체갯수  -->\n",
    "\n",
    "<script>\n",
    "var sports = ['ski','dive','run','jump'];\n",
    "var len = sports.length;\n",
    "document.getElementById(\"len\").innerHTML = len;\n",
    "</script>\n",
    "<p id=\"len\"></p>"
   ]
  },
  {
   "cell_type": "code",
   "execution_count": 27,
   "metadata": {},
   "outputs": [
    {
     "data": {
      "text/html": [
       "<!-- .join( 구분자 ) : 배열의 원소를 차례로 나열, '구분자'로 구분  -->\n",
       "\n",
       "<script>\n",
       "var fruits=['사과','배','복숭아','귤'];\n",
       "var str = fruits.join(' , ');\n",
       "document.getElementById(\"join\").innerHTML = str;\n",
       "</script>\n",
       "<p id=\"join\"></p>"
      ],
      "text/plain": [
       "<IPython.core.display.HTML object>"
      ]
     },
     "metadata": {},
     "output_type": "display_data"
    }
   ],
   "source": [
    "%%html\n",
    "<!-- .join( 구분자 ) : 배열의 원소를 차례로 나열, '구분자'로 구분  -->\n",
    "\n",
    "<script>\n",
    "var fruits=['사과','배','복숭아','귤'];\n",
    "var str = fruits.join(' , ');\n",
    "document.getElementById(\"join\").innerHTML = str;\n",
    "</script>\n",
    "<p id=\"join\"></p>"
   ]
  },
  {
   "cell_type": "code",
   "execution_count": 28,
   "metadata": {},
   "outputs": [
    {
     "data": {
      "text/html": [
       "<!-- .reverse() : 배열의 원소를 반대로 정렬 -->\n",
       "\n",
       "<script>\n",
       "var fruits=['사과','배','복숭아','귤'];\n",
       "var arr = fruits.reverse();\n",
       "document.getElementById(\"rev\").innerHTML = arr;\n",
       "</script>\n",
       "<p id=\"rev\"></p>"
      ],
      "text/plain": [
       "<IPython.core.display.HTML object>"
      ]
     },
     "metadata": {},
     "output_type": "display_data"
    }
   ],
   "source": [
    "%%html\n",
    "<!-- .reverse() : 배열의 원소를 반대로 정렬 -->\n",
    "\n",
    "<script>\n",
    "var fruits=['사과','배','복숭아','귤'];\n",
    "var arr = fruits.reverse();\n",
    "document.getElementById(\"rev\").innerHTML = arr;\n",
    "</script>\n",
    "<p id=\"rev\"></p>"
   ]
  },
  {
   "cell_type": "code",
   "execution_count": 29,
   "metadata": {},
   "outputs": [
    {
     "data": {
      "text/html": [
       "<!-- .sort/ sortfunc : 배열의 원소를 정렬 (기본:알파벳, 한글순서) -->\n",
       "\n",
       "<script>\n",
       "var fruits=['사과','배','복숭아','귤'];\n",
       "var arr_sort = fruits.sort();\n",
       "document.getElementById(\"sort\").innerHTML = arr_sort;\n",
       "</script>\n",
       "<p id=\"sort\"></p>"
      ],
      "text/plain": [
       "<IPython.core.display.HTML object>"
      ]
     },
     "metadata": {},
     "output_type": "display_data"
    }
   ],
   "source": [
    "%%html\n",
    "<!-- .sort/ sortfunc : 배열의 원소를 정렬 (기본:알파벳, 한글순서) -->\n",
    "\n",
    "<script>\n",
    "var fruits=['사과','배','복숭아','귤'];\n",
    "var arr_sort = fruits.sort();\n",
    "document.getElementById(\"sort\").innerHTML = arr_sort;\n",
    "</script>\n",
    "<p id=\"sort\"></p>"
   ]
  },
  {
   "cell_type": "code",
   "execution_count": 30,
   "metadata": {},
   "outputs": [
    {
     "data": {
      "text/html": [
       "<!-- .sort/ sortfunc : 배열의 원소를 정렬 숫자 -->\n",
       "\n",
       "<script>\n",
       "var age = [15,45,32,6,7,75];\n",
       "var arr_num = age.sort(function(a,b){\n",
       "    return a-b;      /* a-b : 오름차순, b-a : 내림차순 */\n",
       "});\n",
       "document.getElementById(\"sort_num\").innerHTML = arr_num;\n",
       "</script>\n",
       "<p id=\"sort_num\"></p>"
      ],
      "text/plain": [
       "<IPython.core.display.HTML object>"
      ]
     },
     "metadata": {},
     "output_type": "display_data"
    }
   ],
   "source": [
    "%%html\n",
    "<!-- .sort/ sortfunc : 배열의 원소를 정렬 숫자 -->\n",
    "\n",
    "<script>\n",
    "var age = [15,45,32,6,7,75];\n",
    "var arr_num = age.sort(function(a,b){\n",
    "    return a-b;      /* a-b : 오름차순, b-a : 내림차순 */\n",
    "});\n",
    "document.getElementById(\"sort_num\").innerHTML = arr_num;\n",
    "</script>\n",
    "<p id=\"sort_num\"></p>"
   ]
  },
  {
   "cell_type": "code",
   "execution_count": 31,
   "metadata": {},
   "outputs": [
    {
     "data": {
      "text/html": [
       "<!-- .concat(arr) : 여러개의 배열의 원소를 이어붙인 새로운 배열을 반환 -->\n",
       "\n",
       "<script>\n",
       "var fruits=['사과','배','복숭아','귤'];\n",
       "var sports = ['ski','dive','run','jump'];\n",
       "\n",
       "var arr_concat = fruits.concat(sports);\n",
       "document.getElementById(\"concat\").innerHTML = arr_concat;\n",
       "</script>\n",
       "<p id=\"concat\"></p>"
      ],
      "text/plain": [
       "<IPython.core.display.HTML object>"
      ]
     },
     "metadata": {},
     "output_type": "display_data"
    }
   ],
   "source": [
    "%%html\n",
    "<!-- .concat(arr) : 여러개의 배열의 원소를 이어붙인 새로운 배열을 반환 -->\n",
    "\n",
    "<script>\n",
    "var fruits=['사과','배','복숭아','귤'];\n",
    "var sports = ['ski','dive','run','jump'];\n",
    "\n",
    "var arr_concat = fruits.concat(sports);\n",
    "document.getElementById(\"concat\").innerHTML = arr_concat;\n",
    "</script>\n",
    "<p id=\"concat\"></p>"
   ]
  },
  {
   "cell_type": "code",
   "execution_count": 32,
   "metadata": {},
   "outputs": [
    {
     "data": {
      "text/html": [
       "<!-- .slice(start, end) \n",
       ": 매개변수 start, end 까지를 잘라낸, 원본과 별개의 새로운 배열 반환 -->\n",
       "\n",
       "<script>\n",
       "var fruits=['사과','배','복숭아','귤'];\n",
       "\n",
       "var arr_slice = fruits.slice(0,3); /* 0 부터 ,3 전까지(2) 반복 : 0,1,2 를 출력 */ \n",
       "document.getElementById(\"slice\").innerHTML = arr_slice;\n",
       "</script>\n",
       "<p id=\"slice\"></p>"
      ],
      "text/plain": [
       "<IPython.core.display.HTML object>"
      ]
     },
     "metadata": {},
     "output_type": "display_data"
    }
   ],
   "source": [
    "%%html\n",
    "<!-- .slice(start, end) \n",
    ": 매개변수 start, end 까지를 잘라낸, 원본과 별개의 새로운 배열 반환 -->\n",
    "\n",
    "<script>\n",
    "var fruits=['사과','배','복숭아','귤'];\n",
    "\n",
    "var arr_slice = fruits.slice(0,3); /* 0 부터 ,3 전까지(2) 반복 : 0,1,2 를 출력 */ \n",
    "document.getElementById(\"slice\").innerHTML = arr_slice;\n",
    "</script>\n",
    "<p id=\"slice\"></p>"
   ]
  },
  {
   "cell_type": "code",
   "execution_count": 33,
   "metadata": {},
   "outputs": [
    {
     "data": {
      "text/html": [
       "<!-- .splice(start, end) \n",
       ": 매개변수 start, end 까지를 원본에서 잘라낸다. -->\n",
       "\n",
       "<script>\n",
       "var fruits=['사과','배','복숭아','귤'];\n",
       "\n",
       "fruits.splice(1,3); /* 1,2,3 를 잘라냄 : 0번만 남음 */ \n",
       "document.getElementById(\"splice\").innerHTML = fruits;\n",
       "</script>\n",
       "<p id=\"splice\"></p>"
      ],
      "text/plain": [
       "<IPython.core.display.HTML object>"
      ]
     },
     "metadata": {},
     "output_type": "display_data"
    }
   ],
   "source": [
    "%%html\n",
    "<!-- .splice(start, end) \n",
    ": 매개변수 start, end 까지를 원본에서 잘라낸다. -->\n",
    "\n",
    "<script>\n",
    "var fruits=['사과','배','복숭아','귤'];\n",
    "\n",
    "fruits.splice(1,3); /* 1,2,3 를 잘라냄 : 0번만 남음 */ \n",
    "document.getElementById(\"splice\").innerHTML = fruits;\n",
    "</script>\n",
    "<p id=\"splice\"></p>"
   ]
  },
  {
   "cell_type": "code",
   "execution_count": 34,
   "metadata": {},
   "outputs": [
    {
     "data": {
      "text/html": [
       "<!-- .push(arg) : arg를 맨 뒤에 이어붙인다 -->\n",
       "\n",
       "<script>\n",
       "var fruits=['사과','배','복숭아','귤'];\n",
       "fruits.push(\"키위\",\"탱자\");\n",
       "document.getElementById(\"push\").innerHTML = fruits;\n",
       "</script>\n",
       "<p id=\"push\"></p>"
      ],
      "text/plain": [
       "<IPython.core.display.HTML object>"
      ]
     },
     "metadata": {},
     "output_type": "display_data"
    }
   ],
   "source": [
    "%%html\n",
    "<!-- .push(arg) : arg를 맨 뒤에 이어붙인다 -->\n",
    "\n",
    "<script>\n",
    "var fruits=['사과','배','복숭아','귤'];\n",
    "fruits.push(\"키위\",\"탱자\");\n",
    "document.getElementById(\"push\").innerHTML = fruits;\n",
    "</script>\n",
    "<p id=\"push\"></p>"
   ]
  },
  {
   "cell_type": "code",
   "execution_count": 35,
   "metadata": {},
   "outputs": [
    {
     "data": {
      "text/html": [
       "<!-- .pop() : 마지막 객체를 원본에서 잘라낸다 -->\n",
       "\n",
       "<script>\n",
       "var fruits=['사과','배','복숭아','귤'];\n",
       "fruits.pop();\n",
       "document.getElementById(\"pop\").innerHTML = fruits;\n",
       "</script>\n",
       "<p id=\"pop\"></p>"
      ],
      "text/plain": [
       "<IPython.core.display.HTML object>"
      ]
     },
     "metadata": {},
     "output_type": "display_data"
    }
   ],
   "source": [
    "%%html\n",
    "<!-- .pop() : 마지막 객체를 원본에서 잘라낸다 -->\n",
    "\n",
    "<script>\n",
    "var fruits=['사과','배','복숭아','귤'];\n",
    "fruits.pop();\n",
    "document.getElementById(\"pop\").innerHTML = fruits;\n",
    "</script>\n",
    "<p id=\"pop\"></p>"
   ]
  },
  {
   "cell_type": "code",
   "execution_count": 36,
   "metadata": {},
   "outputs": [
    {
     "data": {
      "text/html": [
       "<!-- .unshift(arg) : arg를 맨 앞에 이어붙인다 -->\n",
       "\n",
       "<script>\n",
       "var fruits=['사과','배','복숭아','귤'];\n",
       "fruits.unshift(\"키위\",\"탱자\");\n",
       "document.getElementById(\"unshift\").innerHTML = fruits;\n",
       "</script>\n",
       "<p id=\"unshift\"></p>"
      ],
      "text/plain": [
       "<IPython.core.display.HTML object>"
      ]
     },
     "metadata": {},
     "output_type": "display_data"
    }
   ],
   "source": [
    "%%html\n",
    "<!-- .unshift(arg) : arg를 맨 앞에 이어붙인다 -->\n",
    "\n",
    "<script>\n",
    "var fruits=['사과','배','복숭아','귤'];\n",
    "fruits.unshift(\"키위\",\"탱자\");\n",
    "document.getElementById(\"unshift\").innerHTML = fruits;\n",
    "</script>\n",
    "<p id=\"unshift\"></p>"
   ]
  },
  {
   "cell_type": "code",
   "execution_count": 37,
   "metadata": {},
   "outputs": [
    {
     "data": {
      "text/html": [
       "<!-- .shift() : 맨 앞 index 객체를 원본에서 잘라낸다 -->\n",
       "\n",
       "<script>\n",
       "var fruits=['사과','배','복숭아','귤'];\n",
       "fruits.shift();\n",
       "document.getElementById(\"shift\").innerHTML = fruits;\n",
       "</script>\n",
       "<p id=\"shift\"></p>"
      ],
      "text/plain": [
       "<IPython.core.display.HTML object>"
      ]
     },
     "metadata": {},
     "output_type": "display_data"
    }
   ],
   "source": [
    "%%html\n",
    "<!-- .shift() : 맨 앞 index 객체를 원본에서 잘라낸다 -->\n",
    "\n",
    "<script>\n",
    "var fruits=['사과','배','복숭아','귤'];\n",
    "fruits.shift();\n",
    "document.getElementById(\"shift\").innerHTML = fruits;\n",
    "</script>\n",
    "<p id=\"shift\"></p>"
   ]
  },
  {
   "cell_type": "markdown",
   "metadata": {
    "collapsed": true
   },
   "source": [
    "<br>\n",
    "## <strong> 8 문자열\n",
    "var str = \"문자열\";\n",
    "\n",
    "str.메서드();"
   ]
  },
  {
   "cell_type": "code",
   "execution_count": 38,
   "metadata": {},
   "outputs": [
    {
     "data": {
      "text/html": [
       "<!-- .charAt(index) \n",
       ": index 해당 알파벳을 추출한다 (원본은 변하지 않음) -->\n",
       "\n",
       "<script>\n",
       "var str = \"HELLO WORLD\";\n",
       "var n = str.charAt(2);\n",
       "document.getElementById(\"s_at\").innerHTML = n;\n",
       "</script>\n",
       "<p id=\"s_at\"></p>"
      ],
      "text/plain": [
       "<IPython.core.display.HTML object>"
      ]
     },
     "metadata": {},
     "output_type": "display_data"
    }
   ],
   "source": [
    "%%html\n",
    "<!-- .charAt(index) \n",
    ": index 해당 알파벳을 추출한다 (원본은 변하지 않음) -->\n",
    "\n",
    "<script>\n",
    "var str = \"HELLO WORLD\";\n",
    "var n = str.charAt(2);\n",
    "document.getElementById(\"s_at\").innerHTML = n;\n",
    "</script>\n",
    "<p id=\"s_at\"></p>"
   ]
  },
  {
   "cell_type": "code",
   "execution_count": 39,
   "metadata": {},
   "outputs": [
    {
     "data": {
      "text/html": [
       "<!-- .charCodeAt(index) \n",
       ": index 해당 알파벳을 추출하여, Unicode로 출력 (원본은 변하지 않음) -->\n",
       "\n",
       "<script>\n",
       "var str = \"HELLO WORLD\";\n",
       "var n = str.charCodeAt(0);\n",
       "document.getElementById(\"s_at2\").innerHTML = n;\n",
       "</script>\n",
       "<p id=\"s_at2\"></p>"
      ],
      "text/plain": [
       "<IPython.core.display.HTML object>"
      ]
     },
     "metadata": {},
     "output_type": "display_data"
    }
   ],
   "source": [
    "%%html\n",
    "<!-- .charCodeAt(index) \n",
    ": index 해당 알파벳을 추출하여, Unicode로 출력 (원본은 변하지 않음) -->\n",
    "\n",
    "<script>\n",
    "var str = \"HELLO WORLD\";\n",
    "var n = str.charCodeAt(0);\n",
    "document.getElementById(\"s_at2\").innerHTML = n;\n",
    "</script>\n",
    "<p id=\"s_at2\"></p>"
   ]
  },
  {
   "cell_type": "code",
   "execution_count": 40,
   "metadata": {},
   "outputs": [
    {
     "data": {
      "text/html": [
       "<!-- .concat(str1, str2, str3...) -->\n",
       "\n",
       "<script>\n",
       "var str1 = \"HELLO\";\n",
       "var str2 = \" WORLD\";\n",
       "var str3 = \" Python\";\n",
       "var str4 = \" is easy\";\n",
       "var n = str1.concat(str2, str3, str4)\n",
       "document.getElementById(\"s_at3\").innerHTML = n;\n",
       "</script>\n",
       "<p id=\"s_at3\"></p>"
      ],
      "text/plain": [
       "<IPython.core.display.HTML object>"
      ]
     },
     "metadata": {},
     "output_type": "display_data"
    }
   ],
   "source": [
    "%%html\n",
    "<!-- .concat(str1, str2, str3...) -->\n",
    "\n",
    "<script>\n",
    "var str1 = \"HELLO\";\n",
    "var str2 = \" WORLD\";\n",
    "var str3 = \" Python\";\n",
    "var str4 = \" is easy\";\n",
    "var n = str1.concat(str2, str3, str4)\n",
    "document.getElementById(\"s_at3\").innerHTML = n;\n",
    "</script>\n",
    "<p id=\"s_at3\"></p>"
   ]
  },
  {
   "cell_type": "code",
   "execution_count": 41,
   "metadata": {},
   "outputs": [
    {
     "data": {
      "text/html": [
       "<!-- .fromCharCode : 유니코드를 문자로 변환 -->\n",
       "\n",
       "<script>\n",
       "var n = String.fromCharCode(65);\n",
       "document.getElementById(\"from_c\").innerHTML = n;\n",
       "</script>\n",
       "<p id=\"from_c\"></p>"
      ],
      "text/plain": [
       "<IPython.core.display.HTML object>"
      ]
     },
     "metadata": {},
     "output_type": "display_data"
    }
   ],
   "source": [
    "%%html\n",
    "<!-- .fromCharCode : 유니코드를 문자로 변환 -->\n",
    "\n",
    "<script>\n",
    "var n = String.fromCharCode(65);\n",
    "document.getElementById(\"from_c\").innerHTML = n;\n",
    "</script>\n",
    "<p id=\"from_c\"></p>"
   ]
  },
  {
   "cell_type": "code",
   "execution_count": 42,
   "metadata": {},
   "outputs": [
    {
     "data": {
      "text/html": [
       "<!-- .search : 일치하는 문자열의 index를 출력 -->\n",
       "\n",
       "<script>\n",
       "var str = \"Hello to the world, welcome to the universe\";\n",
       "var n = str.search('to');\n",
       "document.getElementById(\"search\").innerHTML = n;\n",
       "</script>\n",
       "<p id=\"search\"></p>"
      ],
      "text/plain": [
       "<IPython.core.display.HTML object>"
      ]
     },
     "metadata": {},
     "output_type": "display_data"
    }
   ],
   "source": [
    "%%html\n",
    "<!-- .search : 일치하는 문자열의 index를 출력 -->\n",
    "\n",
    "<script>\n",
    "var str = \"Hello to the world, welcome to the universe\";\n",
    "var n = str.search('to');\n",
    "document.getElementById(\"search\").innerHTML = n;\n",
    "</script>\n",
    "<p id=\"search\"></p>"
   ]
  },
  {
   "cell_type": "code",
   "execution_count": 43,
   "metadata": {},
   "outputs": [
    {
     "data": {
      "text/html": [
       "<!-- .replace(search value, new value)\n",
       ": 일치하는 문자열을 'new value'로 변경 -->\n",
       "    \n",
       "<script>\n",
       "var str = \"visited Korea in seoul\"\n",
       "var n = str.replace('seoul', 'pusan');\n",
       "document.getElementById(\"rep_\").innerHTML = n;\n",
       "</script>\n",
       "<p id=\"rep_\"></p>"
      ],
      "text/plain": [
       "<IPython.core.display.HTML object>"
      ]
     },
     "metadata": {},
     "output_type": "display_data"
    }
   ],
   "source": [
    "%%html\n",
    "<!-- .replace(search value, new value)\n",
    ": 일치하는 문자열을 'new value'로 변경 -->\n",
    "    \n",
    "<script>\n",
    "var str = \"visited Korea in seoul\"\n",
    "var n = str.replace('seoul', 'pusan');\n",
    "document.getElementById(\"rep_\").innerHTML = n;\n",
    "</script>\n",
    "<p id=\"rep_\"></p>"
   ]
  },
  {
   "cell_type": "code",
   "execution_count": 44,
   "metadata": {},
   "outputs": [
    {
     "data": {
      "text/html": [
       "<!-- .indexOf(객체)\n",
       ":'객체'와 일치하는 첫 문자열의 시작 index 출력 -->\n",
       "\n",
       "<script>\n",
       "var str = \"Hello world, welcome to the world\"\n",
       "var n = str.indexOf(\"world\");\n",
       "document.getElementById(\"idx_of\").innerHTML = n;\n",
       "</script>\n",
       "<p id=\"idx_of\"></p>"
      ],
      "text/plain": [
       "<IPython.core.display.HTML object>"
      ]
     },
     "metadata": {},
     "output_type": "display_data"
    }
   ],
   "source": [
    "%%html\n",
    "<!-- .indexOf(객체)\n",
    ":'객체'와 일치하는 첫 문자열의 시작 index 출력 -->\n",
    "\n",
    "<script>\n",
    "var str = \"Hello world, welcome to the world\"\n",
    "var n = str.indexOf(\"world\");\n",
    "document.getElementById(\"idx_of\").innerHTML = n;\n",
    "</script>\n",
    "<p id=\"idx_of\"></p>"
   ]
  },
  {
   "cell_type": "code",
   "execution_count": 45,
   "metadata": {},
   "outputs": [
    {
     "data": {
      "text/html": [
       "<!-- .lastIndexOf(객체)\n",
       ":'객체'와 일치하는 마지막 문자열의 시작 index 출력 -->\n",
       "\n",
       "<script>\n",
       "var str = \"Hello world, welcome to the world\"\n",
       "var n = str.lastIndexOf(\"world\");\n",
       "document.getElementById(\"idx_of_2\").innerHTML = n;\n",
       "</script>\n",
       "<p id=\"idx_of_2\"></p>"
      ],
      "text/plain": [
       "<IPython.core.display.HTML object>"
      ]
     },
     "metadata": {},
     "output_type": "display_data"
    }
   ],
   "source": [
    "%%html\n",
    "<!-- .lastIndexOf(객체)\n",
    ":'객체'와 일치하는 마지막 문자열의 시작 index 출력 -->\n",
    "\n",
    "<script>\n",
    "var str = \"Hello world, welcome to the world\"\n",
    "var n = str.lastIndexOf(\"world\");\n",
    "document.getElementById(\"idx_of_2\").innerHTML = n;\n",
    "</script>\n",
    "<p id=\"idx_of_2\"></p>"
   ]
  },
  {
   "cell_type": "markdown",
   "metadata": {
    "collapsed": true
   },
   "source": [
    "indexOf()와 search() 두 메소드는 같은 역할입니다.\n",
    "\n",
    "두 메소드는 같으나, search() method는 문자열을 찾는데 더 강력합니다.\n",
    "\n",
    "출처: http://palpit.tistory.com/375 [palpit's log-b]"
   ]
  },
  {
   "cell_type": "code",
   "execution_count": 46,
   "metadata": {},
   "outputs": [
    {
     "data": {
      "text/html": [
       "<script>\n",
       "var str = \"Hello world!\";\n",
       "document.getElementById(\"leng\").innerHTML = str.length;\n",
       "</script>\n",
       "\n",
       "<p id=\"leng\"></p>"
      ],
      "text/plain": [
       "<IPython.core.display.HTML object>"
      ]
     },
     "metadata": {},
     "output_type": "display_data"
    }
   ],
   "source": [
    "%%html\n",
    "<script>\n",
    "var str = \"Hello world!\";\n",
    "document.getElementById(\"leng\").innerHTML = str.length;\n",
    "</script>\n",
    "\n",
    "<p id=\"leng\"></p>"
   ]
  },
  {
   "cell_type": "code",
   "execution_count": 47,
   "metadata": {},
   "outputs": [
    {
     "data": {
      "text/html": [
       "<!-- 문자열 편집 : \n",
       "    .slice(start, end) , .split(seperator, limit), .substring(from, to) -->\n",
       "<script>\n",
       "var str = \"Hello world, welcome to the world\";\n",
       "var n_1 = str.slice(5,15);      /* : index 해당 문자열 추출 */\n",
       "var n_2 = str.split(' ');       /* : seperator와 일치하는 문자를 기준으로 분할 */\n",
       "var n_3 = str.substring(3, 15); /* : from ~ to 사이 index 문자열을 출력 */\n",
       "var n_4 = str.trim();\n",
       "\n",
       "/* .getElementById() 내용이 html에 미포함시 undefined error 발생\n",
       "출처 : http://blogger.pe.kr/288 */\n",
       "document.getElementById(\"slice\").innerHTML     = n_1;\n",
       "document.getElementById(\"split\").innerHTML     = n_2;\n",
       "document.getElementById(\"substring\").innerHTML = n_3;\n",
       "document.getElementById(\"trim\").innerHTML      = n_4.length;\n",
       "</script>\n",
       "\n",
       "slice : <span id=\"slice\"></span><br>\n",
       "split : <span id=\"split\"></span><br>\n",
       "substring : <span id=\"substring\"></span><br>\n",
       "trim.length : <span id=\"trim\"></span><br>"
      ],
      "text/plain": [
       "<IPython.core.display.HTML object>"
      ]
     },
     "metadata": {},
     "output_type": "display_data"
    }
   ],
   "source": [
    "%%html\n",
    "<!-- 문자열 편집 : \n",
    "    .slice(start, end) , .split(seperator, limit), .substring(from, to) -->\n",
    "<script>\n",
    "var str = \"Hello world, welcome to the world\";\n",
    "var n_1 = str.slice(5,15);      /* : index 해당 문자열 추출 */\n",
    "var n_2 = str.split(' ');       /* : seperator와 일치하는 문자를 기준으로 분할 */\n",
    "var n_3 = str.substring(3, 15); /* : from ~ to 사이 index 문자열을 출력 */\n",
    "var n_4 = str.trim();\n",
    "\n",
    "/* .getElementById() 내용이 html에 미포함시 undefined error 발생\n",
    "출처 : http://blogger.pe.kr/288 */\n",
    "document.getElementById(\"slice\").innerHTML     = n_1;\n",
    "document.getElementById(\"split\").innerHTML     = n_2;\n",
    "document.getElementById(\"substring\").innerHTML = n_3;\n",
    "document.getElementById(\"trim\").innerHTML      = n_4.length;\n",
    "</script>\n",
    "\n",
    "slice : <span id=\"slice\"></span><br>\n",
    "split : <span id=\"split\"></span><br>\n",
    "substring : <span id=\"substring\"></span><br>\n",
    "trim.length : <span id=\"trim\"></span><br>"
   ]
  },
  {
   "cell_type": "markdown",
   "metadata": {
    "collapsed": true
   },
   "source": [
    "<br>\n",
    "## <strong> 9 타이머\n",
    "setTimeout(), clearTimeout()\n",
    "1. callback : 설정한 시간 뒤 실행\n",
    "2. delay : 설정한 시간 뒤 callback 함수를 호출"
   ]
  },
  {
   "cell_type": "code",
   "execution_count": 48,
   "metadata": {},
   "outputs": [
    {
     "data": {
      "text/html": [
       "<!-- setTimeout(콜백함수, 시간) : 설정한 시간 뒤 callback 함수를 호출 -->\n",
       "\n",
       "<script>\n",
       "setTimeout(function(){\n",
       "    alert('1초 뒤에 호출');\n",
       "}, 1000);\n",
       "</script>"
      ],
      "text/plain": [
       "<IPython.core.display.HTML object>"
      ]
     },
     "metadata": {},
     "output_type": "display_data"
    }
   ],
   "source": [
    "%%html\n",
    "<!-- setTimeout(콜백함수, 시간) : 설정한 시간 뒤 callback 함수를 호출 -->\n",
    "\n",
    "<script>\n",
    "setTimeout(function(){\n",
    "    alert('1초 뒤에 호출');\n",
    "}, 1000);\n",
    "</script>"
   ]
  },
  {
   "cell_type": "code",
   "execution_count": 49,
   "metadata": {},
   "outputs": [
    {
     "data": {
      "text/html": [
       "<!-- clearTimeout() : 설정한 시간 뒤 callback 함수를 호출 -->\n",
       "\n",
       "<script>\n",
       "var timerId = setTimeout(function(){\n",
       "    alert('1초 뒤에 호출');\n",
       "}, 1000);\n",
       "\n",
       "clearTimeout(timerId);\n",
       "</script>"
      ],
      "text/plain": [
       "<IPython.core.display.HTML object>"
      ]
     },
     "metadata": {},
     "output_type": "display_data"
    }
   ],
   "source": [
    "%%html\n",
    "<!-- clearTimeout() : 설정한 시간 뒤 callback 함수를 호출 -->\n",
    "\n",
    "<script>\n",
    "var timerId = setTimeout(function(){\n",
    "    alert('1초 뒤에 호출');\n",
    "}, 1000);\n",
    "\n",
    "clearTimeout(timerId);\n",
    "</script>"
   ]
  },
  {
   "cell_type": "code",
   "execution_count": 50,
   "metadata": {},
   "outputs": [
    {
     "data": {
      "text/html": [
       "<!-- setInterval() : clearTimeout() : 설정한 시간 뒤 callback 함수를 호출 -->\n",
       "\n",
       "<script>\n",
       "/*\n",
       "setInterval(function(){\n",
       "    alert('1초 뒤에 호출');\n",
       "}, 1000);\n",
       "*/\n",
       "</script>"
      ],
      "text/plain": [
       "<IPython.core.display.HTML object>"
      ]
     },
     "metadata": {},
     "output_type": "display_data"
    }
   ],
   "source": [
    "%%html\n",
    "<!-- setInterval() : clearTimeout() : 설정한 시간 뒤 callback 함수를 호출 -->\n",
    "\n",
    "<script>\n",
    "/*\n",
    "setInterval(function(){\n",
    "    alert('1초 뒤에 호출');\n",
    "}, 1000);\n",
    "*/\n",
    "</script>"
   ]
  },
  {
   "cell_type": "code",
   "execution_count": 51,
   "metadata": {},
   "outputs": [
    {
     "data": {
      "text/html": [
       "<!-- setInterval() : clearTimeout() : 설정한 시간 뒤 callback 함수를 호출 -->\n",
       "\n",
       "<script>\n",
       "var intervalId = setInterval(function(){\n",
       "    alert('1초 뒤에 호출');\n",
       "}, 1000);\n",
       "\n",
       "clearInterval(intervalId);\n",
       "</script>"
      ],
      "text/plain": [
       "<IPython.core.display.HTML object>"
      ]
     },
     "metadata": {},
     "output_type": "display_data"
    }
   ],
   "source": [
    "%%html\n",
    "<!-- setInterval() : clearTimeout() : 설정한 시간 뒤 callback 함수를 호출 -->\n",
    "\n",
    "<script>\n",
    "var intervalId = setInterval(function(){\n",
    "    alert('1초 뒤에 호출');\n",
    "}, 1000);\n",
    "\n",
    "clearInterval(intervalId);\n",
    "</script>"
   ]
  },
  {
   "cell_type": "markdown",
   "metadata": {
    "collapsed": true
   },
   "source": [
    "<br>\n",
    "## <strong> 10 수학 연산\n",
    "Math.메서드()"
   ]
  },
  {
   "cell_type": "code",
   "execution_count": 52,
   "metadata": {},
   "outputs": [
    {
     "data": {
      "text/html": [
       "<!-- Math.random() : 랜덤 숫자를 출력 -->\n",
       "    \n",
       "<script>\n",
       "var a = Math.random();\n",
       "var b = Math.random() * 10;\n",
       "var c = Math.random() * 10 + 10;\n",
       "\n",
       "document.getElementById(\"math_r1\").innerHTML = a;\n",
       "document.getElementById(\"math_r2\").innerHTML = b;\n",
       "document.getElementById(\"math_r3\").innerHTML = c;\n",
       "</script>\n",
       "<p id=\"math_r1\"></p>\n",
       "<p id=\"math_r2\"></p>\n",
       "<p id=\"math_r3\"></p>"
      ],
      "text/plain": [
       "<IPython.core.display.HTML object>"
      ]
     },
     "metadata": {},
     "output_type": "display_data"
    }
   ],
   "source": [
    "%%html\n",
    "<!-- Math.random() : 랜덤 숫자를 출력 -->\n",
    "    \n",
    "<script>\n",
    "var a = Math.random();\n",
    "var b = Math.random() * 10;\n",
    "var c = Math.random() * 10 + 10;\n",
    "\n",
    "document.getElementById(\"math_r1\").innerHTML = a;\n",
    "document.getElementById(\"math_r2\").innerHTML = b;\n",
    "document.getElementById(\"math_r3\").innerHTML = c;\n",
    "</script>\n",
    "<p id=\"math_r1\"></p>\n",
    "<p id=\"math_r2\"></p>\n",
    "<p id=\"math_r3\"></p>"
   ]
  },
  {
   "cell_type": "code",
   "execution_count": 53,
   "metadata": {},
   "outputs": [
    {
     "data": {
      "text/html": [
       "<!-- Math.abs() : 절대값 -->\n",
       "    \n",
       "<script>\n",
       "var a = Math.abs(-7.25);\n",
       "var b = Math.abs(100-220-150);\n",
       "var c = Math.abs(null);\n",
       "var d = Math.abs('python');\n",
       "\n",
       "document.getElementById(\"math_1\").innerHTML = a;\n",
       "document.getElementById(\"math_2\").innerHTML = b;\n",
       "document.getElementById(\"math_3\").innerHTML = c;\n",
       "</script>\n",
       "<p id=\"math_1\"></p>\n",
       "<p id=\"math_2\"></p>\n",
       "<p id=\"math_3\"></p>"
      ],
      "text/plain": [
       "<IPython.core.display.HTML object>"
      ]
     },
     "metadata": {},
     "output_type": "display_data"
    }
   ],
   "source": [
    "%%html\n",
    "<!-- Math.abs() : 절대값 -->\n",
    "    \n",
    "<script>\n",
    "var a = Math.abs(-7.25);\n",
    "var b = Math.abs(100-220-150);\n",
    "var c = Math.abs(null);\n",
    "var d = Math.abs('python');\n",
    "\n",
    "document.getElementById(\"math_1\").innerHTML = a;\n",
    "document.getElementById(\"math_2\").innerHTML = b;\n",
    "document.getElementById(\"math_3\").innerHTML = c;\n",
    "</script>\n",
    "<p id=\"math_1\"></p>\n",
    "<p id=\"math_2\"></p>\n",
    "<p id=\"math_3\"></p>"
   ]
  },
  {
   "cell_type": "code",
   "execution_count": 54,
   "metadata": {},
   "outputs": [
    {
     "data": {
      "text/html": [
       "<!-- Math.ceil() : 정수로 올림 -->\n",
       "    \n",
       "<script>\n",
       "var a = Math.ceil(-7.25);\n",
       "var b = Math.ceil(7.25);\n",
       "var c = Math.ceil(7.1);\n",
       "\n",
       "document.getElementById(\"math_c1\").innerHTML = a;\n",
       "document.getElementById(\"math_c2\").innerHTML = b;\n",
       "document.getElementById(\"math_c3\").innerHTML = c;\n",
       "</script>\n",
       "<p id=\"math_c1\"></p>\n",
       "<p id=\"math_c2\"></p>\n",
       "<p id=\"math_c3\"></p>"
      ],
      "text/plain": [
       "<IPython.core.display.HTML object>"
      ]
     },
     "metadata": {},
     "output_type": "display_data"
    }
   ],
   "source": [
    "%%html\n",
    "<!-- Math.ceil() : 정수로 올림 -->\n",
    "    \n",
    "<script>\n",
    "var a = Math.ceil(-7.25);\n",
    "var b = Math.ceil(7.25);\n",
    "var c = Math.ceil(7.1);\n",
    "\n",
    "document.getElementById(\"math_c1\").innerHTML = a;\n",
    "document.getElementById(\"math_c2\").innerHTML = b;\n",
    "document.getElementById(\"math_c3\").innerHTML = c;\n",
    "</script>\n",
    "<p id=\"math_c1\"></p>\n",
    "<p id=\"math_c2\"></p>\n",
    "<p id=\"math_c3\"></p>"
   ]
  },
  {
   "cell_type": "code",
   "execution_count": 55,
   "metadata": {},
   "outputs": [
    {
     "data": {
      "text/html": [
       "<!-- Math.floor() : 정수로 내림 -->\n",
       "    \n",
       "<script>\n",
       "var a = Math.floor(-7.25);\n",
       "var b = Math.floor(7.25);\n",
       "var c = Math.floor(7.1);\n",
       "\n",
       "document.getElementById(\"math_f1\").innerHTML = a;\n",
       "document.getElementById(\"math_f2\").innerHTML = b;\n",
       "document.getElementById(\"math_f3\").innerHTML = c;\n",
       "</script>\n",
       "<p id=\"math_f1\"></p>\n",
       "<p id=\"math_f2\"></p>\n",
       "<p id=\"math_f3\"></p>"
      ],
      "text/plain": [
       "<IPython.core.display.HTML object>"
      ]
     },
     "metadata": {},
     "output_type": "display_data"
    }
   ],
   "source": [
    "%%html\n",
    "<!-- Math.floor() : 정수로 내림 -->\n",
    "    \n",
    "<script>\n",
    "var a = Math.floor(-7.25);\n",
    "var b = Math.floor(7.25);\n",
    "var c = Math.floor(7.1);\n",
    "\n",
    "document.getElementById(\"math_f1\").innerHTML = a;\n",
    "document.getElementById(\"math_f2\").innerHTML = b;\n",
    "document.getElementById(\"math_f3\").innerHTML = c;\n",
    "</script>\n",
    "<p id=\"math_f1\"></p>\n",
    "<p id=\"math_f2\"></p>\n",
    "<p id=\"math_f3\"></p>"
   ]
  },
  {
   "cell_type": "code",
   "execution_count": 56,
   "metadata": {},
   "outputs": [
    {
     "data": {
      "text/html": [
       "<!-- Math.round() : 반올림 -->\n",
       "    \n",
       "<script>\n",
       "var a = Math.round(2.6);\n",
       "var b = Math.round(2.5);\n",
       "var c = Math.round(2.49);\n",
       "\n",
       "document.getElementById(\"math_r_1\").innerHTML = a;\n",
       "document.getElementById(\"math_r_2\").innerHTML = b;\n",
       "document.getElementById(\"math_r_3\").innerHTML = c;\n",
       "</script>\n",
       "<p id=\"math_r_1\"></p>\n",
       "<p id=\"math_r_2\"></p>\n",
       "<p id=\"math_r_3\"></p>"
      ],
      "text/plain": [
       "<IPython.core.display.HTML object>"
      ]
     },
     "metadata": {},
     "output_type": "display_data"
    }
   ],
   "source": [
    "%%html\n",
    "<!-- Math.round() : 반올림 -->\n",
    "    \n",
    "<script>\n",
    "var a = Math.round(2.6);\n",
    "var b = Math.round(2.5);\n",
    "var c = Math.round(2.49);\n",
    "\n",
    "document.getElementById(\"math_r_1\").innerHTML = a;\n",
    "document.getElementById(\"math_r_2\").innerHTML = b;\n",
    "document.getElementById(\"math_r_3\").innerHTML = c;\n",
    "</script>\n",
    "<p id=\"math_r_1\"></p>\n",
    "<p id=\"math_r_2\"></p>\n",
    "<p id=\"math_r_3\"></p>"
   ]
  },
  {
   "cell_type": "markdown",
   "metadata": {
    "collapsed": true
   },
   "source": [
    "<br>\n",
    "## <strong> 11 문자와 숫자 서로변환\n",
    "1. String(숫자)\n",
    "2. 숫자.toString()\n",
    "3. Number(문자)"
   ]
  },
  {
   "cell_type": "code",
   "execution_count": 57,
   "metadata": {},
   "outputs": [
    {
     "data": {
      "text/html": [
       "<!-- String(숫자) \n",
       ": 숫자를 문자로 변환 -->\n",
       "    \n",
       "<script>\n",
       "var num = 2014;\n",
       "var str = String(num) + 10;\n",
       "\n",
       "document.getElementById(\"str_\").innerHTML = str;\n",
       "</script>\n",
       "<p id=\"str_\"></p>"
      ],
      "text/plain": [
       "<IPython.core.display.HTML object>"
      ]
     },
     "metadata": {},
     "output_type": "display_data"
    }
   ],
   "source": [
    "%%html\n",
    "<!-- String(숫자) \n",
    ": 숫자를 문자로 변환 -->\n",
    "    \n",
    "<script>\n",
    "var num = 2014;\n",
    "var str = String(num) + 10;\n",
    "\n",
    "document.getElementById(\"str_\").innerHTML = str;\n",
    "</script>\n",
    "<p id=\"str_\"></p>"
   ]
  },
  {
   "cell_type": "code",
   "execution_count": 58,
   "metadata": {},
   "outputs": [
    {
     "data": {
      "text/html": [
       "<!-- 숫자.toString() \n",
       ": 숫자를 문자로 변환 -->\n",
       "    \n",
       "<script>\n",
       "var num = 2014;\n",
       "var str = num.toString() + 10;\n",
       "\n",
       "document.getElementById(\"str_2\").innerHTML = str;\n",
       "</script>\n",
       "<p id=\"str_2\"></p>"
      ],
      "text/plain": [
       "<IPython.core.display.HTML object>"
      ]
     },
     "metadata": {},
     "output_type": "display_data"
    }
   ],
   "source": [
    "%%html\n",
    "<!-- 숫자.toString() \n",
    ": 숫자를 문자로 변환 -->\n",
    "    \n",
    "<script>\n",
    "var num = 2014;\n",
    "var str = num.toString() + 10;\n",
    "\n",
    "document.getElementById(\"str_2\").innerHTML = str;\n",
    "</script>\n",
    "<p id=\"str_2\"></p>"
   ]
  },
  {
   "cell_type": "code",
   "execution_count": 59,
   "metadata": {},
   "outputs": [
    {
     "data": {
      "text/html": [
       "<!-- Numbet(문자열)\n",
       ": 숫자만 추출하여 출력 -->\n",
       "    \n",
       "<script>\n",
       "var str = \"2017 평창 동계\";\n",
       "var num = Number(str);\n",
       "\n",
       "document.getElementById(\"str_3\").innerHTML = num;\n",
       "</script>\n",
       "<p id=\"str_3\"></p>"
      ],
      "text/plain": [
       "<IPython.core.display.HTML object>"
      ]
     },
     "metadata": {},
     "output_type": "display_data"
    }
   ],
   "source": [
    "%%html\n",
    "<!-- Numbet(문자열)\n",
    ": 숫자만 추출하여 출력 -->\n",
    "    \n",
    "<script>\n",
    "var str = \"2017 평창 동계\";\n",
    "var num = Number(str);\n",
    "\n",
    "document.getElementById(\"str_3\").innerHTML = num;\n",
    "</script>\n",
    "<p id=\"str_3\"></p>"
   ]
  },
  {
   "cell_type": "code",
   "execution_count": 60,
   "metadata": {},
   "outputs": [
    {
     "data": {
      "text/html": [
       "<!-- parseInt()\n",
       ": 숫자만 추출하여 정수로 출력 -->\n",
       "    \n",
       "<script>\n",
       "var str = \"2017.02 평창 동계 올림픽\";\n",
       "var num = parseInt(str);\n",
       "\n",
       "document.getElementById(\"str_4\").innerHTML = num;\n",
       "</script>\n",
       "<p id=\"str_4\"></p>"
      ],
      "text/plain": [
       "<IPython.core.display.HTML object>"
      ]
     },
     "metadata": {},
     "output_type": "display_data"
    }
   ],
   "source": [
    "%%html\n",
    "<!-- parseInt()\n",
    ": 숫자만 추출하여 정수로 출력 -->\n",
    "    \n",
    "<script>\n",
    "var str = \"2017.02 평창 동계 올림픽\";\n",
    "var num = parseInt(str);\n",
    "\n",
    "document.getElementById(\"str_4\").innerHTML = num;\n",
    "</script>\n",
    "<p id=\"str_4\"></p>"
   ]
  },
  {
   "cell_type": "markdown",
   "metadata": {
    "collapsed": true
   },
   "source": [
    "<br>\n",
    "## <strong> 12 예외처리 및 오류발생문자와 숫자 서로변환\n",
    "try, catch, finally"
   ]
  },
  {
   "cell_type": "code",
   "execution_count": 61,
   "metadata": {},
   "outputs": [
    {
     "data": {
      "text/html": [
       "<script type=\"text/javascript\">\n",
       "try {\n",
       "    alert('try 구문');\n",
       "    abcd.run();           // 없는객체의 없는 메서드이기 때문에 예외 발생\n",
       "    alert('try 구문 끝');  // 예외로 인해 실행 되지 않음\n",
       "} catch (exception) {    // catch() : 오류정보를 전달받음\n",
       "    alert('예외 발생시 실행 되는 catch 구문');\n",
       "} finally {\n",
       "    alert('예외 발생 여부 상관없이 실행 되는 finaylly 구문');\n",
       "}\n",
       "</script>"
      ],
      "text/plain": [
       "<IPython.core.display.HTML object>"
      ]
     },
     "metadata": {},
     "output_type": "display_data"
    }
   ],
   "source": [
    "%%html\n",
    "<script type=\"text/javascript\">\n",
    "try {\n",
    "    alert('try 구문');\n",
    "    abcd.run();           // 없는객체의 없는 메서드이기 때문에 예외 발생\n",
    "    alert('try 구문 끝');  // 예외로 인해 실행 되지 않음\n",
    "} catch (exception) {    // catch() : 오류정보를 전달받음\n",
    "    alert('예외 발생시 실행 되는 catch 구문');\n",
    "} finally {\n",
    "    alert('예외 발생 여부 상관없이 실행 되는 finaylly 구문');\n",
    "}\n",
    "</script>"
   ]
  },
  {
   "cell_type": "code",
   "execution_count": 62,
   "metadata": {},
   "outputs": [
    {
     "data": {
      "text/html": [
       "<script type=\"text/javascript\">\n",
       "function send(){\n",
       "    \n",
       "} try {\n",
       "    send();\n",
       "    throw new Error('throw test');\n",
       "} catch(e) {\n",
       "    alert('Error Message :' + e.message + '<br/>');  // 에러 메세지 내용을 출력\n",
       "} finally {\n",
       "    alert('finally')\n",
       "}\n",
       "</script>"
      ],
      "text/plain": [
       "<IPython.core.display.HTML object>"
      ]
     },
     "metadata": {},
     "output_type": "display_data"
    }
   ],
   "source": [
    "%%html\n",
    "<script type=\"text/javascript\">\n",
    "function send(){\n",
    "    \n",
    "} try {\n",
    "    send();\n",
    "    throw new Error('throw test');\n",
    "} catch(e) {\n",
    "    alert('Error Message :' + e.message + '<br/>');  // 에러 메세지 내용을 출력\n",
    "} finally {\n",
    "    alert('finally')\n",
    "}\n",
    "</script>"
   ]
  }
 ],
 "metadata": {
  "kernelspec": {
   "display_name": "Python 3",
   "language": "python",
   "name": "python3"
  },
  "language_info": {
   "codemirror_mode": {
    "name": "ipython",
    "version": 3
   },
   "file_extension": ".py",
   "mimetype": "text/x-python",
   "name": "python",
   "nbconvert_exporter": "python",
   "pygments_lexer": "ipython3",
   "version": "3.6.1"
  }
 },
 "nbformat": 4,
 "nbformat_minor": 2
}
