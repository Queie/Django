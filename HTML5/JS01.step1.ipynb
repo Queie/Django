{
 "cells": [
  {
   "cell_type": "markdown",
   "metadata": {},
   "source": [
    "# 처음 만나는 자바스크립트\n",
    "Javascript - Basic Grammer"
   ]
  },
  {
   "cell_type": "markdown",
   "metadata": {},
   "source": [
    "<br>\n",
    "## <strong>1 Javascript\n",
    "1. tag 내부 내용을 변경한다\n",
    "1. tag 요소를 추가/ 삭제한다\n",
    "1. tag 속성값을 변경한다\n",
    "1. CSS값을 변경한다\n",
    "1. tag 내용을 output/ input 가능하다"
   ]
  },
  {
   "cell_type": "code",
   "execution_count": 1,
   "metadata": {},
   "outputs": [
    {
     "data": {
      "text/html": [
       "<p id=\"intro\"></p>\n",
       "\n",
       "<script>\n",
       "var a = 10;\n",
       "var b = 20;\n",
       "if(a != b) {\n",
       "    if(a > b){document.getElementById(\"intro\").innerHTML =\"a는 b보다 크다\";\n",
       "    } else   {document.getElementById(\"intro\").innerHTML =\"a는 b보다 작다\";}}\n",
       "</script>"
      ],
      "text/plain": [
       "<IPython.core.display.HTML object>"
      ]
     },
     "metadata": {},
     "output_type": "display_data"
    }
   ],
   "source": [
    "%%html <!-- 조건문의 중첩적 활용 : 1단계 조건(자료의 일치확인), 2단계 조건(크기비교) -->\n",
    "<p id=\"intro\"></p>\n",
    "\n",
    "<script>\n",
    "var a = 10;\n",
    "var b = 20;\n",
    "if(a != b) {\n",
    "    if(a > b){document.getElementById(\"intro\").innerHTML =\"a는 b보다 크다\";\n",
    "    } else   {document.getElementById(\"intro\").innerHTML =\"a는 b보다 작다\";}}\n",
    "</script>"
   ]
  },
  {
   "cell_type": "markdown",
   "metadata": {},
   "source": [
    "<br>\n",
    "## <strong>2 JS의 연산결과 출력\n",
    "1. <strong>Console</strong> 출력 : console.log()\n",
    "1. <strong>Dialog Box</strong> 출력 : alert()\n",
    "1. <strong>HTML</strong> 출력 : document.write()"
   ]
  },
  {
   "cell_type": "markdown",
   "metadata": {},
   "source": [
    "### <strong>01 console 출력\n",
    "여기선 console이 어려워 element로 대체"
   ]
  },
  {
   "cell_type": "code",
   "execution_count": 2,
   "metadata": {},
   "outputs": [
    {
     "data": {
      "application/javascript": [
       "// https://stackoverflow.com/questions/28711667/ipython-javascript-magic-output-into-cell-and-console\n",
       "element.text('Hi')"
      ],
      "text/plain": [
       "<IPython.core.display.Javascript object>"
      ]
     },
     "metadata": {},
     "output_type": "display_data"
    }
   ],
   "source": [
    "%%javascript\n",
    "// https://stackoverflow.com/questions/28711667/ipython-javascript-magic-output-into-cell-and-console\n",
    "element.text('Hi')"
   ]
  },
  {
   "cell_type": "code",
   "execution_count": 3,
   "metadata": {},
   "outputs": [
    {
     "data": {
      "application/javascript": [
       "element.text(2+3);"
      ],
      "text/plain": [
       "<IPython.core.display.Javascript object>"
      ]
     },
     "metadata": {},
     "output_type": "display_data"
    }
   ],
   "source": [
    "%%javascript\n",
    "element.text(2+3);"
   ]
  },
  {
   "cell_type": "markdown",
   "metadata": {},
   "source": [
    "### <strong>02 Dialog Box 표시\n",
    "다이얼로그 박스 표시"
   ]
  },
  {
   "cell_type": "code",
   "execution_count": 4,
   "metadata": {},
   "outputs": [
    {
     "data": {
      "application/javascript": [
       "//window.alert(\"애플리케이션 연동을 완료하였습니다\")"
      ],
      "text/plain": [
       "<IPython.core.display.Javascript object>"
      ]
     },
     "metadata": {},
     "output_type": "display_data"
    }
   ],
   "source": [
    "%%javascript\n",
    "//window.alert(\"애플리케이션 연동을 완료하였습니다\")"
   ]
  },
  {
   "cell_type": "code",
   "execution_count": 5,
   "metadata": {},
   "outputs": [
    {
     "data": {
      "application/javascript": [
       "//window.alert(100+20)"
      ],
      "text/plain": [
       "<IPython.core.display.Javascript object>"
      ]
     },
     "metadata": {},
     "output_type": "display_data"
    }
   ],
   "source": [
    "%%javascript\n",
    "//window.alert(100+20)"
   ]
  },
  {
   "cell_type": "markdown",
   "metadata": {},
   "source": [
    "### <strong>03 HTML 변경하기\n",
    "<strong>document</strong> : 요소취득 및 콘텐츠 변경\n",
    "\n",
    "cf) .write() : 태그에 직접 입력하는 방식, 처리가 늦어지는 문제가 발생한다"
   ]
  },
  {
   "cell_type": "code",
   "execution_count": 6,
   "metadata": {},
   "outputs": [
    {
     "data": {
      "text/html": [
       "<section><p id=\"choice\">여기에 날짜를 출력한다</p></section>\n",
       "\n",
       "<script>   // 1. console.log()를 html에 전달, Js는 대소문자 구별에 주의\n",
       "console.log(document.getElementById('choice'));\n",
       "</script>"
      ],
      "text/plain": [
       "<IPython.core.display.HTML object>"
      ]
     },
     "metadata": {},
     "output_type": "display_data"
    }
   ],
   "source": [
    "%%html           <!-- Id 속성을 사용하여 value를 출력한다 -->\n",
    "<section><p id=\"choice\">여기에 날짜를 출력한다</p></section>\n",
    "\n",
    "<script>   // 1. console.log()를 html에 전달, Js는 대소문자 구별에 주의\n",
    "console.log(document.getElementById('choice'));\n",
    "</script>"
   ]
  },
  {
   "cell_type": "code",
   "execution_count": 7,
   "metadata": {},
   "outputs": [
    {
     "data": {
      "text/html": [
       "<section><p id=\"choice2\">여기에 날짜를 출력한다</p></section>\n",
       "\n",
       "<script>   // 2. .textContent : tag 컨텐츠를 변경한다\n",
       "document.getElementById('choice2').textContent = new Date();\n",
       "</script>"
      ],
      "text/plain": [
       "<IPython.core.display.HTML object>"
      ]
     },
     "metadata": {},
     "output_type": "display_data"
    }
   ],
   "source": [
    "%%html           \n",
    "<section><p id=\"choice2\">여기에 날짜를 출력한다</p></section>\n",
    "\n",
    "<script>   // 2. .textContent : tag 컨텐츠를 변경한다\n",
    "document.getElementById('choice2').textContent = new Date();\n",
    "</script>"
   ]
  },
  {
   "cell_type": "code",
   "execution_count": 8,
   "metadata": {},
   "outputs": [
    {
     "data": {
      "text/html": [
       "<section><p id=\"choice3\">여기에 날짜를 출력한다</p></section>\n",
       "\n",
       "<script>   // 3. .textContent : tag 객체를 불러온다  to Html\n",
       "document.getElementById('choice3').textContent = new Date();\n",
       "console.log(document.getElementById('choice3').textContent);\n",
       "</script>"
      ],
      "text/plain": [
       "<IPython.core.display.HTML object>"
      ]
     },
     "metadata": {},
     "output_type": "display_data"
    }
   ],
   "source": [
    "%%html           \n",
    "<section><p id=\"choice3\">여기에 날짜를 출력한다</p></section>\n",
    "\n",
    "<script>   // 3. .textContent : tag 객체를 불러온다  to Html\n",
    "document.getElementById('choice3').textContent = new Date();\n",
    "console.log(document.getElementById('choice3').textContent);\n",
    "</script>"
   ]
  },
  {
   "cell_type": "code",
   "execution_count": 9,
   "metadata": {},
   "outputs": [
    {
     "data": {
      "application/javascript": [
       "// 4. .textContent : tag 객체를 불러온다 by Js\n",
       "element.text(document.getElementById('choice3').textContent);"
      ],
      "text/plain": [
       "<IPython.core.display.Javascript object>"
      ]
     },
     "metadata": {},
     "output_type": "display_data"
    }
   ],
   "source": [
    "%%javascript\n",
    "// 4. .textContent : tag 객체를 불러온다 by Js\n",
    "element.text(document.getElementById('choice3').textContent);"
   ]
  },
  {
   "cell_type": "markdown",
   "metadata": {},
   "source": [
    "<br>\n",
    "## <strong>3 자바스크립트 문법과 기능\n",
    "조건문"
   ]
  },
  {
   "cell_type": "markdown",
   "metadata": {},
   "source": [
    "### <strong>01 if 조건문\n",
    "true // false"
   ]
  },
  {
   "cell_type": "code",
   "execution_count": 10,
   "metadata": {},
   "outputs": [
    {
     "data": {
      "application/javascript": [
       "// alert() 와 달리, 반환값이 존재한다\n",
       "// 확인, 취소 클릭에 따른 반환값을 출력\n",
       "element.text(window.confirm('start!!2+3')); "
      ],
      "text/plain": [
       "<IPython.core.display.Javascript object>"
      ]
     },
     "metadata": {},
     "output_type": "display_data"
    }
   ],
   "source": [
    "%%javascript\n",
    "// alert() 와 달리, 반환값이 존재한다\n",
    "// 확인, 취소 클릭에 따른 반환값을 출력\n",
    "element.text(window.confirm('start!!2+3')); "
   ]
  },
  {
   "cell_type": "code",
   "execution_count": 11,
   "metadata": {},
   "outputs": [
    {
     "data": {
      "application/javascript": [
       "if (window.confirm('Game Start!!')){\n",
       "       element.text('Start!!');      // true 일떄\n",
       "}else{ element.text('End Game!!');}  // false 일떄"
      ],
      "text/plain": [
       "<IPython.core.display.Javascript object>"
      ]
     },
     "metadata": {},
     "output_type": "display_data"
    }
   ],
   "source": [
    "%%javascript\n",
    "if (window.confirm('Game Start!!')){\n",
    "       element.text('Start!!');      // true 일떄\n",
    "}else{ element.text('End Game!!');}  // false 일떄"
   ]
  },
  {
   "cell_type": "code",
   "execution_count": 12,
   "metadata": {},
   "outputs": [
    {
     "data": {
      "application/javascript": [
       "if (window.confirm('Game Start!!')){\n",
       "       element.text('Start!!');}      // true 일떄  cf)false 경우의 수를 입력안해도 실행가능"
      ],
      "text/plain": [
       "<IPython.core.display.Javascript object>"
      ]
     },
     "metadata": {},
     "output_type": "display_data"
    }
   ],
   "source": [
    "%%javascript\n",
    "if (window.confirm('Game Start!!')){\n",
    "       element.text('Start!!');}      // true 일떄  cf)false 경우의 수를 입력안해도 실행가능"
   ]
  },
  {
   "cell_type": "markdown",
   "metadata": {},
   "source": [
    "### <strong>02 입력 내용에 따른 결과를 출력\n",
    "변수의 활용\n",
    "1. 변수를 정의한다 : 객체, 함수 모두가능\n",
    "1. 변수의 데이터를 정의한다\n",
    "1. 변수의 데이터를 읽어온다\n",
    "1. 변수의 데이터를 변경한다"
   ]
  },
  {
   "cell_type": "code",
   "execution_count": 13,
   "metadata": {},
   "outputs": [
    {
     "data": {
      "application/javascript": [
       "// 1. 변수를 정의한다\n",
       "var answer; "
      ],
      "text/plain": [
       "<IPython.core.display.Javascript object>"
      ]
     },
     "metadata": {},
     "output_type": "display_data"
    }
   ],
   "source": [
    "%%javascript\n",
    "// 1. 변수를 정의한다\n",
    "var answer; "
   ]
  },
  {
   "cell_type": "code",
   "execution_count": 14,
   "metadata": {},
   "outputs": [
    {
     "data": {
      "application/javascript": [
       "// 2. 변수의 데이터를 정의한다 (alert 창에 입력한 내용을 전달\n",
       "var answer = window.prompt('Do you want to see help document?');\n",
       "// 3. 변수의 데이터를 읽어온다\n",
       "element.text(answer);"
      ],
      "text/plain": [
       "<IPython.core.display.Javascript object>"
      ]
     },
     "metadata": {},
     "output_type": "display_data"
    }
   ],
   "source": [
    "%%javascript\n",
    "// 2. 변수의 데이터를 정의한다 (alert 창에 입력한 내용을 전달\n",
    "var answer = window.prompt('Do you want to see help document?');\n",
    "// 3. 변수의 데이터를 읽어온다\n",
    "element.text(answer);"
   ]
  },
  {
   "cell_type": "code",
   "execution_count": 15,
   "metadata": {},
   "outputs": [
    {
     "data": {
      "application/javascript": [
       "var answer = 'yes';\n",
       "element.text(answer);   // 1번 객체를 출력한다\n",
       "answer = 'no';\n",
       "element.text(answer);   // 2번 객체를 출력한다 (총 2개의 객체를 출력)"
      ],
      "text/plain": [
       "<IPython.core.display.Javascript object>"
      ]
     },
     "metadata": {},
     "output_type": "display_data"
    }
   ],
   "source": [
    "%%javascript\n",
    "var answer = 'yes';\n",
    "element.text(answer);   // 1번 객체를 출력한다\n",
    "answer = 'no';\n",
    "element.text(answer);   // 2번 객체를 출력한다 (총 2개의 객체를 출력)"
   ]
  },
  {
   "cell_type": "code",
   "execution_count": 16,
   "metadata": {},
   "outputs": [
    {
     "data": {
      "application/javascript": [
       "// 1. 변수에 입력한 값에 따른 결과값 출력\n",
       "var answer = window.prompt('Do you want to see help document?');\n",
       "if (answer == 'yes') {   // (answer == 'yes') 조건이 true 인 경우\n",
       "    window.alert('탭키로 점프해서 장해물을 피합니다')\n",
       "}                        // (answer == 'yes') 조건이 false 인 경우"
      ],
      "text/plain": [
       "<IPython.core.display.Javascript object>"
      ]
     },
     "metadata": {},
     "output_type": "display_data"
    }
   ],
   "source": [
    "%%javascript\n",
    "// 1. 변수에 입력한 값에 따른 결과값 출력\n",
    "var answer = window.prompt('Do you want to see help document?');\n",
    "if (answer == 'yes') {   // (answer == 'yes') 조건이 true 인 경우\n",
    "    window.alert('탭키로 점프해서 장해물을 피합니다')\n",
    "}                        // (answer == 'yes') 조건이 false 인 경우"
   ]
  },
  {
   "cell_type": "markdown",
   "metadata": {},
   "source": [
    "### <strong>03 동작의 범위를 넓힌다\n",
    "else if : 조건분기"
   ]
  },
  {
   "cell_type": "code",
   "execution_count": 17,
   "metadata": {},
   "outputs": [
    {
     "data": {
      "application/javascript": [
       "var answer = 'no';\n",
       "\n",
       "if (answer == 'yes') {       // 1. 조건문\n",
       "    element.text('Pass the exam');\n",
       "} else if(answer == 'no'){   // 2. 조건문2\n",
       "    element.text('Fail the exam');\n",
       "} else {                     // 3. 잉여결과 출력\n",
       "    element.text('Please insert your answer!')\n",
       "}"
      ],
      "text/plain": [
       "<IPython.core.display.Javascript object>"
      ]
     },
     "metadata": {},
     "output_type": "display_data"
    }
   ],
   "source": [
    "%%javascript\n",
    "var answer = 'no';\n",
    "\n",
    "if (answer == 'yes') {       // 1. 조건문\n",
    "    element.text('Pass the exam');\n",
    "} else if(answer == 'no'){   // 2. 조건문2\n",
    "    element.text('Fail the exam');\n",
    "} else {                     // 3. 잉여결과 출력\n",
    "    element.text('Please insert your answer!')\n",
    "}"
   ]
  },
  {
   "cell_type": "markdown",
   "metadata": {},
   "source": [
    "### <strong>04 숫자 맞히기 게임\n",
    "비교 연산자"
   ]
  },
  {
   "cell_type": "code",
   "execution_count": 18,
   "metadata": {},
   "outputs": [
    {
     "data": {
      "application/javascript": [
       "var number = Math.floor(Math.random() * 6);  // 0 ~ 5 사이의 무작위 정수를 출력한다\n",
       "var answer = parseInt(window.prompt('Insert the Number (0 to 5).'));  // parse Int : 문자 --> integercv\n",
       "var message;   // 응답에 사용할 매개변수를 정의한다\n",
       "if (answer === number ){\n",
       "    message = 'Correct!';\n",
       "} else if (answer < number){\n",
       "    message = 'Answer is bigger'\n",
       "} else if (answer < number){\n",
       "    message = 'Answer is smaller'\n",
       "} else {\n",
       "    message = 'insert between 0 ~ 5'\n",
       "}\n",
       "element.text(message);"
      ],
      "text/plain": [
       "<IPython.core.display.Javascript object>"
      ]
     },
     "metadata": {},
     "output_type": "display_data"
    }
   ],
   "source": [
    "%%javascript\n",
    "var number = Math.floor(Math.random() * 6);  // 0 ~ 5 사이의 무작위 정수를 출력한다\n",
    "var answer = parseInt(window.prompt('Insert the Number (0 to 5).'));  // parse Int : 문자 --> integercv\n",
    "var message;   // 응답에 사용할 매개변수를 정의한다\n",
    "if (answer === number ){\n",
    "    message = 'Correct!';\n",
    "} else if (answer < number){\n",
    "    message = 'Answer is bigger'\n",
    "} else if (answer < number){\n",
    "    message = 'Answer is smaller'\n",
    "} else {\n",
    "    message = 'insert between 0 ~ 5'\n",
    "}\n",
    "element.text(message);"
   ]
  },
  {
   "cell_type": "markdown",
   "metadata": {},
   "source": [
    "### <strong>05 시간에 따라 다른 메세지 표시\n",
    "<strong>논리 연산자</strong>\n",
    "1. <strong>&&</strong> (and 조건)\n",
    "2. <strong>||</strong> (or 조건)\n",
    "3. <strong>!</strong> (not 조건)"
   ]
  },
  {
   "cell_type": "code",
   "execution_count": 19,
   "metadata": {},
   "outputs": [
    {
     "data": {
      "application/javascript": [
       "var hour = new Date().getHours();\n",
       "    hour = 15\n",
       "\n",
       "if (hour >= 19 && hour < 21){             // && : and 조건 모두 충족\n",
       "    element.text('Night mode Activated')\n",
       "} else if (hour == 9 || hour == 15) {     // || : or 조건 선택적 충족\n",
       "    element.text('one plus one sales')\n",
       "} else { element.text('Please choose the Item')}"
      ],
      "text/plain": [
       "<IPython.core.display.Javascript object>"
      ]
     },
     "metadata": {},
     "output_type": "display_data"
    }
   ],
   "source": [
    "%%javascript\n",
    "var hour = new Date().getHours();\n",
    "    hour = 15\n",
    "\n",
    "if (hour >= 19 && hour < 21){             // && : and 조건 모두 충족\n",
    "    element.text('Night mode Activated')\n",
    "} else if (hour == 9 || hour == 15) {     // || : or 조건 선택적 충족\n",
    "    element.text('one plus one sales')\n",
    "} else { element.text('Please choose the Item')}"
   ]
  },
  {
   "cell_type": "markdown",
   "metadata": {},
   "source": [
    "### <strong>06 개별 도구의 사용\n",
    "반복 for\n",
    "\n",
    "https://www.w3schools.com/js/tryit.asp?filename=tryjs_loop_for_om1"
   ]
  },
  {
   "cell_type": "code",
   "execution_count": 20,
   "metadata": {},
   "outputs": [
    {
     "data": {
      "text/html": [
       "<p id=\"for\"></p>\n",
       "\n",
       "<script>\n",
       "// for ( '시작값' ; '반복 종료조건 (!!!!)' ; '연산함수' ) \n",
       "// 두번쨰 조건에서 '전체 반복횟수'를 지정할 수 없음에 유의\n",
       "var text, i;\n",
       "for (i=1; i<=10; i=i+1){    // i=i+1은, i++ 로 대체가능 (increment, 증가)\n",
       "    text += i + \"  \"\n",
       "}   document.getElementById(\"for\").innerHTML = text;\n",
       "</script>"
      ],
      "text/plain": [
       "<IPython.core.display.HTML object>"
      ]
     },
     "metadata": {},
     "output_type": "display_data"
    }
   ],
   "source": [
    "%%html\n",
    "<p id=\"for\"></p>\n",
    "\n",
    "<script>\n",
    "// for ( '시작값' ; '반복 종료조건 (!!!!)' ; '연산함수' ) \n",
    "// 두번쨰 조건에서 '전체 반복횟수'를 지정할 수 없음에 유의\n",
    "var text, i;\n",
    "for (i=1; i<=10; i=i+1){    // i=i+1은, i++ 로 대체가능 (increment, 증가)\n",
    "    text += i + \"  \"\n",
    "}   document.getElementById(\"for\").innerHTML = text;\n",
    "</script>"
   ]
  },
  {
   "cell_type": "code",
   "execution_count": 21,
   "metadata": {},
   "outputs": [
    {
     "data": {
      "text/html": [
       "<p id=\"for2\"></p>\n",
       "\n",
       "<script>\n",
       "var cars = [\"BMW\", \"Volvo\", \"Saab\", \"Ford\"];\n",
       "var i, len, text;\n",
       "for (i = 0, len = cars.length, text = \"\"; i < len; i++) {\n",
       "    text += cars[i] + \"<br>\";\n",
       "}   document.getElementById(\"for2\").innerHTML = text;\n",
       "</script>"
      ],
      "text/plain": [
       "<IPython.core.display.HTML object>"
      ]
     },
     "metadata": {},
     "output_type": "display_data"
    }
   ],
   "source": [
    "%%html\n",
    "<p id=\"for2\"></p>\n",
    "\n",
    "<script>\n",
    "var cars = [\"BMW\", \"Volvo\", \"Saab\", \"Ford\"];\n",
    "var i, len, text;\n",
    "for (i = 0, len = cars.length, text = \"\"; i < len; i++) {\n",
    "    text += cars[i] + \"<br>\";\n",
    "}   document.getElementById(\"for2\").innerHTML = text;\n",
    "</script>"
   ]
  },
  {
   "cell_type": "markdown",
   "metadata": {},
   "source": [
    "### <strong>06 개별 도구의 사용 2\n",
    "반복 while"
   ]
  },
  {
   "cell_type": "code",
   "execution_count": 22,
   "metadata": {},
   "outputs": [
    {
     "data": {
      "text/html": [
       "<p id=\"while\"></p>\n",
       "\n",
       "<script>\n",
       "var text = \"\";\n",
       "var i = 0;\n",
       "do { text += \",   Number is \" + i;\n",
       "     i++; }\n",
       "while (i < 4);\n",
       "document.getElementById(\"while\").innerHTML = text;\n",
       "</script>"
      ],
      "text/plain": [
       "<IPython.core.display.HTML object>"
      ]
     },
     "metadata": {},
     "output_type": "display_data"
    }
   ],
   "source": [
    "%%html\n",
    "<p id=\"while\"></p>\n",
    "\n",
    "<script>\n",
    "var text = \"\";\n",
    "var i = 0;\n",
    "do { text += \",   Number is \" + i;\n",
    "     i++; }\n",
    "while (i < 4);\n",
    "document.getElementById(\"while\").innerHTML = text;\n",
    "</script>"
   ]
  },
  {
   "cell_type": "code",
   "execution_count": 23,
   "metadata": {},
   "outputs": [
    {
     "data": {
      "text/html": [
       "<p id='while2'></p>\n",
       "\n",
       "<script>\n",
       "var enemy = 100;\n",
       "var count = 0;\n",
       "var result = '';\n",
       "var attack;\n",
       "\n",
       "window.alert('대전 시작');\n",
       "while(enemy > 0) {\n",
       "    attack = Math.floor(Math.random() * 30);\n",
       "    result += ('몬스터에게 ' + attack + '의 피해를 입혔다!') + '<br> ';\n",
       "    enemy = enemy - attack;\n",
       "    count++;\n",
       "}   result += count + '회만에 몬스터를 물리쳤다!';\n",
       "document.getElementById('while2').innerHTML = result;\n",
       "</script>"
      ],
      "text/plain": [
       "<IPython.core.display.HTML object>"
      ]
     },
     "metadata": {},
     "output_type": "display_data"
    }
   ],
   "source": [
    "%%html\n",
    "<p id='while2'></p>\n",
    "\n",
    "<script>\n",
    "var enemy = 100;\n",
    "var count = 0;\n",
    "var result = '';\n",
    "var attack;\n",
    "\n",
    "window.alert('대전 시작');\n",
    "while(enemy > 0) {\n",
    "    attack = Math.floor(Math.random() * 30);\n",
    "    result += ('몬스터에게 ' + attack + '의 피해를 입혔다!') + '<br> ';\n",
    "    enemy = enemy - attack;\n",
    "    count++;\n",
    "}   result += count + '회만에 몬스터를 물리쳤다!';\n",
    "document.getElementById('while2').innerHTML = result;\n",
    "</script>"
   ]
  },
  {
   "cell_type": "markdown",
   "metadata": {},
   "source": [
    "### <strong>07 함수의 사용\n",
    "함수"
   ]
  },
  {
   "cell_type": "code",
   "execution_count": 24,
   "metadata": {},
   "outputs": [
    {
     "data": {
      "application/javascript": [
       "var total = function(price) {\n",
       "    var tax = 0.08;\n",
       "    return price + price * tax;\n",
       "}   // 8% 부가세 포함함수 (호출하기 전 정의를 해야한다)\n",
       "element.text('부가세 포함 가격 : '+ total(2000))"
      ],
      "text/plain": [
       "<IPython.core.display.Javascript object>"
      ]
     },
     "metadata": {},
     "output_type": "display_data"
    }
   ],
   "source": [
    "%%javascript\n",
    "var total = function(price) {\n",
    "    var tax = 0.08;\n",
    "    return price + price * tax;\n",
    "}   // 8% 부가세 포함함수 (호출하기 전 정의를 해야한다)\n",
    "element.text('부가세 포함 가격 : '+ total(2000))"
   ]
  },
  {
   "cell_type": "code",
   "execution_count": 25,
   "metadata": {},
   "outputs": [
    {
     "data": {
      "text/html": [
       "<p id=\"output1\"></p>\n",
       "<p id=\"output2\"></p>\n",
       "<p id=\"output3\"></p>\n",
       "\n",
       "<script>\n",
       "var total = function(price) {\n",
       "    var tax = 0.08;\n",
       "    return price + price * tax;\n",
       "}          // 1개 함수를 3번 재활용\n",
       "document.getElementById('output1').textContent = '커피 기계가격 ' + total(8000) + '원(tax)';\n",
       "document.getElementById('output2').textContent = '커피 필터가격 ' + total(200)  + '원(tax)';\n",
       "document.getElementById('output3').textContent = '커피 콩의가격 ' + total(1000) + '원(tax)';\n",
       "</script>"
      ],
      "text/plain": [
       "<IPython.core.display.HTML object>"
      ]
     },
     "metadata": {},
     "output_type": "display_data"
    }
   ],
   "source": [
    "%%html\n",
    "<p id=\"output1\"></p>\n",
    "<p id=\"output2\"></p>\n",
    "<p id=\"output3\"></p>\n",
    "\n",
    "<script>\n",
    "var total = function(price) {\n",
    "    var tax = 0.08;\n",
    "    return price + price * tax;\n",
    "}          // 1개 함수를 3번 재활용\n",
    "document.getElementById('output1').textContent = '커피 기계가격 ' + total(8000) + '원(tax)';\n",
    "document.getElementById('output2').textContent = '커피 필터가격 ' + total(200)  + '원(tax)';\n",
    "document.getElementById('output3').textContent = '커피 콩의가격 ' + total(1000) + '원(tax)';\n",
    "</script>"
   ]
  },
  {
   "cell_type": "markdown",
   "metadata": {},
   "source": [
    "### <strong>08 함수의 사용\n",
    "사칙연산자 : 3의 배수일 떄 Fizz, 5의 배수일 떄 Buzz "
   ]
  },
  {
   "cell_type": "code",
   "execution_count": 26,
   "metadata": {},
   "outputs": [
    {
     "data": {
      "application/javascript": [
       "var fizzbuzz = function(num) {\n",
       "    if(num % 3 === 0 && num % 5 === 0) { // 3와(&&) 5로 나누어 질 떄\n",
       "        return 'fizzbuzz';\n",
       "    } else if(num % 3 === 0) {           // 3로 나누어 질 떄\n",
       "        return 'fizz';\n",
       "    } else if(num % 5 === 0) {           // 5로 나누어 질 떄\n",
       "        return 'buzz';\n",
       "    } else {                              // 기타\n",
       "        return num;}}\n",
       "\n",
       "element.text(fizzbuzz(10));"
      ],
      "text/plain": [
       "<IPython.core.display.Javascript object>"
      ]
     },
     "metadata": {},
     "output_type": "display_data"
    }
   ],
   "source": [
    "%%javascript\n",
    "var fizzbuzz = function(num) {\n",
    "    if(num % 3 === 0 && num % 5 === 0) { // 3와(&&) 5로 나누어 질 떄\n",
    "        return 'fizzbuzz';\n",
    "    } else if(num % 3 === 0) {           // 3로 나누어 질 떄\n",
    "        return 'fizz';\n",
    "    } else if(num % 5 === 0) {           // 5로 나누어 질 떄\n",
    "        return 'buzz';\n",
    "    } else {                              // 기타\n",
    "        return num;}}\n",
    "\n",
    "element.text(fizzbuzz(10));"
   ]
  },
  {
   "cell_type": "code",
   "execution_count": 27,
   "metadata": {},
   "outputs": [
    {
     "data": {
      "application/javascript": [
       "var result = '';   // string 은 '', 숫자는 0 을 초깃값 설정해야 오류가 덜 발생\n",
       "var fizzbuzz = function(num) {\n",
       "    if(num % 3 === 0 && num % 5 === 0) {\n",
       "        return 'fizzbuzz';\n",
       "    } else if(num % 3 === 0) {\n",
       "        return 'fizz';\n",
       "    } else if(num % 5 === 0) {\n",
       "        return 'buzz';\n",
       "    } else {\n",
       "        return num;\n",
       "    }}\n",
       "\n",
       "for(var i = 1; i <= 20; i++) {    // for 반복문으로 출력\n",
       "    result += fizzbuzz(i) + ', ';}\n",
       "element.text(result)  // undefined : 정의된 데이터가 없음"
      ],
      "text/plain": [
       "<IPython.core.display.Javascript object>"
      ]
     },
     "metadata": {},
     "output_type": "display_data"
    }
   ],
   "source": [
    "%%javascript\n",
    "var result = '';   // string 은 '', 숫자는 0 을 초깃값 설정해야 오류가 덜 발생\n",
    "var fizzbuzz = function(num) {\n",
    "    if(num % 3 === 0 && num % 5 === 0) {\n",
    "        return 'fizzbuzz';\n",
    "    } else if(num % 3 === 0) {\n",
    "        return 'fizz';\n",
    "    } else if(num % 5 === 0) {\n",
    "        return 'buzz';\n",
    "    } else {\n",
    "        return num;\n",
    "    }}\n",
    "\n",
    "for(var i = 1; i <= 20; i++) {    // for 반복문으로 출력\n",
    "    result += fizzbuzz(i) + ', ';}\n",
    "element.text(result)  // undefined : 정의된 데이터가 없음"
   ]
  },
  {
   "cell_type": "markdown",
   "metadata": {},
   "source": [
    "### <strong>09 리스트로 출력\n",
    "배열"
   ]
  },
  {
   "cell_type": "code",
   "execution_count": 28,
   "metadata": {},
   "outputs": [
    {
     "data": {
      "application/javascript": [
       "var todo = ['디자인', '데이터', '스터디', '우유']; // [배열생성]\n",
       "element.text(todo[0]);                       // 배열 [index (0~ )]"
      ],
      "text/plain": [
       "<IPython.core.display.Javascript object>"
      ]
     },
     "metadata": {},
     "output_type": "display_data"
    }
   ],
   "source": [
    "%%javascript\n",
    "var todo = ['디자인', '데이터', '스터디', '우유']; // [배열생성]\n",
    "element.text(todo[0]);                       // 배열 [index (0~ )]"
   ]
  },
  {
   "cell_type": "code",
   "execution_count": 29,
   "metadata": {},
   "outputs": [
    {
     "data": {
      "application/javascript": [
       "var result = '';\n",
       "var todo = ['디자인', '데이터', '스터디', '우유']; // [배열생성]\n",
       "for (var i=0; i<todo.length; i++){\n",
       "    result += todo[i] + ', ';\n",
       "} element.text(result)"
      ],
      "text/plain": [
       "<IPython.core.display.Javascript object>"
      ]
     },
     "metadata": {},
     "output_type": "display_data"
    }
   ],
   "source": [
    "%%javascript\n",
    "var result = '';\n",
    "var todo = ['디자인', '데이터', '스터디', '우유']; // [배열생성]\n",
    "for (var i=0; i<todo.length; i++){\n",
    "    result += todo[i] + ', ';\n",
    "} element.text(result)"
   ]
  },
  {
   "cell_type": "code",
   "execution_count": 30,
   "metadata": {},
   "outputs": [
    {
     "data": {
      "application/javascript": [
       "// 1. .pop()  : 마지막 데이터를 삭제\n",
       "// 2. .push(데이터) : 마지막 데이터를 추가 \n",
       "// 3. .shift()    : 첫 데이터를 삭제\n",
       "// 4. .unshift(데이터1, 데이터2) : 첫 배열을 추가\n",
       "var todo = ['디자인', '데이터', '스터디', '우유']; // [배열생성]\n",
       "todo.pop();                  // 마지막 삭제\n",
       "todo.unshift('파이썬', '자바'); // 앞에 배열추가\n",
       "element.text(todo);"
      ],
      "text/plain": [
       "<IPython.core.display.Javascript object>"
      ]
     },
     "metadata": {},
     "output_type": "display_data"
    }
   ],
   "source": [
    "%%javascript\n",
    "// 1. .pop()  : 마지막 데이터를 삭제\n",
    "// 2. .push(데이터) : 마지막 데이터를 추가 \n",
    "// 3. .shift()    : 첫 데이터를 삭제\n",
    "// 4. .unshift(데이터1, 데이터2) : 첫 배열을 추가\n",
    "var todo = ['디자인', '데이터', '스터디', '우유']; // [배열생성]\n",
    "todo.pop();                  // 마지막 삭제\n",
    "todo.unshift('파이썬', '자바'); // 앞에 배열추가\n",
    "element.text(todo);"
   ]
  },
  {
   "cell_type": "code",
   "execution_count": 31,
   "metadata": {},
   "outputs": [
    {
     "data": {
      "text/html": [
       "<ul id='list'></ul>\n",
       "\n",
       "<script>\n",
       "var todo = ['디자인', '데이터', '스터디', '우유'];\n",
       "todo.push('냉장고');\n",
       "\n",
       "// li태그와 내용 생성 후, html 삽입의 위치를 정의하여 완성한다\n",
       "for (var i=0; i<todo.length; i++) { \n",
       "    var li = document.createElement('li');           // 1. li 태그를 생성\n",
       "        li.textContent = todo[i];                    // 2. li 태그의 value 입력\n",
       "    document.getElementById('list').appendChild(li); // 3. li 를 Html 삽입위치 정의 (id='list' ul 자손으로 삽입)\n",
       "} \n",
       "</script>   "
      ],
      "text/plain": [
       "<IPython.core.display.HTML object>"
      ]
     },
     "metadata": {},
     "output_type": "display_data"
    }
   ],
   "source": [
    "%%html\n",
    "<ul id='list'></ul>\n",
    "\n",
    "<script>\n",
    "var todo = ['디자인', '데이터', '스터디', '우유'];\n",
    "todo.push('냉장고');\n",
    "\n",
    "// li태그와 내용 생성 후, html 삽입의 위치를 정의하여 완성한다\n",
    "for (var i=0; i<todo.length; i++) { \n",
    "    var li = document.createElement('li');           // 1. li 태그를 생성\n",
    "        li.textContent = todo[i];                    // 2. li 태그의 value 입력\n",
    "    document.getElementById('list').appendChild(li); // 3. li 를 Html 삽입위치 정의 (id='list' ul 자손으로 삽입)\n",
    "} \n",
    "</script>   "
   ]
  },
  {
   "cell_type": "markdown",
   "metadata": {},
   "source": [
    "### <strong>10 아이템 가격과 재고 표시하기\n",
    "프로퍼티 = {프로퍼티명 : 데이터(값),  프로퍼티명 : 데이터(값) .....}"
   ]
  },
  {
   "cell_type": "code",
   "execution_count": 32,
   "metadata": {},
   "outputs": [
    {
     "data": {
      "application/javascript": [
       "var jsbook = {title: 'Js입문', price: 40000, stock:'4'};\n",
       "element.text(jsbook)  // 객체를 개별적으로 꺼내야 효용이 있다."
      ],
      "text/plain": [
       "<IPython.core.display.Javascript object>"
      ]
     },
     "metadata": {},
     "output_type": "display_data"
    }
   ],
   "source": [
    "%%javascript\n",
    "var jsbook = {title: 'Js입문', price: 40000, stock:'4'};\n",
    "element.text(jsbook)  // 객체를 개별적으로 꺼내야 효용이 있다."
   ]
  },
  {
   "cell_type": "code",
   "execution_count": 33,
   "metadata": {},
   "outputs": [
    {
     "data": {
      "application/javascript": [
       "var jsbook = {title: 'Js입문', price: 40000, stock:'4'};\n",
       "element.text(jsbook['title'])  // 객체를 [index]로 추출"
      ],
      "text/plain": [
       "<IPython.core.display.Javascript object>"
      ]
     },
     "metadata": {},
     "output_type": "display_data"
    }
   ],
   "source": [
    "%%javascript\n",
    "var jsbook = {title: 'Js입문', price: 40000, stock:'4'};\n",
    "element.text(jsbook['title'])  // 객체를 [index]로 추출"
   ]
  },
  {
   "cell_type": "code",
   "execution_count": 34,
   "metadata": {},
   "outputs": [
    {
     "data": {
      "application/javascript": [
       "var jsbook = {title: 'Js입문', price: 40000, stock:'4'};\n",
       "element.text(jsbook.price)    // 객체를 .index 로 추출"
      ],
      "text/plain": [
       "<IPython.core.display.Javascript object>"
      ]
     },
     "metadata": {},
     "output_type": "display_data"
    }
   ],
   "source": [
    "%%javascript\n",
    "var jsbook = {title: 'Js입문', price: 40000, stock:'4'};\n",
    "element.text(jsbook.price)    // 객체를 .index 로 추출"
   ]
  },
  {
   "cell_type": "code",
   "execution_count": 35,
   "metadata": {},
   "outputs": [
    {
     "data": {
      "application/javascript": [
       "var jsbook = {title: 'Js입문', price: 40000, stock:'4'};\n",
       "jsbook.stock = 10;           // 객체의 value 변경\n",
       "element.text(jsbook.stock)"
      ],
      "text/plain": [
       "<IPython.core.display.Javascript object>"
      ]
     },
     "metadata": {},
     "output_type": "display_data"
    }
   ],
   "source": [
    "%%javascript\n",
    "var jsbook = {title: 'Js입문', price: 40000, stock:'4'};\n",
    "jsbook.stock = 10;           // 객체의 value 변경\n",
    "element.text(jsbook.stock)"
   ]
  },
  {
   "cell_type": "code",
   "execution_count": 36,
   "metadata": {},
   "outputs": [
    {
     "data": {
      "application/javascript": [
       "var result = ''               // 프로퍼티의 모든 객체 추출\n",
       "var jsbook = {title: 'Js입문', price: 40000, stock:'4'};\n",
       "for (var p in jsbook) {\n",
       "    result += p + ' : ' + jsbook[p] + ',  '\n",
       "}\n",
       "element.text(result)"
      ],
      "text/plain": [
       "<IPython.core.display.Javascript object>"
      ]
     },
     "metadata": {},
     "output_type": "display_data"
    }
   ],
   "source": [
    "%%javascript\n",
    "var result = ''               // 프로퍼티의 모든 객체 추출\n",
    "var jsbook = {title: 'Js입문', price: 40000, stock:'4'};\n",
    "for (var p in jsbook) {\n",
    "    result += p + ' : ' + jsbook[p] + ',  '\n",
    "}\n",
    "element.text(result)"
   ]
  },
  {
   "cell_type": "code",
   "execution_count": 37,
   "metadata": {},
   "outputs": [
    {
     "data": {
      "application/javascript": [
       "var obj = {\n",
       "    addTex : function(num) {   // 함수도 객체지향 프로퍼티 활용가능\n",
       "        return num * 1.08;\n",
       "    },\n",
       "    count : 10\n",
       "};\n",
       "element.text(obj.addTex(10))"
      ],
      "text/plain": [
       "<IPython.core.display.Javascript object>"
      ]
     },
     "metadata": {},
     "output_type": "display_data"
    }
   ],
   "source": [
    "%%javascript\n",
    "var obj = {\n",
    "    addTex : function(num) {   // 함수도 객체지향 프로퍼티 활용가능\n",
    "        return num * 1.08;\n",
    "    },\n",
    "    count : 10\n",
    "};\n",
    "element.text(obj.addTex(10))"
   ]
  },
  {
   "cell_type": "code",
   "execution_count": 38,
   "metadata": {},
   "outputs": [
    {
     "data": {
      "text/html": [
       "<p id='j_title'></p>\n",
       "<p id='j_price'></p>\n",
       "<p id='j_stock'></p>\n",
       "\n",
       "<script>\n",
       "var jsbook = {title: 'Js입문', price: 40000, stock:'4'};\n",
       "document.getElementById('j_title').textContent = jsbook.title;\n",
       "document.getElementById('j_price').textContent = jsbook.price + ' 원';\n",
       "document.getElementById('j_stock').textContent = jsbook.stock;\n",
       "</script>"
      ],
      "text/plain": [
       "<IPython.core.display.HTML object>"
      ]
     },
     "metadata": {},
     "output_type": "display_data"
    }
   ],
   "source": [
    "%%html\n",
    "<p id='j_title'></p>\n",
    "<p id='j_price'></p>\n",
    "<p id='j_stock'></p>\n",
    "\n",
    "<script>\n",
    "var jsbook = {title: 'Js입문', price: 40000, stock:'4'};\n",
    "document.getElementById('j_title').textContent = jsbook.title;\n",
    "document.getElementById('j_price').textContent = jsbook.price + ' 원';\n",
    "document.getElementById('j_stock').textContent = jsbook.stock;\n",
    "</script>"
   ]
  }
 ],
 "metadata": {
  "kernelspec": {
   "display_name": "Python 3",
   "language": "python",
   "name": "python3"
  },
  "language_info": {
   "codemirror_mode": {
    "name": "ipython",
    "version": 3
   },
   "file_extension": ".py",
   "mimetype": "text/x-python",
   "name": "python",
   "nbconvert_exporter": "python",
   "pygments_lexer": "ipython3",
   "version": "3.6.3"
  }
 },
 "nbformat": 4,
 "nbformat_minor": 2
}
