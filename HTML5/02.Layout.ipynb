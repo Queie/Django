{
 "cells": [
  {
   "cell_type": "markdown",
   "metadata": {},
   "source": [
    "# <strong>HTML5 + CSS3 웹표준의 정석\n",
    "<strong>레이아웃을 위한 스타일\n",
    "\n",
    "<strong>반응형 웹 디자인"
   ]
  },
  {
   "cell_type": "markdown",
   "metadata": {},
   "source": [
    "## <strong>Layout\n",
    "CSS를 이용하여 여러 요소들의 배치를 변경한다\n",
    "\n",
    "<br></br>\n",
    "## <strong>1 박스모델\n",
    "사각영역을 사용하여 단락의 테두리 및 공간을 조정\n",
    "\n",
    "<img src=\"https://stuyhsdesign.files.wordpress.com/2015/10/box-model.png\" width='400' align ='left'>"
   ]
  },
  {
   "cell_type": "markdown",
   "metadata": {
    "collapsed": true
   },
   "source": [
    "### <strong>01 박스모델의 속성 1\n",
    "1. width, height : 박스 모델의 크기\n",
    "2. margin : 요소의 주변여백 설정"
   ]
  },
  {
   "cell_type": "code",
   "execution_count": 1,
   "metadata": {},
   "outputs": [
    {
     "data": {
      "text/html": [
       "<style> /* 테두리와 내용 간격 ; 다른 요소와 간격     ; 경계선 */                \n",
       "    p_ {padding:10px       ; margin: 15px 5px ; border:2px dotted blue;}\n",
       "    p_.size1 {width:100px  ; height:50px      ;} /*\n",
       "    p_.size2 {width:50%    ; height:50px      ;} /* 50% : 부모요소 기준 비율 */ \n",
       "</style>\n",
       "<body>\n",
       "    <h3> 아메리카노</h3>\n",
       "    <p_>에스프레소의 향은 그대로 느끼면서 뜨거운 물을 부어 1:2 정도의 비율로 연하게 먹는 커피다.</p_><br>\n",
       "    <p_ class=\"size1\">에스프레소의 향은 그대로 느끼면서 뜨거운 물을 부어 1:2 정도의 비율로 연하게 먹는 커피다.</p_><br>\n",
       "    <p_ class=\"size2\">에스프레소의 향은 그대로 느끼면서 뜨거운 물을 부어 1:2 정도의 비율로 연하게 먹는 커피다.</p_>\n",
       "</body>"
      ],
      "text/plain": [
       "<IPython.core.display.HTML object>"
      ]
     },
     "metadata": {},
     "output_type": "display_data"
    }
   ],
   "source": [
    "%%html\n",
    "<style> /* 테두리와 내용 간격 ; 다른 요소와 간격     ; 경계선 */                \n",
    "    p_ {padding:10px       ; margin: 15px 5px ; border:2px dotted blue;}\n",
    "    p_.size1 {width:100px  ; height:50px      ;} /*\n",
    "    p_.size2 {width:50%    ; height:50px      ;} /* 50% : 부모요소 기준 비율 */ \n",
    "</style>\n",
    "<body>\n",
    "    <h3> 아메리카노</h3>\n",
    "    <p_>에스프레소의 향은 그대로 느끼면서 뜨거운 물을 부어 1:2 정도의 비율로 연하게 먹는 커피다.</p_><br>\n",
    "    <p_ class=\"size1\">에스프레소의 향은 그대로 느끼면서 뜨거운 물을 부어 1:2 정도의 비율로 연하게 먹는 커피다.</p_><br>\n",
    "    <p_ class=\"size2\">에스프레소의 향은 그대로 느끼면서 뜨거운 물을 부어 1:2 정도의 비율로 연하게 먹는 커피다.</p_>\n",
    "</body>"
   ]
  },
  {
   "cell_type": "markdown",
   "metadata": {
    "collapsed": true
   },
   "source": [
    "### <strong>02 박스모델의 속성 2\n",
    "1. padding : 콘텐츠 영역과 테두리 사이의 여백설정\n",
    "2. margin : 요소의 주변여백 설정"
   ]
  },
  {
   "cell_type": "code",
   "execution_count": 2,
   "metadata": {},
   "outputs": [
    {
     "data": {
      "text/html": [
       "<head>\n",
       "<link href=\"style.css\" rel=\"stylesheet\" type=\"text/css\">\n",
       "<style>                                       \n",
       ".content1{border:1px solid black; background:lightyellow; \n",
       "          padding:10px;}          /* 네 방향의 패딩 모두 10px */\n",
       "\n",
       ".content2{border:1px solid black; background:lightyellow;\t\n",
       "          margin-bottom:10px; margin-left:50px;  /* 마진 : 아래 10px 왼쪽 50px*/\n",
       "          padding:10px 30px;}                    /* 패딩 : 위아래 10px 좌우 30px */ \n",
       "\n",
       "    .content3{border:1px solid black; background:lightyellow;          /* 위에서 시계방향 */\n",
       "          margin:20px 10px 0 100px;     /* 마진: 위쪽 20px, 오른 10px, 아래 없음, 왼쪽 100px */\n",
       "          padding:10px 30px 10px 50px;} /* 패딩: 위쪽 10px, 오른 30px, 아래 10px, 왼쪽 50px */\n",
       "</style></head>\n",
       "<body>\n",
       "<div class=\"container\">\n",
       "    <section>\n",
       "    <h2>예약 방법 및 요금</h2>    \n",
       "        <div class=\"content1\">\n",
       "            <h3>예약방법</h3>\n",
       "            <p> 070.4529.8743 : 인터넷 전화로 시외전화 요금이 부과되지 않습니다.</p>\n",
       "        </div>\n",
       "        <div class=\"content2\">\n",
       "            <h3>예약방법</h3>\n",
       "            <p> 070.4529.8743 : 인터넷 전화로 시외전화 요금이 부과되지 않습니다.</p>\n",
       "        </div>\n",
       "        <div class=\"content3\">\n",
       "            <h3> 예약 방법</h3>\n",
       "            <p> 070.4529.8743 : 인터넷 전화로 시외전화 요금이 부과되지 않습니다.</p>\n",
       "        </div>\t  \n",
       "    </section> \n",
       "</div></body></html>"
      ],
      "text/plain": [
       "<IPython.core.display.HTML object>"
      ]
     },
     "metadata": {},
     "output_type": "display_data"
    }
   ],
   "source": [
    "%%html\n",
    "<head>\n",
    "<link href=\"style.css\" rel=\"stylesheet\" type=\"text/css\">\n",
    "<style>                                       \n",
    ".content1{border:1px solid black; background:lightyellow; \n",
    "          padding:10px;}          /* 네 방향의 패딩 모두 10px */\n",
    "\n",
    ".content2{border:1px solid black; background:lightyellow;\t\n",
    "          margin-bottom:10px; margin-left:50px;  /* 마진 : 아래 10px 왼쪽 50px*/\n",
    "          padding:10px 30px;}                    /* 패딩 : 위아래 10px 좌우 30px */ \n",
    "\n",
    "    .content3{border:1px solid black; background:lightyellow;          /* 위에서 시계방향 */\n",
    "          margin:20px 10px 0 100px;     /* 마진: 위쪽 20px, 오른 10px, 아래 없음, 왼쪽 100px */\n",
    "          padding:10px 30px 10px 50px;} /* 패딩: 위쪽 10px, 오른 30px, 아래 10px, 왼쪽 50px */\n",
    "</style></head>\n",
    "<body>\n",
    "<div class=\"container\">\n",
    "    <section>\n",
    "    <h2>예약 방법 및 요금</h2>    \n",
    "        <div class=\"content1\">\n",
    "            <h3>예약방법</h3>\n",
    "            <p> 070.4529.8743 : 인터넷 전화로 시외전화 요금이 부과되지 않습니다.</p>\n",
    "        </div>\n",
    "        <div class=\"content2\">\n",
    "            <h3>예약방법</h3>\n",
    "            <p> 070.4529.8743 : 인터넷 전화로 시외전화 요금이 부과되지 않습니다.</p>\n",
    "        </div>\n",
    "        <div class=\"content3\">\n",
    "            <h3> 예약 방법</h3>\n",
    "            <p> 070.4529.8743 : 인터넷 전화로 시외전화 요금이 부과되지 않습니다.</p>\n",
    "        </div>\t  \n",
    "    </section> \n",
    "</div></body></html>"
   ]
  },
  {
   "cell_type": "markdown",
   "metadata": {},
   "source": [
    "<br>\n",
    "## <strong>2 테두리 관련 속성\n",
    "border - width : 테두리의 간격과 두께\n",
    "\n",
    "<img src=\"https://i.stack.imgur.com/H0Dme.jpg\" align='left'>"
   ]
  },
  {
   "cell_type": "code",
   "execution_count": 3,
   "metadata": {},
   "outputs": [
    {
     "data": {
      "text/html": [
       "<head>\n",
       "<link href=\"style.css\" rel=\"stylesheet\" type=\"text/css\">\n",
       "<style>\n",
       "    h3_ {border-color:blue; border-style:solid;  \n",
       "         padding : 5px;\n",
       "         border-top-width:5px; border-right-width:0;\n",
       "         border-bottom-width:5px; border-left-width:0;}\n",
       "\n",
       "    p_ {border-color:red black red black; \n",
       "        padding : 5px;\n",
       "        border-style:dotted; border-width:3px;}\n",
       "</style></head>\n",
       "<body>\n",
       "  <h3_> 아메리카노</h3_><br>\n",
       "  <p_>에스프레소의 향은 그대로 느끼면서 뜨거운 물을 부어 1:2 정도의 비율로 연하게 먹는 커피다.</p_>\n",
       "</body></html>"
      ],
      "text/plain": [
       "<IPython.core.display.HTML object>"
      ]
     },
     "metadata": {},
     "output_type": "display_data"
    }
   ],
   "source": [
    "%%html\n",
    "<head>\n",
    "<link href=\"style.css\" rel=\"stylesheet\" type=\"text/css\">\n",
    "<style>\n",
    "    h3_ {border-color:blue; border-style:solid;  \n",
    "         padding : 5px;\n",
    "         border-top-width:5px; border-right-width:0;\n",
    "         border-bottom-width:5px; border-left-width:0;}\n",
    "\n",
    "    p_ {border-color:red black red black; \n",
    "        padding : 5px;\n",
    "        border-style:dotted; border-width:3px;}\n",
    "</style></head>\n",
    "<body>\n",
    "  <h3_> 아메리카노</h3_><br>\n",
    "  <p_>에스프레소의 향은 그대로 느끼면서 뜨거운 물을 부어 1:2 정도의 비율로 연하게 먹는 커피다.</p_>\n",
    "</body></html>"
   ]
  },
  {
   "cell_type": "code",
   "execution_count": 4,
   "metadata": {},
   "outputs": [
    {
     "data": {
      "text/html": [
       "<head>\n",
       "<link href=\"style.css\" rel=\"stylesheet\" type=\"text/css\">\n",
       "<style>\n",
       "h3_ {padding-bottom:5px; \n",
       "     border-bottom:3px solid blue;}\n",
       "\n",
       "p_ {padding:10px; \n",
       "    border:1px red solid;}\n",
       "</style>\n",
       "</head>\n",
       "<body>\n",
       "    <h3_> 아메리카노</h3_><br>\n",
       "    <p_>에스프레소의 향은 그대로 느끼면서 뜨거운 물을 부어 1:2 정도의 비율로 연하게 먹는 커피다.</p_>\n",
       "</body></html>"
      ],
      "text/plain": [
       "<IPython.core.display.HTML object>"
      ]
     },
     "metadata": {},
     "output_type": "display_data"
    }
   ],
   "source": [
    "%%html\n",
    "<head>\n",
    "<link href=\"style.css\" rel=\"stylesheet\" type=\"text/css\">\n",
    "<style>\n",
    "h3_ {padding-bottom:5px; \n",
    "     border-bottom:3px solid blue;}\n",
    "\n",
    "p_ {padding:10px; \n",
    "    border:1px red solid;}\n",
    "</style>\n",
    "</head>\n",
    "<body>\n",
    "    <h3_> 아메리카노</h3_><br>\n",
    "    <p_>에스프레소의 향은 그대로 느끼면서 뜨거운 물을 부어 1:2 정도의 비율로 연하게 먹는 커피다.</p_>\n",
    "</body></html>"
   ]
  },
  {
   "cell_type": "code",
   "execution_count": 5,
   "metadata": {},
   "outputs": [
    {
     "data": {
      "text/html": [
       "<head>\n",
       "    <style>\n",
       "        article {width:90%; height:auto;\n",
       "                 margin:20px 10px 20px 10px;\n",
       "                 padding:15px; }\n",
       "        #pet1{\n",
       "              border:1px solid black;\n",
       "              border-radius:10px;}\n",
       "        #pet2{\n",
       "              border:1px dotted blue;\n",
       "              border-radius:20px;}\n",
       "        #pet3{\n",
       "              border:2px double green;\n",
       "              border-top-left-radius:30px;\n",
       "              border-bottom-right-radous:30px;}\n",
       "    </style>\n",
       "</head>\n",
       "<body>\n",
       "    <article id=\"pet1\">\n",
       "        <h3>건강한 강아지</h3>\n",
       "        <ul><li>코가 젖어있고, 눈꼽이 없어야 한다</li>\n",
       "            <li>털에 윤기가 있는 것을 골라야 한다</li>\n",
       "        </ul>\n",
       "    </article>\n",
       "    <article id=\"pet2\">\n",
       "        <h3>건강한 강아지</h3>\n",
       "        <ul><li>코가 젖어있고, 눈꼽이 없어야 한다</li>\n",
       "            <li>털에 윤기가 있는 것을 골라야 한다</li>\n",
       "        </ul>\n",
       "    </article>\n",
       "    <article id=\"pet3\">\n",
       "        <h3>건강한 강아지</h3>\n",
       "        <ul><li>코가 젖어있고, 눈꼽이 없어야 한다</li>\n",
       "            <li>털에 윤기가 있는 것을 골라야 한다</li>\n",
       "        </ul>\n",
       "    </article>\n",
       "</body>"
      ],
      "text/plain": [
       "<IPython.core.display.HTML object>"
      ]
     },
     "metadata": {},
     "output_type": "display_data"
    }
   ],
   "source": [
    "%%html\n",
    "<head>\n",
    "    <style>\n",
    "        article {width:90%; height:auto;\n",
    "                 margin:20px 10px 20px 10px;\n",
    "                 padding:15px; }\n",
    "        #pet1{\n",
    "              border:1px solid black;\n",
    "              border-radius:10px;}\n",
    "        #pet2{\n",
    "              border:1px dotted blue;\n",
    "              border-radius:20px;}\n",
    "        #pet3{\n",
    "              border:2px double green;\n",
    "              border-top-left-radius:30px;\n",
    "              border-bottom-right-radous:30px;}\n",
    "    </style>\n",
    "</head>\n",
    "<body>\n",
    "    <article id=\"pet1\">\n",
    "        <h3>건강한 강아지</h3>\n",
    "        <ul><li>코가 젖어있고, 눈꼽이 없어야 한다</li>\n",
    "            <li>털에 윤기가 있는 것을 골라야 한다</li>\n",
    "        </ul>\n",
    "    </article>\n",
    "    <article id=\"pet2\">\n",
    "        <h3>건강한 강아지</h3>\n",
    "        <ul><li>코가 젖어있고, 눈꼽이 없어야 한다</li>\n",
    "            <li>털에 윤기가 있는 것을 골라야 한다</li>\n",
    "        </ul>\n",
    "    </article>\n",
    "    <article id=\"pet3\">\n",
    "        <h3>건강한 강아지</h3>\n",
    "        <ul><li>코가 젖어있고, 눈꼽이 없어야 한다</li>\n",
    "            <li>털에 윤기가 있는 것을 골라야 한다</li>\n",
    "        </ul>\n",
    "    </article>\n",
    "</body>"
   ]
  },
  {
   "cell_type": "markdown",
   "metadata": {},
   "source": [
    "<br>\n",
    "## <strong>3 배치와 관련된 블록레벨, 인라인레벨\n",
    "1. block-level : 태크로 요소를 삽입시, 혼자서 한줄을 차지하는 요소\n",
    "2. inline-level : 줄을 차지하지 않는, 한줄에 여러 레벨의 요소를 표시\n",
    "\n",
    "<img src=\"http://cdn5.fastwebstart.com/wp-content/uploads/2014/09/block-level-vs-inline1.png\" width=\"500\" align='left'>"
   ]
  },
  {
   "cell_type": "code",
   "execution_count": 6,
   "metadata": {},
   "outputs": [
    {
     "data": {
      "text/html": [
       "<head>\n",
       "<style>\n",
       "p.room {width:500px;  border:2px solid red;  padding:10px;}\n",
       "#acc {color:red; font-weight:bold;}\n",
       "</style></head>\n",
       "<body>\n",
       "    <section>\n",
       "        <h3>예약 방법</h3>\n",
       "        <p>요안도라 예약의 가장 빠른 방법은 \n",
       "            <span id=\"acc\" class='room'>인터넷 전화 070.4529.8743</span>\n",
       "            으로 직접 통화하시거나 <br>\n",
       "            <span id=\"acc\" class='room'>문자</span>를 남기시는 것입니다. \n",
       "            인터넷 전화라 시외전화 요금이 부과되지 않습니다.\n",
       "        <img src=\"https://www.zenrooms.com/img/social_share_room.jpg\" width='300'></p>\t  \n",
       "    </section>  \n",
       "</body></html>"
      ],
      "text/plain": [
       "<IPython.core.display.HTML object>"
      ]
     },
     "metadata": {},
     "output_type": "display_data"
    }
   ],
   "source": [
    "%%html\n",
    "<head>\n",
    "<style>\n",
    "p.room {width:500px;  border:2px solid red;  padding:10px;}\n",
    "#acc {color:red; font-weight:bold;}\n",
    "</style></head>\n",
    "<body>\n",
    "    <section>\n",
    "        <h3>예약 방법</h3>\n",
    "        <p>요안도라 예약의 가장 빠른 방법은 \n",
    "            <span id=\"acc\" class='room'>인터넷 전화 070.4529.8743</span>\n",
    "            으로 직접 통화하시거나 <br>\n",
    "            <span id=\"acc\" class='room'>문자</span>를 남기시는 것입니다. \n",
    "            인터넷 전화라 시외전화 요금이 부과되지 않습니다.\n",
    "        <img src=\"https://www.zenrooms.com/img/social_share_room.jpg\" width='300'></p>\t  \n",
    "    </section>  \n",
    "</body></html>"
   ]
  },
  {
   "cell_type": "code",
   "execution_count": 7,
   "metadata": {},
   "outputs": [
    {
     "data": {
      "text/html": [
       "<head>\n",
       "<style>\n",
       "div.cat {width:200px; height:auto;\n",
       "        margin:10px 5px;\n",
       "        padding:5px;\n",
       "        border:1px solid black;}\n",
       "#cont1 {\n",
       "    background:lightyellow;}\n",
       "#cont2 {\n",
       "    background:lightgreen;}\n",
       "#cont3 {\n",
       "    background:lightblue;}\n",
       "</style>\n",
       "</head>\n",
       "<body>\n",
       "    <h2>이용 안내</h2>    \n",
       "    <div id=\"cont1\" class='cat'>\n",
       "        <p>입실은 오후 3시, 퇴실은 오전 11시입니다.</p>\n",
       "        <p>이곳은 관광지가 아닌, 귤농사를 짓는 중산간 마을입니다.</p>\n",
       "    </div>\n",
       "    <div id=\"cont2\" class='cat'>\n",
       "        <p>바베큐, 야외식사 등 바깥채, 외부 앞뜰에서의 활동은 밤 11시 이전까지 마쳐 주셔야 합니다.</p>\n",
       "    </div>\n",
       "    <div id=\"cont3\" class='cat'>\n",
       "        <p>우도, 성산일출봉, 섭지코지, 김영갑 갤러리, 용눈이 오름 등</p>  \n",
       "    </div>\n",
       "</body></html>"
      ],
      "text/plain": [
       "<IPython.core.display.HTML object>"
      ]
     },
     "metadata": {},
     "output_type": "display_data"
    }
   ],
   "source": [
    "%%html\n",
    "<head>\n",
    "<style>\n",
    "div.cat {width:200px; height:auto;\n",
    "        margin:10px 5px;\n",
    "        padding:5px;\n",
    "        border:1px solid black;}\n",
    "#cont1 {\n",
    "    background:lightyellow;}\n",
    "#cont2 {\n",
    "    background:lightgreen;}\n",
    "#cont3 {\n",
    "    background:lightblue;}\n",
    "</style>\n",
    "</head>\n",
    "<body>\n",
    "    <h2>이용 안내</h2>    \n",
    "    <div id=\"cont1\" class='cat'>\n",
    "        <p>입실은 오후 3시, 퇴실은 오전 11시입니다.</p>\n",
    "        <p>이곳은 관광지가 아닌, 귤농사를 짓는 중산간 마을입니다.</p>\n",
    "    </div>\n",
    "    <div id=\"cont2\" class='cat'>\n",
    "        <p>바베큐, 야외식사 등 바깥채, 외부 앞뜰에서의 활동은 밤 11시 이전까지 마쳐 주셔야 합니다.</p>\n",
    "    </div>\n",
    "    <div id=\"cont3\" class='cat'>\n",
    "        <p>우도, 성산일출봉, 섭지코지, 김영갑 갤러리, 용눈이 오름 등</p>  \n",
    "    </div>\n",
    "</body></html>"
   ]
  },
  {
   "cell_type": "code",
   "execution_count": 8,
   "metadata": {},
   "outputs": [
    {
     "data": {
      "text/html": [
       "<head>\n",
       "<style>\n",
       "div.room{display:inline;   /* 인라인 레벨로 바꿈 */\n",
       "    float:left;       /* 왼쪽부터 차례로 배치 */\n",
       "    width:200px; height:auto;\n",
       "    margin:10px 5px;\n",
       "    padding:5px;\n",
       "    border:1px solid black;}\n",
       "#cont1 {background:lightyellow;}\n",
       "#cont2 {background:lightgreen;}\n",
       "#cont3 {background:lightblue;}\n",
       "</style></head>\n",
       "<body>\n",
       "    <h2>이용 안내</h2>    \n",
       "    <div id=\"cont1\" class='room'>\n",
       "        <p>입실은 오후 3시, 퇴실은 오전 11시입니다.</p>\n",
       "    </div>\n",
       "    <div id=\"cont2\" class='room'>\n",
       "        <p>바베큐, 야외식사 등 바깥채</p>\n",
       "    </div>\n",
       "    <div id=\"cont3\" class='room'>\n",
       "       <p>우도, 성산일출봉, 섭지코지, 김영갑 갤러리, 용눈이 오름 등<br>\n",
       "    </p>  \n",
       "    </div>\n",
       "</body>\n",
       "</html>"
      ],
      "text/plain": [
       "<IPython.core.display.HTML object>"
      ]
     },
     "metadata": {},
     "output_type": "display_data"
    }
   ],
   "source": [
    "%%html\n",
    "<head>\n",
    "<style>\n",
    "div.room{display:inline;   /* 인라인 레벨로 바꿈 */\n",
    "    float:left;       /* 왼쪽부터 차례로 배치 */\n",
    "    width:200px; height:auto;\n",
    "    margin:10px 5px;\n",
    "    padding:5px;\n",
    "    border:1px solid black;}\n",
    "#cont1 {background:lightyellow;}\n",
    "#cont2 {background:lightgreen;}\n",
    "#cont3 {background:lightblue;}\n",
    "</style></head>\n",
    "<body>\n",
    "    <h2>이용 안내</h2>    \n",
    "    <div id=\"cont1\" class='room'>\n",
    "        <p>입실은 오후 3시, 퇴실은 오전 11시입니다.</p>\n",
    "    </div>\n",
    "    <div id=\"cont2\" class='room'>\n",
    "        <p>바베큐, 야외식사 등 바깥채</p>\n",
    "    </div>\n",
    "    <div id=\"cont3\" class='room'>\n",
    "       <p>우도, 성산일출봉, 섭지코지, 김영갑 갤러리, 용눈이 오름 등<br>\n",
    "    </p>  \n",
    "    </div>\n",
    "</body>\n",
    "</html>"
   ]
  },
  {
   "cell_type": "markdown",
   "metadata": {},
   "source": [
    "<br>\n",
    "## <strong>4 여러요소를 원하는 형태로 배치하기\n",
    "position : 원하는 형태로 요소 배치하기"
   ]
  },
  {
   "cell_type": "code",
   "execution_count": 9,
   "metadata": {},
   "outputs": [
    {
     "data": {
      "text/html": [
       "<style>\n",
       "#box1{     /*  absolute : 절대좌표 기준, 겹처도 어쩔수 없어.. */\n",
       "    position:absolute;  /* left와 top에 맞춰서 위치를 고정 */\n",
       "    left:30px; top:10px;}          /* 수평좌표, 수직좌표 */\n",
       "#box2{\n",
       "    position:absolute;\n",
       "    left:80px; top:40px;}          /* 수평좌표, 수직좌표 */\n",
       "</style>\n",
       "<div id='box1'>\n",
       "    <p>여기가 거기더냐?</p>\n",
       "</div>\n",
       "<div id='box2'>\n",
       "    <p>여기가 거기더냐?</p>\n",
       "</div>"
      ],
      "text/plain": [
       "<IPython.core.display.HTML object>"
      ]
     },
     "metadata": {},
     "output_type": "display_data"
    }
   ],
   "source": [
    "%%html\n",
    "<style>\n",
    "#box1{     /*  absolute : 절대좌표 기준, 겹처도 어쩔수 없어.. */\n",
    "    position:absolute;  /* left와 top에 맞춰서 위치를 고정 */\n",
    "    left:30px; top:10px;}          /* 수평좌표, 수직좌표 */\n",
    "#box2{\n",
    "    position:absolute;\n",
    "    left:80px; top:40px;}          /* 수평좌표, 수직좌표 */\n",
    "</style>\n",
    "<div id='box1'>\n",
    "    <p>여기가 거기더냐?</p>\n",
    "</div>\n",
    "<div id='box2'>\n",
    "    <p>여기가 거기더냐?</p>\n",
    "</div>"
   ]
  },
  {
   "cell_type": "code",
   "execution_count": 10,
   "metadata": {},
   "outputs": [
    {
     "data": {
      "text/html": [
       "<style>\n",
       "#box1{                /*  static : 정적좌표 겹치지 않게 */\n",
       "    position:static; /* left와 top에 맞춰서 위치를 고정 */\n",
       "    left:130px; top:10px;}      /* 수평좌표, 수직좌표 */\n",
       "#box2{\n",
       "    position:static;\n",
       "    left:170px; top:40px;}      /* 수평좌표, 수직좌표 */\n",
       "</style>\n",
       "<div id='box1'>\n",
       "    <p>여기가 거기더냐?</p>\n",
       "</div>\n",
       "<div id='box2'>\n",
       "    <p>여기가 거기더냐?</p>\n",
       "</div>"
      ],
      "text/plain": [
       "<IPython.core.display.HTML object>"
      ]
     },
     "metadata": {},
     "output_type": "display_data"
    }
   ],
   "source": [
    "%%html\n",
    "<style>\n",
    "#box1{                /*  static : 정적좌표 겹치지 않게 */\n",
    "    position:static; /* left와 top에 맞춰서 위치를 고정 */\n",
    "    left:130px; top:10px;}      /* 수평좌표, 수직좌표 */\n",
    "#box2{\n",
    "    position:static;\n",
    "    left:170px; top:40px;}      /* 수평좌표, 수직좌표 */\n",
    "</style>\n",
    "<div id='box1'>\n",
    "    <p>여기가 거기더냐?</p>\n",
    "</div>\n",
    "<div id='box2'>\n",
    "    <p>여기가 거기더냐?</p>\n",
    "</div>"
   ]
  },
  {
   "cell_type": "code",
   "execution_count": 11,
   "metadata": {},
   "outputs": [
    {
     "data": {
      "text/html": [
       "<style>\n",
       "#box1{          /*  relative : 상대좌표 자연스럽게 연결배치 */\n",
       "    position:relative; /* left와 top에 맞춰서 위치를 고정 */\n",
       "    left:130px; top:10px;}      /* 수평좌표, 수직좌표 */\n",
       "#box2{\n",
       "    position:relative;\n",
       "    left:170px; top:40px;}      /* 수평좌표, 수직좌표 */\n",
       "</style>\n",
       "<div id='box1'>\n",
       "    <p>여기가 거기더냐?</p>\n",
       "</div>\n",
       "<div id='box2'>\n",
       "    <p>여기가 거기더냐?</p>\n",
       "</div>"
      ],
      "text/plain": [
       "<IPython.core.display.HTML object>"
      ]
     },
     "metadata": {},
     "output_type": "display_data"
    }
   ],
   "source": [
    "%%html\n",
    "<style>\n",
    "#box1{          /*  relative : 상대좌표 자연스럽게 연결배치 */\n",
    "    position:relative; /* left와 top에 맞춰서 위치를 고정 */\n",
    "    left:130px; top:10px;}      /* 수평좌표, 수직좌표 */\n",
    "#box2{\n",
    "    position:relative;\n",
    "    left:170px; top:40px;}      /* 수평좌표, 수직좌표 */\n",
    "</style>\n",
    "<div id='box1'>\n",
    "    <p>여기가 거기더냐?</p>\n",
    "</div>\n",
    "<div id='box2'>\n",
    "    <p>여기가 거기더냐?</p>\n",
    "</div>"
   ]
  },
  {
   "cell_type": "markdown",
   "metadata": {},
   "source": [
    "<br>\n",
    "## <strong>5 표 관련 스타일\n",
    "table-layout"
   ]
  },
  {
   "cell_type": "code",
   "execution_count": 12,
   "metadata": {},
   "outputs": [
    {
     "data": {
      "text/html": [
       "<head>\n",
       "<style>\n",
       "#tb1 {width:300px;\n",
       "      table-layout:fixed;  /* 셀의 너비를 고정 */\n",
       "      word-break:break-all;\n",
       "      height:auto;}\n",
       "\n",
       "th, td {border:1px solid black;\n",
       "        padding:5px;}\n",
       "</style></head>\n",
       "<body>\n",
       "<h3>table layout</h3>\n",
       "<table id=\"tb1\">\n",
       "\t<tr>\n",
       "\t\t<th>CONSTRAINT_VALIDATION</th>\n",
       "\t\t<td>table layout을 이용한 셀 너비 조절</td>\t\t\n",
       "\t</tr>\n",
       "</table></body></html>"
      ],
      "text/plain": [
       "<IPython.core.display.HTML object>"
      ]
     },
     "metadata": {},
     "output_type": "display_data"
    }
   ],
   "source": [
    "%%html\n",
    "<head>\n",
    "<style>\n",
    "#tb1 {width:300px;\n",
    "      table-layout:fixed;  /* 셀의 너비를 고정 */\n",
    "      word-break:break-all;\n",
    "      height:auto;}\n",
    "\n",
    "th, td {border:1px solid black;\n",
    "        padding:5px;}\n",
    "</style></head>\n",
    "<body>\n",
    "<h3>table layout</h3>\n",
    "<table id=\"tb1\">\n",
    "\t<tr>\n",
    "\t\t<th>CONSTRAINT_VALIDATION</th>\n",
    "\t\t<td>table layout을 이용한 셀 너비 조절</td>\t\t\n",
    "\t</tr>\n",
    "</table></body></html>"
   ]
  },
  {
   "cell_type": "code",
   "execution_count": 13,
   "metadata": {},
   "outputs": [
    {
     "data": {
      "text/html": [
       "<head>\n",
       "<style>\n",
       "#tb1{border:1px solid black;\n",
       "     margin-bottom:20px;}\n",
       "#tb2{border-collapse:collapse;  <!-- 테두리 합침  -->\n",
       "     border:1px solid black;}   <!-- 표에 1px 검은색 실선 테두리 -->\n",
       "th, td{border: 1px solid black;} <!-- 셀에 1px 검은색 실선 테두리 -->\n",
       "</style></head>\n",
       "<body>\n",
       "    <table id=\"tb1\">\n",
       "        <caption> 주요 국가 통화율</caption>\n",
       "            <tr>\n",
       "                <th>통화명</th> <th>매매기준율</th> <th>전일대비</th> <th>등락률</th>\n",
       "            </tr><tr>\n",
       "                <th>미국(USD)</th> <td>1,090,80</td> <td>1.20</td> <td>-0.11%</td>\n",
       "            </tr>\n",
       "    </table> <table id=\"tb2\">\n",
       "        <caption> 주요 국가 통화율</caption>\n",
       "            <tr>\n",
       "              <th>통화명</th> <th>매매기준율</th> <th>전일대비</th> <th>등락률</th>\n",
       "            </tr><tr>\n",
       "              <th>미국(USD)</th> <td>1,090,80</td> <td>1.20</td> <td>-0.11%</td>\n",
       "            </tr>\n",
       "</table></body></html>"
      ],
      "text/plain": [
       "<IPython.core.display.HTML object>"
      ]
     },
     "metadata": {},
     "output_type": "display_data"
    }
   ],
   "source": [
    "%%html\n",
    "<head>\n",
    "<style>\n",
    "#tb1{border:1px solid black;\n",
    "     margin-bottom:20px;}\n",
    "#tb2{border-collapse:collapse;  <!-- 테두리 합침  -->\n",
    "     border:1px solid black;}   <!-- 표에 1px 검은색 실선 테두리 -->\n",
    "th, td{border: 1px solid black;} <!-- 셀에 1px 검은색 실선 테두리 -->\n",
    "</style></head>\n",
    "<body>\n",
    "    <table id=\"tb1\">\n",
    "        <caption> 주요 국가 통화율</caption>\n",
    "            <tr>\n",
    "                <th>통화명</th> <th>매매기준율</th> <th>전일대비</th> <th>등락률</th>\n",
    "            </tr><tr>\n",
    "                <th>미국(USD)</th> <td>1,090,80</td> <td>1.20</td> <td>-0.11%</td>\n",
    "            </tr>\n",
    "    </table> <table id=\"tb2\">\n",
    "        <caption> 주요 국가 통화율</caption>\n",
    "            <tr>\n",
    "              <th>통화명</th> <th>매매기준율</th> <th>전일대비</th> <th>등락률</th>\n",
    "            </tr><tr>\n",
    "              <th>미국(USD)</th> <td>1,090,80</td> <td>1.20</td> <td>-0.11%</td>\n",
    "            </tr>\n",
    "</table></body></html>"
   ]
  },
  {
   "cell_type": "code",
   "execution_count": 14,
   "metadata": {},
   "outputs": [
    {
     "data": {
      "text/html": [
       "<head>\n",
       "    <style>\n",
       "    #nav {                     /* 메뉴 전체 영역에 대한 스타일 */\n",
       "        list-style-type: none; /* 불릿 기호 없앰 */\n",
       "        height: 45px;          /* 내비게이션 높이 */\n",
       "        padding: 6px 7px;      /* 위아래 6px, 좌우 7px씩 안여백 */\n",
       "        margin: 0;             /* 바깥 여백 없음 */\n",
       "        background:#7d7d7d;    /* 내비게이션 전체 배경색 */\n",
       "        border-radius:1.5em;}  /* 모서리 둥글게 */\n",
       "            \n",
       "    #nav li {                 /* 메뉴 각 항목에 대한 스타일 */\n",
       "        float: left;          /* 왼쪽부터 표시 */\n",
       "        position: relative;   /* 순서대로 표시 */\n",
       "        margin:5px 10px;      /* 위아래 5px, 좌우 10px씩 바깥 여백 */\n",
       "        padding: 0;}          /* 안여백 없음 */\n",
       "            \n",
       "    #nav li a {                /* 메뉴항목에서도 링크에 대한 스타일 */\n",
       "        display: block;        /* 영역을 만듦 */\n",
       "        font-family:\"굴림\";     /* 글꼴 */\n",
       "        font-weight:600;       /* 진하게 */\n",
       "        font-size:1em;\t       /* 글자크기 */\n",
       "        padding:10px 20px;     /* 안여백 */\n",
       "        color: #e7e5e5;        /* 링크 글자색 */\n",
       "        text-decoration: none; /* 밑줄 없앰 */\n",
       "        margin:0;              /* 바깥 여백 없음 */\n",
       "        border-radius:1.4em;   /* 링크의 모서리를 둥글게 */\n",
       "        text-shadow:0 1px 1px rgba(0,0,0,.3);}  /* 텍스트 그림자 */\n",
       "            \n",
       "    #nav li:hover > a{       /* 메뉴 항목 위로 마우스 올렸을 때 스타일 */\n",
       "        background:#ebebeb;  /* 배경색 */\n",
       "        color:#444;          /* 글자색 */\n",
       "        text-shadow: 0 1px 1px rgba(255,255,255,1);   /* 글자 그림자 */\n",
       "        border-radius:1.4em;                          /* 모서리 둥글게 */\n",
       "        -webkit-box-shadow:0 1px 1px rgba(0,0,0,0.2); /* 메뉴 항목에 그림자 */\n",
       "        -moz-box-shadow:0 1px 1px rgba(0,0,0,0.2);}   /* 메뉴 항목에 그림자 */\n",
       "            \n",
       "    #nav ul {               /* 서브 메뉴 영역에 대한 스타일 */\n",
       "        margin:0;           /* 서브 메뉴 바깥 여백 없음 */\n",
       "        padding:0;          /* 서브 메뉴 안여백 없음 */\n",
       "        list-style:none;    /* 목록의 불릿 없앰 */\n",
       "        position: absolute; /* 고정 위치에 표시 */\n",
       "        left: 0;            /* 부모 요소와 left 좌표 값은 같게 */\n",
       "        top:45px;           /* 부모 요소로부터 아래로 45px 밑에 표시 */\n",
       "        width: 150px;       /* 서브 메뉴 너비 */\n",
       "        background:#ddd;    /* 서브 메뉴 배경색 */\n",
       "        border:1px solid #b4b4b4;  /* 서브 메뉴 테두리를 그림 */\n",
       "        border-radius:8px;  /* 모서리를 둥글게 처리 */\n",
       "        box-shadow:0 1px 3px rgba(0,0,0,.3);\n",
       "        opacity: 0;}        /* 투명하게 표시 - 결국 평소엔 안보임 */\n",
       "            \n",
       "    #nav ul li {          /* 서브 메뉴 각 항목의 스타일 */\n",
       "        float: none;      /* 세로로 표시 */\n",
       "        margin:0;         /* 바깥 여백 없음 */\n",
       "        padding:0;        /* 안 여백 없음 */\n",
       "        height:0;         /* 화면에서 감춤 */\n",
       "        overflow:hidden;} /* height:0을 해도 보이는 부분이 있다면 감춤 */\n",
       "                \n",
       "    #nav li:hover  ul {   /* 메인 메뉴 위로 마우스 오버했을 때 서브 메뉴 스타일 */\n",
       "        opacity: 1;}      /* 서브 메뉴 불투명해짐 -> 화면에 보임 */\n",
       "            \n",
       "    #nav li:hover ul li {\n",
       "        height:35px;      /* 서브 메뉴 항목의 높이 */\n",
       "        overflow:visible; /* 메뉴 영역을 넘어서는 내용이 있다면 표시 */\n",
       "        padding:0;}       /* 안여백 없음 */\n",
       "            \n",
       "    #nav ul a {              /* 서브 메뉴 항목의 링크 스타일 */\n",
       "        font-weight:normal;  /* 진하기 보통으로 */\n",
       "        text-shadow:0 1px 0 #fff;  /* 글자 그림자 */\n",
       "        color:#333;}         /* 글자색 */        \n",
       "            \n",
       "    #nav ul li:hover  > a {  /* 서브 메뉴 항목 위로 마우스 오버했을 때의 스타일 */\n",
       "        background:#0078ff;  /* 배경색 */\n",
       "        color:#fff;          /* 글자색 */\n",
       "        text-shadow:0 1px 1px rgba(0,0,0,0.1);  /* 글자 그림자 */\n",
       "        border-radius:0;}    /* 모서리 둥글게 처리 안함 */\n",
       "            \n",
       "    #nav ul li:first-child > a{         /* 서브 메뉴 첫번째 항목의 스타일 */\n",
       "        border-top-left-radius:8px;     /* 왼쪽 윗부분 둥글게 */\n",
       "        border-top-right-radius:8px;}   /* 오른쪽 윗부분 둥글게 */\n",
       "            \n",
       "    #nav ul li:last-child > a {         /* 서브 메뉴 마지막 항목의 스타일 */\n",
       "        border-bottom-left-radius:8px;  /* 왼쪽 아랫부분 둥글게 */\n",
       "        border-bottom-right-radius:px;} /* 오른쪽 아랫부분 둥글게 */\n",
       "    </style>\n",
       "</head>\n",
       "<body>\n",
       "    <ul id=\"nav\">\n",
       "        <li><a href=\"#\"> 처음으로 </a></li>\n",
       "        <li><a href=\"#\"> 안내 </a>\n",
       "    <ul>\n",
       "        <li><a href=\"#\">소개</a></li>\n",
       "        <li><a href=\"#\">오시는 길</a></li>      \n",
       "    </ul>\n",
       "        </li>\n",
       "        <li><a href=\"#\"> 이용 방법</a>\n",
       "    <ul>\n",
       "        <li><a href=\"#\"> 객실 둘러보기</a></li>\n",
       "        <li><a href=\"#\"> 요금 안내 </a></li>\n",
       "        <li><a href=\"#\"> 예약 방법 </a></li>  \n",
       "        <li><a href=\"#\"> 예약 게시판</a></li>        \t\n",
       "    </ul>\n",
       "    </li>\n",
       "        <li><a href=\"#\"> 게시판 </a>\n",
       "    <ul>\n",
       "        <li><a href=\"#\"> 공지사항 </a></li>\n",
       "        <li><a href=\"#\"> 묻고 답하고</a></li>      \t\n",
       "    </ul></li>  \n",
       "        <li><a href=\"#\"> 프로필</a></li>            \n",
       "    </ul>\n",
       "</body></html>"
      ],
      "text/plain": [
       "<IPython.core.display.HTML object>"
      ]
     },
     "metadata": {},
     "output_type": "display_data"
    }
   ],
   "source": [
    "%%html\n",
    "<head>\n",
    "    <style>\n",
    "    #nav {                     /* 메뉴 전체 영역에 대한 스타일 */\n",
    "        list-style-type: none; /* 불릿 기호 없앰 */\n",
    "        height: 45px;          /* 내비게이션 높이 */\n",
    "        padding: 6px 7px;      /* 위아래 6px, 좌우 7px씩 안여백 */\n",
    "        margin: 0;             /* 바깥 여백 없음 */\n",
    "        background:#7d7d7d;    /* 내비게이션 전체 배경색 */\n",
    "        border-radius:1.5em;}  /* 모서리 둥글게 */\n",
    "            \n",
    "    #nav li {                 /* 메뉴 각 항목에 대한 스타일 */\n",
    "        float: left;          /* 왼쪽부터 표시 */\n",
    "        position: relative;   /* 순서대로 표시 */\n",
    "        margin:5px 10px;      /* 위아래 5px, 좌우 10px씩 바깥 여백 */\n",
    "        padding: 0;}          /* 안여백 없음 */\n",
    "            \n",
    "    #nav li a {                /* 메뉴항목에서도 링크에 대한 스타일 */\n",
    "        display: block;        /* 영역을 만듦 */\n",
    "        font-family:\"굴림\";     /* 글꼴 */\n",
    "        font-weight:600;       /* 진하게 */\n",
    "        font-size:1em;\t       /* 글자크기 */\n",
    "        padding:10px 20px;     /* 안여백 */\n",
    "        color: #e7e5e5;        /* 링크 글자색 */\n",
    "        text-decoration: none; /* 밑줄 없앰 */\n",
    "        margin:0;              /* 바깥 여백 없음 */\n",
    "        border-radius:1.4em;   /* 링크의 모서리를 둥글게 */\n",
    "        text-shadow:0 1px 1px rgba(0,0,0,.3);}  /* 텍스트 그림자 */\n",
    "            \n",
    "    #nav li:hover > a{       /* 메뉴 항목 위로 마우스 올렸을 때 스타일 */\n",
    "        background:#ebebeb;  /* 배경색 */\n",
    "        color:#444;          /* 글자색 */\n",
    "        text-shadow: 0 1px 1px rgba(255,255,255,1);   /* 글자 그림자 */\n",
    "        border-radius:1.4em;                          /* 모서리 둥글게 */\n",
    "        -webkit-box-shadow:0 1px 1px rgba(0,0,0,0.2); /* 메뉴 항목에 그림자 */\n",
    "        -moz-box-shadow:0 1px 1px rgba(0,0,0,0.2);}   /* 메뉴 항목에 그림자 */\n",
    "            \n",
    "    #nav ul {               /* 서브 메뉴 영역에 대한 스타일 */\n",
    "        margin:0;           /* 서브 메뉴 바깥 여백 없음 */\n",
    "        padding:0;          /* 서브 메뉴 안여백 없음 */\n",
    "        list-style:none;    /* 목록의 불릿 없앰 */\n",
    "        position: absolute; /* 고정 위치에 표시 */\n",
    "        left: 0;            /* 부모 요소와 left 좌표 값은 같게 */\n",
    "        top:45px;           /* 부모 요소로부터 아래로 45px 밑에 표시 */\n",
    "        width: 150px;       /* 서브 메뉴 너비 */\n",
    "        background:#ddd;    /* 서브 메뉴 배경색 */\n",
    "        border:1px solid #b4b4b4;  /* 서브 메뉴 테두리를 그림 */\n",
    "        border-radius:8px;  /* 모서리를 둥글게 처리 */\n",
    "        box-shadow:0 1px 3px rgba(0,0,0,.3);\n",
    "        opacity: 0;}        /* 투명하게 표시 - 결국 평소엔 안보임 */\n",
    "            \n",
    "    #nav ul li {          /* 서브 메뉴 각 항목의 스타일 */\n",
    "        float: none;      /* 세로로 표시 */\n",
    "        margin:0;         /* 바깥 여백 없음 */\n",
    "        padding:0;        /* 안 여백 없음 */\n",
    "        height:0;         /* 화면에서 감춤 */\n",
    "        overflow:hidden;} /* height:0을 해도 보이는 부분이 있다면 감춤 */\n",
    "                \n",
    "    #nav li:hover  ul {   /* 메인 메뉴 위로 마우스 오버했을 때 서브 메뉴 스타일 */\n",
    "        opacity: 1;}      /* 서브 메뉴 불투명해짐 -> 화면에 보임 */\n",
    "            \n",
    "    #nav li:hover ul li {\n",
    "        height:35px;      /* 서브 메뉴 항목의 높이 */\n",
    "        overflow:visible; /* 메뉴 영역을 넘어서는 내용이 있다면 표시 */\n",
    "        padding:0;}       /* 안여백 없음 */\n",
    "            \n",
    "    #nav ul a {              /* 서브 메뉴 항목의 링크 스타일 */\n",
    "        font-weight:normal;  /* 진하기 보통으로 */\n",
    "        text-shadow:0 1px 0 #fff;  /* 글자 그림자 */\n",
    "        color:#333;}         /* 글자색 */        \n",
    "            \n",
    "    #nav ul li:hover  > a {  /* 서브 메뉴 항목 위로 마우스 오버했을 때의 스타일 */\n",
    "        background:#0078ff;  /* 배경색 */\n",
    "        color:#fff;          /* 글자색 */\n",
    "        text-shadow:0 1px 1px rgba(0,0,0,0.1);  /* 글자 그림자 */\n",
    "        border-radius:0;}    /* 모서리 둥글게 처리 안함 */\n",
    "            \n",
    "    #nav ul li:first-child > a{         /* 서브 메뉴 첫번째 항목의 스타일 */\n",
    "        border-top-left-radius:8px;     /* 왼쪽 윗부분 둥글게 */\n",
    "        border-top-right-radius:8px;}   /* 오른쪽 윗부분 둥글게 */\n",
    "            \n",
    "    #nav ul li:last-child > a {         /* 서브 메뉴 마지막 항목의 스타일 */\n",
    "        border-bottom-left-radius:8px;  /* 왼쪽 아랫부분 둥글게 */\n",
    "        border-bottom-right-radius:px;} /* 오른쪽 아랫부분 둥글게 */\n",
    "    </style>\n",
    "</head>\n",
    "<body>\n",
    "    <ul id=\"nav\">\n",
    "        <li><a href=\"#\"> 처음으로 </a></li>\n",
    "        <li><a href=\"#\"> 안내 </a>\n",
    "    <ul>\n",
    "        <li><a href=\"#\">소개</a></li>\n",
    "        <li><a href=\"#\">오시는 길</a></li>      \n",
    "    </ul>\n",
    "        </li>\n",
    "        <li><a href=\"#\"> 이용 방법</a>\n",
    "    <ul>\n",
    "        <li><a href=\"#\"> 객실 둘러보기</a></li>\n",
    "        <li><a href=\"#\"> 요금 안내 </a></li>\n",
    "        <li><a href=\"#\"> 예약 방법 </a></li>  \n",
    "        <li><a href=\"#\"> 예약 게시판</a></li>        \t\n",
    "    </ul>\n",
    "    </li>\n",
    "        <li><a href=\"#\"> 게시판 </a>\n",
    "    <ul>\n",
    "        <li><a href=\"#\"> 공지사항 </a></li>\n",
    "        <li><a href=\"#\"> 묻고 답하고</a></li>      \t\n",
    "    </ul></li>  \n",
    "        <li><a href=\"#\"> 프로필</a></li>            \n",
    "    </ul>\n",
    "</body></html>"
   ]
  },
  {
   "cell_type": "code",
   "execution_count": null,
   "metadata": {
    "collapsed": true
   },
   "outputs": [],
   "source": []
  },
  {
   "cell_type": "code",
   "execution_count": null,
   "metadata": {
    "collapsed": true
   },
   "outputs": [],
   "source": []
  }
 ],
 "metadata": {
  "kernelspec": {
   "display_name": "Python 3",
   "language": "python",
   "name": "python3"
  },
  "language_info": {
   "codemirror_mode": {
    "name": "ipython",
    "version": 3
   },
   "file_extension": ".py",
   "mimetype": "text/x-python",
   "name": "python",
   "nbconvert_exporter": "python",
   "pygments_lexer": "ipython3",
   "version": "3.6.1"
  }
 },
 "nbformat": 4,
 "nbformat_minor": 2
}
