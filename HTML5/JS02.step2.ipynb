{
 "cells": [
  {
   "cell_type": "markdown",
   "metadata": {},
   "source": [
    "# 처음 만나는 자바스크립트\n",
    "Javascript - 실전기술"
   ]
  },
  {
   "cell_type": "markdown",
   "metadata": {},
   "source": [
    "<br><br>\n",
    "## <strong>4 입력과 데이터 가공\n",
    "form 입력 및 event"
   ]
  },
  {
   "cell_type": "markdown",
   "metadata": {},
   "source": [
    "### <strong>01 폼의 입력 내용 가져오기\n",
    "입력내용 가져오기 및 이벤트"
   ]
  },
  {
   "cell_type": "code",
   "execution_count": 1,
   "metadata": {},
   "outputs": [
    {
     "data": {
      "text/html": [
       "<form action=\"#\" id=\"form\">\n",
       "    <input type=\"text\" name=\"word\">    <!-- 텍스트 입력      -->\n",
       "    <input type=\"submit\" value=\"검색\">  <!-- 전송버튼(submit) -->\n",
       "</form>\n",
       "<p id='output'></p>                    <!-- 내용출력        -->\n",
       "\n",
       "<script>\n",
       "var result = '';\n",
       "document.getElementById('form').onsubmit = function() {      // .onsubmit : 이벤트의 실행 (form 객체 전송시)\n",
       "    var search = document.getElementById('form').word.value ;  \n",
       "    document.getElementById('output').textContent = '[ '+search+' ] 검색중..' ;\n",
       "    return false}        // return false : <form> 태그는 자동으로 새로고침을 한다, 이러한 동작을 취소하는 명령을 지정\n",
       "</script>"
      ],
      "text/plain": [
       "<IPython.core.display.HTML object>"
      ]
     },
     "metadata": {},
     "output_type": "display_data"
    }
   ],
   "source": [
    "%%html\n",
    "<form action=\"#\" id=\"form\">\n",
    "    <input type=\"text\" name=\"word\">    <!-- 텍스트 입력      -->\n",
    "    <input type=\"submit\" value=\"검색\">  <!-- 전송버튼(submit) -->\n",
    "</form>\n",
    "<p id='output'></p>                    <!-- 내용출력        -->\n",
    "\n",
    "<script>\n",
    "var result = '';\n",
    "document.getElementById('form').onsubmit = function() {      // .onsubmit : 이벤트의 실행 (form 객체 전송시)\n",
    "    var search = document.getElementById('form').word.value ;  \n",
    "    document.getElementById('output').textContent = '[ '+search+' ] 검색중..' ;\n",
    "    return false}        // return false : <form> 태그는 자동으로 새로고침을 한다, 이러한 동작을 취소하는 명령을 지정\n",
    "</script>"
   ]
  },
  {
   "cell_type": "markdown",
   "metadata": {},
   "source": [
    "### <strong>02 알기 쉽게 날짜/시간을 표시\n",
    "Date 객체 : 날짜와 시간을 설정/ 계산"
   ]
  },
  {
   "cell_type": "code",
   "execution_count": 2,
   "metadata": {},
   "outputs": [
    {
     "data": {
      "application/javascript": [
       "var now = new Date();           // 현재의 날짜 데이터로 초기화\n",
       "var year  = now.getFullYear();  // 연도 추출\n",
       "var month = now.getMonth();     // 월  추출\n",
       "var date  = now.getDate();      // 일자 추출\n",
       "var hour  = now.getHours();     // 시간 추출\n",
       "var min   = now.getMinutes();   // 분  추출\n",
       "\n",
       "var output = year + '/' + (month+1) + '/' + date + ' ' + hour + ':' + min;\n",
       "element.text('마지막 접속일자 : ' + output)"
      ],
      "text/plain": [
       "<IPython.core.display.Javascript object>"
      ]
     },
     "metadata": {},
     "output_type": "display_data"
    }
   ],
   "source": [
    "%%javascript\n",
    "var now = new Date();           // 현재의 날짜 데이터로 초기화\n",
    "var year  = now.getFullYear();  // 연도 추출\n",
    "var month = now.getMonth();     // 월  추출\n",
    "var date  = now.getDate();      // 일자 추출\n",
    "var hour  = now.getHours();     // 시간 추출\n",
    "var min   = now.getMinutes();   // 분  추출\n",
    "\n",
    "var output = year + '/' + (month+1) + '/' + date + ' ' + hour + ':' + min;\n",
    "element.text('마지막 접속일자 : ' + output)"
   ]
  },
  {
   "cell_type": "code",
   "execution_count": 3,
   "metadata": {},
   "outputs": [
    {
     "data": {
      "application/javascript": [
       "var now = new Date();\n",
       "var year = now.getFullYear();\n",
       "var month = now.getMonth();\n",
       "var date = now.getDate();\n",
       "var hour = now.getHours();\n",
       "var min = now.getMinutes();\n",
       "var ampm = '';\n",
       "if(hour < 12) { ampm = 'AM ';   // % 12 : 12로 나눈 나머지를 출력 \n",
       "       } else { ampm = 'PM ';}\n",
       "var output = year + '/' + (month + 1) + '/' + date + ' ' + ampm + (hour % 12) + ':' + min;\n",
       "element.text(output)"
      ],
      "text/plain": [
       "<IPython.core.display.Javascript object>"
      ]
     },
     "metadata": {},
     "output_type": "display_data"
    }
   ],
   "source": [
    "%%javascript\n",
    "var now = new Date();\n",
    "var year = now.getFullYear();\n",
    "var month = now.getMonth();\n",
    "var date = now.getDate();\n",
    "var hour = now.getHours();\n",
    "var min = now.getMinutes();\n",
    "var ampm = '';\n",
    "if(hour < 12) { ampm = 'AM ';   // % 12 : 12로 나눈 나머지를 출력 \n",
    "       } else { ampm = 'PM ';}\n",
    "var output = year + '/' + (month + 1) + '/' + date + ' ' + ampm + (hour % 12) + ':' + min;\n",
    "element.text(output)"
   ]
  },
  {
   "cell_type": "markdown",
   "metadata": {},
   "source": [
    "### <strong>03 '0'을 붙여서 자릿수 맞추기\n",
    "숫자를 문자열로 변환한다"
   ]
  },
  {
   "cell_type": "code",
   "execution_count": 4,
   "metadata": {},
   "outputs": [
    {
     "data": {
      "application/javascript": [
       "                                        //  숫자의 자릿수 편집함수를 정의한다\n",
       "var addZero = function(num, digit) {    //num : 대상 숫자, digit : 자릿수\n",
       "    var numString = String(num);\n",
       "    while(numString.length < digit) {\n",
       "        numString = '0' + numString;\n",
       "    }  return numString; }\n",
       "element.text(addZero(18,3))  // '0'+'숫자' : 문자열의 결합 편집으로 숫자를 출력"
      ],
      "text/plain": [
       "<IPython.core.display.Javascript object>"
      ]
     },
     "metadata": {},
     "output_type": "display_data"
    }
   ],
   "source": [
    "%%javascript\n",
    "                                        //  숫자의 자릿수 편집함수를 정의한다\n",
    "var addZero = function(num, digit) {    //num : 대상 숫자, digit : 자릿수\n",
    "    var numString = String(num);\n",
    "    while(numString.length < digit) {\n",
    "        numString = '0' + numString;\n",
    "    }  return numString; }\n",
    "element.text(addZero(18,3))  // '0'+'숫자' : 문자열의 결합 편집으로 숫자를 출력"
   ]
  },
  {
   "cell_type": "code",
   "execution_count": 5,
   "metadata": {},
   "outputs": [
    {
     "data": {
      "text/html": [
       "<div id='list_song'></div>\n",
       "\n",
       "<script>\n",
       "var addZero = function(num, digit) {\n",
       "    var numString = String(num);\n",
       "    while(numString.length < digit) {\n",
       "        numString = '0' + numString;\n",
       "    }  return numString; }\n",
       "\n",
       "var songs = ['Stella By Starlight', 'Satin Doll',\n",
       "             'Caravan', 'Bluesette','Besame Mucho'];\n",
       "\n",
       "for(var i=0; i<songs.length; i++) {\n",
       "    var texts = document.createElement('p');                     // 'p'태그를 정의하고 입력값을 정의한다\n",
       "    texts.textContent = addZero(i + 1, 2) + '. ' + songs[i];\n",
       "    document.getElementById('list_song').appendChild(texts);}    // id = 'list_song'위치에 'p'를 추가한다\n",
       "</script> "
      ],
      "text/plain": [
       "<IPython.core.display.HTML object>"
      ]
     },
     "metadata": {},
     "output_type": "display_data"
    }
   ],
   "source": [
    "%%html\n",
    "<div id='list_song'></div>\n",
    "\n",
    "<script>\n",
    "var addZero = function(num, digit) {\n",
    "    var numString = String(num);\n",
    "    while(numString.length < digit) {\n",
    "        numString = '0' + numString;\n",
    "    }  return numString; }\n",
    "\n",
    "var songs = ['Stella By Starlight', 'Satin Doll',\n",
    "             'Caravan', 'Bluesette','Besame Mucho'];\n",
    "\n",
    "for(var i=0; i<songs.length; i++) {\n",
    "    var texts = document.createElement('p');                     // 'p'태그를 정의하고 입력값을 정의한다\n",
    "    texts.textContent = addZero(i + 1, 2) + '. ' + songs[i];\n",
    "    document.getElementById('list_song').appendChild(texts);}    // id = 'list_song'위치에 'p'를 추가한다\n",
    "</script> "
   ]
  },
  {
   "cell_type": "markdown",
   "metadata": {},
   "source": [
    "### <strong>04 소숫점 자릿수 버리기\n",
    "Math 객체\n",
    "1. Math.abs() : 절대값\n",
    "1. Math.atan2(y,x) : 좌표(x,y)의 x축을 기준으로 radian\n",
    "1. Math.sin(x) : 사인값\n",
    "1. Math.cos(x) : 코사인\n",
    "1. Math.tan(x) : 탄젠트\n",
    "1. Math.max(a,b,c....) : 최대값 추출\n",
    "1. Math.min(a,b,c....) : 최솟값 추출\n",
    "1. Math.pow(x,y) : x^y\n",
    "1. Math.random() : 0~1 사이의 난수추출\n",
    "1. Math.ceil(x)  : 소숫점 이하를 올림\n",
    "1. Math.floor(x) : 소숫점 이하를 버림\n",
    "1. Math.round(x) : 소숫점 이하를 반올림\n",
    "1. Math.sqrt(x) : 제곱근"
   ]
  },
  {
   "cell_type": "code",
   "execution_count": 6,
   "metadata": {},
   "outputs": [
    {
     "data": {
      "application/javascript": [
       "element.text(Math.PI)              // .PI : pi값 출력"
      ],
      "text/plain": [
       "<IPython.core.display.Javascript object>"
      ]
     },
     "metadata": {},
     "output_type": "display_data"
    }
   ],
   "source": [
    "%%javascript\n",
    "element.text(Math.PI)              // .PI : pi값 출력"
   ]
  },
  {
   "cell_type": "code",
   "execution_count": 7,
   "metadata": {},
   "outputs": [
    {
     "data": {
      "application/javascript": [
       "element.text(Math.floor(Math.PI))  // .floor : 소숫점 이하 버리기"
      ],
      "text/plain": [
       "<IPython.core.display.Javascript object>"
      ]
     },
     "metadata": {},
     "output_type": "display_data"
    }
   ],
   "source": [
    "%%javascript\n",
    "element.text(Math.floor(Math.PI))  // .floor : 소숫점 이하 버리기"
   ]
  },
  {
   "cell_type": "code",
   "execution_count": 8,
   "metadata": {},
   "outputs": [
    {
     "data": {
      "application/javascript": [
       "var point = function(num, digit) {\n",
       "    var time = Math.pow(10,digit);        // 거듭제곱 (10^digit) 연산을 한다\n",
       "    return Math.floor(num * time)/time ;  // 거듭제곱 뒤 버림 후, 자릿수 나눈다 \n",
       "}\n",
       "element.text(point(19,3))"
      ],
      "text/plain": [
       "<IPython.core.display.Javascript object>"
      ]
     },
     "metadata": {},
     "output_type": "display_data"
    }
   ],
   "source": [
    "%%javascript\n",
    "var point = function(num, digit) {\n",
    "    var time = Math.pow(10,digit);        // 거듭제곱 (10^digit) 연산을 한다\n",
    "    return Math.floor(num * time)/time ;  // 거듭제곱 뒤 버림 후, 자릿수 나눈다 \n",
    "}\n",
    "element.text(point(19,3))"
   ]
  },
  {
   "cell_type": "code",
   "execution_count": 9,
   "metadata": {},
   "outputs": [
    {
     "data": {
      "text/html": [
       "<p>원주율 값 (소숫점 2자리 처리) : <span id=\"output_pi\"/></p>\n",
       "\n",
       "<script>\n",
       "var point = function(num, digit) {\n",
       "    var time = Math.pow(10, digit);\n",
       "    return Math.floor(num * time) / time\n",
       "}\n",
       "document.getElementById('output_pi').textContent = point(Math.PI, 2);\n",
       "</script>"
      ],
      "text/plain": [
       "<IPython.core.display.HTML object>"
      ]
     },
     "metadata": {},
     "output_type": "display_data"
    }
   ],
   "source": [
    "%%html\n",
    "<p>원주율 값 (소숫점 2자리 처리) : <span id=\"output_pi\"/></p>\n",
    "\n",
    "<script>\n",
    "var point = function(num, digit) {\n",
    "    var time = Math.pow(10, digit);\n",
    "    return Math.floor(num * time) / time\n",
    "}\n",
    "document.getElementById('output_pi').textContent = point(Math.PI, 2);\n",
    "</script>"
   ]
  },
  {
   "cell_type": "markdown",
   "metadata": {},
   "source": [
    "<br><br>\n",
    "## <strong>5 실전 기술\n",
    "기본 JS 규칙을 사용하여 실전 코딩연습을 한다"
   ]
  },
  {
   "cell_type": "markdown",
   "metadata": {},
   "source": [
    "### <strong>01 카운트 다운 타이머\n",
    "시간계산과 타이머"
   ]
  },
  {
   "cell_type": "code",
   "execution_count": 10,
   "metadata": {},
   "outputs": [
    {
     "data": {
      "application/javascript": [
       "var countdown = function(due) {\n",
       "    var now = new Date();\n",
       "    var rest  = due.getTime() - now.getTime();\n",
       "    var sec   = Math.floor(rest / 1000 % 60);\n",
       "    var min   = Math.floor(rest / 1000 / 60) % 60;\n",
       "    var hours = Math.floor(rest / 1000 / 60 / 60) % 24;\n",
       "    var days  = Math.floor(rest / 1000 / 60 / 60 / 24);\n",
       "    var count = [days, hours, min, sec];\n",
       "    return count }"
      ],
      "text/plain": [
       "<IPython.core.display.Javascript object>"
      ]
     },
     "metadata": {},
     "output_type": "display_data"
    }
   ],
   "source": [
    "%%javascript\n",
    "var countdown = function(due) {\n",
    "    var now = new Date();\n",
    "    var rest  = due.getTime() - now.getTime();\n",
    "    var sec   = Math.floor(rest / 1000 % 60);\n",
    "    var min   = Math.floor(rest / 1000 / 60) % 60;\n",
    "    var hours = Math.floor(rest / 1000 / 60 / 60) % 24;\n",
    "    var days  = Math.floor(rest / 1000 / 60 / 60 / 24);\n",
    "    var count = [days, hours, min, sec];\n",
    "    return count }"
   ]
  },
  {
   "cell_type": "code",
   "execution_count": 11,
   "metadata": {},
   "outputs": [
    {
     "data": {
      "application/javascript": [
       "var countdown = function(due) {\n",
       "    var now   = new Date();\n",
       "    var rest  = due.getTime() - now.getTime();\n",
       "    var sec   = Math.floor(rest / 1000 % 60);\n",
       "    var min   = Math.floor(rest / 1000 / 60) % 60;\n",
       "    var hours = Math.floor(rest / 1000 / 60 / 60) % 24;\n",
       "    var days  = Math.floor(rest / 1000 / 60 / 60 / 24);\n",
       "    var count = [days, hours, min, sec];\n",
       "    return count }\n",
       "var goal = new Date();\n",
       "// Hour, Min, Sec 미래 특정 시점을 입력한다\n",
       "goal.setHours(23);\n",
       "goal.setMinutes(60);\n",
       "goal.setSeconds(60);\n",
       "element.text(countdown(goal))"
      ],
      "text/plain": [
       "<IPython.core.display.Javascript object>"
      ]
     },
     "metadata": {},
     "output_type": "display_data"
    }
   ],
   "source": [
    "%%javascript\n",
    "var countdown = function(due) {\n",
    "    var now   = new Date();\n",
    "    var rest  = due.getTime() - now.getTime();\n",
    "    var sec   = Math.floor(rest / 1000 % 60);\n",
    "    var min   = Math.floor(rest / 1000 / 60) % 60;\n",
    "    var hours = Math.floor(rest / 1000 / 60 / 60) % 24;\n",
    "    var days  = Math.floor(rest / 1000 / 60 / 60 / 24);\n",
    "    var count = [days, hours, min, sec];\n",
    "    return count }\n",
    "var goal = new Date();\n",
    "// Hour, Min, Sec 미래 특정 시점을 입력한다\n",
    "goal.setHours(23);\n",
    "goal.setMinutes(60);\n",
    "goal.setSeconds(60);\n",
    "element.text(countdown(goal))"
   ]
  },
  {
   "cell_type": "code",
   "execution_count": 12,
   "metadata": {},
   "outputs": [
    {
     "data": {
      "application/javascript": [
       "var countdown = function(due) {\n",
       "    var now   = new Date();\n",
       "    var rest  = due.getTime() - now.getTime();          // rest : 현재와 특정시간 '밀리초(1/1,000초)' 차이값 저장\n",
       "    var sec   = Math.floor(rest / 1000 % 60);           // 밀리sec 차이값에서 '초' : 1000 나눈값의 60나머지 값\n",
       "    var min   = Math.floor(rest / 1000 / 60) % 60;      // 밀리sec 차이값에서 '분' 추출\n",
       "    var hours = Math.floor(rest / 1000 / 60 / 60) % 24; // 밀리sec 차이값에서 '시간' 추출\n",
       "    var days  = Math.floor(rest / 1000 / 60 / 60 / 24); // 밀리sec 차이값에서 '일자' 추출\n",
       "    var count = [days, hours, min, sec];\n",
       "    return count \n",
       "}\n",
       "var goal = new Date();                                   // goal : 현재 시간값 입력\n",
       "goal.setHours(23);\n",
       "goal.setMinutes(60);\n",
       "goal.setSeconds(60);\n",
       "var counter = countdown(goal);                           // countdown 출력내용을 객체에 저장\n",
       "var time = counter[1] + '시간' + counter[2] + '분' + counter[3] + '초'; // 새로운 포맷으로 변환\n",
       "element.text(time)"
      ],
      "text/plain": [
       "<IPython.core.display.Javascript object>"
      ]
     },
     "metadata": {},
     "output_type": "display_data"
    }
   ],
   "source": [
    "%%javascript\n",
    "var countdown = function(due) {\n",
    "    var now   = new Date();\n",
    "    var rest  = due.getTime() - now.getTime();          // rest : 현재와 특정시간 '밀리초(1/1,000초)' 차이값 저장\n",
    "    var sec   = Math.floor(rest / 1000 % 60);           // 밀리sec 차이값에서 '초' : 1000 나눈값의 60나머지 값\n",
    "    var min   = Math.floor(rest / 1000 / 60) % 60;      // 밀리sec 차이값에서 '분' 추출\n",
    "    var hours = Math.floor(rest / 1000 / 60 / 60) % 24; // 밀리sec 차이값에서 '시간' 추출\n",
    "    var days  = Math.floor(rest / 1000 / 60 / 60 / 24); // 밀리sec 차이값에서 '일자' 추출\n",
    "    var count = [days, hours, min, sec];\n",
    "    return count \n",
    "}\n",
    "var goal = new Date();                                   // goal : 현재 시간값 입력\n",
    "goal.setHours(23);\n",
    "goal.setMinutes(60);\n",
    "goal.setSeconds(60);\n",
    "var counter = countdown(goal);                           // countdown 출력내용을 객체에 저장\n",
    "var time = counter[1] + '시간' + counter[2] + '분' + counter[3] + '초'; // 새로운 포맷으로 변환\n",
    "element.text(time)"
   ]
  },
  {
   "cell_type": "code",
   "execution_count": 13,
   "metadata": {},
   "outputs": [
    {
     "data": {
      "text/html": [
       "<p>50% <span id=\"timer\"></span> 마감임박!!</p>\n",
       "\n",
       "<script>\n",
       "var countdown = function(due) {\n",
       "    var now = new Date();\n",
       "    var rest = due.getTime() - now.getTime();\n",
       "    var sec = Math.floor(rest / 1000 % 60);\n",
       "    var min = Math.floor(rest / 1000 / 60) % 60;\n",
       "    var hours = Math.floor(rest / 1000 / 60 / 60) % 24;\n",
       "    var days = Math.floor(rest / 1000 / 60 / 60 / 24);\n",
       "    var count = [days, hours, min, sec];\n",
       "    return count;}\n",
       "var goal = new Date();\n",
       "goal.setHours(23);\n",
       "goal.setMinutes(59);\n",
       "goal.setSeconds(59);\n",
       "\n",
       "var recalc = function() {\n",
       "    var counter = countdown(goal);\n",
       "    var time = counter[1] + '시간' + counter[2] + '분' + counter[3] + '초';\n",
       "    document.getElementById('timer').textContent = time;\n",
       "    refresh();}                  // 지속적 갱신 작업으로 시간을 보여준다\n",
       "\n",
       "var refresh = function() {       // 지속적 갱신작업 함수\n",
       "    setTimeout(recalc, 2000);}   // setTimeout([함수], [초 이후 시작 (1초 : 1000)])\n",
       "recalc();                        // cf)setInterval([함수], [초 실행간격])\n",
       "</script>"
      ],
      "text/plain": [
       "<IPython.core.display.HTML object>"
      ]
     },
     "metadata": {},
     "output_type": "display_data"
    }
   ],
   "source": [
    "%%html\n",
    "<p>50% <span id=\"timer\"></span> 마감임박!!</p>\n",
    "\n",
    "<script>\n",
    "var countdown = function(due) {\n",
    "    var now = new Date();\n",
    "    var rest = due.getTime() - now.getTime();\n",
    "    var sec = Math.floor(rest / 1000 % 60);\n",
    "    var min = Math.floor(rest / 1000 / 60) % 60;\n",
    "    var hours = Math.floor(rest / 1000 / 60 / 60) % 24;\n",
    "    var days = Math.floor(rest / 1000 / 60 / 60 / 24);\n",
    "    var count = [days, hours, min, sec];\n",
    "    return count;}\n",
    "var goal = new Date();\n",
    "goal.setHours(23);\n",
    "goal.setMinutes(59);\n",
    "goal.setSeconds(59);\n",
    "\n",
    "var recalc = function() {\n",
    "    var counter = countdown(goal);\n",
    "    var time = counter[1] + '시간' + counter[2] + '분' + counter[3] + '초';\n",
    "    document.getElementById('timer').textContent = time;\n",
    "    refresh();}                  // 지속적 갱신 작업으로 시간을 보여준다\n",
    "\n",
    "var refresh = function() {       // 지속적 갱신작업 함수\n",
    "    setTimeout(recalc, 2000);}   // setTimeout([함수], [초 이후 시작 (1초 : 1000)])\n",
    "recalc();                        // cf)setInterval([함수], [초 실행간격])\n",
    "</script>"
   ]
  },
  {
   "cell_type": "code",
   "execution_count": 14,
   "metadata": {},
   "outputs": [
    {
     "data": {
      "text/html": [
       "<p><span id=\"c_day\"></span> 일 <span id=\"c_hour\"></span>시 \n",
       "<span id=\"c_min\"></span> 분 <span id=\"c_sec\"></span> 초 </p>\n",
       "\n",
       "<script>\n",
       "var countdown = function(due) {\n",
       "    var now = new Date();\n",
       "    var rest = due.getTime() - now.getTime();\n",
       "    var sec = Math.floor(rest / 1000 % 60);\n",
       "    var min = Math.floor(rest / 1000 / 60) % 60;\n",
       "    var hours = Math.floor(rest / 1000 / 60 / 60) % 24;\n",
       "    var days = Math.floor(rest / 1000 / 60 / 60 / 24);\n",
       "    var count = [days, hours, min, sec];\n",
       "    return count;}\n",
       "var goal = new Date(2020,6,24);  // 목표시간 : 2020년 6월 24일\n",
       "\n",
       "var recalc = function() {\n",
       "    var counter = countdown(goal);\n",
       "    document.getElementById('c_day').textContent = counter[0];\n",
       "    document.getElementById('c_hour').textContent = counter[1];\n",
       "    document.getElementById('c_min').textContent = counter[2];\n",
       "    document.getElementById('c_sec').textContent = counter[3];\n",
       "    refresh();}                  // 지속적 갱신 작업으로 시간을 보여준다\n",
       "\n",
       "var refresh = function() {       // 지속적 갱신작업 함수\n",
       "    setTimeout(recalc, 1000);}   // setTimeout([함수], [초 이후 시작 (1초 : 1000)])\n",
       "recalc();                        // cf)setInterval([함수], [초 실행간격])\n",
       "</script>"
      ],
      "text/plain": [
       "<IPython.core.display.HTML object>"
      ]
     },
     "metadata": {},
     "output_type": "display_data"
    }
   ],
   "source": [
    "%%html\n",
    "<p><span id=\"c_day\"></span> 일 <span id=\"c_hour\"></span>시 \n",
    "<span id=\"c_min\"></span> 분 <span id=\"c_sec\"></span> 초 </p>\n",
    "\n",
    "<script>\n",
    "var countdown = function(due) {\n",
    "    var now = new Date();\n",
    "    var rest = due.getTime() - now.getTime();\n",
    "    var sec = Math.floor(rest / 1000 % 60);\n",
    "    var min = Math.floor(rest / 1000 / 60) % 60;\n",
    "    var hours = Math.floor(rest / 1000 / 60 / 60) % 24;\n",
    "    var days = Math.floor(rest / 1000 / 60 / 60 / 24);\n",
    "    var count = [days, hours, min, sec];\n",
    "    return count;}\n",
    "var goal = new Date(2020,6,24);  // 목표시간 : 2020년 6월 24일\n",
    "\n",
    "var recalc = function() {\n",
    "    var counter = countdown(goal);\n",
    "    document.getElementById('c_day').textContent = counter[0];\n",
    "    document.getElementById('c_hour').textContent = counter[1];\n",
    "    document.getElementById('c_min').textContent = counter[2];\n",
    "    document.getElementById('c_sec').textContent = counter[3];\n",
    "    refresh();}                  // 지속적 갱신 작업으로 시간을 보여준다\n",
    "\n",
    "var refresh = function() {       // 지속적 갱신작업 함수\n",
    "    setTimeout(recalc, 1000);}   // setTimeout([함수], [초 이후 시작 (1초 : 1000)])\n",
    "recalc();                        // cf)setInterval([함수], [초 실행간격])\n",
    "</script>"
   ]
  },
  {
   "cell_type": "markdown",
   "metadata": {},
   "source": [
    "### <strong>02 풀다운 메뉴 페이지 이동\n",
    "url 조작 및 boolean 속성의 설정"
   ]
  },
  {
   "cell_type": "code",
   "execution_count": 15,
   "metadata": {},
   "outputs": [
    {
     "data": {
      "text/html": [
       "<form id='form'>\n",
       "    <select name='select'>  <!-- 'select' 풀 다운 메뉴 : \n",
       "                                    name로 특정하고, \n",
       "                                    <option>으로 자식요소를 정의한다 -->\n",
       "        <option value='index.html'>한국어</option>\n",
       "        <option value='index-en.html'>English</option>\n",
       "        <option value='index-jp.html'>일본어</option>\n",
       "    </select>\n",
       "</form>"
      ],
      "text/plain": [
       "<IPython.core.display.HTML object>"
      ]
     },
     "metadata": {},
     "output_type": "display_data"
    }
   ],
   "source": [
    "%%html\n",
    "<form id='form'>\n",
    "    <select name='select'>  <!-- 'select' 풀 다운 메뉴 : \n",
    "                                    name로 특정하고, \n",
    "                                    <option>으로 자식요소를 정의한다 -->\n",
    "        <option value='index.html'>한국어</option>\n",
    "        <option value='index-en.html'>English</option>\n",
    "        <option value='index-jp.html'>일본어</option>\n",
    "    </select>\n",
    "</form>"
   ]
  },
  {
   "cell_type": "code",
   "execution_count": 16,
   "metadata": {},
   "outputs": [
    {
     "data": {
      "text/html": [
       "<section>\n",
       "<form id='form_'>\n",
       "    <select name='sele'>  <!-- 'select' 풀 다운 메뉴 : \n",
       "                                    name로 특정하고, \n",
       "                                    <option>으로 자식요소를 정의한다 -->\n",
       "        <option value='index.html'>한국어</option>\n",
       "        <option value='index-en.html'>English</option>\n",
       "        <option value='index-jp.html'>일본어</option>\n",
       "    </select>\n",
       "</form>\n",
       "</section>\n",
       "<script src='script.js'></script> <!-- 외부 .js 파일에 정한 내용을 호출 -->"
      ],
      "text/plain": [
       "<IPython.core.display.HTML object>"
      ]
     },
     "metadata": {},
     "output_type": "display_data"
    }
   ],
   "source": [
    "%%html\n",
    "<section>\n",
    "<form id='form_'>\n",
    "    <select name='sele'>  <!-- 'select' 풀 다운 메뉴 : \n",
    "                                    name로 특정하고, \n",
    "                                    <option>으로 자식요소를 정의한다 -->\n",
    "        <option value='index.html'>한국어</option>\n",
    "        <option value='index-en.html'>English</option>\n",
    "        <option value='index-jp.html'>일본어</option>\n",
    "    </select>\n",
    "</form>\n",
    "</section>\n",
    "<script src='script.js'></script> <!-- 외부 .js 파일에 정한 내용을 호출 -->"
   ]
  },
  {
   "cell_type": "code",
   "execution_count": 17,
   "metadata": {},
   "outputs": [
    {
     "data": {
      "text/html": [
       "<section>\n",
       "<form id='form_'>\n",
       "    <select name='sele'>  <!-- 'select' 풀 다운 메뉴 : \n",
       "                                    name로 특정하고, \n",
       "                                    <option>으로 자식요소를 정의한다 -->\n",
       "        <option value='index.html'>한국어</option>\n",
       "        <option value='index-en.html'>English</option>\n",
       "        <option value='index-jp.html'>일본어</option>\n",
       "    </select>\n",
       "</form>\n",
       "</section>\n",
       "<script src='script.js'></script> <!-- 외부 .js 파일에 정한 내용을 호출 -->"
      ],
      "text/plain": [
       "<IPython.core.display.HTML object>"
      ]
     },
     "metadata": {},
     "output_type": "display_data"
    }
   ],
   "source": [
    "%%html\n",
    "<section>\n",
    "<form id='form_'>\n",
    "    <select name='sele'>  <!-- 'select' 풀 다운 메뉴 : \n",
    "                                    name로 특정하고, \n",
    "                                    <option>으로 자식요소를 정의한다 -->\n",
    "        <option value='index.html'>한국어</option>\n",
    "        <option value='index-en.html'>English</option>\n",
    "        <option value='index-jp.html'>일본어</option>\n",
    "    </select>\n",
    "</form>\n",
    "</section>\n",
    "<script src='script.js'></script> <!-- 외부 .js 파일에 정한 내용을 호출 -->"
   ]
  },
  {
   "cell_type": "code",
   "execution_count": 18,
   "metadata": {},
   "outputs": [
    {
     "data": {
      "text/html": [
       "<section>\n",
       "<form id='form_'>\n",
       "    <select name='sele'>  <!-- 'select' 풀 다운 메뉴 : \n",
       "                                    name로 특정하고, \n",
       "                                    <option>으로 자식요소를 정의한다 -->\n",
       "        <option value='index.html'>한국어</option>\n",
       "        <option value='index-en.html'>English</option>\n",
       "        <option value='index-jp.html'>일본어</option>\n",
       "    </select>\n",
       "</form>\n",
       "</section>\n",
       "<script src='script.js'></script> <!-- 외부 .js 파일에 정한 내용을 호출 -->"
      ],
      "text/plain": [
       "<IPython.core.display.HTML object>"
      ]
     },
     "metadata": {},
     "output_type": "display_data"
    }
   ],
   "source": [
    "%%html\n",
    "<section>\n",
    "<form id='form_'>\n",
    "    <select name='sele'>  <!-- 'select' 풀 다운 메뉴 : \n",
    "                                    name로 특정하고, \n",
    "                                    <option>으로 자식요소를 정의한다 -->\n",
    "        <option value='index.html'>한국어</option>\n",
    "        <option value='index-en.html'>English</option>\n",
    "        <option value='index-jp.html'>일본어</option>\n",
    "    </select>\n",
    "</form>\n",
    "</section>\n",
    "<script src='script.js'></script> <!-- 외부 .js 파일에 정한 내용을 호출 -->"
   ]
  },
  {
   "cell_type": "code",
   "execution_count": 19,
   "metadata": {},
   "outputs": [
    {
     "data": {
      "text/html": [
       "<html lang=\"ko\">\n",
       "<section>\n",
       "    <form id=\"form[0]\">\n",
       "        <select name=\"select\">\n",
       "            <option value=\"index.html\">한국어</option>\n",
       "            <option value=\"index-en.html\">English</option>\n",
       "            <option value=\"index-jp.html\">日本語</option>\n",
       "        </select>\n",
       "    </form>\n",
       "</section>\n",
       "\n",
       "<script>\n",
       "var lang = document.querySelector('html').lang;\n",
       "var opt = '';\n",
       "\n",
       "// if(html lang=\"ko\") 인 경우 true/ false 를 판단\n",
       "// .querySelector('CSS의 속성선택자') : <option> 태그의 value 프로퍼티 속성으로 대상을 특정, 대상이 중복되는 경우 첫번째를 호출\n",
       "if(lang === 'ko') {    \n",
       "\topt = document.querySelector('option[value=\"index.html\"]');\n",
       "} else if(lang === 'en') {\n",
       "\topt = document.querySelector('option[value=\"index-en.html\"]');\n",
       "} else if(lang === 'ja') {\n",
       "\topt = document.querySelector('option[value=\"index-jp.html\"]');}\n",
       "opt.selected = true;\n",
       "\n",
       "//.onchange : 객체가 선택시 실행\n",
       "document.getElementById('form[0]').select.onchange = function() { \n",
       "\tlocation.href = document.getElementById('form[0]').select.value;\n",
       "}  // TypeError: document.getElementById(...).select is undefined \n",
       "   // : tag와 이름이 겹치는 등의 혼동가능해 발생한 오류\n",
       "</script></html>"
      ],
      "text/plain": [
       "<IPython.core.display.HTML object>"
      ]
     },
     "metadata": {},
     "output_type": "display_data"
    }
   ],
   "source": [
    "%%html\n",
    "<html lang=\"ko\">\n",
    "<section>\n",
    "    <form id=\"form[0]\">\n",
    "        <select name=\"select\">\n",
    "            <option value=\"index.html\">한국어</option>\n",
    "            <option value=\"index-en.html\">English</option>\n",
    "            <option value=\"index-jp.html\">日本語</option>\n",
    "        </select>\n",
    "    </form>\n",
    "</section>\n",
    "\n",
    "<script>\n",
    "var lang = document.querySelector('html').lang;\n",
    "var opt = '';\n",
    "\n",
    "// if(html lang=\"ko\") 인 경우 true/ false 를 판단\n",
    "// .querySelector('CSS의 속성선택자') : <option> 태그의 value 프로퍼티 속성으로 대상을 특정, 대상이 중복되는 경우 첫번째를 호출\n",
    "if(lang === 'ko') {    \n",
    "\topt = document.querySelector('option[value=\"index.html\"]');\n",
    "} else if(lang === 'en') {\n",
    "\topt = document.querySelector('option[value=\"index-en.html\"]');\n",
    "} else if(lang === 'ja') {\n",
    "\topt = document.querySelector('option[value=\"index-jp.html\"]');}\n",
    "opt.selected = true;\n",
    "\n",
    "//.onchange : 객체가 선택시 실행\n",
    "document.getElementById('form[0]').select.onchange = function() { \n",
    "\tlocation.href = document.getElementById('form[0]').select.value;\n",
    "}  // TypeError: document.getElementById(...).select is undefined \n",
    "   // : tag와 이름이 겹치는 등의 혼동가능해 발생한 오류\n",
    "</script></html>"
   ]
  },
  {
   "cell_type": "code",
   "execution_count": 20,
   "metadata": {},
   "outputs": [
    {
     "data": {
      "text/html": [
       "<html lang=\"ko\">\n",
       "<section>\n",
       "    <form id=\"form[1]\">\n",
       "        <select name=\"select\">\n",
       "            <option value=\"index.html\">한국어</option>\n",
       "            <option value=\"index-en.html\">English</option>\n",
       "            <option value=\"index-jp.html\">日本語</option>\n",
       "        </select>\n",
       "    </form>\n",
       "</section>\n",
       "\n",
       "<script>\n",
       "var lang = document.querySelector('html').lang;\n",
       "var opt;\n",
       "// switch 반복 조건문\n",
       "switch(lang) {\n",
       "    case 'ko': opt = document.querySelector('option[value=\"index.html\"]'); break;\n",
       "    case 'en': opt = document.querySelector('option[value=\"index-en.html\"]'); break;\n",
       "    case 'ja': opt = document.querySelector('option[value=\"index-jp.html\"]'); break;}\n",
       "\n",
       "//.onchange : 객체가 선택시 실행\n",
       "document.getElementById('form[1]').select.onchange = function() { \n",
       "\tlocation.href = document.getElementById('form[1]').select.value;\n",
       "}  // TypeError: document.getElementById(...).select is undefined \n",
       "   // : tag와 이름이 겹치는 등의 혼동가능해 발생한 오류\n",
       "</script></html>"
      ],
      "text/plain": [
       "<IPython.core.display.HTML object>"
      ]
     },
     "metadata": {},
     "output_type": "display_data"
    }
   ],
   "source": [
    "%%html\n",
    "<html lang=\"ko\">\n",
    "<section>\n",
    "    <form id=\"form[1]\">\n",
    "        <select name=\"select\">\n",
    "            <option value=\"index.html\">한국어</option>\n",
    "            <option value=\"index-en.html\">English</option>\n",
    "            <option value=\"index-jp.html\">日本語</option>\n",
    "        </select>\n",
    "    </form>\n",
    "</section>\n",
    "\n",
    "<script>\n",
    "var lang = document.querySelector('html').lang;\n",
    "var opt;\n",
    "// switch 반복 조건문\n",
    "switch(lang) {\n",
    "    case 'ko': opt = document.querySelector('option[value=\"index.html\"]'); break;\n",
    "    case 'en': opt = document.querySelector('option[value=\"index-en.html\"]'); break;\n",
    "    case 'ja': opt = document.querySelector('option[value=\"index-jp.html\"]'); break;}\n",
    "\n",
    "//.onchange : 객체가 선택시 실행\n",
    "document.getElementById('form[1]').select.onchange = function() { \n",
    "\tlocation.href = document.getElementById('form[1]').select.value;\n",
    "}  // TypeError: document.getElementById(...).select is undefined \n",
    "   // : tag와 이름이 겹치는 등의 혼동가능해 발생한 오류\n",
    "</script></html>"
   ]
  },
  {
   "cell_type": "markdown",
   "metadata": {},
   "source": [
    "### <strong>03 설문지 응답하기\n",
    "쿠키 Cookie"
   ]
  },
  {
   "cell_type": "code",
   "execution_count": 21,
   "metadata": {},
   "outputs": [
    {
     "data": {
      "text/html": [
       "<section>\n",
       "<p>영화관에 가시나요?</p>\n",
       "<form id=\"form\" action=\"thankyou.html\">\n",
       "    <input type=\"radio\" name=\"frequency\">주에 1회 이상<br>\n",
       "    <input type=\"radio\" name=\"frequency\">월에 1회 정도<br>\n",
       "    <input type=\"radio\" name=\"frequency\">1년 2~3회 정도<br>\n",
       "    <input type=\"radio\" name=\"frequency\">거의 가지 않는다<br>\n",
       "    <input type=\"submit\" name=\"전송하기\" id=\"submit\"><br>  <!-- form 의 버튼 -->\n",
       "</form>\n",
       "<button id=\"remove\">쿠기 삭제</button>                     <!-- 사용자정의 버튼 -->\n",
       "</section>"
      ],
      "text/plain": [
       "<IPython.core.display.HTML object>"
      ]
     },
     "metadata": {},
     "output_type": "display_data"
    }
   ],
   "source": [
    "%%html\n",
    "<section>\n",
    "<p>영화관에 가시나요?</p>\n",
    "<form id=\"form\" action=\"thankyou.html\">\n",
    "    <input type=\"radio\" name=\"frequency\">주에 1회 이상<br>\n",
    "    <input type=\"radio\" name=\"frequency\">월에 1회 정도<br>\n",
    "    <input type=\"radio\" name=\"frequency\">1년 2~3회 정도<br>\n",
    "    <input type=\"radio\" name=\"frequency\">거의 가지 않는다<br>\n",
    "    <input type=\"submit\" name=\"전송하기\" id=\"submit\"><br>  <!-- form 의 버튼 -->\n",
    "</form>\n",
    "<button id=\"remove\">쿠기 삭제</button>                     <!-- 사용자정의 버튼 -->\n",
    "</section>"
   ]
  },
  {
   "cell_type": "code",
   "execution_count": 22,
   "metadata": {},
   "outputs": [
    {
     "data": {
      "text/html": [
       "<section> <p>영화관에 가시나요?</p>\n",
       "<form id=\"form[3]\" action=\"thankyou.html\">\n",
       "    <input type=\"radio\" name=\"frequency\">주에 1회 이상<br>\n",
       "    <input type=\"radio\" name=\"frequency\">월에 1회 정도<br>\n",
       "    <input type=\"radio\" name=\"frequency\">1년 2~3회 정도<br>\n",
       "    <input type=\"radio\" name=\"frequency\">거의 가지 않는다<br>\n",
       "    <input type=\"submit\" name=\"전송하기\" id=\"submit\"><br>  <!-- form 의 버튼 -->\n",
       "</form> <button id=\"remove\">쿠기 삭제</button>  <!-- 사용자정의 버튼 : 쿠키값 임의삭제 -->\n",
       "</section>\n",
       "\n",
       "<script src=\"https://cdn.jsdelivr.net/npm/js-cookie@2/src/js.cookie.min.js\">\n",
       "// https://github.com/js-cookie/js-cookie : 쿠키활용 라이브러리 \n",
       "document.getElementById('form[3]').onsubmit = function () {  // .onsubmit : form의 전송시\n",
       "    if(Cookies.get('answered') == 'yes'){    // 기존의 쿠키값이 존재하는 경우\n",
       "        window.alert('이미 응답했습니다. 설문지 응답은 1번만 가능합니다');\n",
       "        return false;\n",
       "    }else{ Cookies.set('answered', 'yes', {expires:7}) }}; // 종료후 쿠키값을 저장한다\n",
       "\n",
       "document.getElementById('remove').onclick = function() {    // .onclick : button의 클릭시\n",
       "    Cookies.remove('answered')}\n",
       "</script>"
      ],
      "text/plain": [
       "<IPython.core.display.HTML object>"
      ]
     },
     "metadata": {},
     "output_type": "display_data"
    }
   ],
   "source": [
    "%%html\n",
    "<section> <p>영화관에 가시나요?</p>\n",
    "<form id=\"form[3]\" action=\"thankyou.html\">\n",
    "    <input type=\"radio\" name=\"frequency\">주에 1회 이상<br>\n",
    "    <input type=\"radio\" name=\"frequency\">월에 1회 정도<br>\n",
    "    <input type=\"radio\" name=\"frequency\">1년 2~3회 정도<br>\n",
    "    <input type=\"radio\" name=\"frequency\">거의 가지 않는다<br>\n",
    "    <input type=\"submit\" name=\"전송하기\" id=\"submit\"><br>  <!-- form 의 버튼 -->\n",
    "</form> <button id=\"remove\">쿠기 삭제</button>  <!-- 사용자정의 버튼 : 쿠키값 임의삭제 -->\n",
    "</section>\n",
    "\n",
    "<script src=\"https://cdn.jsdelivr.net/npm/js-cookie@2/src/js.cookie.min.js\">\n",
    "// https://github.com/js-cookie/js-cookie : 쿠키활용 라이브러리 \n",
    "document.getElementById('form[3]').onsubmit = function () {  // .onsubmit : form의 전송시\n",
    "    if(Cookies.get('answered') == 'yes'){    // 기존의 쿠키값이 존재하는 경우\n",
    "        window.alert('이미 응답했습니다. 설문지 응답은 1번만 가능합니다');\n",
    "        return false;\n",
    "    }else{ Cookies.set('answered', 'yes', {expires:7}) }}; // 종료후 쿠키값을 저장한다\n",
    "\n",
    "document.getElementById('remove').onclick = function() {    // .onclick : button의 클릭시\n",
    "    Cookies.remove('answered')}\n",
    "</script>"
   ]
  },
  {
   "cell_type": "code",
   "execution_count": 23,
   "metadata": {},
   "outputs": [
    {
     "data": {
      "application/javascript": [
       "// 쿠키에 데이터를 기록하는 역활을 한다\n",
       "Cookies.set('쿠키명', '값', {expireds:유효기간}); // 최초 설정일로부터 7일간 유효"
      ],
      "text/plain": [
       "<IPython.core.display.Javascript object>"
      ]
     },
     "metadata": {},
     "output_type": "display_data"
    }
   ],
   "source": [
    "%%javascript\n",
    "// 쿠키에 데이터를 기록하는 역활을 한다\n",
    "Cookies.set('쿠키명', '값', {expireds:유효기간}); // 최초 설정일로부터 7일간 유효"
   ]
  },
  {
   "cell_type": "markdown",
   "metadata": {},
   "source": [
    "### <strong>04 사진의 변경\n",
    "썸네일 클릭스 사진을 변경한다\n",
    "1. 기본설계구조 : 객체호출 -> 이벤트 설정 -> 이벤트 처리함수 실행\n",
    "1. .querySelector() /.querySelectAll('CSS선택자') : 쿼리결과 해당객체 1개/ 복수 호출"
   ]
  },
  {
   "cell_type": "code",
   "execution_count": 24,
   "metadata": {},
   "outputs": [
    {
     "data": {
      "text/html": [
       "<section> <div class=\"center\">\n",
       "<div> <img src=\"http://www.paeo.de/a3/5z/gr/30.jpg\" id=\"bigimg\" width='250'> </div>\n",
       "<ul>\n",
       "    <li><img src=\"http://www.whats-your-sign.com/images/DahliaFlowerMeanings.jpg\" \n",
       "         class=\"thumb\" width='50'\n",
       "         data-image=\"http://www.fyoria.com/wp-content/uploads/2016/10/summertime.jpg\"></li>\n",
       "    <li><img src=\"https://www.fragrantica.com/images/sastojci/f.427.jpg\" \n",
       "         class=\"thumb\" width='50' \n",
       "         data-image=\"http://www.paeo.de/a3/5z/gr/30.jpg\"></li>\n",
       "    <li><img src=\"http://searchenglish.com/wp-content/uploads/2016/04/Kadam-150x150.jpg\" \n",
       "         class=\"thumb\" width='50'\n",
       "         data-image=\"https://farm1.staticflickr.com/387/19796659191_02ac329db8.jpg\"></li>\n",
       "</ul> </div>\n",
       "</section>\n",
       "\n",
       "<script>\n",
       "var thumbs = document.querySelectorAll('.thumb'); // thumb 클래스 객체를 모두 호출\n",
       "for(var i = 0; i < thumbs.length; i++) {          // thumb 객체 갯수만큼 반복\n",
       "    thumbs[i].onclick = function() {              // thumb array 객체를 선택시 - 함수를 실행\n",
       "        document.getElementById('bigimg').src = this.dataset.image;} ;}  // src 링크를 data-image로 대체\n",
       "</script>"
      ],
      "text/plain": [
       "<IPython.core.display.HTML object>"
      ]
     },
     "metadata": {},
     "output_type": "display_data"
    }
   ],
   "source": [
    "%%html\n",
    "<section> <div class=\"center\">\n",
    "<div> <img src=\"http://www.paeo.de/a3/5z/gr/30.jpg\" id=\"bigimg\" width='250'> </div>\n",
    "<ul>\n",
    "    <li><img src=\"http://www.whats-your-sign.com/images/DahliaFlowerMeanings.jpg\" \n",
    "         class=\"thumb\" width='50'\n",
    "         data-image=\"http://www.fyoria.com/wp-content/uploads/2016/10/summertime.jpg\"></li>\n",
    "    <li><img src=\"https://www.fragrantica.com/images/sastojci/f.427.jpg\" \n",
    "         class=\"thumb\" width='50' \n",
    "         data-image=\"http://www.paeo.de/a3/5z/gr/30.jpg\"></li>\n",
    "    <li><img src=\"http://searchenglish.com/wp-content/uploads/2016/04/Kadam-150x150.jpg\" \n",
    "         class=\"thumb\" width='50'\n",
    "         data-image=\"https://farm1.staticflickr.com/387/19796659191_02ac329db8.jpg\"></li>\n",
    "</ul> </div>\n",
    "</section>\n",
    "\n",
    "<script>\n",
    "var thumbs = document.querySelectorAll('.thumb'); // thumb 클래스 객체를 모두 호출\n",
    "for(var i = 0; i < thumbs.length; i++) {          // thumb 객체 갯수만큼 반복\n",
    "    thumbs[i].onclick = function() {              // thumb array 객체를 선택시 - 함수를 실행\n",
    "        document.getElementById('bigimg').src = this.dataset.image;} ;}  // src 링크를 data-image로 대체\n",
    "</script>"
   ]
  },
  {
   "cell_type": "markdown",
   "metadata": {},
   "source": [
    "### <strong>05 슬라이드 쇼\n",
    "Js의 모든 내용을 정리"
   ]
  },
  {
   "cell_type": "code",
   "execution_count": 25,
   "metadata": {},
   "outputs": [
    {
     "data": {
      "text/html": [
       "<style>\n",
       "#prev{float : left;\n",
       "width : 50px; height : 50px; background: url(images/prev.png) no-repeat;}\n",
       "#next{float : left;\n",
       "width : 50px; height : 50px; background: url(images/next.png) no-repeat;}\n",
       ".toolbar {overflow: hidden; text-align: left;}\n",
       ".nav {display: inline-block;} // 인라인블록처리 (1줄 모두 차지한다)\n",
       "</style>\n",
       "\n",
       "<div class=\"image_box\">\n",
       "<img id=\"main_image\" width='100'\n",
       " src=\"http://trinitive.com/ganesh_logos/js3.png\"></div>\n",
       "<div class=\"nav\">\n",
       "    <div id=\"prev\"></div> <div id=\"next\"></div>\n",
       "</div>"
      ],
      "text/plain": [
       "<IPython.core.display.HTML object>"
      ]
     },
     "metadata": {},
     "output_type": "display_data"
    }
   ],
   "source": [
    "%%html\n",
    "<style>\n",
    "#prev{float : left;\n",
    "width : 50px; height : 50px; background: url(images/prev.png) no-repeat;}\n",
    "#next{float : left;\n",
    "width : 50px; height : 50px; background: url(images/next.png) no-repeat;}\n",
    ".toolbar {overflow: hidden; text-align: left;}\n",
    ".nav {display: inline-block;} // 인라인블록처리 (1줄 모두 차지한다)\n",
    "</style>\n",
    "\n",
    "<div class=\"image_box\">\n",
    "<img id=\"main_image\" width='100'\n",
    " src=\"http://trinitive.com/ganesh_logos/js3.png\"></div>\n",
    "<div class=\"nav\">\n",
    "    <div id=\"prev\"></div> <div id=\"next\"></div>\n",
    "</div>"
   ]
  },
  {
   "cell_type": "code",
   "execution_count": 26,
   "metadata": {},
   "outputs": [
    {
     "data": {
      "text/html": [
       "<div class=\"image_box\"><img id=\"main_image\" src=\"images/image3.jpg\" width='300'></div>\n",
       "\n",
       "<div class=\"toolbar\"><div class=\"nav\">\n",
       "<div id=\"prev\"></div> <span id=\"page\"></span> <div id=\"next\"></div>\n",
       "</div></div>\n",
       "\n",
       "<script>\n",
       "var images = ['images/image1.jpg', 'images/image2.jpg', 'images/image3.jpg', 'images/image4.jpg',\n",
       "              'images/image5.jpg'];        // 이미지 배열 목록\n",
       "var current = 0;\n",
       "var pageNum = function() {                 // (함수) 페이지 번호를 연산 : current 현재, images.length 전체\n",
       "    document.getElementById('page').textContent = (current+1)+'/'+images.length;}\n",
       "\n",
       "var changeImg = function(num) {                                       // (함수) if 조건이 true일 때 실행 \n",
       "    if(current+num >= 0 && current+num < images.length) {            // 페이지 이동값이 (0 ~ 범위 내일 때) 활성화\n",
       "        current += num;                                               // 현재 페이지의 상대값 입력, src link를 변경\n",
       "        document.getElementById('main_image').src = images[current];  // images[index]\n",
       "        pageNum(); }  };\n",
       "pageNum();                                                             // (함수실행) 페이지 번호 입력\n",
       "document.getElementById('prev').onclick = function() {changeImg(-1);}; // (함수실행) 해당 객체를 클릭시, 함수실행\n",
       "document.getElementById('next').onclick = function() {changeImg(1);\n",
       "}; \n",
       "</script>"
      ],
      "text/plain": [
       "<IPython.core.display.HTML object>"
      ]
     },
     "metadata": {},
     "output_type": "display_data"
    }
   ],
   "source": [
    "%%html\n",
    "<div class=\"image_box\"><img id=\"main_image\" src=\"images/image3.jpg\" width='300'></div>\n",
    "\n",
    "<div class=\"toolbar\"><div class=\"nav\">\n",
    "<div id=\"prev\"></div> <span id=\"page\"></span> <div id=\"next\"></div>\n",
    "</div></div>\n",
    "\n",
    "<script>\n",
    "var images = ['images/image1.jpg', 'images/image2.jpg', 'images/image3.jpg', 'images/image4.jpg',\n",
    "              'images/image5.jpg'];        // 이미지 배열 목록\n",
    "var current = 0;\n",
    "var pageNum = function() {                 // (함수) 페이지 번호를 연산 : current 현재, images.length 전체\n",
    "    document.getElementById('page').textContent = (current+1)+'/'+images.length;}\n",
    "\n",
    "var changeImg = function(num) {                                       // (함수) if 조건이 true일 때 실행 \n",
    "    if(current+num >= 0 && current+num < images.length) {            // 페이지 이동값이 (0 ~ 범위 내일 때) 활성화\n",
    "        current += num;                                               // 현재 페이지의 상대값 입력, src link를 변경\n",
    "        document.getElementById('main_image').src = images[current];  // images[index]\n",
    "        pageNum(); }  };\n",
    "pageNum();                                                             // (함수실행) 페이지 번호 입력\n",
    "document.getElementById('prev').onclick = function() {changeImg(-1);}; // (함수실행) 해당 객체를 클릭시, 함수실행\n",
    "document.getElementById('next').onclick = function() {changeImg(1);\n",
    "}; \n",
    "</script>"
   ]
  },
  {
   "cell_type": "markdown",
   "metadata": {},
   "source": [
    "<br><br>\n",
    "## <strong>6 제이쿼리 입문\n",
    "Jquery를 잘 이해해서 D3 적용시 응용하기( 태그, 속성, 콘텐츠 및 CSS까지 조작가능)\n",
    "1. HTML의 편집\n",
    "1. CSS의 편집\n",
    "1. 객체의 속성을 변경"
   ]
  },
  {
   "cell_type": "markdown",
   "metadata": {},
   "source": [
    "### <strong>01 네비게이션 메뉴 만들기\n",
    "<strong>요소 가져오기</strong> 및 <strong>class 속성 추가/삭제<strong>"
   ]
  },
  {
   "cell_type": "code",
   "execution_count": 27,
   "metadata": {},
   "outputs": [
    {
     "data": {
      "text/html": [
       "<div class=\"main-wrapper\">\n",
       "<section>\n",
       "<div class=\"sidebar\">\n",
       "    <div class=\"submenu\">\n",
       "        <h3>1. Getting Started</h3>\n",
       "        <ul class=\"hidden\">\n",
       "            <li><a href=\"\">- 개요</a></li>\n",
       "            <li><a href=\"\">- 설치</a></li>\n",
       "            <li><a href=\"\">- 처음 실행</a></li>\n",
       "            <li><a href=\"\">- 제거</a></li>\n",
       "        </ul>\n",
       "    </div>\n",
       "    <div class=\"submenu\">\n",
       "        <h3>2. How To Use</h3>\n",
       "        <ul class=\"hidden\">\n",
       "            <li><a href=\"\">- 기본적인 실행 방법</a></li>\n",
       "            <li><a href=\"\">- 원래 상태로 되돌리기</a></li>\n",
       "            <li><a href=\"\">- 플러그인 작성</a></li>\n",
       "        </ul>\n",
       "    </div>\n",
       "</div>\n",
       "</section>\n",
       "class ='hidden' 의 값들은 외부로 출력되지 않는다 (서브메뉴가 닫힐때 활용)"
      ],
      "text/plain": [
       "<IPython.core.display.HTML object>"
      ]
     },
     "metadata": {},
     "output_type": "display_data"
    }
   ],
   "source": [
    "%%html\n",
    "<div class=\"main-wrapper\">\n",
    "<section>\n",
    "<div class=\"sidebar\">\n",
    "    <div class=\"submenu\">\n",
    "        <h3>1. Getting Started</h3>\n",
    "        <ul class=\"hidden\">\n",
    "            <li><a href=\"\">- 개요</a></li>\n",
    "            <li><a href=\"\">- 설치</a></li>\n",
    "            <li><a href=\"\">- 처음 실행</a></li>\n",
    "            <li><a href=\"\">- 제거</a></li>\n",
    "        </ul>\n",
    "    </div>\n",
    "    <div class=\"submenu\">\n",
    "        <h3>2. How To Use</h3>\n",
    "        <ul class=\"hidden\">\n",
    "            <li><a href=\"\">- 기본적인 실행 방법</a></li>\n",
    "            <li><a href=\"\">- 원래 상태로 되돌리기</a></li>\n",
    "            <li><a href=\"\">- 플러그인 작성</a></li>\n",
    "        </ul>\n",
    "    </div>\n",
    "</div>\n",
    "</section>\n",
    "class ='hidden' 의 값들은 외부로 출력되지 않는다 (서브메뉴가 닫힐때 활용)"
   ]
  },
  {
   "cell_type": "code",
   "execution_count": 28,
   "metadata": {},
   "outputs": [
    {
     "data": {
      "text/html": [
       "<style> // 스타일의 지정\n",
       ".submenu h3 {\n",
       "    margin: 0 0 1em 0;\n",
       "    font-size: 16px;\n",
       "    cursor: pointer;\n",
       "    color: #5e78c1;\n",
       "}    \n",
       ".submenu h3:hover {\n",
       "    color: #b04188;\n",
       "    text-decoration: underline;\n",
       "}\n",
       ".submenu ul {\n",
       "    margin: 0 0 1em 0;\n",
       "    list-style-type: none;\n",
       "    font-size: 14px;\n",
       "}\n",
       ".hidden {\n",
       "    display: none;} // none:숨긴다, block:보여진다\n",
       "</style>"
      ],
      "text/plain": [
       "<IPython.core.display.HTML object>"
      ]
     },
     "metadata": {},
     "output_type": "display_data"
    }
   ],
   "source": [
    "%%html\n",
    "<style> // 스타일의 지정\n",
    ".submenu h3 {\n",
    "    margin: 0 0 1em 0;\n",
    "    font-size: 16px;\n",
    "    cursor: pointer;\n",
    "    color: #5e78c1;\n",
    "}    \n",
    ".submenu h3:hover {\n",
    "    color: #b04188;\n",
    "    text-decoration: underline;\n",
    "}\n",
    ".submenu ul {\n",
    "    margin: 0 0 1em 0;\n",
    "    list-style-type: none;\n",
    "    font-size: 14px;\n",
    "}\n",
    ".hidden {\n",
    "    display: none;} // none:숨긴다, block:보여진다\n",
    "</style>"
   ]
  },
  {
   "cell_type": "code",
   "execution_count": 29,
   "metadata": {},
   "outputs": [
    {
     "data": {
      "text/html": [
       "<script src='./js/jquery-3.2.1.min.js'>\n",
       "$(document).ready(function() {});\n",
       "</script>"
      ],
      "text/plain": [
       "<IPython.core.display.HTML object>"
      ]
     },
     "metadata": {},
     "output_type": "display_data"
    }
   ],
   "source": [
    "%%html\n",
    "<script src='./js/jquery-3.2.1.min.js'>\n",
    "$(document).ready(function() {});\n",
    "</script>"
   ]
  },
  {
   "cell_type": "code",
   "execution_count": 30,
   "metadata": {},
   "outputs": [
    {
     "data": {
      "text/html": [
       "<script src='./js/jquery-3.2.1.min.js'>\n",
       "$(document).ready(function() {\n",
       "    $('.submenu h3').on('click', function() {});\n",
       "});\n",
       "</script>"
      ],
      "text/plain": [
       "<IPython.core.display.HTML object>"
      ]
     },
     "metadata": {},
     "output_type": "display_data"
    }
   ],
   "source": [
    "%%html\n",
    "<script src='./js/jquery-3.2.1.min.js'>\n",
    "$(document).ready(function() {\n",
    "    $('.submenu h3').on('click', function() {});\n",
    "});\n",
    "</script>"
   ]
  },
  {
   "cell_type": "code",
   "execution_count": 31,
   "metadata": {},
   "outputs": [
    {
     "data": {
      "text/html": [
       "<script src='./js/jquery-3.2.1.min.js'>\n",
       "$(document).ready(function() {\n",
       "    $('.submenu h3').on('click', function() {\n",
       "        $(this).next().toggleClass('hidden');\n",
       "    });\n",
       "});\n",
       "</script>"
      ],
      "text/plain": [
       "<IPython.core.display.HTML object>"
      ]
     },
     "metadata": {},
     "output_type": "display_data"
    }
   ],
   "source": [
    "%%html\n",
    "<script src='./js/jquery-3.2.1.min.js'>\n",
    "$(document).ready(function() {\n",
    "    $('.submenu h3').on('click', function() {\n",
    "        $(this).next().toggleClass('hidden');\n",
    "    });\n",
    "});\n",
    "</script>"
   ]
  },
  {
   "cell_type": "markdown",
   "metadata": {},
   "source": [
    "### <strong>02 박스 열고 닫기\n",
    "에니메이션 효과"
   ]
  },
  {
   "cell_type": "code",
   "execution_count": 32,
   "metadata": {},
   "outputs": [
    {
     "data": {
      "text/html": [
       "<script src=\"./js/jquery-3.2.1.min.js\"> //jQuery 호출 </script>\n",
       "<script>\n",
       "$(document).ready(function(){\n",
       "\t$('#box_btn').on('click', function(){\n",
       "\t\t$('#box').slideToggle();\n",
       "\t});\n",
       "});\n",
       "</script>"
      ],
      "text/plain": [
       "<IPython.core.display.HTML object>"
      ]
     },
     "metadata": {},
     "output_type": "display_data"
    }
   ],
   "source": [
    "%%html\n",
    "<script src=\"./js/jquery-3.2.1.min.js\">\n",
    "$(document).ready(function(){\n",
    "    $('#box_btn').on('click', function(){\n",
    "        $('#box').slideToggle();}); });"
   ]
  },
  {
   "cell_type": "code",
   "execution_count": 41,
   "metadata": {},
   "outputs": [
    {
     "data": {
      "text/html": [
       "<div id=\"box\"> <ul>\n",
       "    <li>홈</li> \n",
       "    <li>회사 안내</li>\n",
       "</ul> </div>\n",
       "\n",
       "<header><div class=\"header-contents\">\n",
       "\t<div id=\"box_btn\">Menu</div>\n",
       "</div></header>\n",
       "\n",
       "<script src=\"http://code.jquery.com/jquery-1.11.3.min.js\">\n",
       "jQuery 모듈호출, 아래 script 태그와 묶으면 작동이 안됨에 유의할 것</script>\n",
       "<script>\n",
       "$(document).ready(function(){\n",
       "    $('#box_btn').on('click', function(){  // onclick 이벤트시 function()활성화\n",
       "        $('#box').slideToggle(500);}); }); // 객체상태를 변화 (변화시간)\n",
       "</script>"
      ],
      "text/plain": [
       "<IPython.core.display.HTML object>"
      ]
     },
     "metadata": {},
     "output_type": "display_data"
    }
   ],
   "source": [
    "%%html\n",
    "<div id=\"box\"> <ul>\n",
    "    <li>홈</li> \n",
    "    <li>회사 안내</li>\n",
    "</ul> </div>\n",
    "\n",
    "<header><div class=\"header-contents\">\n",
    "\t<div id=\"box_btn\">Menu</div>\n",
    "</div></header>\n",
    "\n",
    "<script src=\"http://code.jquery.com/jquery-1.11.3.min.js\">\n",
    "jQuery 모듈호출, 아래 script 태그와 묶으면 작동이 안됨에 유의할 것</script>\n",
    "<script>\n",
    "$(document).ready(function(){\n",
    "    $('#box_btn').on('click', function(){  // onclick 이벤트시 function()활성화\n",
    "        $('#box').slideToggle(500);}); }); // 객체상태를 변화 (변화시간)\n",
    "</script>"
   ]
  },
  {
   "cell_type": "markdown",
   "metadata": {},
   "source": [
    "### <strong>03 공석 상태를 확인\n",
    "Ajax 와 Json"
   ]
  },
  {
   "cell_type": "code",
   "execution_count": 43,
   "metadata": {},
   "outputs": [
    {
     "data": {
      "text/html": [
       "<div class=\"header-contents\">\n",
       "    <h1>공석 확인</h1>\n",
       "    <h2>Ajax와 데이터 활용</h2>\n",
       "</div><!-- /.header-contents -->\n",
       "\n",
       "<div class=\"main-wrapper\">\n",
       "<section>\n",
       "    <ul class=\"list\">\n",
       "        <li class=\"seminar\" id=\"js\">\n",
       "            <h2>JavaScript 스터디</h2>\n",
       "            <p class=\"check\">공석 상황 확인</p>\n",
       "        </li>\n",
       "        <li class=\"seminar\" id=\"security\">\n",
       "            <h2>보안 대책 강좌</h2>\n",
       "            <p class=\"check\">공석 상황 확인</p>\n",
       "        </li>\n",
       "        <li class=\"seminar\" id=\"uiux\">\n",
       "            <h2>UI/UX 경쟁 대회</h2>\n",
       "            <p class=\"check\">공석 상황 확인</p>\n",
       "        </li>\n",
       "    </ul>\n",
       "</section>"
      ],
      "text/plain": [
       "<IPython.core.display.HTML object>"
      ]
     },
     "metadata": {},
     "output_type": "display_data"
    }
   ],
   "source": [
    "%%html\n",
    "<div class=\"header-contents\">\n",
    "    <h1>공석 확인</h1>\n",
    "    <h2>Ajax와 데이터 활용</h2>\n",
    "</div><!-- /.header-contents -->\n",
    "\n",
    "<div class=\"main-wrapper\">\n",
    "<section>\n",
    "    <ul clas%\n",
    "            <h2>보안 대책 강좌</h2>\n",
    "            <p class=\"check\">공석 상황 확인</p>\n",
    "        </li>\n",
    "        <li class=\"seminar\" id=\"uiux\">\n",
    "            <h2>UI/UX 경쟁 대회</h2>\n",
    "            <p class=\"check\">공석 상황 확인</p>\n",
    "        </li>\n",
    "    </ul></section>"
   ]
  },
  {
   "cell_type": "code",
   "execution_count": 44,
   "metadata": {},
   "outputs": [
    {
     "data": {
      "text/html": [
       "<style>\n",
       ".list {\n",
       "\toverflow: hidden;\n",
       "\tmargin: 0;\n",
       "\tpadding: 0;\n",
       "\tlist-style-type: none;}\n",
       ".list h2 {\n",
       "\tmargin: 0 0 2em 0;\n",
       "\tfont-size: 16px;\n",
       "\ttext-align: center;}\n",
       ".seminar {\n",
       "\tfloat: left;\n",
       "\tmargin: 10px 10px 10px 0;\n",
       "\tborder: 1px solid #23628f;\n",
       "\tpadding: 4px;\n",
       "\twidth: 25%;}\n",
       ".check {\n",
       "\tmargin: 0;\n",
       "\tpadding: 8px;\n",
       "\tfont-size: 12px;\n",
       "\tcolor: #ffffff;\n",
       "\tbackground-color: #23628f;\n",
       "\ttext-align: center;\n",
       "\tcursor: pointer;}\n",
       ".red {\n",
       "\tbackground-color: #e33a6d;}\n",
       ".green {\n",
       "\tbackground-color: #7bc52e;}\n",
       "</style>"
      ],
      "text/plain": [
       "<IPython.core.display.HTML object>"
      ]
     },
     "metadata": {},
     "output_type": "display_data"
    }
   ],
   "source": [
    "%%html \n",
    "<style>\n",
    ".list {   // CSS로 스타일을 지정하기\n",
    "    overflow: hidden;\n",
    "    margin: 0;\n",
    "    padding: 0;\n",
    "    list-style-type: none;}\n",
    ".list h2 {\n",
    "    margin: 0 0 2em 0;\n",
    "    font-size: 16px;\n",
    "    text-align: center;}\n",
    ".seminar {\n",
    "    float: left;\n",
    "    margin: 10px 10px 10px 0;\n",
    "    border: 1px solid #23628f;\n",
    "    padding: 4px;\n",
    "    width: 25%;}\n",
    ".check {\n",
    "    margin: 0;\n",
    "    padding: 8px;\n",
    "    font-size: 12px;\n",
    "    color: #ffffff;\n",
    "    background-color: #23628f;\n",
    "    text-align: center;\n",
    "    cursor: pointer;}\n",
    ".red {background-color: #e33a6d;}\n",
    ".green {background-color: #7bc52e;}\n",
    "</style>"
   ]
  },
  {
   "cell_type": "code",
   "execution_count": 46,
   "metadata": {},
   "outputs": [],
   "source": [
    "#  data.json 의 내용\n",
    "# [   {\"id\":\"js\",       \"crowded\":\"yes\"},\n",
    "#     {\"id\":\"security\", \"crowded\":\"no\"},\n",
    "#     {\"id\":\"uiux\",     \"crowded\":\"no\"}    ]"
   ]
  },
  {
   "cell_type": "code",
   "execution_count": 45,
   "metadata": {},
   "outputs": [
    {
     "data": {
      "text/html": [
       "<script src=\"http://code.jquery.com/jquery-1.11.3.min.js\"></script>\n",
       "<script>\n",
       "$(document).ready(function(){    // Json 파일 읽기\n",
       "    $.ajax({url: './data/data.json', dataType: 'json'})\n",
       "    .done(function(data){\n",
       "        $(data).each(function(){\n",
       "            if(this.crowded === 'yes') {\n",
       "                var idName = '#' + this.id;\n",
       "                $(idName).find('.check').addClass('crowded');} }); })\n",
       "    \n",
       "    .fail(function(){\n",
       "        window.alert('읽기 오류');});\n",
       "\n",
       "    $('.check').on('click', function(){      // 클릭시 좌석 상태값을 표시한다\n",
       "        if($(this).hasClass('crowded')) {\n",
       "            $(this).text('약간의 공석').addClass('red');\n",
       "        } else {$(this).text('공석이 있습니다').addClass('green');} }); });\n",
       "</script>"
      ],
      "text/plain": [
       "<IPython.core.display.HTML object>"
      ]
     },
     "metadata": {},
     "output_type": "display_data"
    }
   ],
   "source": [
    "%%html\n",
    "<script src=\"http://code.jquery.com/jquery-1.11.3.min.js\"></script>\n",
    "<script>\n",
    "$(document).ready(function(){    // Json 파일 읽기\n",
    "    $.ajax({url: './data/data.json', dataType: 'json'})\n",
    "    .done(function(data){\n",
    "        $(data).each(function(){\n",
    "            if(this.crowded === 'yes') {\n",
    "                var idName = '#' + this.id;\n",
    "                $(idName).find('.check').addClass('crowded');} }); })\n",
    "    \n",
    "    .fail(function(){\n",
    "        window.alert('읽기 오류');});\n",
    "\n",
    "    $('.check').on('click', function(){      // 클릭시 좌석 상태값을 표시한다\n",
    "        if($(this).hasClass('crowded')) {\n",
    "            $(this).text('약간의 공석').addClass('red');\n",
    "        } else {$(this).text('공석이 있습니다').addClass('green');} }); });\n",
    "</script>"
   ]
  },
  {
   "cell_type": "markdown",
   "metadata": {},
   "source": [
    "### <strong>Ajax를 이용한 파일 불러오기\n",
    "<strong>Ajax</strong> : 페이지를 변경하지 않고, 웹서버와 데이터를 교환하는 <strong>자바스크립트</strong> 기능\n",
    "1. 자바스크립트 기능이지만, JQuery로 작성하는 편이 더 쉽다\n",
    "\n",
    "<img src=\"http://cfile22.uf.tistory.com/image/1574D34E4F9A527C1E8DF5\" align='left'>"
   ]
  },
  {
   "cell_type": "code",
   "execution_count": 52,
   "metadata": {},
   "outputs": [
    {
     "data": {
      "application/javascript": [
       "/*\n",
       "$.ajax( {url: 'data.json' , dataType: 'json'});\n",
       ".done(function(data){ 데이터 다운로드가 성공한 경우 처리 })\n",
       ".fail(function() { 데이터 다운로드가 실패한 경우 처리 });  */"
      ],
      "text/plain": [
       "<IPython.core.display.Javascript object>"
      ]
     },
     "metadata": {},
     "output_type": "display_data"
    }
   ],
   "source": [
    "%%javascript\n",
    "/*   << Ajax 기본형태 >>\n",
    "1. url : 다운로드를 원하는 데이터\n",
    "2. dataType : 데이터 포맷을 정의\n",
    "3. function(data) : 다운로드 데이터가 data를 매개변수로 전달\n",
    "$.ajax( {url: 'data.json' , dataType: 'json', 기타설정:'설정값', ...});\n",
    ".done(function(data){ 데이터 다운로드가 성공한 경우 처리 })\n",
    ".fail(function() { 데이터 다운로드가 실패한 경우 처리 });  */"
   ]
  },
  {
   "cell_type": "code",
   "execution_count": null,
   "metadata": {},
   "outputs": [],
   "source": []
  },
  {
   "cell_type": "code",
   "execution_count": null,
   "metadata": {},
   "outputs": [],
   "source": []
  },
  {
   "cell_type": "code",
   "execution_count": null,
   "metadata": {},
   "outputs": [],
   "source": []
  }
 ],
 "metadata": {
  "kernelspec": {
   "display_name": "Python 3",
   "language": "python",
   "name": "python3"
  },
  "language_info": {
   "codemirror_mode": {
    "name": "ipython",
    "version": 3
   },
   "file_extension": ".py",
   "mimetype": "text/x-python",
   "name": "python",
   "nbconvert_exporter": "python",
   "pygments_lexer": "ipython3",
   "version": "3.6.3"
  }
 },
 "nbformat": 4,
 "nbformat_minor": 2
}
