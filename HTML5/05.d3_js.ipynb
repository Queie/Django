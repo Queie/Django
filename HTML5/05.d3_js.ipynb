{
 "cells": [
  {
   "cell_type": "markdown",
   "metadata": {},
   "source": [
    "<br>\n",
    "# <strong>D3.js 개요\n",
    "<strong>chapter 1\n",
    "\n",
    "pip install py_d3 (https://github.com/ResidentMario/py_d3)\n",
    "1. HTML <strong>DOM</strong> 을 우선 생성한다 (utf-8 문자를 사용)\n",
    "2. d3.select()/selectAll() : <strong>셀렉터</strong>로 DOM 과 <strong>'Data Binding'</strong>을 한다\n",
    "3. <strong>d3 모듈로 데이터를 변환한 결과</strong>를 출력한다 (바인딩은 반복적인 적용도 가능하다)"
   ]
  },
  {
   "cell_type": "markdown",
   "metadata": {},
   "source": [
    "## <strong>1 D3 <strong>셀렉터</strong>\n",
    "'Data Binding'</strong>을 한 뒤 <strong>d3 모듈로 변환한 결과</strong>를 출력\n",
    "\n",
    "바인딩은 반복적인 적용도 가능"
   ]
  },
  {
   "cell_type": "code",
   "execution_count": 1,
   "metadata": {
    "collapsed": true
   },
   "outputs": [],
   "source": [
    "%load_ext py_d3"
   ]
  },
  {
   "cell_type": "code",
   "execution_count": 2,
   "metadata": {},
   "outputs": [
    {
     "data": {
      "text/html": [
       "\n",
       "<script>\n",
       "requirejs.config({\n",
       "    paths: {\n",
       "        d3: \"//cdnjs.cloudflare.com/ajax/libs/d3/3.5.2/d3\"\n",
       "    }\n",
       "});\n",
       "\n",
       "require(['d3'], function(d3) {\n",
       "    window.d3 = d3;\n",
       "});\n",
       "</script>\n",
       "<script>\n",
       "_select = d3.select;\n",
       "\n",
       "d3.select0 = function(selection) {\n",
       "    return _select(\"#d3-cell-0\").select(selection);\n",
       "}\n",
       "d3.selectAll0 = function(selection) {\n",
       "    return _select(\"#d3-cell-0\").selectAll(selection);\n",
       "}\n",
       "</script>\n",
       "<g id=\"d3-cell-0\">\n",
       "<!-- g tag : 시각적 표현되지 않고 공간을 차지하지도 않아서, 도형과 그래프 구현시 많이 활용 -->\n",
       "<g_1></g_1>   \n",
       "\n",
       "<script>\n",
       "d3.select0(\"g_1\").text('Hello D3 world');\n",
       "</script>\n",
       "</g>"
      ],
      "text/plain": [
       "<IPython.core.display.HTML object>"
      ]
     },
     "metadata": {},
     "output_type": "display_data"
    }
   ],
   "source": [
    "%%d3 3.5.2\n",
    "<!-- g tag : 시각적 표현되지 않고 공간을 차지하지도 않아서, 도형과 그래프 구현시 많이 활용 -->\n",
    "<g_1></g_1>   \n",
    "\n",
    "<script>\n",
    "d3.select(\"g_1\").text('Hello D3 world');\n",
    "</script>"
   ]
  },
  {
   "cell_type": "code",
   "execution_count": 3,
   "metadata": {},
   "outputs": [
    {
     "data": {
      "text/html": [
       "\n",
       "<script>\n",
       "requirejs.config({\n",
       "    paths: {\n",
       "        d3: \"//cdnjs.cloudflare.com/ajax/libs/d3/3.5.2/d3\"\n",
       "    }\n",
       "});\n",
       "\n",
       "require(['d3'], function(d3) {\n",
       "    window.d3 = d3;\n",
       "});\n",
       "</script>\n",
       "<script>\n",
       "_select = d3.select;\n",
       "\n",
       "d3.select1 = function(selection) {\n",
       "    return _select(\"#d3-cell-1\").select(selection);\n",
       "}\n",
       "d3.selectAll1 = function(selection) {\n",
       "    return _select(\"#d3-cell-1\").selectAll(selection);\n",
       "}\n",
       "</script>\n",
       "<g id=\"d3-cell-1\">\n",
       "<!DOCUMENT html><meta charset='utf-8'>\n",
       "<div.data></div.data>\n",
       "\n",
       "<script>\n",
       "d3.select1(\"div.data\").data([1,5,11,3]);\n",
       "</script>\n",
       "</g>"
      ],
      "text/plain": [
       "<IPython.core.display.HTML object>"
      ]
     },
     "metadata": {},
     "output_type": "display_data"
    }
   ],
   "source": [
    "%%d3 3.5.2\n",
    "<!DOCUMENT html><meta charset='utf-8'>\n",
    "<div.data></div.data>\n",
    "\n",
    "<script>\n",
    "d3.select(\"div.data\").data([1,5,11,3]);\n",
    "</script>"
   ]
  },
  {
   "cell_type": "markdown",
   "metadata": {},
   "source": [
    "## <strong>2 SVG</strong>\n",
    "1. HTML5 의 특성상 SVG를 이용하여 수식을 표현가능하고, 이를 d3모듈로 조정이 가능하다\n",
    "2. 바인딩은 반복적인 적용도 가능"
   ]
  },
  {
   "cell_type": "code",
   "execution_count": 4,
   "metadata": {},
   "outputs": [
    {
     "data": {
      "text/html": [
       "<body> <div id=\"vizcontainer\">\n",
       "    <svg> <g>\n",
       "        <g transform=\"translate(10,15)scale(1.5)\">\n",
       "        <circle r=\"5\" />\n",
       "        <text>A Label</text> </g>\n",
       "        <g transform=\"translate(100,50)scale(3.5)\">\n",
       "        <circle r=\"5\" />\n",
       "        <text>A Label</text> </g>\n",
       "    </svg>\n",
       "</div> </body>"
      ],
      "text/plain": [
       "<IPython.core.display.HTML object>"
      ]
     },
     "metadata": {},
     "output_type": "display_data"
    }
   ],
   "source": [
    "%%html\n",
    "<body> <div id=\"vizcontainer\">\n",
    "    <svg> <g>\n",
    "        <g transform=\"translate(10,15)scale(1.5)\">\n",
    "        <circle r=\"5\" />\n",
    "        <text>A Label</text> </g>\n",
    "        <g transform=\"translate(100,50)scale(3.5)\">\n",
    "        <circle r=\"5\" />\n",
    "        <text>A Label</text> </g>\n",
    "    </svg>\n",
    "</div> </body>"
   ]
  },
  {
   "cell_type": "code",
   "execution_count": 5,
   "metadata": {},
   "outputs": [
    {
     "data": {
      "text/html": [
       "<svg id='pic'>\n",
       "<path d = \"M 10,60 40,30 50,50 60,30 70,80\"\n",
       "      style = \"fill:black;stroke:gray;stroke-width:4px;\" />\n",
       "<polygon style = \"fill:gray;\" \n",
       "         points = \"80,400 120,400 160,440 120,480 60,460\" />\n",
       "<circle cy = \"100\" \n",
       "        cx = \"200\" \n",
       "        r = \"30\"/>\n",
       "<rect x = \"410\" \n",
       "      y = \"200\" \n",
       "      width = \"100\" \n",
       "      height = \"50\" \n",
       "      style = \"fill:pink;stroke:black;stroke-width:1px;\" />\n",
       "</svg>\n",
       "\n",
       "<script>\n",
       "d3.select(\"svg.pic\").style(\"background\", \"darkgreen\"); //d3 셀렉터로 'svg 태그'의 배경색을 변경\n",
       "d3.select(\"circle\").remove();                          //d3 셀렉터로 'circle' tag 내용을 삭제\n",
       "</script> "
      ],
      "text/plain": [
       "<IPython.core.display.HTML object>"
      ]
     },
     "metadata": {},
     "output_type": "display_data"
    }
   ],
   "source": [
    "%%html\n",
    "<svg id='pic'>\n",
    "<path d = \"M 10,60 40,30 50,50 60,30 70,80\"\n",
    "      style = \"fill:black;stroke:gray;stroke-width:4px;\" />\n",
    "<polygon style = \"fill:gray;\" \n",
    "         points = \"80,400 120,400 160,440 120,480 60,460\" />\n",
    "<circle cy = \"100\" \n",
    "        cx = \"200\" \n",
    "        r = \"30\"/>\n",
    "<rect x = \"410\" \n",
    "      y = \"200\" \n",
    "      width = \"100\" \n",
    "      height = \"50\" \n",
    "      style = \"fill:pink;stroke:black;stroke-width:1px;\" />\n",
    "</svg>\n",
    "\n",
    "<script>\n",
    "d3.select(\"svg.pic\").style(\"background\", \"darkgreen\"); //d3 셀렉터로 'svg 태그'의 배경색을 변경\n",
    "d3.select(\"circle\").remove();                          //d3 셀렉터로 'circle' tag 내용을 삭제\n",
    "</script> "
   ]
  },
  {
   "cell_type": "code",
   "execution_count": 6,
   "metadata": {
    "scrolled": true
   },
   "outputs": [
    {
     "data": {
      "text/html": [
       "<head><meta charset=\"utf-8\" /></head>\n",
       "<style>\n",
       "svg.pic2 {\n",
       "  position: absolute;\n",
       "  width: 500px;\n",
       "  height: 300px;\n",
       "  border: 1px lightgray solid;}\n",
       "</style>\n",
       "<body> <div id=\"vizcontainer\"> <svg id='pic2'>\n",
       "  <path style = \"fill:none;stroke:gray;stroke-width:4px;\" // \"fill:none 선을 열어서 비움\n",
       "        d = \"M 10,60 40,30 50,50 60,30 70,80\"             // M x1,y1 x2,y2... 선을 연결\n",
       "        transform = \"translate(0,0)\" />\n",
       "  <path style = \"fill:black;stroke:gray;stroke-width:4px;\"// \"fill:black 선을 닫아서 채움 \n",
       "        d = \"M 10,60 40,30 50,50 60,30 70,80\" \n",
       "        transform=\"translate(100,0)\" />\n",
       "  <path style = \"fill:none;stroke:gray;stroke-width:4px;\" \n",
       "        d = \"M 10,60 40,30 50,50 60,30 70,80Z\"            // M x1,y1 ...Z 선을 연결 후 닫음\n",
       "        transform = \"translate(200,0)\" />\n",
       "</svg></div>"
      ],
      "text/plain": [
       "<IPython.core.display.HTML object>"
      ]
     },
     "metadata": {},
     "output_type": "display_data"
    }
   ],
   "source": [
    "%%html\n",
    "<head><meta charset=\"utf-8\" /></head>\n",
    "<style>\n",
    "svg.pic2 {\n",
    "  position: absolute;\n",
    "  width: 500px;\n",
    "  height: 300px;\n",
    "  border: 1px lightgray solid;}\n",
    "</style>\n",
    "<body> <div id=\"vizcontainer\"> <svg id='pic2'>\n",
    "  <path style = \"fill:none;stroke:gray;stroke-width:4px;\" // \"fill:none 선을 열어서 비움\n",
    "        d = \"M 10,60 40,30 50,50 60,30 70,80\"             // M x1,y1 x2,y2... 선을 연결\n",
    "        transform = \"translate(0,0)\" />\n",
    "  <path style = \"fill:black;stroke:gray;stroke-width:4px;\"// \"fill:black 선을 닫아서 채움 \n",
    "        d = \"M 10,60 40,30 50,50 60,30 70,80\" \n",
    "        transform=\"translate(100,0)\" />\n",
    "  <path style = \"fill:none;stroke:gray;stroke-width:4px;\" \n",
    "        d = \"M 10,60 40,30 50,50 60,30 70,80Z\"            // M x1,y1 ...Z 선을 연결 후 닫음\n",
    "        transform = \"translate(200,0)\" />\n",
    "</svg></div>"
   ]
  },
  {
   "cell_type": "markdown",
   "metadata": {},
   "source": [
    "## <strong>3 CSS</strong>\n",
    "<strong>d3.select(\"#CSS 태그\").style(\"속성\", 값) : </strong> DOM 문서상의 CSS를 선택하기 위한 CSS셀렉터\n",
    "1. 클래스 정의내용이 충돌시, <strong>구체적인 규칙</strong>이 범용에 우선한다\n",
    "1. 같은 적용내용이 여럿인 경우, <strong>뒤의 것</strong>이 최종적으로 적용된다"
   ]
  },
  {
   "cell_type": "code",
   "execution_count": 7,
   "metadata": {},
   "outputs": [
    {
     "data": {
      "text/html": [
       "<style>\n",
       "  d3.select(\"circle\").attr(\"class\", 'tentative'); // .attr : 속성을 추가\n",
       "  d3.select(\"circle\").classed(\"active\", 'true');  // .classed : 지정한 클래스만 추가/제거\n",
       "</style>"
      ],
      "text/plain": [
       "<IPython.core.display.HTML object>"
      ]
     },
     "metadata": {},
     "output_type": "display_data"
    }
   ],
   "source": [
    "%%html\n",
    "<style>\n",
    "  d3.select(\"circle\").attr(\"class\", 'tentative'); // .attr : 속성을 추가\n",
    "  d3.select(\"circle\").classed(\"active\", 'true');  // .classed : 지정한 클래스만 추가/제거\n",
    "</style>"
   ]
  },
  {
   "cell_type": "markdown",
   "metadata": {},
   "source": [
    "## <strong>4 JavaScript</strong>\n",
    "### <strong>01 Method Chining</strong>\n",
    "### <strong>02 .filter()</strong>"
   ]
  },
  {
   "cell_type": "code",
   "execution_count": 8,
   "metadata": {},
   "outputs": [
    {
     "data": {
      "text/html": [
       "\n",
       "<script>\n",
       "requirejs.config({\n",
       "    paths: {\n",
       "        d3: \"//cdnjs.cloudflare.com/ajax/libs/d3/3.5.17/d3\"\n",
       "    }\n",
       "});\n",
       "\n",
       "require(['d3'], function(d3) {\n",
       "    window.d3 = d3;\n",
       "});\n",
       "</script>\n",
       "<script>\n",
       "_select = d3.select;\n",
       "\n",
       "d3.select2 = function(selection) {\n",
       "    return _select(\"#d3-cell-2\").select(selection);\n",
       "}\n",
       "d3.selectAll2 = function(selection) {\n",
       "    return _select(\"#d3-cell-2\").selectAll(selection);\n",
       "}\n",
       "</script>\n",
       "<g id=\"d3-cell-2\">\n",
       "# Method Chining\n",
       "# 하나의 객체에 연속적으로 메서드를 호출하여 추가한다. (각 메서드가 실행 후, 객체자신을 반환가능해야 chaing이 가능)\n",
       "\n",
       "<style># <script>      // Js는 여러공백도 1로 처리 (줄바꿈을 해도, 공백은 1)\n",
       "  d3.selectAll2(\"div\")  // 모든 div 요소를 셀렉션으로 반환\n",
       "    .data(someData)    // 반환된 셀렉션에 data() 메서드를 호출하고 셀렉션을 반환\n",
       "    .enter()           // 반환된 셀렉션에 enter() 메서드를 호출하고 셀렉션을 반환\n",
       "    .append(\"div\")     // 반환된 셀렉션에 append() 메서드를 호출하고 셀렉션을 반환\n",
       "    .html(\"Wow\")       // 반환된 셀렉션에 html() 메서드를 호출하고 셀렉션을 반환\n",
       "    .append(\"span\")    // 반환된 셀렉션에 append() 메서드를 호출하고 셀렉션을 반환....\n",
       "    .html(\"Even More Wow\")\n",
       "    .style(\"font-weight\", \"900\");\n",
       "</style>\n",
       "</g>"
      ],
      "text/plain": [
       "<IPython.core.display.HTML object>"
      ]
     },
     "metadata": {},
     "output_type": "display_data"
    }
   ],
   "source": [
    "%%d3\n",
    "# Method Chining\n",
    "# 하나의 객체에 연속적으로 메서드를 호출하여 추가한다. (각 메서드가 실행 후, 객체자신을 반환가능해야 chaing이 가능)\n",
    "\n",
    "<style># <script>      // Js는 여러공백도 1로 처리 (줄바꿈을 해도, 공백은 1)\n",
    "  d3.selectAll(\"div\")  // 모든 div 요소를 셀렉션으로 반환\n",
    "    .data(someData)    // 반환된 셀렉션에 data() 메서드를 호출하고 셀렉션을 반환\n",
    "    .enter()           // 반환된 셀렉션에 enter() 메서드를 호출하고 셀렉션을 반환\n",
    "    .append(\"div\")     // 반환된 셀렉션에 append() 메서드를 호출하고 셀렉션을 반환\n",
    "    .html(\"Wow\")       // 반환된 셀렉션에 html() 메서드를 호출하고 셀렉션을 반환\n",
    "    .append(\"span\")    // 반환된 셀렉션에 append() 메서드를 호출하고 셀렉션을 반환....\n",
    "    .html(\"Even More Wow\")\n",
    "    .style(\"font-weight\", \"900\");\n",
    "</style>"
   ]
  },
  {
   "cell_type": "code",
   "execution_count": 9,
   "metadata": {},
   "outputs": [
    {
     "data": {
      "text/html": [
       "\n",
       "<script>\n",
       "requirejs.config({\n",
       "    paths: {\n",
       "        d3: \"//cdnjs.cloudflare.com/ajax/libs/d3/3.5.17/d3\"\n",
       "    }\n",
       "});\n",
       "\n",
       "require(['d3'], function(d3) {\n",
       "    window.d3 = d3;\n",
       "});\n",
       "</script>\n",
       "<script>\n",
       "_select = d3.select;\n",
       "\n",
       "d3.select3 = function(selection) {\n",
       "    return _select(\"#d3-cell-3\").select(selection);\n",
       "}\n",
       "d3.selectAll3 = function(selection) {\n",
       "    return _select(\"#d3-cell-3\").selectAll(selection);\n",
       "}\n",
       "</script>\n",
       "<g id=\"d3-cell-3\">\n",
       "# .filter()\n",
       "\n",
       "<style>\n",
       "smallerNumbers = someNumbers.filter(\n",
       "    function(el){return el <= 40});  // filter() 를 통해서 el 배열의 내용을 재정리\n",
       "\n",
       "d3.select3(\"body\").selectAll('div')\n",
       "    .data(smallerNumbers)\n",
       "    .enter()\n",
       "    .append('div')\n",
       "    .html(function (d) {function d}); </style>\n",
       "</g>"
      ],
      "text/plain": [
       "<IPython.core.display.HTML object>"
      ]
     },
     "metadata": {},
     "output_type": "display_data"
    }
   ],
   "source": [
    "%%d3\n",
    "# .filter()\n",
    "\n",
    "<style>\n",
    "smallerNumbers = someNumbers.filter(\n",
    "    function(el){return el <= 40});  // filter() 를 통해서 el 배열의 내용을 재정리\n",
    "\n",
    "d3.select(\"body\").selectAll('div')\n",
    "    .data(smallerNumbers)\n",
    "    .enter()\n",
    "    .append('div')\n",
    "    .html(function (d) {function d}); </style>"
   ]
  },
  {
   "cell_type": "markdown",
   "metadata": {},
   "source": [
    "## <strong>5 데이터 표준\n",
    "데이터의 활용 목적에 따른 다양한 포맷이 존재한다\n",
    "1. 표 데이터\n",
    "1. 내포된 데이터\n",
    "1. Network 데이터\n",
    "1. 지리 데이터\n",
    "1. 원시 데이터\n",
    "1. 객체"
   ]
  },
  {
   "cell_type": "markdown",
   "metadata": {},
   "source": [
    "### <strong> 01 표 데이터 \n",
    "테이블로 데이터를 갖고옴이 가장 용이하다\n",
    "1. d3.csv( Comma separated Value ) \n",
    "1. d3.tsv( Tab seperated value ) \n",
    "1. d3.dsv( 사용자 정의 구분기호 ) 메서드를 제공"
   ]
  },
  {
   "cell_type": "markdown",
   "metadata": {},
   "source": [
    "### <strong> 02 내포된 데이터 (nested data)\n",
    "객체가 다른 객체의 자식으로 존재 하여 데이터간의 직관적연결을 갖는다"
   ]
  },
  {
   "cell_type": "markdown",
   "metadata": {},
   "source": [
    "### <strong> 03 네트워크 데이터\n",
    "1. Node/ Edge list\n",
    "1. Connected array : 연결된 배열\n",
    "1. http://gephi.org"
   ]
  },
  {
   "cell_type": "markdown",
   "metadata": {},
   "source": [
    "### <strong> 04 지리 데이터\n",
    "GeoJSON, TopoJSON, Quantum GIS "
   ]
  },
  {
   "cell_type": "markdown",
   "metadata": {},
   "source": [
    "### <strong> 05 원시 데이터\n",
    "복잡한 데이터를 선형, 수치 범주 데이터를 통해서 임의로 축소하여 표현한다"
   ]
  },
  {
   "cell_type": "markdown",
   "metadata": {},
   "source": [
    "## <strong>6 객체\n",
    "JSON 객체"
   ]
  },
  {
   "cell_type": "code",
   "execution_count": 10,
   "metadata": {},
   "outputs": [
    {
     "data": {
      "application/javascript": [
       "var person = {name : \"철수\",\n",
       "             age : 55,\n",
       "             employed : true,\n",
       "             childrenName : ['영희','미숙']};\n",
       "person.name  \n",
       "person['name']  // 리터럴 객체를 'Key'값을 사용하여 내용 호출방법 1, 2\n",
       "person.name = '바둑이'  \n",
       "person['name'] = '바둑이' // 리터럴 객체를 'Key'값을 사용하여 내용을 변경\n",
       "person.age < 56          // true/ false 으로  boolean 결과를 출력한다\n",
       "person.childrenName[0]   // 호출 내용이 array인 경우, [indexing] 을 활용"
      ],
      "text/plain": [
       "<IPython.core.display.Javascript object>"
      ]
     },
     "metadata": {},
     "output_type": "display_data"
    }
   ],
   "source": [
    "%%javascript\n",
    "var person = {name : \"철수\",\n",
    "             age : 55,\n",
    "             employed : true,\n",
    "             childrenName : ['영희','미숙']};\n",
    "person.name  \n",
    "person['name']  // 리터럴 객체를 'Key'값을 사용하여 내용 호출방법 1, 2\n",
    "person.name = '바둑이'  \n",
    "person['name'] = '바둑이' // 리터럴 객체를 'Key'값을 사용하여 내용을 변경\n",
    "person.age < 56          // true/ false 으로  boolean 결과를 출력한다\n",
    "person.childrenName[0]   // 호출 내용이 array인 경우, [indexing] 을 활용"
   ]
  }
 ],
 "metadata": {
  "kernelspec": {
   "display_name": "Python 3",
   "language": "python",
   "name": "python3"
  },
  "language_info": {
   "codemirror_mode": {
    "name": "ipython",
    "version": 3
   },
   "file_extension": ".py",
   "mimetype": "text/x-python",
   "name": "python",
   "nbconvert_exporter": "python",
   "pygments_lexer": "ipython3",
   "version": "3.6.1"
  }
 },
 "nbformat": 4,
 "nbformat_minor": 2
}
