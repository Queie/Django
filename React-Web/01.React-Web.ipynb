{
 "cells": [
  {
   "cell_type": "markdown",
   "metadata": {},
   "source": [
    "# 반응형 웹 디자인\n",
    "기본개념 이해하기"
   ]
  },
  {
   "cell_type": "markdown",
   "metadata": {},
   "source": [
    "## <strong>1 가변 그리드 - CSS</strong>\n",
    "<strong>Fluid Grid</strong> (정해진 공식에 따라 정확한 박스를 출력)\n",
    "\n",
    "wrap 모든 속성을 감싸는 함수다\n",
    "1. CSS : #wrap{width: <strong>90%</strong>;  height:90%;  margin:0 auto;  border:4px solid #000;} 에 속성값을 %로 입력\n",
    "2. 가변크기 : 가변박스 너비 $\\div$ 가변크기 박스를 감싸는 박스의 가로너비 $\\times$ 100"
   ]
  },
  {
   "cell_type": "code",
   "execution_count": 6,
   "metadata": {},
   "outputs": [
    {
     "data": {
      "text/html": [
       "<html lang=\"ko\"> \n",
       "<style>\n",
       "#wrap{\n",
       "width:90%;  height:50px;  margin:0 auto;  border:4px solid #000;}</style>\n",
       "</head>\n",
       "<body>\n",
       "\t<div id=\"wrap\"> content </div>\n",
       "</body>\n",
       "</html>"
      ],
      "text/plain": [
       "<IPython.core.display.HTML object>"
      ]
     },
     "metadata": {},
     "output_type": "display_data"
    }
   ],
   "source": [
    "%%html\n",
    "<html lang=\"ko\"> \n",
    "<style>\n",
    "#wrap{\n",
    "width:90%;  height:50px;  margin:0 auto;  border:4px solid #000;}</style>\n",
    "</head>\n",
    "<body>\n",
    "\t<div id=\"wrap\"> content </div>\n",
    "</body>\n",
    "</html>"
   ]
  },
  {
   "cell_type": "code",
   "execution_count": 3,
   "metadata": {},
   "outputs": [
    {
     "data": {
      "text/html": [
       "<html lang=\"ko\">\n",
       "<style>\n",
       "/* #wrap : id 정의 */\n",
       "#wrap{\n",
       "width: 90%; height:35px; margin:0 auto; border:2px solid #000;}\n",
       "/*.box01 : class 정의 */\n",
       ".box01{width:31.25%; height:30px; background: green;}\n",
       "</style></head>\n",
       "<body>\n",
       "\t<div id = \"wrap\">\n",
       "\t\t<div class = \"box01\"> content</div>\n",
       "\t</div>\n",
       "</body></html>"
      ],
      "text/plain": [
       "<IPython.core.display.HTML object>"
      ]
     },
     "metadata": {},
     "output_type": "display_data"
    }
   ],
   "source": [
    "%%html\n",
    "<html lang=\"ko\">\n",
    "<style>\n",
    "/* #wrap : id 정의 */\n",
    "#wrap{\n",
    "width: 90%; height:35px; margin:0 auto; border:2px solid #000;}\n",
    "/*.box01 : class 정의 */\n",
    ".box01{width:31.25%; height:30px; background: green;}\n",
    "</style></head>\n",
    "<body>\n",
    "\t<div id = \"wrap\">\n",
    "\t\t<div class = \"box01\"> content</div>\n",
    "\t</div>\n",
    "</body></html>"
   ]
  },
  {
   "cell_type": "code",
   "execution_count": 13,
   "metadata": {},
   "outputs": [
    {
     "data": {
      "text/html": [
       "<html lang=\"ko\">\n",
       "<head><style>\n",
       "/* wrap id를 정의 (Default: 960px)*/\n",
       "#wraped{\n",
       "width: 90%; height:25px; margin:0 auto; border:2px solid #000;}\n",
       "/*p 태그의 default 좌/우 너비값과 가변패딩을 적용*/\n",
       "wraped p{padding: 10px; 4.16666%;}\n",
       "</style>/head>\n",
       "<body>\n",
       "\t<div id = \"wraped\">        <!-- p 태그 : 양쪽에 40px 가변패딩 적용  -->\n",
       "\t\t<p> 청와대 관계자는 이날 춘추관에서 기자들과 만나 \"오늘 공론화위 결과 발표는 관계 청와대 \n",
       "        수석 및 비서관들이 사회수석실에서 함께 TV를 지켜보면서 (권고안에 대한) 존중과 이행조치에 \n",
       "        대한 최선, 감사 등 3가지 키워드로 짧게 발표하기로 함께 정리했다\"며 </p>\n",
       "\t</div>\n",
       "</body></html>"
      ],
      "text/plain": [
       "<IPython.core.display.HTML object>"
      ]
     },
     "metadata": {},
     "output_type": "display_data"
    }
   ],
   "source": [
    "%%html\n",
    "<html lang=\"ko\">\n",
    "<head><style>\n",
    "/* wrap id를 정의 (Default: 960px)*/\n",
    "#wraped{\n",
    "width: 90%; height:25px; margin:0 auto; border:2px solid #000;}\n",
    "/*p 태그의 default 좌/우 너비값과 가변패딩을 적용*/\n",
    "wraped p{padding: 10px; 4.16666%;}\n",
    "</style>/head>\n",
    "<body>\n",
    "\t<div id = \"wraped\">        <!-- p 태그 : 양쪽에 40px 가변패딩 적용  -->\n",
    "\t\t<p> 청와대 관계자는 이날 춘추관에서 기자들과 만나 \"오늘 공론화위 결과 발표는 관계 청와대 \n",
    "        수석 및 비서관들이 사회수석실에서 함께 TV를 지켜보면서 (권고안에 대한) 존중과 이행조치에 \n",
    "        대한 최선, 감사 등 3가지 키워드로 짧게 발표하기로 함께 정리했다\"며 </p>\n",
    "\t</div>\n",
    "</body></html>"
   ]
  },
  {
   "cell_type": "code",
   "execution_count": 12,
   "metadata": {},
   "outputs": [
    {
     "data": {
      "text/html": [
       "<html lang=\"ko\">\n",
       "<head><style>\n",
       "/* wrap id를 정의 (Default: 960px)*/\n",
       "#wraped{\n",
       "width: 90%; height:100px; margin:0 auto; background:green; border:2px solid #000;}\n",
       "/*p 태그의 default 좌/우 너비값과 가변패딩을 적용\n",
       "너비는 600px을 적용*/\n",
       "#wraped p{width:51.666%;  padding:40px 4.16666%; margin:0 auto; background: yellow}\n",
       "</style></head>\n",
       "<body>\n",
       "\t<div id = \"wraped\"><!-- \tp 태그 : 양쪽에 40px 가변패딩 적용  -->\n",
       "\t\t<p> 청와대 관계자는 이날 춘추관에서 기자들과 만나 \"오늘 공론화위 결과 발표는 관계 청와대 수석 및 비서관들이 \n",
       "        사회수석실에서 함께 TV를 지켜보면서 (권고안에 대한) 존중과 이행조치에 대한 최선, 감사 등 3가지 키워드로 짧게 \n",
       "        발표하기로 함께 정리했다\"며 \"외부는 물론 내부에서도 '다 알고 있으면서 그러느냐'는 취지의 말씀을 주시는데\n",
       "        전혀 몰랐다\"고 말했다.</p>\n",
       "\t</div>\n",
       "</body></html>"
      ],
      "text/plain": [
       "<IPython.core.display.HTML object>"
      ]
     },
     "metadata": {},
     "output_type": "display_data"
    }
   ],
   "source": [
    "%%html\n",
    "<html lang=\"ko\">\n",
    "<head><style>\n",
    "/* wrap id를 정의 (Default: 960px)*/\n",
    "#wraped{\n",
    "width: 90%; height:100px; margin:0 auto; background:green; border:2px solid #000;}\n",
    "/*p 태그의 default 좌/우 너비값과 가변패딩을 적용\n",
    "너비는 600px을 적용*/\n",
    "#wraped p{\n",
    "width:51.666%;  padding:40px 4.16666%; margin:0 auto; background: yellow}\n",
    "</style></head>\n",
    "<body>\n",
    "\t<div id = \"wraped\"><!-- \tp 태그 : 양쪽에 40px 가변패딩 적용  -->\n",
    "\t\t<p> 청와대 관계자는 이날 춘추관에서 기자들과 만나 \"오늘 공론화위 결과 발표는 관계 청와대 수석 및 비서관들이 \n",
    "        사회수석실에서 함께 TV를 지켜보면서 (권고안에 대한) 존중과 이행조치에 대한 최선, 감사 등 3가지 키워드로 짧게 \n",
    "        발표하기로 함께 정리했다\"며 \"외부는 물론 내부에서도 '다 알고 있으면서 그러느냐'는 취지의 말씀을 주시는데\n",
    "        전혀 몰랐다\"고 말했다.</p>\n",
    "\t</div>\n",
    "</body></html>"
   ]
  },
  {
   "cell_type": "markdown",
   "metadata": {},
   "source": [
    "## <strong>2 가변폰트</strong>\n",
    "글자크기를 상대적인 크기로 변경할 때 상속문제를 해결한다"
   ]
  },
  {
   "cell_type": "code",
   "execution_count": 19,
   "metadata": {},
   "outputs": [
    {
     "data": {
      "text/html": [
       "<html lang=\"ko\">\n",
       "<style>\n",
       "/*.para p{font-size: 0.5em}\n",
       "  절대값으로 입력시 .para를 상속해 2배로 인식*/\n",
       ".para{font-size: 4em;}\n",
       ".para p{font-size: 2em}\n",
       "</style></head><body>\n",
       "<!-- \tp 태그 : 양쪽에 40px 가변패딩 적용  -->\n",
       "\t<div class = \"para\">기본 폰트1\n",
       "\t\t<p> 가변폰트2 </p> </div>\n",
       "</body></html>"
      ],
      "text/plain": [
       "<IPython.core.display.HTML object>"
      ]
     },
     "metadata": {},
     "output_type": "display_data"
    }
   ],
   "source": [
    "%%html\n",
    "<html lang=\"ko\">\n",
    "<style>\n",
    "/*.para p{font-size: 0.5em}\n",
    "  절대값으로 입력시 .para를 상속해 2배로 인식*/\n",
    ".para{font-size: 4em;}\n",
    ".para p{font-size: 2em}\n",
    "</style></head><body>\n",
    "<!-- \tp 태그 : 양쪽에 40px 가변패딩 적용  -->\n",
    "\t<div class = \"para\">기본 폰트1\n",
    "\t\t<p> 가변폰트2 </p> </div>\n",
    "</body></html>"
   ]
  },
  {
   "cell_type": "code",
   "execution_count": 20,
   "metadata": {},
   "outputs": [
    {
     "data": {
      "text/html": [
       "<html lang=\"ko\">\n",
       "<style>\n",
       "/* rem 단위를 사용하면 절대값으로 인식한다 */\n",
       ".para {font-size: 4em;}\n",
       ".para p{font-size: 2rem}\n",
       "</style>\n",
       "</head><body>\n",
       "<!-- \tp 태그 : 양쪽에 40px 가변패딩 적용  -->\n",
       "\t<div class = \"para\">기본 폰트1 <p> 가변폰트2 </p> </div>\n",
       "</body></html>"
      ],
      "text/plain": [
       "<IPython.core.display.HTML object>"
      ]
     },
     "metadata": {},
     "output_type": "display_data"
    }
   ],
   "source": [
    "%%html\n",
    "<html lang=\"ko\">\n",
    "<style>\n",
    "/* rem 단위를 사용하면 절대값으로 인식한다 */\n",
    ".para {font-size: 4em;}\n",
    ".para p{font-size: 2rem}\n",
    "</style>\n",
    "</head><body>\n",
    "<!-- \tp 태그 : 양쪽에 40px 가변패딩 적용  -->\n",
    "\t<div class = \"para\">기본 폰트1 <p> 가변폰트2 </p> </div>\n",
    "</body></html>"
   ]
  },
  {
   "cell_type": "code",
   "execution_count": 21,
   "metadata": {},
   "outputs": [
    {
     "data": {
      "text/html": [
       "<html lang=\"ko\">\n",
       "<head><style>\n",
       "/*크기값 = (vw, vh, vmin, vmax 적용 글자 크기 * 브라우저 너비) / 100\n",
       "  vw : 브라우저 너비를 100으로 크기를 결정\n",
       "  vh : 브라우저 높이를 100으로 크기를 결정\n",
       "vmin : 브라우저 너비/ 높이중 작은 값을 100 기준으로 결정\n",
       "vmax : 브라우저 너비/ 높이중 큰 값을 100 기준으로 결정\n",
       "cf) 5vh : 5 * 1024 / 100 = 화면출력 크기 */\n",
       "    \n",
       ".vw{font-size: 5vw;}\n",
       ".vh{font-size: 5vh;}\n",
       ".vmin{font-size: 5vmin;}\n",
       ".vmax{font-size: 5vmax;}\n",
       "</style></head>\n",
       "<body>\n",
       "\t<p class=\"vw\">vw 단위</p>      <p class=\"vh\">vh 단위</p>\n",
       "\t<p class=\"vmin\">vmin 단위</p>  <p class=\"vmax\">vmax 단위</p>\n",
       "\t<p class=\"para\">vm 단위</p>\n",
       "</body>\n",
       "</html>"
      ],
      "text/plain": [
       "<IPython.core.display.HTML object>"
      ]
     },
     "metadata": {},
     "output_type": "display_data"
    }
   ],
   "source": [
    "%%html\n",
    "<html lang=\"ko\">\n",
    "<head><style>\n",
    "/*크기값 = (vw, vh, vmin, vmax 적용 글자 크기 * 브라우저 너비) / 100\n",
    "  vw : 브라우저 너비를 100으로 크기를 결정\n",
    "  vh : 브라우저 높이를 100으로 크기를 결정\n",
    "vmin : 브라우저 너비/ 높이중 작은 값을 100 기준으로 결정\n",
    "vmax : 브라우저 너비/ 높이중 큰 값을 100 기준으로 결정\n",
    "cf) 5vh : 5 * 1024 / 100 = 화면출력 크기 */\n",
    ".vw{font-size: 5vw;}\n",
    ".vh{font-size: 5vh;}\n",
    ".vmin{font-size: 5vmin;}\n",
    ".vmax{font-size: 5vmax;}\n",
    "</style></head>\n",
    "<body>\n",
    "\t<p class=\"vw\">vw 단위</p>      <p class=\"vh\">vh 단위</p>\n",
    "\t<p class=\"vmin\">vmin 단위</p>  <p class=\"vmax\">vmax 단위</p>\n",
    "\t<p class=\"para\">vm 단위</p>\n",
    "</body></html>"
   ]
  },
  {
   "cell_type": "markdown",
   "metadata": {},
   "source": [
    "## <strong>3 뷰 포트</strong>\n",
    "View Ports : 화면에 보이는 영역을 제어하는기술\n",
    "\n",
    "1. \\<\\meta name = \"viewport\" content=\"width=device-width, initial-scale=1, minimum-scale=1, maximum-scale=1, user-scalable=no\">\\"
   ]
  },
  {
   "cell_type": "code",
   "execution_count": 23,
   "metadata": {},
   "outputs": [
    {
     "data": {
      "text/html": [
       "<html lang=\"ko\"> <head>\n",
       "<meta name=\"viewport\" \n",
       "    content=\"width=device-width, initial-scale=1, minimum-scale=1, maximum-scale=1, user-scalable=no\">\n",
       "<style> *{margin:0; padding:0;}\n",
       "/* wrap default : 960px */\n",
       "#wraped{\n",
       "width:90%;  margin:0 auto;  border:4px solid #000; }\n",
       "#wraped div{\n",
       "width:50%;  display:inline-block;}\n",
       "img, video{ width:100%; max-width:100%;}\n",
       "/*width  100% 로도 되지만, 안정성을 위해 max-width 를 함께 설정 */\n",
       "</style></head>\n",
       "<body>\n",
       "    <div id=\"wraped\">\n",
       "\t\t<div><video controls preload=\"auto\">\n",
       "\t\t\t<source src=\"source/video.mp4\" type='video/mp4'></source>\n",
       "\t\t\t<source src=\"source/video.ogv\" type='video/ogg'></source>\n",
       "\t\t\t<source src=\"source/video.webm\" type='video/webm'></source></video>\n",
       "\t\t</div>\n",
       "        <div><img src=\"source/img_01.jpg\"></div>\n",
       "\t</div></body></html>"
      ],
      "text/plain": [
       "<IPython.core.display.HTML object>"
      ]
     },
     "metadata": {},
     "output_type": "display_data"
    }
   ],
   "source": [
    "%%html\n",
    "<html lang=\"ko\"> <head>\n",
    "<meta name=\"viewport\" \n",
    "    content=\"width=device-width, initial-scale=1, minimum-scale=1, maximum-scale=1, user-scalable=no\">\n",
    "<style> *{margin:0; padding:0;}\n",
    "/* wrap default : 960px */\n",
    "#wraped{\n",
    "width:90%;  margin:0 auto;  border:4px solid #000; }\n",
    "#wraped div{\n",
    "width:50%;  display:inline-block;}\n",
    "img, video{ width:100%; max-width:100%;}\n",
    "/*width  100% 로도 되지만, 안정성을 위해 max-width 를 함께 설정 */\n",
    "</style></head>\n",
    "<body>\n",
    "    <div id=\"wraped\">\n",
    "\t\t<div><video controls preload=\"auto\">\n",
    "\t\t\t<source src=\"source/video.mp4\" type='video/mp4'></source>\n",
    "\t\t\t<source src=\"source/video.ogv\" type='video/ogg'></source>\n",
    "\t\t\t<source src=\"source/video.webm\" type='video/webm'></source></video>\n",
    "\t\t</div>\n",
    "        <div><img src=\"source/img_01.jpg\"></div>\n",
    "\t</div></body></html>"
   ]
  },
  {
   "cell_type": "code",
   "execution_count": 24,
   "metadata": {},
   "outputs": [
    {
     "data": {
      "text/html": [
       "<head>\n",
       "<meta name=\"viewport\" \n",
       "  content=\"width=device-width, initial-scale=1, minimum-scale=1, maximum-scale=1, user-scalable=no\">\n",
       "<style> /* 960px */ *{margin:0; padding:0;}\n",
       "/*width  100% 로도 되지만, 안정성을 위해 max-width 를 함께 설정 */\n",
       "#wraped {\n",
       "width:90%; margin:0 auto; border:4px solid #000; }\n",
       "#wraped div{\n",
       "width:50%; display:inline-block;}\n",
       "img, video{\n",
       "    width:100%; max-width:100%;}\n",
       "</style></head>\n",
       "<body>\n",
       "\t<div id=\"wrap\">\n",
       "\t\t<div><video controls preload=\"auto\">\n",
       "\t\t\t<source src=\"source/video.mp4\" type='video/mp4'></source>\n",
       "\t\t\t<source src=\"source/video.ogv\" type='video/ogg'></source>\n",
       "\t\t\t<source src=\"source/video.webm\" type='video/webm'></source></video>\n",
       "\t\t</div>\n",
       "        <div><img src=\"source/img_01.jpg\"></div>\n",
       "\t</div>\n",
       "</body></html>"
      ],
      "text/plain": [
       "<IPython.core.display.HTML object>"
      ]
     },
     "metadata": {},
     "output_type": "display_data"
    }
   ],
   "source": [
    "%%html\n",
    "<head>\n",
    "<meta name=\"viewport\" \n",
    "  content=\"width=device-width, initial-scale=1, minimum-scale=1, maximum-scale=1, user-scalable=no\">\n",
    "<style> /* 960px */ *{margin:0; padding:0;}\n",
    "/*width  100% 로도 되지만, 안정성을 위해 max-width 를 함께 설정 */\n",
    "#wraped {\n",
    "width:90%; margin:0 auto; border:4px solid #000; }\n",
    "#wraped div{\n",
    "width:50%; display:inline-block;}\n",
    "img, video{\n",
    "    width:100%; max-width:100%;}\n",
    "</style></head>\n",
    "<body>\n",
    "\t<div id=\"wrap\">\n",
    "\t\t<div><video controls preload=\"auto\">\n",
    "\t\t\t<source src=\"source/video.mp4\" type='video/mp4'></source>\n",
    "\t\t\t<source src=\"source/video.ogv\" type='video/ogg'></source>\n",
    "\t\t\t<source src=\"source/video.webm\" type='video/webm'></source></video>\n",
    "\t\t</div>\n",
    "        <div><img src=\"source/img_01.jpg\"></div>\n",
    "\t</div>\n",
    "</body></html>"
   ]
  },
  {
   "cell_type": "markdown",
   "metadata": {},
   "source": [
    "## <strong>4 미디어 쿼리</strong>\n",
    "Media Queries \n",
    "1. Only 해당 조건 충족시만 실행\n",
    "2. not 해당 조건만 제외하고 실행\n",
    "3. @media 미디어 설정 시작을 설정\n",
    "4. [미디어유형] 유형은 생략 가능하다\n",
    "5. [and 또는 ,] 조건의 사실을 판단하는 논리연산자\n",
    "6. (조건문) 조건문이 True일때 실행할 내용\n",
    "7. {실행문:CSS코드} 앞의 모든 조건들이 True일떄 실행할 내용\n",
    "8. <\\link rel=\"stylesheet\" href=\"mediaqueries.css\">\\ 링크태그"
   ]
  },
  {
   "cell_type": "code",
   "execution_count": 25,
   "metadata": {},
   "outputs": [
    {
     "data": {
      "text/html": [
       "<html lang=\"ko\">\n",
       "<head><style>\n",
       "/* 웹 페이지의 크기에 따라 배경색을 변경한다\n",
       "   all and : 뒤의 조건들이 모두 충족할 때 활성화 한다 \n",
       "   1. all and <공백> 조건내용\n",
       "   2. min 접두사(최소 또는 그이상)는 크기가 작은 순서로 작성해야 하다\n",
       "   3. max 접두사(최대 또는 그이하)는 크기가 큰 순서로 작성해야 한다 */\n",
       "@media all and (min-width:320px) {body{background:red;}}\n",
       "@media all and (min-width:760px) {body{background:green;}}\n",
       "@media all and (min-width:960px) {body{background:yellow;}}\n",
       "</style></head>\n",
       "<body></body></html>"
      ],
      "text/plain": [
       "<IPython.core.display.HTML object>"
      ]
     },
     "metadata": {},
     "output_type": "display_data"
    }
   ],
   "source": [
    "%%html\n",
    "<html lang=\"ko\">\n",
    "<head><style>\n",
    "/* 웹 페이지의 크기에 따라 배경색을 변경한다\n",
    "   all and : 뒤의 조건들이 모두 충족할 때 활성화 한다 \n",
    "   1. all and <공백> 조건내용\n",
    "   2. min 접두사(최소 또는 그이상)는 크기가 작은 순서로 작성해야 하다\n",
    "   3. max 접두사(최대 또는 그이하)는 크기가 큰 순서로 작성해야 한다 */\n",
    "@media all and (min-width:320px) {body{background:red;}}\n",
    "@media all and (min-width:760px) {body{background:green;}}\n",
    "@media all and (min-width:960px) {body{background:yellow;}}\n",
    "</style></head>\n",
    "<body></body></html>"
   ]
  },
  {
   "cell_type": "markdown",
   "metadata": {},
   "source": [
    "## <strong>5 플랙서블 박스</strong>\n",
    "1."
   ]
  },
  {
   "cell_type": "code",
   "execution_count": null,
   "metadata": {
    "collapsed": true
   },
   "outputs": [],
   "source": []
  }
 ],
 "metadata": {
  "kernelspec": {
   "display_name": "Python 3",
   "language": "python",
   "name": "python3"
  },
  "language_info": {
   "codemirror_mode": {
    "name": "ipython",
    "version": 3
   },
   "file_extension": ".py",
   "mimetype": "text/x-python",
   "name": "python",
   "nbconvert_exporter": "python",
   "pygments_lexer": "ipython3",
   "version": "3.6.1"
  }
 },
 "nbformat": 4,
 "nbformat_minor": 2
}
