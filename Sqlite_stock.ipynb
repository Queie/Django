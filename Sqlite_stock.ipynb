{
 "cells": [
  {
   "cell_type": "markdown",
   "metadata": {},
   "source": [
    "<br>\n",
    "<br>\n",
    "# **금융 데이터 정리 및 Maria DB로 전환**\n",
    "2018-06-16 \n",
    "1. 우선 Sqlite3 를 CSV 등으로 추출정리 한다\n",
    "1. 이를 Maria DB 등의 대용량 저장DB로 변환한다"
   ]
  },
  {
   "cell_type": "markdown",
   "metadata": {},
   "source": [
    "<br><br>\n",
    "## **1 New DataSet**\n",
    "시장에서 새로운 정보를 수집하기"
   ]
  },
  {
   "cell_type": "markdown",
   "metadata": {},
   "source": [
    "<br>\n",
    "### **01 stock code 를 새롭게 수집하기**\n",
    "> 기업이름 Yahoo, Google, KRX Code 정리"
   ]
  },
  {
   "cell_type": "code",
   "execution_count": 1,
   "metadata": {},
   "outputs": [
    {
     "name": "stdout",
     "output_type": "stream",
     "text": [
      "We can get the Code Numbers of \"NYSE\", \"NASDAQ\" and \"KRX(default)\"\n",
      "Crawling the Kospi & Kosdaq (default) 's codes\n"
     ]
    },
    {
     "data": {
      "text/html": [
       "<div>\n",
       "<style scoped>\n",
       "    .dataframe tbody tr th:only-of-type {\n",
       "        vertical-align: middle;\n",
       "    }\n",
       "\n",
       "    .dataframe tbody tr th {\n",
       "        vertical-align: top;\n",
       "    }\n",
       "\n",
       "    .dataframe thead th {\n",
       "        text-align: right;\n",
       "    }\n",
       "</style>\n",
       "<table border=\"1\" class=\"dataframe\">\n",
       "  <thead>\n",
       "    <tr style=\"text-align: right;\">\n",
       "      <th></th>\n",
       "      <th>Code</th>\n",
       "      <th>Code_int</th>\n",
       "      <th>Google</th>\n",
       "      <th>Name</th>\n",
       "    </tr>\n",
       "  </thead>\n",
       "  <tbody>\n",
       "    <tr>\n",
       "      <th>0</th>\n",
       "      <td>08537M</td>\n",
       "      <td>0</td>\n",
       "      <td>KOSDAQ:08537M</td>\n",
       "      <td>루트로닉3우C</td>\n",
       "    </tr>\n",
       "    <tr>\n",
       "      <th>1</th>\n",
       "      <td>00680K</td>\n",
       "      <td>0</td>\n",
       "      <td>KRX:00680K</td>\n",
       "      <td>미래에셋대우2우B</td>\n",
       "    </tr>\n",
       "    <tr>\n",
       "      <th>2</th>\n",
       "      <td>00088K</td>\n",
       "      <td>0</td>\n",
       "      <td>KRX:00088K</td>\n",
       "      <td>한화3우B</td>\n",
       "    </tr>\n",
       "    <tr>\n",
       "      <th>3</th>\n",
       "      <td>02826K</td>\n",
       "      <td>0</td>\n",
       "      <td>KRX:02826K</td>\n",
       "      <td>삼성물산우B</td>\n",
       "    </tr>\n",
       "    <tr>\n",
       "      <th>4</th>\n",
       "      <td>03473K</td>\n",
       "      <td>0</td>\n",
       "      <td>KRX:03473K</td>\n",
       "      <td>SK우</td>\n",
       "    </tr>\n",
       "  </tbody>\n",
       "</table>\n",
       "</div>"
      ],
      "text/plain": [
       "     Code  Code_int         Google       Name\n",
       "0  08537M         0  KOSDAQ:08537M    루트로닉3우C\n",
       "1  00680K         0     KRX:00680K  미래에셋대우2우B\n",
       "2  00088K         0     KRX:00088K      한화3우B\n",
       "3  02826K         0     KRX:02826K     삼성물산우B\n",
       "4  03473K         0     KRX:03473K        SK우"
      ]
     },
     "execution_count": 1,
     "metadata": {},
     "output_type": "execute_result"
    }
   ],
   "source": [
    "from googlefinance.get import get_code\n",
    "codes         = get_code()\n",
    "codes.columns = ['Google', 'Code','Name']\n",
    "\n",
    "from data.fin import sqlite_new_code\n",
    "codes         = sqlite_new_code(codes)\n",
    "codes.to_csv('./data/codes.csv', index=None, encoding='ms949')\n",
    "codes.head()"
   ]
  },
  {
   "cell_type": "markdown",
   "metadata": {},
   "source": [
    "<br><br>\n",
    "## **2 기존에 저장된 Sqlite3 전처리**\n",
    "기본적인 SQL 의 CRUD 명령과 해당 모듈을 정리해 나아가기\n",
    "1. 현재 DB가 1GB를 넘어가므로 필터링해서 추출 후 CSV로 백업하기\n",
    "1. 추후 CSV로 분할된 정보를 MariaDB 나 Psql 등에 저장 (Maria DB가 우선 가벼워서 활용도가 높다)"
   ]
  },
  {
   "cell_type": "markdown",
   "metadata": {},
   "source": [
    "<br>\n",
    "### **01 Table 목록 추출**\n",
    "**FROM** sqlite_master 에서 추출"
   ]
  },
  {
   "cell_type": "code",
   "execution_count": 2,
   "metadata": {},
   "outputs": [
    {
     "name": "stdout",
     "output_type": "stream",
     "text": [
      "stock_volume is saved to CSV\n",
      "stock_trader is saved to CSV\n",
      "stock_change is saved to CSV\n",
      "stock_trader_top is saved to CSV\n",
      "stock_codes is saved to CSV\n",
      "stock_price is saved to CSV\n",
      "CSV saved is Done..\n"
     ]
    }
   ],
   "source": [
    "from data.fin import sqlite_split_to_csv\n",
    "sqlite_split_to_csv('./data/krxStock.db')"
   ]
  },
  {
   "cell_type": "markdown",
   "metadata": {},
   "source": [
    "<br>\n",
    "### **02 stock 테이블 정렬 및 코드명 전처리**\n",
    "> 2018-04-11 부터 코드가 float() 형식으로 저장, 이를 정리할 필요가 있다"
   ]
  },
  {
   "cell_type": "code",
   "execution_count": 3,
   "metadata": {},
   "outputs": [
    {
     "data": {
      "text/html": [
       "<div>\n",
       "<style scoped>\n",
       "    .dataframe tbody tr th:only-of-type {\n",
       "        vertical-align: middle;\n",
       "    }\n",
       "\n",
       "    .dataframe tbody tr th {\n",
       "        vertical-align: top;\n",
       "    }\n",
       "\n",
       "    .dataframe thead th {\n",
       "        text-align: right;\n",
       "    }\n",
       "</style>\n",
       "<table border=\"1\" class=\"dataframe\">\n",
       "  <thead>\n",
       "    <tr style=\"text-align: right;\">\n",
       "      <th></th>\n",
       "      <th>Date</th>\n",
       "      <th>Code</th>\n",
       "      <th>개인</th>\n",
       "      <th>외국인계</th>\n",
       "      <th>기관계</th>\n",
       "      <th>증권</th>\n",
       "      <th>투신</th>\n",
       "      <th>은행</th>\n",
       "      <th>종금</th>\n",
       "      <th>보험</th>\n",
       "      <th>기금</th>\n",
       "      <th>기타</th>\n",
       "    </tr>\n",
       "  </thead>\n",
       "  <tbody>\n",
       "    <tr>\n",
       "      <th>0</th>\n",
       "      <td>2016-05-18</td>\n",
       "      <td>047770</td>\n",
       "      <td>0</td>\n",
       "      <td>0</td>\n",
       "      <td>0</td>\n",
       "      <td>0</td>\n",
       "      <td>0</td>\n",
       "      <td>0</td>\n",
       "      <td>0</td>\n",
       "      <td>0</td>\n",
       "      <td>0</td>\n",
       "      <td>0</td>\n",
       "    </tr>\n",
       "    <tr>\n",
       "      <th>1</th>\n",
       "      <td>2016-05-18</td>\n",
       "      <td>014200</td>\n",
       "      <td>4678</td>\n",
       "      <td>-756</td>\n",
       "      <td>0</td>\n",
       "      <td>0</td>\n",
       "      <td>0</td>\n",
       "      <td>0</td>\n",
       "      <td>0</td>\n",
       "      <td>0</td>\n",
       "      <td>0</td>\n",
       "      <td>-5100</td>\n",
       "    </tr>\n",
       "    <tr>\n",
       "      <th>2</th>\n",
       "      <td>2016-05-18</td>\n",
       "      <td>009780</td>\n",
       "      <td>-2124</td>\n",
       "      <td>0</td>\n",
       "      <td>0</td>\n",
       "      <td>0</td>\n",
       "      <td>0</td>\n",
       "      <td>0</td>\n",
       "      <td>0</td>\n",
       "      <td>0</td>\n",
       "      <td>0</td>\n",
       "      <td>0</td>\n",
       "    </tr>\n",
       "  </tbody>\n",
       "</table>\n",
       "</div>"
      ],
      "text/plain": [
       "         Date    Code    개인  외국인계  기관계  증권  투신  은행  종금  보험  기금    기타\n",
       "0  2016-05-18  047770     0     0    0   0   0   0   0   0   0     0\n",
       "1  2016-05-18  014200  4678  -756    0   0   0   0   0   0   0 -5100\n",
       "2  2016-05-18  009780 -2124     0    0   0   0   0   0   0   0     0"
      ]
     },
     "execution_count": 3,
     "metadata": {},
     "output_type": "execute_result"
    }
   ],
   "source": [
    "# 거래원별 데이터 전처리\n",
    "from data.fin import sqlite_fix_code\n",
    "url = './data/stock_trader.csv'\n",
    "df  = sqlite_fix_code(url)\n",
    "df  = df.reset_index()\n",
    "df.to_csv(url, index=None)\n",
    "del df\n",
    "\n",
    "import pandas as pd\n",
    "df  = pd.read_csv(url, dtype={'Code': str})\n",
    "df.head(3)"
   ]
  },
  {
   "cell_type": "code",
   "execution_count": 4,
   "metadata": {},
   "outputs": [
    {
     "data": {
      "text/html": [
       "<div>\n",
       "<style scoped>\n",
       "    .dataframe tbody tr th:only-of-type {\n",
       "        vertical-align: middle;\n",
       "    }\n",
       "\n",
       "    .dataframe tbody tr th {\n",
       "        vertical-align: top;\n",
       "    }\n",
       "\n",
       "    .dataframe thead th {\n",
       "        text-align: right;\n",
       "    }\n",
       "</style>\n",
       "<table border=\"1\" class=\"dataframe\">\n",
       "  <thead>\n",
       "    <tr style=\"text-align: right;\">\n",
       "      <th></th>\n",
       "      <th>Date</th>\n",
       "      <th>Code</th>\n",
       "      <th>Price</th>\n",
       "      <th>High</th>\n",
       "      <th>Low</th>\n",
       "      <th>Volume</th>\n",
       "    </tr>\n",
       "  </thead>\n",
       "  <tbody>\n",
       "    <tr>\n",
       "      <th>0</th>\n",
       "      <td>2000-01-04</td>\n",
       "      <td>023150</td>\n",
       "      <td>660</td>\n",
       "      <td>700</td>\n",
       "      <td>612</td>\n",
       "      <td>25000</td>\n",
       "    </tr>\n",
       "    <tr>\n",
       "      <th>1</th>\n",
       "      <td>2000-01-04</td>\n",
       "      <td>009450</td>\n",
       "      <td>2500</td>\n",
       "      <td>2500</td>\n",
       "      <td>2290</td>\n",
       "      <td>61500</td>\n",
       "    </tr>\n",
       "    <tr>\n",
       "      <th>2</th>\n",
       "      <td>2000-01-04</td>\n",
       "      <td>015350</td>\n",
       "      <td>15900</td>\n",
       "      <td>15950</td>\n",
       "      <td>14900</td>\n",
       "      <td>26700</td>\n",
       "    </tr>\n",
       "  </tbody>\n",
       "</table>\n",
       "</div>"
      ],
      "text/plain": [
       "         Date    Code  Price   High    Low  Volume\n",
       "0  2000-01-04  023150    660    700    612   25000\n",
       "1  2000-01-04  009450   2500   2500   2290   61500\n",
       "2  2000-01-04  015350  15900  15950  14900   26700"
      ]
     },
     "execution_count": 4,
     "metadata": {},
     "output_type": "execute_result"
    }
   ],
   "source": [
    "# 종목별 가격 전처리\n",
    "url = './data/stock_price.csv'\n",
    "df = sqlite_fix_code(url)\n",
    "df = df.reset_index()\n",
    "df.to_csv(url, index=None)\n",
    "del df\n",
    "\n",
    "import pandas as pd\n",
    "df = pd.read_csv(url, dtype={'Code': str})\n",
    "df.head(3)"
   ]
  },
  {
   "cell_type": "code",
   "execution_count": 5,
   "metadata": {},
   "outputs": [
    {
     "data": {
      "text/html": [
       "<div>\n",
       "<style scoped>\n",
       "    .dataframe tbody tr th:only-of-type {\n",
       "        vertical-align: middle;\n",
       "    }\n",
       "\n",
       "    .dataframe tbody tr th {\n",
       "        vertical-align: top;\n",
       "    }\n",
       "\n",
       "    .dataframe thead th {\n",
       "        text-align: right;\n",
       "    }\n",
       "</style>\n",
       "<table border=\"1\" class=\"dataframe\">\n",
       "  <thead>\n",
       "    <tr style=\"text-align: right;\">\n",
       "      <th></th>\n",
       "      <th>Date</th>\n",
       "      <th>Code</th>\n",
       "      <th>Trader</th>\n",
       "      <th>Net</th>\n",
       "      <th>Buy</th>\n",
       "      <th>Ask</th>\n",
       "    </tr>\n",
       "  </thead>\n",
       "  <tbody>\n",
       "    <tr>\n",
       "      <th>10850693</th>\n",
       "      <td>2018-06-15</td>\n",
       "      <td>238490</td>\n",
       "      <td>이베스트</td>\n",
       "      <td>-222</td>\n",
       "      <td>278</td>\n",
       "      <td>500</td>\n",
       "    </tr>\n",
       "    <tr>\n",
       "      <th>10850694</th>\n",
       "      <td>2018-06-15</td>\n",
       "      <td>238490</td>\n",
       "      <td>NH투자증권</td>\n",
       "      <td>-82</td>\n",
       "      <td>0</td>\n",
       "      <td>82</td>\n",
       "    </tr>\n",
       "    <tr>\n",
       "      <th>10850695</th>\n",
       "      <td>2018-06-15</td>\n",
       "      <td>238490</td>\n",
       "      <td>삼성</td>\n",
       "      <td>-10</td>\n",
       "      <td>0</td>\n",
       "      <td>10</td>\n",
       "    </tr>\n",
       "  </tbody>\n",
       "</table>\n",
       "</div>"
      ],
      "text/plain": [
       "                Date    Code  Trader  Net  Buy  Ask\n",
       "10850693  2018-06-15  238490    이베스트 -222  278  500\n",
       "10850694  2018-06-15  238490  NH투자증권  -82    0   82\n",
       "10850695  2018-06-15  238490      삼성  -10    0   10"
      ]
     },
     "execution_count": 5,
     "metadata": {},
     "output_type": "execute_result"
    }
   ],
   "source": [
    "# 상위 거래원 전처리\n",
    "from data.fin import sqlite_fix_code\n",
    "url       = './data/stock_trader_top.csv'\n",
    "df        = sqlite_fix_code(url, value_to_int=False)\n",
    "# 상위거래원 이름에 공백으로 중복표현을 단일화\n",
    "df.Trader = df.Trader.apply(lambda x : x.replace(' ', ''))\n",
    "# '전체'라는 거래원 내용을 삭제하기\n",
    "err_index = df[df.Trader == '전체'].index\n",
    "err_index = list(err_index)\n",
    "df        = df.drop(index = err_index)\n",
    "df        = df.reset_index()\n",
    "df.to_csv(url, index=None)\n",
    "del df\n",
    "\n",
    "import pandas as pd\n",
    "df = pd.read_csv(url, dtype={'Code': str})\n",
    "df.tail(3)"
   ]
  },
  {
   "cell_type": "markdown",
   "metadata": {},
   "source": [
    "<br><br>\n",
    "## **2 DataBase 를 RDB로 바꾸기**\n",
    "1. 우선은 순수한 ROW Table DATA를 생성하는데 목적을 두자\n",
    "1. RDB 변경 작업은 DataBase 내부에서 처리 하도록 하자\n",
    "1. 변경작업은 부분처리용 **_Instance_** 를 써서 반복을 최소화 한다"
   ]
  },
  {
   "cell_type": "markdown",
   "metadata": {},
   "source": [
    "<br>\n",
    "### **01 Table 원본 추출**\n",
    "**FROM** sqlite_master 에서 추출"
   ]
  },
  {
   "cell_type": "code",
   "execution_count": 15,
   "metadata": {},
   "outputs": [
    {
     "data": {
      "text/html": [
       "<div>\n",
       "<style scoped>\n",
       "    .dataframe tbody tr th:only-of-type {\n",
       "        vertical-align: middle;\n",
       "    }\n",
       "\n",
       "    .dataframe tbody tr th {\n",
       "        vertical-align: top;\n",
       "    }\n",
       "\n",
       "    .dataframe thead th {\n",
       "        text-align: right;\n",
       "    }\n",
       "</style>\n",
       "<table border=\"1\" class=\"dataframe\">\n",
       "  <thead>\n",
       "    <tr style=\"text-align: right;\">\n",
       "      <th></th>\n",
       "      <th>Date</th>\n",
       "      <th>Code</th>\n",
       "      <th>Price</th>\n",
       "      <th>High</th>\n",
       "      <th>Low</th>\n",
       "      <th>Volume</th>\n",
       "    </tr>\n",
       "  </thead>\n",
       "  <tbody>\n",
       "    <tr>\n",
       "      <th>5936297</th>\n",
       "      <td>2018-06-15</td>\n",
       "      <td>115160</td>\n",
       "      <td>8830</td>\n",
       "      <td>9040</td>\n",
       "      <td>8830</td>\n",
       "      <td>84520</td>\n",
       "    </tr>\n",
       "    <tr>\n",
       "      <th>5936298</th>\n",
       "      <td>2018-06-15</td>\n",
       "      <td>200670</td>\n",
       "      <td>33100</td>\n",
       "      <td>33450</td>\n",
       "      <td>32500</td>\n",
       "      <td>27854</td>\n",
       "    </tr>\n",
       "    <tr>\n",
       "      <th>5936299</th>\n",
       "      <td>2018-06-15</td>\n",
       "      <td>238490</td>\n",
       "      <td>14300</td>\n",
       "      <td>14500</td>\n",
       "      <td>14200</td>\n",
       "      <td>11125</td>\n",
       "    </tr>\n",
       "  </tbody>\n",
       "</table>\n",
       "</div>"
      ],
      "text/plain": [
       "               Date    Code  Price   High    Low  Volume\n",
       "5936297  2018-06-15  115160   8830   9040   8830   84520\n",
       "5936298  2018-06-15  200670  33100  33450  32500   27854\n",
       "5936299  2018-06-15  238490  14300  14500  14200   11125"
      ]
     },
     "execution_count": 15,
     "metadata": {},
     "output_type": "execute_result"
    }
   ],
   "source": [
    "import pandas as pd\n",
    "url = './data/stock_price.csv'\n",
    "df = pd.read_csv(url, dtype={'Code': str})\n",
    "df.tail(3)"
   ]
  },
  {
   "cell_type": "code",
   "execution_count": 16,
   "metadata": {},
   "outputs": [
    {
     "data": {
      "text/html": [
       "<div>\n",
       "<style scoped>\n",
       "    .dataframe tbody tr th:only-of-type {\n",
       "        vertical-align: middle;\n",
       "    }\n",
       "\n",
       "    .dataframe tbody tr th {\n",
       "        vertical-align: top;\n",
       "    }\n",
       "\n",
       "    .dataframe thead th {\n",
       "        text-align: right;\n",
       "    }\n",
       "</style>\n",
       "<table border=\"1\" class=\"dataframe\">\n",
       "  <thead>\n",
       "    <tr style=\"text-align: right;\">\n",
       "      <th></th>\n",
       "      <th>Code</th>\n",
       "      <th>Code_int</th>\n",
       "      <th>Google</th>\n",
       "      <th>Name</th>\n",
       "    </tr>\n",
       "  </thead>\n",
       "  <tbody>\n",
       "    <tr>\n",
       "      <th>2311</th>\n",
       "      <td>002785</td>\n",
       "      <td>2785</td>\n",
       "      <td>KRX:002785</td>\n",
       "      <td>진흥기업우B</td>\n",
       "    </tr>\n",
       "    <tr>\n",
       "      <th>2312</th>\n",
       "      <td>001529</td>\n",
       "      <td>1529</td>\n",
       "      <td>KRX:001529</td>\n",
       "      <td>동양3우B</td>\n",
       "    </tr>\n",
       "    <tr>\n",
       "      <th>2313</th>\n",
       "      <td>002787</td>\n",
       "      <td>2787</td>\n",
       "      <td>KRX:002787</td>\n",
       "      <td>진흥기업2우B</td>\n",
       "    </tr>\n",
       "  </tbody>\n",
       "</table>\n",
       "</div>"
      ],
      "text/plain": [
       "        Code  Code_int      Google     Name\n",
       "2311  002785      2785  KRX:002785   진흥기업우B\n",
       "2312  001529      1529  KRX:001529    동양3우B\n",
       "2313  002787      2787  KRX:002787  진흥기업2우B"
      ]
     },
     "execution_count": 16,
     "metadata": {},
     "output_type": "execute_result"
    }
   ],
   "source": [
    "codes = pd.read_csv('./data/codes.csv', encoding='ms949', dtype={'Code':str})\n",
    "codes.tail(3)"
   ]
  },
  {
   "cell_type": "code",
   "execution_count": 17,
   "metadata": {},
   "outputs": [
    {
     "name": "stdout",
     "output_type": "stream",
     "text": [
      "Possible company is : 2050\n",
      "Not possible is 19\n"
     ]
    }
   ],
   "source": [
    "# 제대로 된 코드와 문제있는 코드 구분\n",
    "from data.fin import sqlite_split_code\n",
    "code_check           = list(set(df.Code))\n",
    "code_ok, code_errors = sqlite_split_code(codes, code_check)\n",
    "print(\"Possible company is : {}\\nNot possible is {}\".format(len(code_ok), len(code_errors)))"
   ]
  },
  {
   "cell_type": "code",
   "execution_count": 18,
   "metadata": {},
   "outputs": [],
   "source": [
    "# # 오류로 분류된 기업들이 아직 남아있는지를 확인한다\n",
    "# from data.fin import sqlite_check_code\n",
    "# sqlite_check_code(code_errors)"
   ]
  },
  {
   "cell_type": "code",
   "execution_count": 19,
   "metadata": {},
   "outputs": [
    {
     "data": {
      "text/plain": [
       "['221950',\n",
       " '217810',\n",
       " '225440',\n",
       " '223040',\n",
       " '221200',\n",
       " '215750',\n",
       " '039790',\n",
       " '087220',\n",
       " '900180',\n",
       " '219580',\n",
       " '219860',\n",
       " '099830',\n",
       " '218710',\n",
       " '226850',\n",
       " '008000',\n",
       " '219960',\n",
       " '215580',\n",
       " '051170',\n",
       " '222390']"
      ]
     },
     "execution_count": 19,
     "metadata": {},
     "output_type": "execute_result"
    }
   ],
   "source": [
    "code_errors"
   ]
  },
  {
   "cell_type": "code",
   "execution_count": null,
   "metadata": {},
   "outputs": [],
   "source": []
  },
  {
   "cell_type": "code",
   "execution_count": null,
   "metadata": {},
   "outputs": [],
   "source": []
  },
  {
   "cell_type": "markdown",
   "metadata": {},
   "source": [
    "<br>\n",
    "### **03 거래원별  Foreign Key를 추가하기**\n",
    "거래원별 index를 추가"
   ]
  },
  {
   "cell_type": "code",
   "execution_count": 10,
   "metadata": {},
   "outputs": [],
   "source": [
    "# 새롭게 추가되고 줄어든 거래원을 어떻게 처리할 것인가?\n",
    "# 무엇보다 이를 외래키로 작업해도 용량이 별로 줄어들지 않았다 !! ???\n",
    "# 우선은 주석으로 처리후 추후에 생각해보자\n",
    "\n",
    "# # df_trader : 거래원 Trader Series 생성\n",
    "# # 생성한 Series를 사용하여 Foreign Key로 추가한다\n",
    "# df_trader = list(set(df.Trader))\n",
    "# df_trader = pd.Series(df_trader).sort_values().reset_index(drop=True)\n",
    "# print(len(df_trader))\n",
    "\n",
    "# for trader in df_trader:\n",
    "#     # 거래원의 인덱스 주소 추출\n",
    "#     idx = df_trader[df_trader == trader].index[0]\n",
    "\n",
    "#     # 원본 데이터프레임에서 해당 인덱스만 추출\n",
    "#     idx_org = list(df[df.Trader == trader].index)\n",
    "#     df.Trader.iloc[idx_org] = int(idx)\n",
    "\n",
    "# print('Done')"
   ]
  },
  {
   "cell_type": "code",
   "execution_count": 11,
   "metadata": {},
   "outputs": [],
   "source": [
    "# for cod in codes.Code:\n",
    "#     # 거래원의 인덱스 주소 추출\n",
    "#     idx = codes[codes.Code == cod].index[0]\n",
    "\n",
    "#     # 원본 데이터프레임에서 해당 인덱스만 추출\n",
    "#     idx_org = list(df[df.Code == cod].index)\n",
    "#     df.Code.iloc[idx_org] = int(idx)\n",
    "\n",
    "# print('Done')"
   ]
  },
  {
   "cell_type": "code",
   "execution_count": null,
   "metadata": {},
   "outputs": [],
   "source": []
  }
 ],
 "metadata": {
  "kernelspec": {
   "display_name": "Python 3",
   "language": "python",
   "name": "python3"
  },
  "language_info": {
   "codemirror_mode": {
    "name": "ipython",
    "version": 3
   },
   "file_extension": ".py",
   "mimetype": "text/x-python",
   "name": "python",
   "nbconvert_exporter": "python",
   "pygments_lexer": "ipython3",
   "version": "3.6.3"
  }
 },
 "nbformat": 4,
 "nbformat_minor": 2
}
